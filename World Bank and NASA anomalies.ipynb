{
 "cells": [
  {
   "cell_type": "code",
   "execution_count": 2,
   "metadata": {},
   "outputs": [],
   "source": [
    "import pandas as pd\n",
    "import numpy as np\n",
    "import xarray as xr\n",
    "import io\n",
    "import urllib.request\n",
    "import datetime\n",
    "import gzip\n",
    "import geopandas\n",
    "import geopandas as gpd\n",
    "import os\n",
    "import zipfile as zf\n",
    "import shapefile\n",
    "from shapely.geometry import shape\n",
    "#Api world bank\n",
    "import wbdata as wb"
   ]
  },
  {
   "cell_type": "markdown",
   "metadata": {},
   "source": [
    "Using the World Bank API to import economic indicators, such as the GPD per capita"
   ]
  },
  {
   "cell_type": "code",
   "execution_count": 2,
   "metadata": {},
   "outputs": [],
   "source": [
    "#GDP ppc and indicator data from World Bank API\n",
    "indicators = {\"NY.GDP.PCAP.PP.KD\": \"gdppc\"}\n",
    "wbdf = wb.get_dataframe(indicators=indicators, country=\"all\", convert_date=True)\n",
    "wbdf = pd.DataFrame.reset_index(wbdf, level=None, drop=False, inplace=False, col_level=0, col_fill='')"
   ]
  },
  {
   "cell_type": "markdown",
   "metadata": {},
   "source": [
    "Importing the world borders polygon file, in order to be able to map coordinates to their country locations"
   ]
  },
  {
   "cell_type": "code",
   "execution_count": 5,
   "metadata": {},
   "outputs": [],
   "source": [
    "zp = zf.ZipFile('TM_WORLD_BORDERS-0.3.zip')\n",
    "files_to_read = [y for y in zp.namelist() for ending in ['dbf', 'prj', 'shp', 'shx'] if y.endswith(ending)]\n",
    "dummy = zp.read(files_to_read[0])\n",
    "dbf_file, prj_file, shp_file, shx_file = [zp.open(filename) for filename in files_to_read]\n",
    "r = shapefile.Reader(shp = shp_file, shx = shx_file, dbf = dbf_file, encoding='windows-1252')\n",
    "attributes, geometry = [], []\n",
    "field_names = [field[0] for field in r.fields[1:]]\n",
    "for row in r.shapeRecords():\n",
    "    geometry.append(shape(row.shape.__geo_interface__))\n",
    "    attributes.append(dict(zip(field_names, row.record)))\n",
    "#Creating a GeoDataframe of the World Borders\n",
    "gdf = gpd.GeoDataFrame(data = attributes, geometry = geometry)"
   ]
  },
  {
   "cell_type": "markdown",
   "metadata": {},
   "source": [
    "Using a web request to scrape the temperature anomalies dataset from NASA"
   ]
  },
  {
   "cell_type": "code",
   "execution_count": 4,
   "metadata": {},
   "outputs": [],
   "source": [
    "url = \"https://data.giss.nasa.gov/pub/gistemp/gistemp1200_GHCNv4_ERSSTv5.nc.gz\"\n",
    "req = urllib.request.Request(url)\n",
    "with gzip.open(urllib.request.urlopen(req)) as resp:\n",
    "    xr_df = xr.open_dataset(io.BytesIO(resp.read()))\n",
    "dfnasa = xr_df.to_dataframe()\n",
    "#Transforming into pandas dataframe\n",
    "dfnasa = dfnasa.reset_index()\n",
    "#dfnasa.to_csv(\"nasa_temperature.csv\")"
   ]
  },
  {
   "cell_type": "markdown",
   "metadata": {},
   "source": [
    "## Subsetting data"
   ]
  },
  {
   "cell_type": "code",
   "execution_count": 8,
   "metadata": {},
   "outputs": [],
   "source": [
    "nasa50 = dfnasa[dfnasa['time'].dt.year > 1950]\n",
    "nasa50 = gpd.GeoDataFrame(\n",
    "    nasa50, geometry=gpd.points_from_xy(nasa50.lat, nasa50.lon))"
   ]
  },
  {
   "cell_type": "code",
   "execution_count": 11,
   "metadata": {},
   "outputs": [
    {
     "data": {
      "text/html": [
       "<div>\n",
       "<style scoped>\n",
       "    .dataframe tbody tr th:only-of-type {\n",
       "        vertical-align: middle;\n",
       "    }\n",
       "\n",
       "    .dataframe tbody tr th {\n",
       "        vertical-align: top;\n",
       "    }\n",
       "\n",
       "    .dataframe thead th {\n",
       "        text-align: right;\n",
       "    }\n",
       "</style>\n",
       "<table border=\"1\" class=\"dataframe\">\n",
       "  <thead>\n",
       "    <tr style=\"text-align: right;\">\n",
       "      <th></th>\n",
       "      <th>lat</th>\n",
       "      <th>lon</th>\n",
       "      <th>nv</th>\n",
       "      <th>time</th>\n",
       "      <th>time_bnds</th>\n",
       "      <th>tempanomaly</th>\n",
       "      <th>geometry</th>\n",
       "    </tr>\n",
       "  </thead>\n",
       "  <tbody>\n",
       "    <tr>\n",
       "      <th>9761617</th>\n",
       "      <td>-59.0</td>\n",
       "      <td>175.0</td>\n",
       "      <td>1</td>\n",
       "      <td>1974-10-15</td>\n",
       "      <td>1974-11-01</td>\n",
       "      <td>-0.20</td>\n",
       "      <td>POINT (-59.000 175.000)</td>\n",
       "    </tr>\n",
       "    <tr>\n",
       "      <th>10296079</th>\n",
       "      <td>-57.0</td>\n",
       "      <td>131.0</td>\n",
       "      <td>0</td>\n",
       "      <td>1993-04-15</td>\n",
       "      <td>1993-04-01</td>\n",
       "      <td>0.58</td>\n",
       "      <td>POINT (-57.000 131.000)</td>\n",
       "    </tr>\n",
       "    <tr>\n",
       "      <th>35954845</th>\n",
       "      <td>27.0</td>\n",
       "      <td>139.0</td>\n",
       "      <td>1</td>\n",
       "      <td>1991-10-15</td>\n",
       "      <td>1991-11-01</td>\n",
       "      <td>0.44</td>\n",
       "      <td>POINT (27.000 139.000)</td>\n",
       "    </tr>\n",
       "    <tr>\n",
       "      <th>35286521</th>\n",
       "      <td>25.0</td>\n",
       "      <td>105.0</td>\n",
       "      <td>1</td>\n",
       "      <td>1983-06-15</td>\n",
       "      <td>1983-07-01</td>\n",
       "      <td>0.53</td>\n",
       "      <td>POINT (25.000 105.000)</td>\n",
       "    </tr>\n",
       "    <tr>\n",
       "      <th>16215152</th>\n",
       "      <td>-37.0</td>\n",
       "      <td>21.0</td>\n",
       "      <td>0</td>\n",
       "      <td>1996-01-15</td>\n",
       "      <td>1996-01-01</td>\n",
       "      <td>1.49</td>\n",
       "      <td>POINT (-37.000 21.000)</td>\n",
       "    </tr>\n",
       "    <tr>\n",
       "      <th>1807738</th>\n",
       "      <td>-85.0</td>\n",
       "      <td>165.0</td>\n",
       "      <td>1</td>\n",
       "      <td>2004-11-15</td>\n",
       "      <td>2004-12-01</td>\n",
       "      <td>-0.16</td>\n",
       "      <td>POINT (-85.000 165.000)</td>\n",
       "    </tr>\n",
       "    <tr>\n",
       "      <th>37470992</th>\n",
       "      <td>33.0</td>\n",
       "      <td>-47.0</td>\n",
       "      <td>1</td>\n",
       "      <td>1985-05-15</td>\n",
       "      <td>1985-06-01</td>\n",
       "      <td>0.80</td>\n",
       "      <td>POINT (33.000 -47.000)</td>\n",
       "    </tr>\n",
       "    <tr>\n",
       "      <th>50092664</th>\n",
       "      <td>75.0</td>\n",
       "      <td>-165.0</td>\n",
       "      <td>1</td>\n",
       "      <td>1988-09-15</td>\n",
       "      <td>1988-10-01</td>\n",
       "      <td>-0.19</td>\n",
       "      <td>POINT (75.000 -165.000)</td>\n",
       "    </tr>\n",
       "    <tr>\n",
       "      <th>35220780</th>\n",
       "      <td>25.0</td>\n",
       "      <td>67.0</td>\n",
       "      <td>0</td>\n",
       "      <td>2017-01-15</td>\n",
       "      <td>2017-01-01</td>\n",
       "      <td>0.86</td>\n",
       "      <td>POINT (25.000 67.000)</td>\n",
       "    </tr>\n",
       "    <tr>\n",
       "      <th>10611694</th>\n",
       "      <td>-55.0</td>\n",
       "      <td>-43.0</td>\n",
       "      <td>0</td>\n",
       "      <td>2006-07-15</td>\n",
       "      <td>2006-07-01</td>\n",
       "      <td>1.23</td>\n",
       "      <td>POINT (-55.000 -43.000)</td>\n",
       "    </tr>\n",
       "  </tbody>\n",
       "</table>\n",
       "</div>"
      ],
      "text/plain": [
       "           lat    lon  nv       time  time_bnds  tempanomaly  \\\n",
       "9761617  -59.0  175.0   1 1974-10-15 1974-11-01        -0.20   \n",
       "10296079 -57.0  131.0   0 1993-04-15 1993-04-01         0.58   \n",
       "35954845  27.0  139.0   1 1991-10-15 1991-11-01         0.44   \n",
       "35286521  25.0  105.0   1 1983-06-15 1983-07-01         0.53   \n",
       "16215152 -37.0   21.0   0 1996-01-15 1996-01-01         1.49   \n",
       "1807738  -85.0  165.0   1 2004-11-15 2004-12-01        -0.16   \n",
       "37470992  33.0  -47.0   1 1985-05-15 1985-06-01         0.80   \n",
       "50092664  75.0 -165.0   1 1988-09-15 1988-10-01        -0.19   \n",
       "35220780  25.0   67.0   0 2017-01-15 2017-01-01         0.86   \n",
       "10611694 -55.0  -43.0   0 2006-07-15 2006-07-01         1.23   \n",
       "\n",
       "                         geometry  \n",
       "9761617   POINT (-59.000 175.000)  \n",
       "10296079  POINT (-57.000 131.000)  \n",
       "35954845   POINT (27.000 139.000)  \n",
       "35286521   POINT (25.000 105.000)  \n",
       "16215152   POINT (-37.000 21.000)  \n",
       "1807738   POINT (-85.000 165.000)  \n",
       "37470992   POINT (33.000 -47.000)  \n",
       "50092664  POINT (75.000 -165.000)  \n",
       "35220780    POINT (25.000 67.000)  \n",
       "10611694  POINT (-55.000 -43.000)  "
      ]
     },
     "execution_count": 11,
     "metadata": {},
     "output_type": "execute_result"
    }
   ],
   "source": [
    "nasa50.sample(10)"
   ]
  },
  {
   "cell_type": "code",
   "execution_count": null,
   "metadata": {},
   "outputs": [],
   "source": [
    "bord_nasa50 = gpd.sjoin(gdf, nasa50, how=\"inner\")"
   ]
  }
 ],
 "metadata": {
  "kernelspec": {
   "display_name": "Python 3",
   "language": "python",
   "name": "python3"
  },
  "language_info": {
   "codemirror_mode": {
    "name": "ipython",
    "version": 3
   },
   "file_extension": ".py",
   "mimetype": "text/x-python",
   "name": "python",
   "nbconvert_exporter": "python",
   "pygments_lexer": "ipython3",
   "version": "3.8.5"
  }
 },
 "nbformat": 4,
 "nbformat_minor": 4
}
