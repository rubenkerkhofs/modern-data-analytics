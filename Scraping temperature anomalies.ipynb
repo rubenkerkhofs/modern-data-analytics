{
 "cells": [
  {
   "cell_type": "markdown",
   "metadata": {},
   "source": [
    "# Scraping temperature anomaly data\n",
    "This notebook discusses all the steps that are used to scrape the temperature anomaly data used in the application."
   ]
  },
  {
   "cell_type": "code",
   "execution_count": 4,
   "metadata": {},
   "outputs": [],
   "source": [
    "import pandas as pd\n",
    "import numpy as np\n",
    "import datetime\n",
    "\n",
    "import xarray as xr\n",
    "import io\n",
    "import urllib.request\n",
    "import gzip\n",
    "\n",
    "import geopandas as gpd\n",
    "import os\n",
    "import zipfile as zf\n",
    "import shapefile\n",
    "from shapely.geometry import shape"
   ]
  },
  {
   "cell_type": "markdown",
   "metadata": {},
   "source": [
    "### Importing data"
   ]
  },
  {
   "cell_type": "markdown",
   "metadata": {},
   "source": [
    "Importing file with world country borders as coordinates"
   ]
  },
  {
   "cell_type": "code",
   "execution_count": 5,
   "metadata": {},
   "outputs": [],
   "source": [
    "zp = zf.ZipFile('data/TM_WORLD_BORDERS-0.3.zip')\n",
    "files_to_read = [y for y in zp.namelist() for ending in ['dbf', 'prj', 'shp', 'shx'] if y.endswith(ending)]\n",
    "dummy = zp.read(files_to_read[0])\n",
    "dbf_file, prj_file, shp_file, shx_file = [zp.open(filename) for filename in files_to_read]\n",
    "r = shapefile.Reader(shp = shp_file, shx = shx_file, dbf = dbf_file, encoding='windows-1252')\n",
    "attributes, geometry = [], []\n",
    "field_names = [field[0] for field in r.fields[1:]]\n",
    "for row in r.shapeRecords():\n",
    "    geometry.append(shape(row.shape.__geo_interface__))\n",
    "    attributes.append(dict(zip(field_names, row.record)))\n",
    "#Creating a GeoDataframe of the World Borders\n",
    "gdf = gpd.GeoDataFrame(data = attributes, geometry = geometry)"
   ]
  },
  {
   "cell_type": "markdown",
   "metadata": {},
   "source": [
    "Scraping temperature anomlalies from NASA dataset: https://data.giss.nasa.gov/gistemp/"
   ]
  },
  {
   "cell_type": "code",
   "execution_count": 6,
   "metadata": {},
   "outputs": [],
   "source": [
    "url = \"https://data.giss.nasa.gov/pub/gistemp/gistemp1200_GHCNv4_ERSSTv5.nc.gz\"\n",
    "req = urllib.request.Request(url)\n",
    "with gzip.open(urllib.request.urlopen(req)) as resp:\n",
    "    xr_df = xr.open_dataset(io.BytesIO(resp.read()))\n",
    "dfnasa = xr_df.to_dataframe()\n",
    "#Transforming into pandas dataframe\n",
    "dfnasa = dfnasa.reset_index()"
   ]
  },
  {
   "cell_type": "markdown",
   "metadata": {},
   "source": [
    "### Data Manipulation"
   ]
  },
  {
   "cell_type": "markdown",
   "metadata": {},
   "source": [
    "Set year from which to obtain data and country"
   ]
  },
  {
   "cell_type": "code",
   "execution_count": 5,
   "metadata": {},
   "outputs": [],
   "source": [
    "year = 1947\n",
    "iso3= \"USA\""
   ]
  },
  {
   "cell_type": "code",
   "execution_count": 6,
   "metadata": {},
   "outputs": [],
   "source": [
    "def tempdata(year, iso3):\n",
    "    #Subsetting the year range from the provided year\n",
    "    tempyear = dfnasa[dfnasa['time'].dt.year >= year]\n",
    "    #Creating a GeoDataFrame\n",
    "    tempyear = gpd.GeoDataFrame(tempyear, geometry=gpd.points_from_xy(tempyear.lon, tempyear.lat))\n",
    "    #Merging with the border data\n",
    "    bord = gpd.sjoin(gdf, tempyear, how=\"inner\")\n",
    "    yearcountry = bord[bord[\"ISO3\"]==iso3]\n",
    "    #Sorting values by time\n",
    "    yearcountry = yearcountry.sort_values(by=[\"time\"])\n",
    "    yearcountry = pd.DataFrame(yearcountry)\n",
    "    yearcountry = yearcountry.drop(columns= [\"FIPS\", \"UN\", \"AREA\",\"POP2005\", \"index_right\", \"nv\"])\n",
    "    yearcountry[\"YearMonth\"]=yearcountry[\"time\"].dt.strftime(\"%Y-%m\")\n",
    "    del tempyear\n",
    "    return yearcountry"
   ]
  },
  {
   "cell_type": "markdown",
   "metadata": {},
   "source": [
    "Creating DataFrame for selected country and year with country name and ISO3 code added"
   ]
  },
  {
   "cell_type": "code",
   "execution_count": null,
   "metadata": {},
   "outputs": [],
   "source": [
    "df = tempdata(year,iso3)"
   ]
  },
  {
   "cell_type": "markdown",
   "metadata": {},
   "source": [
    "Create DataFrame with only Max and Min temperatures"
   ]
  },
  {
   "cell_type": "code",
   "execution_count": 12,
   "metadata": {},
   "outputs": [],
   "source": [
    "df2 = (df.assign(Data_Value=df['tempanomaly'].abs())\n",
    "       .groupby(['time'])['tempanomaly'].agg([('Min' , 'min'), ('Max', 'max')])\n",
    "       .add_prefix('time'))\n",
    "df2 = df2.reset_index()"
   ]
  },
  {
   "cell_type": "code",
   "execution_count": 14,
   "metadata": {},
   "outputs": [
    {
     "data": {
      "text/html": [
       "<div>\n",
       "<style scoped>\n",
       "    .dataframe tbody tr th:only-of-type {\n",
       "        vertical-align: middle;\n",
       "    }\n",
       "\n",
       "    .dataframe tbody tr th {\n",
       "        vertical-align: top;\n",
       "    }\n",
       "\n",
       "    .dataframe thead th {\n",
       "        text-align: right;\n",
       "    }\n",
       "</style>\n",
       "<table border=\"1\" class=\"dataframe\">\n",
       "  <thead>\n",
       "    <tr style=\"text-align: right;\">\n",
       "      <th></th>\n",
       "      <th>time</th>\n",
       "      <th>timeMin</th>\n",
       "      <th>timeMax</th>\n",
       "      <th>gdp</th>\n",
       "    </tr>\n",
       "  </thead>\n",
       "  <tbody>\n",
       "    <tr>\n",
       "      <th>0</th>\n",
       "      <td>1947-01-15</td>\n",
       "      <td>-6.66</td>\n",
       "      <td>4.33</td>\n",
       "      <td>2033.061000</td>\n",
       "    </tr>\n",
       "    <tr>\n",
       "      <th>1</th>\n",
       "      <td>1947-02-15</td>\n",
       "      <td>-3.48</td>\n",
       "      <td>3.51</td>\n",
       "      <td>2031.253667</td>\n",
       "    </tr>\n",
       "    <tr>\n",
       "      <th>2</th>\n",
       "      <td>1947-03-15</td>\n",
       "      <td>-3.64</td>\n",
       "      <td>4.59</td>\n",
       "      <td>2029.446333</td>\n",
       "    </tr>\n",
       "    <tr>\n",
       "      <th>3</th>\n",
       "      <td>1947-04-15</td>\n",
       "      <td>-1.90</td>\n",
       "      <td>1.61</td>\n",
       "      <td>2027.639000</td>\n",
       "    </tr>\n",
       "    <tr>\n",
       "      <th>4</th>\n",
       "      <td>1947-05-15</td>\n",
       "      <td>-2.55</td>\n",
       "      <td>2.46</td>\n",
       "      <td>2026.243333</td>\n",
       "    </tr>\n",
       "    <tr>\n",
       "      <th>...</th>\n",
       "      <td>...</td>\n",
       "      <td>...</td>\n",
       "      <td>...</td>\n",
       "      <td>...</td>\n",
       "    </tr>\n",
       "    <tr>\n",
       "      <th>887</th>\n",
       "      <td>2020-12-15</td>\n",
       "      <td>-0.27</td>\n",
       "      <td>5.58</td>\n",
       "      <td>18989.854000</td>\n",
       "    </tr>\n",
       "    <tr>\n",
       "      <th>888</th>\n",
       "      <td>2021-01-15</td>\n",
       "      <td>0.48</td>\n",
       "      <td>7.10</td>\n",
       "      <td>19087.568000</td>\n",
       "    </tr>\n",
       "    <tr>\n",
       "      <th>889</th>\n",
       "      <td>2021-02-15</td>\n",
       "      <td>-4.14</td>\n",
       "      <td>1.27</td>\n",
       "      <td>NaN</td>\n",
       "    </tr>\n",
       "    <tr>\n",
       "      <th>890</th>\n",
       "      <td>2021-03-15</td>\n",
       "      <td>-1.28</td>\n",
       "      <td>5.49</td>\n",
       "      <td>NaN</td>\n",
       "    </tr>\n",
       "    <tr>\n",
       "      <th>891</th>\n",
       "      <td>2021-04-15</td>\n",
       "      <td>-0.95</td>\n",
       "      <td>2.38</td>\n",
       "      <td>NaN</td>\n",
       "    </tr>\n",
       "  </tbody>\n",
       "</table>\n",
       "<p>892 rows × 4 columns</p>\n",
       "</div>"
      ],
      "text/plain": [
       "          time  timeMin  timeMax           gdp\n",
       "0   1947-01-15    -6.66     4.33   2033.061000\n",
       "1   1947-02-15    -3.48     3.51   2031.253667\n",
       "2   1947-03-15    -3.64     4.59   2029.446333\n",
       "3   1947-04-15    -1.90     1.61   2027.639000\n",
       "4   1947-05-15    -2.55     2.46   2026.243333\n",
       "..         ...      ...      ...           ...\n",
       "887 2020-12-15    -0.27     5.58  18989.854000\n",
       "888 2021-01-15     0.48     7.10  19087.568000\n",
       "889 2021-02-15    -4.14     1.27           NaN\n",
       "890 2021-03-15    -1.28     5.49           NaN\n",
       "891 2021-04-15    -0.95     2.38           NaN\n",
       "\n",
       "[892 rows x 4 columns]"
      ]
     },
     "execution_count": 14,
     "metadata": {},
     "output_type": "execute_result"
    }
   ],
   "source": [
    "df2"
   ]
  },
  {
   "cell_type": "markdown",
   "metadata": {},
   "source": [
    "Export to pickle"
   ]
  },
  {
   "cell_type": "code",
   "execution_count": 15,
   "metadata": {},
   "outputs": [],
   "source": [
    "df2.to_pickle(\"Temperature_anomalies_\"+str(year)+\"_\"+iso3+\".pkl\")"
   ]
  }
 ],
 "metadata": {
  "kernelspec": {
   "display_name": "Python 3",
   "language": "python",
   "name": "python3"
  },
  "language_info": {
   "codemirror_mode": {
    "name": "ipython",
    "version": 3
   },
   "file_extension": ".py",
   "mimetype": "text/x-python",
   "name": "python",
   "nbconvert_exporter": "python",
   "pygments_lexer": "ipython3",
   "version": "3.8.5"
  }
 },
 "nbformat": 4,
 "nbformat_minor": 4
}
