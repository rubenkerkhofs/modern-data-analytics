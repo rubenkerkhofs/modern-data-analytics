{
 "cells": [
  {
   "cell_type": "markdown",
   "metadata": {},
   "source": [
    "# Data description - UN voting\n",
    "This jupyter notebook describes the data containing historical records of voting behavior within the United Nations. The dataset was gathered from the TidyTuesday github page and consists of three different CSV files that can easily be linked together.\n",
    "\n",
    "#### Loading the packages"
   ]
  },
  {
   "cell_type": "code",
   "execution_count": 1,
   "metadata": {},
   "outputs": [],
   "source": [
    "import pandas as pd"
   ]
  },
  {
   "cell_type": "markdown",
   "metadata": {},
   "source": [
    "##### Loading the data"
   ]
  },
  {
   "cell_type": "code",
   "execution_count": 4,
   "metadata": {},
   "outputs": [],
   "source": [
    "votes = pd.read_csv('Data/votes.csv')\n",
    "roll_calls = pd.read_csv('Data/roll_calls.csv')\n",
    "roll_call_issues = pd.read_csv('Data/roll_call_issues.csv')"
   ]
  },
  {
   "cell_type": "markdown",
   "metadata": {},
   "source": [
    "## Votes\n",
    "The votes dataset contains the overview of the votes organized per resolution and country. It contains a total of 869 937 observations. For every observation, the reference ID for the resolution is given combined with the country, country_code and the vote."
   ]
  },
  {
   "cell_type": "code",
   "execution_count": 7,
   "metadata": {},
   "outputs": [
    {
     "data": {
      "text/html": [
       "<div>\n",
       "<style scoped>\n",
       "    .dataframe tbody tr th:only-of-type {\n",
       "        vertical-align: middle;\n",
       "    }\n",
       "\n",
       "    .dataframe tbody tr th {\n",
       "        vertical-align: top;\n",
       "    }\n",
       "\n",
       "    .dataframe thead th {\n",
       "        text-align: right;\n",
       "    }\n",
       "</style>\n",
       "<table border=\"1\" class=\"dataframe\">\n",
       "  <thead>\n",
       "    <tr style=\"text-align: right;\">\n",
       "      <th></th>\n",
       "      <th>rcid</th>\n",
       "      <th>country</th>\n",
       "      <th>country_code</th>\n",
       "      <th>vote</th>\n",
       "    </tr>\n",
       "  </thead>\n",
       "  <tbody>\n",
       "    <tr>\n",
       "      <th>449842</th>\n",
       "      <td>3664</td>\n",
       "      <td>Burkina Faso</td>\n",
       "      <td>BF</td>\n",
       "      <td>yes</td>\n",
       "    </tr>\n",
       "    <tr>\n",
       "      <th>281290</th>\n",
       "      <td>2526</td>\n",
       "      <td>Canada</td>\n",
       "      <td>CA</td>\n",
       "      <td>no</td>\n",
       "    </tr>\n",
       "    <tr>\n",
       "      <th>362394</th>\n",
       "      <td>3079</td>\n",
       "      <td>Uganda</td>\n",
       "      <td>UG</td>\n",
       "      <td>yes</td>\n",
       "    </tr>\n",
       "    <tr>\n",
       "      <th>180463</th>\n",
       "      <td>1807</td>\n",
       "      <td>Myanmar (Burma)</td>\n",
       "      <td>MM</td>\n",
       "      <td>abstain</td>\n",
       "    </tr>\n",
       "    <tr>\n",
       "      <th>804741</th>\n",
       "      <td>5748</td>\n",
       "      <td>Madagascar</td>\n",
       "      <td>MG</td>\n",
       "      <td>yes</td>\n",
       "    </tr>\n",
       "  </tbody>\n",
       "</table>\n",
       "</div>"
      ],
      "text/plain": [
       "        rcid          country country_code     vote\n",
       "449842  3664     Burkina Faso           BF      yes\n",
       "281290  2526           Canada           CA       no\n",
       "362394  3079           Uganda           UG      yes\n",
       "180463  1807  Myanmar (Burma)           MM  abstain\n",
       "804741  5748       Madagascar           MG      yes"
      ]
     },
     "execution_count": 7,
     "metadata": {},
     "output_type": "execute_result"
    }
   ],
   "source": [
    "votes.sample(5, random_state=12345)"
   ]
  },
  {
   "cell_type": "markdown",
   "metadata": {},
   "source": [
    "## Roll calls\n",
    "The roll calls dataset contains information about the resolutions that are proposed and voted on. It contains 6 202 resolutions with dates rangin from January 1946 until December 2019. There is also an indication of whether the vote is an important one, and the dataset contains a short and long description of the resolution."
   ]
  },
  {
   "cell_type": "code",
   "execution_count": 13,
   "metadata": {},
   "outputs": [
    {
     "data": {
      "text/html": [
       "<div>\n",
       "<style scoped>\n",
       "    .dataframe tbody tr th:only-of-type {\n",
       "        vertical-align: middle;\n",
       "    }\n",
       "\n",
       "    .dataframe tbody tr th {\n",
       "        vertical-align: top;\n",
       "    }\n",
       "\n",
       "    .dataframe thead th {\n",
       "        text-align: right;\n",
       "    }\n",
       "</style>\n",
       "<table border=\"1\" class=\"dataframe\">\n",
       "  <thead>\n",
       "    <tr style=\"text-align: right;\">\n",
       "      <th></th>\n",
       "      <th>rcid</th>\n",
       "      <th>session</th>\n",
       "      <th>importantvote</th>\n",
       "      <th>date</th>\n",
       "      <th>unres</th>\n",
       "      <th>amend</th>\n",
       "      <th>para</th>\n",
       "      <th>short</th>\n",
       "      <th>descr</th>\n",
       "    </tr>\n",
       "  </thead>\n",
       "  <tbody>\n",
       "    <tr>\n",
       "      <th>3398</th>\n",
       "      <td>3403</td>\n",
       "      <td>44</td>\n",
       "      <td>0.0</td>\n",
       "      <td>1989-11-04</td>\n",
       "      <td>R/44/27L</td>\n",
       "      <td>NaN</td>\n",
       "      <td>NaN</td>\n",
       "      <td>APARTHEID, SPORTS</td>\n",
       "      <td>Support for the work of the Commission against...</td>\n",
       "    </tr>\n",
       "    <tr>\n",
       "      <th>1462</th>\n",
       "      <td>1465</td>\n",
       "      <td>28</td>\n",
       "      <td>0.0</td>\n",
       "      <td>1973-12-03</td>\n",
       "      <td>R/28/3110</td>\n",
       "      <td>0.0</td>\n",
       "      <td>0.0</td>\n",
       "      <td>NON SELF GOVERNING TERRITORIES, INFORMATION</td>\n",
       "      <td>RES, I.A., DEPLORING FAILURE OF SOME MEMBER ST...</td>\n",
       "    </tr>\n",
       "  </tbody>\n",
       "</table>\n",
       "</div>"
      ],
      "text/plain": [
       "      rcid  session  importantvote        date      unres  amend  para  \\\n",
       "3398  3403       44            0.0  1989-11-04   R/44/27L    NaN   NaN   \n",
       "1462  1465       28            0.0  1973-12-03  R/28/3110    0.0   0.0   \n",
       "\n",
       "                                            short  \\\n",
       "3398                            APARTHEID, SPORTS   \n",
       "1462  NON SELF GOVERNING TERRITORIES, INFORMATION   \n",
       "\n",
       "                                                  descr  \n",
       "3398  Support for the work of the Commission against...  \n",
       "1462  RES, I.A., DEPLORING FAILURE OF SOME MEMBER ST...  "
      ]
     },
     "execution_count": 13,
     "metadata": {},
     "output_type": "execute_result"
    }
   ],
   "source": [
    "roll_calls.sample(2, random_state=13245)"
   ]
  },
  {
   "cell_type": "code",
   "execution_count": 29,
   "metadata": {},
   "outputs": [
    {
     "data": {
      "text/html": [
       "<div>\n",
       "<style scoped>\n",
       "    .dataframe tbody tr th:only-of-type {\n",
       "        vertical-align: middle;\n",
       "    }\n",
       "\n",
       "    .dataframe tbody tr th {\n",
       "        vertical-align: top;\n",
       "    }\n",
       "\n",
       "    .dataframe thead th {\n",
       "        text-align: right;\n",
       "    }\n",
       "</style>\n",
       "<table border=\"1\" class=\"dataframe\">\n",
       "  <thead>\n",
       "    <tr style=\"text-align: right;\">\n",
       "      <th></th>\n",
       "      <th>rcid</th>\n",
       "      <th>session</th>\n",
       "      <th>importantvote</th>\n",
       "      <th>date</th>\n",
       "      <th>unres</th>\n",
       "      <th>amend</th>\n",
       "      <th>para</th>\n",
       "      <th>short</th>\n",
       "      <th>descr</th>\n",
       "      <th>climate</th>\n",
       "    </tr>\n",
       "  </thead>\n",
       "  <tbody>\n",
       "    <tr>\n",
       "      <th>5479</th>\n",
       "      <td>5577</td>\n",
       "      <td>72</td>\n",
       "      <td>0.0</td>\n",
       "      <td>2017-12-20</td>\n",
       "      <td>A/RES/72/224</td>\n",
       "      <td>NaN</td>\n",
       "      <td>NaN</td>\n",
       "      <td>Ensuring access to affordable, reliable, susta...</td>\n",
       "      <td>A/72/251 19i - Ensuring access to affordable, ...</td>\n",
       "      <td>True</td>\n",
       "    </tr>\n",
       "    <tr>\n",
       "      <th>5714</th>\n",
       "      <td>5812</td>\n",
       "      <td>62</td>\n",
       "      <td>NaN</td>\n",
       "      <td>2007-12-10</td>\n",
       "      <td>R/62/86</td>\n",
       "      <td>NaN</td>\n",
       "      <td>1.0</td>\n",
       "      <td>NaN</td>\n",
       "      <td>The President: The Assembly has before it a dr...</td>\n",
       "      <td>True</td>\n",
       "    </tr>\n",
       "  </tbody>\n",
       "</table>\n",
       "</div>"
      ],
      "text/plain": [
       "      rcid  session  importantvote        date         unres  amend  para  \\\n",
       "5479  5577       72            0.0  2017-12-20  A/RES/72/224    NaN   NaN   \n",
       "5714  5812       62            NaN  2007-12-10       R/62/86    NaN   1.0   \n",
       "\n",
       "                                                  short  \\\n",
       "5479  Ensuring access to affordable, reliable, susta...   \n",
       "5714                                                NaN   \n",
       "\n",
       "                                                  descr  climate  \n",
       "5479  A/72/251 19i - Ensuring access to affordable, ...     True  \n",
       "5714  The President: The Assembly has before it a dr...     True  "
      ]
     },
     "execution_count": 29,
     "metadata": {},
     "output_type": "execute_result"
    }
   ],
   "source": [
    "def climateRelated(text: str) -> bool:\n",
    "    text = text.lower()\n",
    "    return ('climate change' in text) | ('global warming' in text) | ('renewable energy' in text)\n",
    "\n",
    "roll_calls.loc[:, 'climate'] = roll_calls.descr.apply(\n",
    "    lambda x: climateRelated(str(x)))\n",
    "\n",
    "roll_calls[roll_calls.climate]"
   ]
  },
  {
   "cell_type": "markdown",
   "metadata": {},
   "source": [
    "## Roll call issues\n",
    "The roll call issues dataset contains again the resolutions that are voted on but this time it describes the issue in just a couple of words. It only contains 5 745 rows which means that not every resolution will have a match with this dataset. Also, the issues listed have little to do with climate change."
   ]
  },
  {
   "cell_type": "code",
   "execution_count": 15,
   "metadata": {},
   "outputs": [
    {
     "data": {
      "text/html": [
       "<div>\n",
       "<style scoped>\n",
       "    .dataframe tbody tr th:only-of-type {\n",
       "        vertical-align: middle;\n",
       "    }\n",
       "\n",
       "    .dataframe tbody tr th {\n",
       "        vertical-align: top;\n",
       "    }\n",
       "\n",
       "    .dataframe thead th {\n",
       "        text-align: right;\n",
       "    }\n",
       "</style>\n",
       "<table border=\"1\" class=\"dataframe\">\n",
       "  <thead>\n",
       "    <tr style=\"text-align: right;\">\n",
       "      <th></th>\n",
       "      <th>rcid</th>\n",
       "      <th>short_name</th>\n",
       "      <th>issue</th>\n",
       "    </tr>\n",
       "  </thead>\n",
       "  <tbody>\n",
       "    <tr>\n",
       "      <th>5626</th>\n",
       "      <td>5236</td>\n",
       "      <td>ec</td>\n",
       "      <td>Economic development</td>\n",
       "    </tr>\n",
       "    <tr>\n",
       "      <th>3101</th>\n",
       "      <td>1274</td>\n",
       "      <td>hr</td>\n",
       "      <td>Human rights</td>\n",
       "    </tr>\n",
       "    <tr>\n",
       "      <th>2325</th>\n",
       "      <td>3144</td>\n",
       "      <td>di</td>\n",
       "      <td>Arms control and disarmament</td>\n",
       "    </tr>\n",
       "    <tr>\n",
       "      <th>4541</th>\n",
       "      <td>2790</td>\n",
       "      <td>co</td>\n",
       "      <td>Colonialism</td>\n",
       "    </tr>\n",
       "    <tr>\n",
       "      <th>2190</th>\n",
       "      <td>2558</td>\n",
       "      <td>di</td>\n",
       "      <td>Arms control and disarmament</td>\n",
       "    </tr>\n",
       "  </tbody>\n",
       "</table>\n",
       "</div>"
      ],
      "text/plain": [
       "      rcid short_name                         issue\n",
       "5626  5236         ec          Economic development\n",
       "3101  1274         hr                  Human rights\n",
       "2325  3144         di  Arms control and disarmament\n",
       "4541  2790         co                   Colonialism\n",
       "2190  2558         di  Arms control and disarmament"
      ]
     },
     "execution_count": 15,
     "metadata": {},
     "output_type": "execute_result"
    }
   ],
   "source": [
    "roll_call_issues.sample(5, random_state=12345)"
   ]
  },
  {
   "cell_type": "code",
   "execution_count": 16,
   "metadata": {},
   "outputs": [
    {
     "data": {
      "text/plain": [
       "Arms control and disarmament            1092\n",
       "Palestinian conflict                    1061\n",
       "Human rights                            1015\n",
       "Colonialism                              957\n",
       "Nuclear weapons and nuclear material     855\n",
       "Economic development                     765\n",
       "Name: issue, dtype: int64"
      ]
     },
     "execution_count": 16,
     "metadata": {},
     "output_type": "execute_result"
    }
   ],
   "source": [
    "roll_call_issues.issue.value_counts()"
   ]
  }
 ],
 "metadata": {
  "kernelspec": {
   "display_name": "Python 3",
   "language": "python",
   "name": "python3"
  },
  "language_info": {
   "codemirror_mode": {
    "name": "ipython",
    "version": 3
   },
   "file_extension": ".py",
   "mimetype": "text/x-python",
   "name": "python",
   "nbconvert_exporter": "python",
   "pygments_lexer": "ipython3",
   "version": "3.8.5"
  }
 },
 "nbformat": 4,
 "nbformat_minor": 4
}
