{
 "cells": [
  {
   "cell_type": "code",
   "execution_count": 928,
   "metadata": {},
   "outputs": [],
   "source": [
    "import pandas as pd\n",
    "import requests\n",
    "import datetime\n",
    "import numpy as np\n",
    "from datetime import datetime\n",
    "import time\n",
    "from time import sleep\n",
    "import json\n",
    "import random"
   ]
  },
  {
   "cell_type": "code",
   "execution_count": 929,
   "metadata": {},
   "outputs": [],
   "source": [
    "def getPushshiftData(query, after, before, sub, endpoint = 'submission', size = 25, score = '>9'):\n",
    "    url = 'https://api.pushshift.io/reddit/search/' + endpoint\n",
    "    parameters = {'subreddit': sub, 'title' : query, 'after' : str(after), 'before' : str(before), 'size': 500}\n",
    "    \n",
    "    if endpoint == 'comment':\n",
    "        parameters['score'] = '>9'\n",
    "        print('comment')\n",
    "        print(paramters['score'])\n",
    "    r = requests.get(url, parameters)\n",
    "    try:\n",
    "        data = r.json()\n",
    "    except:\n",
    "        data = {'data':[]}\n",
    "        \n",
    "    return data['data']"
   ]
  },
  {
   "cell_type": "code",
   "execution_count": 930,
   "metadata": {},
   "outputs": [],
   "source": [
    "def collectSubData(subm, subStats):\n",
    "    #subData = list() #list to store data points\n",
    "    \n",
    "    pd.DataFrame\n",
    "    title = subm['title']\n",
    "    url = subm['url']\n",
    "    \n",
    "    try:\n",
    "        flair = subm['link_flair_text']\n",
    "    except KeyError:\n",
    "        flair = \"NaN\"\n",
    "        \n",
    "    author = subm['author']\n",
    "    sub_id = subm['id']\n",
    "    score = subm['score']\n",
    "    created = datetime.datetime.fromtimestamp(subm['created_utc'])\n",
    "    numComms = subm['num_comments']\n",
    "    permalink = subm['permalink']\n",
    "    text = subm['selftext']\n",
    "    \n",
    "    subData.append((sub_id,title,url,author,score,created,numComms,permalink,flair))\n",
    "    subStats[sub_id] = subData"
   ]
  },
  {
   "cell_type": "code",
   "execution_count": 931,
   "metadata": {},
   "outputs": [],
   "source": [
    "def extractStats(data):\n",
    "    \n",
    "    subStats = {}\n",
    "    subCount = 0\n",
    "    \n",
    "    while len(data) > 0:\n",
    "        print(len(data), end = ' , ')\n",
    "        for submission in data:\n",
    "            collectSubData(submission, subStats)\n",
    "            subCount+=1\n",
    "            \n",
    "        # Calls getPushshiftData() with the created date of the last submission\n",
    "        print(len(data), end = \" , \")\n",
    "        print(str(datetime.datetime.fromtimestamp(data[-1]['created_utc'])), end = ' , ')\n",
    "        after = data[-1]['created_utc']\n",
    "        data = getPushshiftData(query, after, before, sub)\n",
    "\n",
    "    print(len(data))\n",
    "    return(subStats)"
   ]
  },
  {
   "cell_type": "markdown",
   "metadata": {},
   "source": [
    "Code snippets from https://rareloot.medium.com/using-pushshifts-api-to-extract-reddit-submissions-fb517b286563"
   ]
  },
  {
   "cell_type": "code",
   "execution_count": 932,
   "metadata": {},
   "outputs": [],
   "source": [
    "def dt2unix(before, after, format = \"%Y/%m/%d\"):\n",
    "    # input: two strings in the form yyyy/mm/dd\n",
    "    # returns: tuple (before, after) as unix times\n",
    "    beforeUnix = time.mktime(datetime.strptime(before, format).timetuple())\n",
    "    afterUnix = time.mktime(datetime.strptime(after, format).timetuple())\n",
    "    \n",
    "    return(int(beforeUnix), int(afterUnix))"
   ]
  },
  {
   "cell_type": "code",
   "execution_count": 933,
   "metadata": {},
   "outputs": [],
   "source": [
    "def extractData(data):\n",
    "    dataDF = pd.DataFrame(data)\n",
    "    toExtract = ['author',\n",
    "                 'subreddit',\n",
    "                  'created_utc',\n",
    "                  'full_link', \n",
    "                  'id', 'is_self', \n",
    "                  'is_video', \n",
    "                  'locked', \n",
    "                  'num_comments', \n",
    "                  'num_crossposts', \n",
    "                  'pinned', \n",
    "                  'score',\n",
    "                 'selftext',\n",
    "                  'title',\n",
    "                'body']\n",
    "    outDF = pd.DataFrame([])\n",
    "    for query in toExtract:\n",
    "        try:\n",
    "            outDF[query] = dataDF[query]\n",
    "        except:\n",
    "            pass\n",
    "        \n",
    "    return(outDF)"
   ]
  },
  {
   "cell_type": "code",
   "execution_count": 934,
   "metadata": {},
   "outputs": [],
   "source": [
    "def getNews(query, after, before, sublist = ['news','worldnews','gunpolitics'], endpoint = 'submission'):\n",
    "    combinedDF = pd.DataFrame()\n",
    "    after0 = after\n",
    "    for sub in sublist:\n",
    "        print(\"\\n\")\n",
    "        print(sub)\n",
    "        datai = getPushshiftData(query, after0, before, sub, endpoint)\n",
    "        i = 1\n",
    "        while(len(datai) > 0):\n",
    "            print(len(datai), end = ' ')\n",
    "            dataj = extractData(datai)\n",
    "            combinedDF = combinedDF.append(dataj)\n",
    "            after = datai[-1]['created_utc']\n",
    "            \n",
    "            print(after, end = ' , ')\n",
    "            \n",
    "            if i % 10 == 0:\n",
    "                print(\"\\n\")\n",
    "            i+=1\n",
    "            \n",
    "            datai = getPushshiftData(query, after, before, sub, endpoint)\n",
    "            sleep(random.random())\n",
    "            \n",
    "    return(combinedDF)"
   ]
  },
  {
   "cell_type": "code",
   "execution_count": 935,
   "metadata": {},
   "outputs": [],
   "source": [
    "class RedditData:\n",
    "    dataframe = pd.DataFrame()\n",
    "    datalist = []\n",
    "    \n",
    "    \n",
    "    \n",
    "    def __init__(self):\n",
    "        pass\n",
    "    \n",
    "    def collect(self, subs, terms, startdate, enddate, endpoint = 'submission'):\n",
    "        \n",
    "        # assert that subs, dates, and terms are nonempty\n",
    "        assert(len(subs) > 0), \"Search a Subreddit\"\n",
    "        assert(len(terms) > 0), \"Pick a searchterm\"\n",
    "        \n",
    "        \n",
    "        after, before = dt2unix(startdate, enddate)\n",
    "        \n",
    "        \n",
    "        if type(terms) == list:\n",
    "            print(terms)\n",
    "            for term in terms:\n",
    "                print(term)\n",
    "                self.datalist.append(term)\n",
    "                stories = getNews(term, after, before, subs, endpoint)\n",
    "                stories.insert(0, \"Search Term\", term)\n",
    "                self.dataframe = self.dataframe.append(stories)\n",
    "                \n",
    "        else:\n",
    "            print(terms)\n",
    "            stories = getNews(terms, after, before, subs, endpoint)\n",
    "            stories.insert(0, \"Search Term\", terms)\n",
    "            self.dataframe = self.dataframe.append(stories)\n",
    "            \n",
    "    def getdata(self):\n",
    "        return(self.dataframe)"
   ]
  },
  {
   "cell_type": "code",
   "execution_count": 936,
   "metadata": {},
   "outputs": [],
   "source": [
    "#This set of start stop contains the european 2019 heatwave\n",
    "start = '2018/1/1'\n",
    "stop = '2021/1/1'"
   ]
  },
  {
   "cell_type": "code",
   "execution_count": 937,
   "metadata": {},
   "outputs": [
    {
     "name": "stdout",
     "output_type": "stream",
     "text": [
      "heat wave\n",
      "\n",
      "\n",
      "news\n",
      "100 1565826649 , 100 1599182343 , 6 1602615593 , \n",
      "\n",
      "worldnews\n",
      "100 1561632421 , 100 1582566347 , 100 1597602987 , 13 1606816378 , \n",
      "\n",
      "TrueNews\n",
      "3 1595210651 , \n",
      "\n",
      "InDepthStories\n",
      "6 1599184046 , "
     ]
    }
   ],
   "source": [
    "stories = RedditData()\n",
    "stories.collect(['news','worldnews','TrueNews', \"InDepthStories\"], \"heat wave\", start,stop)"
   ]
  },
  {
   "cell_type": "code",
   "execution_count": 938,
   "metadata": {},
   "outputs": [
    {
     "data": {
      "text/plain": [
       "<matplotlib.axes._subplots.AxesSubplot at 0x7f623fb57580>"
      ]
     },
     "execution_count": 938,
     "metadata": {},
     "output_type": "execute_result"
    },
    {
     "data": {
      "image/png": "[encoded data removed]",
      "text/plain": [
       "<Figure size 432x288 with 1 Axes>"
      ]
     },
     "metadata": {
      "needs_background": "light"
     },
     "output_type": "display_data"
    }
   ],
   "source": [
    "stories.getdata()['created_utc'].hist(bins = 50)"
   ]
  },
  {
   "cell_type": "code",
   "execution_count": 939,
   "metadata": {},
   "outputs": [
    {
     "data": {
      "text/plain": [
       "0    44\n",
       "1     1\n",
       "2    31\n",
       "3     1\n",
       "4    23\n",
       "     ..\n",
       "1     1\n",
       "2     1\n",
       "3     1\n",
       "4     1\n",
       "5     1\n",
       "Name: score, Length: 528, dtype: int64"
      ]
     },
     "execution_count": 939,
     "metadata": {},
     "output_type": "execute_result"
    }
   ],
   "source": [
    "stories.getdata()['score']"
   ]
  },
  {
   "cell_type": "code",
   "execution_count": 940,
   "metadata": {},
   "outputs": [],
   "source": [
    "p = stories.getdata()['created_utc'].apply(datetime.fromtimestamp).value_counts()"
   ]
  },
  {
   "cell_type": "code",
   "execution_count": 941,
   "metadata": {},
   "outputs": [],
   "source": [
    "cutoff = 10"
   ]
  },
  {
   "cell_type": "code",
   "execution_count": 942,
   "metadata": {},
   "outputs": [],
   "source": [
    "timesvalues = p > cutoff"
   ]
  },
  {
   "cell_type": "code",
   "execution_count": 943,
   "metadata": {},
   "outputs": [
    {
     "data": {
      "text/plain": [
       "2018-07-19 08:02:34    False\n",
       "2018-07-05 00:51:28    False\n",
       "2020-06-25 17:45:56    False\n",
       "2019-08-13 22:02:04    False\n",
       "2019-06-26 14:39:55    False\n",
       "                       ...  \n",
       "2020-08-16 10:36:19    False\n",
       "2018-12-29 19:07:07    False\n",
       "2020-07-20 03:47:29    False\n",
       "2020-08-20 02:34:25    False\n",
       "2018-08-27 14:06:27    False\n",
       "Name: created_utc, Length: 528, dtype: bool"
      ]
     },
     "execution_count": 943,
     "metadata": {},
     "output_type": "execute_result"
    }
   ],
   "source": [
    "timesvalues"
   ]
  },
  {
   "cell_type": "code",
   "execution_count": 944,
   "metadata": {},
   "outputs": [
    {
     "data": {
      "text/plain": [
       "array([ 5,  0,  2,  1,  1,  1,  4,  2, 30, 32,  8,  1,  0,  0,  0,  5,  6,\n",
       "        7,  5,  0,  1,  1,  0,  6, 11, 46, 91, 17,  8,  2,  1,  0,  0,  4,\n",
       "        5,  2, 14,  1,  5,  7,  3, 23, 24, 28, 88, 24,  4,  1,  0,  1])"
      ]
     },
     "execution_count": 944,
     "metadata": {},
     "output_type": "execute_result"
    }
   ],
   "source": [
    "counts, rEdge = np.histogram(stories.getdata()['created_utc'], bins = 50)\n",
    "counts"
   ]
  },
  {
   "cell_type": "code",
   "execution_count": 945,
   "metadata": {},
   "outputs": [
    {
     "data": {
      "text/plain": [
       "'\\nif counts[0] > cutoff:\\n    tSeries = 1*(rEdge[0] > times).to_numpy()\\nelse:\\n    tSeries = 0\\n    \\nfor i in range(1, len(counts)):\\n    if counts[i] > cutoff:\\n        tSeries += ((rEdge[i-1] <= times) & (rEdge[i] > times)).to_numpy()\\n'"
      ]
     },
     "execution_count": 945,
     "metadata": {},
     "output_type": "execute_result"
    }
   ],
   "source": [
    "\"\"\"\n",
    "if counts[0] > cutoff:\n",
    "    tSeries = 1*(rEdge[0] > times).to_numpy()\n",
    "else:\n",
    "    tSeries = 0\n",
    "    \n",
    "for i in range(1, len(counts)):\n",
    "    if counts[i] > cutoff:\n",
    "        tSeries += ((rEdge[i-1] <= times) & (rEdge[i] > times)).to_numpy()\n",
    "\"\"\""
   ]
  },
  {
   "cell_type": "code",
   "execution_count": 946,
   "metadata": {},
   "outputs": [],
   "source": [
    "intervals = []\n",
    "for i in range(len(counts)):\n",
    "    if counts[i] >= cutoff:\n",
    "        intervals.append((rEdge[i],rEdge[i+1]))"
   ]
  },
  {
   "cell_type": "code",
   "execution_count": 947,
   "metadata": {},
   "outputs": [
    {
     "name": "stdout",
     "output_type": "stream",
     "text": [
      "[(1530123013.0, 1531949045.5), (1531949045.5, 1533775078.0), (1559339533.0, 1561165565.5), (1561165565.5, 1562991598.0), (1562991598.0, 1564817630.5), (1564817630.5, 1566643663.0), (1581251923.0, 1583077955.5), (1590382085.5, 1592208118.0), (1592208118.0, 1594034150.5), (1594034150.5, 1595860183.0), (1595860183.0, 1597686215.5), (1597686215.5, 1599512248.0)]\n"
     ]
    }
   ],
   "source": [
    "print(intervals)"
   ]
  },
  {
   "cell_type": "code",
   "execution_count": 948,
   "metadata": {},
   "outputs": [],
   "source": [
    "def heat(x, intervals):\n",
    "    for edge in intervals:\n",
    "        if (x >= edge[0]) & (x <= edge[1]):\n",
    "            return 1\n",
    "    return 0"
   ]
  },
  {
   "cell_type": "code",
   "execution_count": null,
   "metadata": {
    "scrolled": true
   },
   "outputs": [
    {
     "name": "stdout",
     "output_type": "stream",
     "text": [
      "*\n",
      "\n",
      "\n",
      "wallstreetbets\n",
      "100 1514904704 , 100 1514941087 , 100 1514996829 , 100 1515022543 , 100 1515081590 , 100 1515122232 , 100 1515182050 , 100 1515266889 , 100 1515375350 , 100 1515432373 , \n",
      "\n",
      "100 1515499679 , 100 1515532520 , 100 1515596411 , 100 1515620464 , 100 1515686021 , 100 1515710772 , 100 1515774260 , 100 1515810287 , 100 1515974204 , 100 1516070845 , \n",
      "\n",
      "100 1516129517 , 100 1516169525 , 100 1516220961 , 100 1516285134 , 100 1516314676 , 100 1516380510 , 100 1516428064 , 100 1516575748 , 100 1516645756 , 100 1516677092 , \n",
      "\n",
      "100 1516728996 , 100 1516749906 , 100 1516807977 , 100 1516830855 , 100 1516893179 , 100 1516907009 , 100 1516931376 , 100 1516986035 , 100 1517003105 , 100 1517078203 , \n",
      "\n",
      "100 1517173958 , 100 1517239314 , 100 1517262491 , 100 1517320449 , 100 1517334845 , 100 1517352482 , 100 1517395912 , 100 1517425083 , 100 1517439127 , 100 1517494388 , \n",
      "\n",
      "100 1517515962 , 100 1517532768 , 100 1517583213 , 100 1517592693 , 100 1517602792 , 100 1517615146 , 100 1517670572 , 100 1517770794 , 100 1517825937 , 100 1517848003 , \n",
      "\n",
      "100 1517861476 , 100 1517864092 , 100 1517867621 , 100 1517871870 , 100 1517878556 , 100 1517887285 , 100 1517904236 , 100 1517927442 , 100 1517932645 , 100 1517946709 , \n",
      "\n",
      "100 1517954499 , 100 1517976530 , 100 1518020953 , 100 1518037910 , 100 1518061860 , 100 1518107641 , 100 1518119804 , 100 1518128750 , 100 1518147366 , 100 1518191379 , \n",
      "\n",
      "100 1518202187 , 100 1518211865 , 100 1518279118 , 100 1518367644 , 100 1518435744 , 100 1518465611 , 100 1518494559 , 100 1518546510 , 100 1518571867 , 100 1518622181 , \n",
      "\n",
      "100 1518640503 , 100 1518668409 , 100 1518714568 , 100 1518738321 , 100 1518795689 , 100 1518816492 , 100 1518917643 , 100 1519053087 , 100 1519133051 , 100 1519164705 , \n",
      "\n",
      "100 1519236349 , 100 1519255434 , 100 1519310907 , 100 1519330007 , 100 1519391518 , 100 1519417186 , 100 1519487473 , 100 1519607597 , 100 1519668374 , 100 1519695276 , \n",
      "\n",
      "100 1519748779 , 100 1519775291 , 100 1519831262 , 100 1519849991 , 100 1519878463 , 100 1519923358 , 100 1519937172 , 100 1519961275 , 100 1520003614 , 100 1520021100 , \n",
      "\n",
      "100 1520086371 , 100 1520196634 , 100 1520266272 , 100 1520281818 , 100 1520348240 , 100 1520367912 , 100 1520391424 , 100 1520437888 , 100 1520456768 , 100 1520517258 , \n",
      "\n",
      "100 1520542657 , 100 1520599086 , 100 1520617047 , 100 1520626539 , 100 1520658029 , 100 1520736684 , 100 1520873125 , 100 1520891251 , 100 1520930146 , 100 1520964482 , \n",
      "\n",
      "100 1521012429 , 100 1521050445 , 100 1521082232 , 100 1521133830 , 100 1521157236 , 100 1521221685 , 100 1521291761 , 100 1521421739 , 100 1521476598 , 100 1521502784 , \n",
      "\n",
      "100 1521560237 , 100 1521579698 , 100 1521634133 , 100 1521655335 , 100 1521677961 , 100 1521729325 , 100 1521742214 , 100 1521752022 , 100 1521773590 , 100 1521819438 , \n",
      "\n",
      "100 1521834031 , 100 1521860987 , 100 1521939853 , 100 1522026861 , 100 1522075721 , 100 1522095278 , 100 1522150654 , 100 1522173751 , 100 1522181067 , 100 1522202637 , \n",
      "\n",
      "100 1522245919 , 100 1522259306 , 100 1522280276 , 100 1522332186 , 100 1522358230 , 100 1522431170 , 100 1522555981 , 100 1522653540 , 100 1522687662 , 100 1522699161 , \n",
      "\n",
      "100 1522724179 , 100 1522768707 , 100 1522789511 , 100 1522828796 , 100 1522849568 , 100 1522864114 , 100 1522876683 , 100 1522930010 , 100 1522947020 , 100 1522971560 , \n",
      "\n",
      "100 1523017578 , 100 1523035001 , 100 1523049162 , 100 1523123263 , 100 1523275689 , 100 1523304273 , 100 1523330573 , 100 1523376394 , 100 1523392877 , 100 1523446823 , \n",
      "\n",
      "100 1523475868 , 100 1523536365 , 100 1523569666 , 100 1523630232 , 100 1523651604 , 100 1523719366 , 100 1523826357 , 100 1523894469 , 100 1523922860 , 100 1523978120 , \n",
      "\n",
      "100 1524000350 , 100 1524053340 , 100 1524080507 , 100 1524140728 , 100 1524165103 , 100 1524220547 , 100 1524246214 , 100 1524290422 , 100 1524444965 , 100 1524510300 , \n",
      "\n",
      "100 1524566813 , 100 1524590861 , 100 1524622344 , 100 1524668559 , 100 1524688128 , 100 1524720891 , 100 1524763722 , 100 1524777312 , 100 1524804459 , 100 1524847259 , \n",
      "\n",
      "100 1524872840 , 100 1524964286 , 100 1525053908 , 100 1525107301 , 100 1525146423 , 100 1525197145 , 100 1525210420 , 100 1525264000 , 100 1525284213 , 100 1525296870 , \n",
      "\n",
      "100 1525344294 , 100 1525366106 , 100 1525380940 , 100 1525415401 , 100 1525447916 , 100 1525467294 , 100 1525543376 , 100 1525646846 , 100 1525706723 , 100 1525727373 , \n",
      "\n",
      "100 1525785852 , 100 1525803449 , 100 1525819738 , 100 1525873486 , 100 1525888438 , 100 1525911258 , 100 1525962858 , 100 1525977271 , 100 1525993854 , 100 1526049910 , \n",
      "\n",
      "100 1526069351 , 100 1526136787 , 100 1526229215 , 100 1526303903 , 100 1526322096 , 100 1526362155 , 100 1526406955 , 100 1526442804 , 100 1526487173 , 100 1526503465 , \n",
      "\n",
      "100 1526565099 , 100 1526584025 , 100 1526607977 , 100 1526655715 , 100 1526685144 , 100 1526787053 , 100 1526873597 , 100 1526918061 , 100 1526937288 , 100 1526989158 , \n",
      "\n",
      "100 1527011110 , 100 1527029156 , 100 1527074888 , 100 1527094144 , 100 1527110322 , 100 1527152676 , 100 1527176263 , 100 1527191711 , 100 1527238054 , 100 1527272154 , \n",
      "\n",
      "100 1527331646 , 100 1527395979 , 100 1527488462 , 100 1527578453 , 100 1527612228 , 100 1527637907 , 100 1527687977 , 100 1527701771 , 100 1527720088 , 100 1527776416 , \n",
      "\n",
      "100 1527789690 , 100 1527813531 , 100 1527864869 , 100 1527877760 , 100 1527913947 , 100 1527992884 , 100 1528076299 , 100 1528124304 , 100 1528151954 , 100 1528207287 , \n",
      "\n",
      "100 1528226174 , 100 1528255299 , 100 1528296235 , 100 1528306316 , 100 1528319808 , 100 1528365102 , 100 1528386214 , 100 1528401519 , 100 1528426133 , 100 1528466382 , \n",
      "\n",
      "100 1528478326 , 100 1528499554 , 100 1528565841 , 100 1528636967 , 100 1528688066 , 100 1528731620 , 100 1528750845 , 100 1528774895 , 100 1528817279 , 100 1528828418 , \n",
      "\n",
      "100 1528852260 , 100 1528898538 , 100 1528910409 , 100 1528922067 , 100 1528944191 , 100 1528984508 , 100 1528993211 , 100 1529002215 , 100 1529009609 , 100 1529032734 , \n",
      "\n",
      "100 1529070761 , 100 1529078379 , 100 1529087979 , 100 1529103876 , 100 1529166477 , 100 1529238651 , "
     ]
    }
   ],
   "source": [
    "sublist = ['wallstreetbets', 'stocks', 'investing','finance', 'BullGangOfficial','Superstonk']\n",
    "stories.collect(sublist, '*',  start,stop)\n",
    "#stories.collect(['stocks','wallstreetbets','personalfinance','investing'], ['merger','penis','moon','rocket','unicorn','disaster','due dilligence', 'bull', 'bear', 'profit','loss','hedge','IPO', 'Nasdaq','meme','portfolio','spy', 'vix'],  start,stop)"
   ]
  },
  {
   "cell_type": "code",
   "execution_count": null,
   "metadata": {},
   "outputs": [],
   "source": [
    "len(stories.getdata()['created_utc'].unique())"
   ]
  },
  {
   "cell_type": "code",
   "execution_count": null,
   "metadata": {},
   "outputs": [],
   "source": [
    "#stories.getdata().to_csv('wsb_100.csv')\n"
   ]
  },
  {
   "cell_type": "code",
   "execution_count": null,
   "metadata": {},
   "outputs": [],
   "source": [
    "#stories.getdata()[stories.getdata()['subreddit'] == 'wallstreetbets']"
   ]
  },
  {
   "cell_type": "code",
   "execution_count": null,
   "metadata": {},
   "outputs": [],
   "source": [
    "stockstories = stories.getdata()[stories.getdata()['Search Term'] != \"heat wave\"]\n",
    "#stockstories = stockstories[stockstories['num_comments'] > 5]\n",
    "#stockstories = pd.DataFrame() \n",
    "#stocksinv = pd.read_csv('stocks_investing.csv')\n",
    "#wsbstocks = pd.read_csv('wsb_100.csv')\n",
    "#stockstories = stockstories.append(wsbstocks)\n",
    "#stockstories = stockstories.append(stocksinv)"
   ]
  },
  {
   "cell_type": "code",
   "execution_count": null,
   "metadata": {},
   "outputs": [],
   "source": [
    "#df = (stockstories[stockstories['subreddit'] == 'wallstreetbets']['created_utc'])\n",
    "\n",
    "#pd.to_datetime(min(df), unit = 's'), pd.to_datetime(max(df), unit = 's')"
   ]
  },
  {
   "cell_type": "code",
   "execution_count": null,
   "metadata": {},
   "outputs": [],
   "source": [
    "#dates = stockstories[stockstories['subreddit'] == 'investing']['created_utc']\n",
    "#print(pd.to_datetime(min(dates), unit = 's').date(), pd.to_datetime(max(dates), unit = 's').date())"
   ]
  },
  {
   "cell_type": "code",
   "execution_count": null,
   "metadata": {},
   "outputs": [],
   "source": [
    "#start,stop = (pd.to_datetime(min(dates), unit = 's').date(), pd.to_datetime(max(dates), unit = 's').date())"
   ]
  },
  {
   "cell_type": "code",
   "execution_count": null,
   "metadata": {},
   "outputs": [],
   "source": [
    "#times = stories.getdata()['created_utc']\n",
    "#tSeries = stories.getdata()['created_utc'].apply(lambda x: heat(x, intervals))\n",
    "times = stockstories['created_utc']\n",
    "tSeries = stockstories['created_utc'].apply(lambda x: heat(x, intervals))"
   ]
  },
  {
   "cell_type": "code",
   "execution_count": null,
   "metadata": {},
   "outputs": [],
   "source": [
    "tSeries"
   ]
  },
  {
   "cell_type": "code",
   "execution_count": null,
   "metadata": {},
   "outputs": [],
   "source": [
    "pd.DataFrame({'Times': pd.to_datetime(times, unit = 's'), 'Heatwave' : tSeries})"
   ]
  },
  {
   "cell_type": "code",
   "execution_count": null,
   "metadata": {},
   "outputs": [],
   "source": [
    "#df_sentiment = stories.getdata().loc[:,['title','created_utc','Search Term']]\n",
    "df_sentiment = stockstories.loc[:,['title','created_utc', 'subreddit']]\n",
    "#df_sentiment = stockstories.loc[:,['body','created_utc','subreddit']]\n",
    "heat_utc = pd.DataFrame({'created_utc': times, 'Heatwave' : tSeries})\n",
    "df_sentiment = pd.merge(df_sentiment, heat_utc)\n",
    "df_sentiment['Date'] = pd.to_datetime(df_sentiment['created_utc'], unit = 's').apply(lambda x: x.date())\n",
    "df_sentiment.index.name = ''\n",
    "df_sentiment = df_sentiment.drop(columns = 'created_utc')\n",
    "df_sentiment.index = [e for e in range(len(df_sentiment))]"
   ]
  },
  {
   "cell_type": "markdown",
   "metadata": {},
   "source": [
    "Make a dataframe to store the unmodified titles.  They must be cleaned and have sentiment analysis performed on them."
   ]
  },
  {
   "cell_type": "code",
   "execution_count": null,
   "metadata": {},
   "outputs": [],
   "source": [
    "from textblob import TextBlob, Word\n",
    "from nltk.corpus import stopwords\n"
   ]
  },
  {
   "cell_type": "code",
   "execution_count": null,
   "metadata": {},
   "outputs": [],
   "source": [
    "def lemmatize_with_postag(sentence):\n",
    "    sent = TextBlob(sentence)\n",
    "    tag_dict = {\"J\": 'a', \n",
    "                \"N\": 'n', \n",
    "                \"V\": 'v', \n",
    "                \"R\": 'r'}\n",
    "    words_and_tags = [(w, tag_dict.get(pos[0], 'n')) for w, pos in sent.lower().tags if w not in stopwords.words('english')]\n",
    "    lemmatized_list = [wd.lemmatize(tag) for wd, tag in words_and_tags]\n",
    "    return \" \".join(lemmatized_list)"
   ]
  },
  {
   "cell_type": "code",
   "execution_count": null,
   "metadata": {},
   "outputs": [],
   "source": [
    "import nltk\n",
    "nltk.download('vader_lexicon')"
   ]
  },
  {
   "cell_type": "code",
   "execution_count": null,
   "metadata": {},
   "outputs": [],
   "source": [
    "from nltk.sentiment.vader import SentimentIntensityAnalyzer"
   ]
  },
  {
   "cell_type": "code",
   "execution_count": null,
   "metadata": {},
   "outputs": [],
   "source": [
    "vds = SentimentIntensityAnalyzer()"
   ]
  },
  {
   "cell_type": "code",
   "execution_count": null,
   "metadata": {},
   "outputs": [],
   "source": [
    "vds.polarity_scores(df_sentiment['title'].iloc[0])['compound']"
   ]
  },
  {
   "cell_type": "code",
   "execution_count": null,
   "metadata": {},
   "outputs": [],
   "source": [
    "df_sentiment['sentiment'] = df_sentiment['title'].apply(lambda x: vds.polarity_scores(x)['compound'])\n",
    "df_sentiment.sample(4)"
   ]
  },
  {
   "cell_type": "code",
   "execution_count": null,
   "metadata": {},
   "outputs": [],
   "source": [
    "import matplotlib.pyplot as plt\n",
    "\n",
    "fig, ax = plt.subplots()\n",
    "\n",
    "colors = {0:'blue',1:'red'}\n",
    "\n",
    "grouped = df_sentiment.groupby('Heatwave')\n",
    "for key, group in grouped:\n",
    "    group.plot(ax=ax, kind='scatter', x='sentiment', y = 'Heatwave', label=key, color=colors[key])\n",
    "\n",
    "plt.show()"
   ]
  },
  {
   "cell_type": "code",
   "execution_count": null,
   "metadata": {},
   "outputs": [],
   "source": [
    "import pandas as pd\n",
    "pd.options.mode.chained_assignment = None \n",
    "import numpy as np\n",
    "import re\n",
    "import nltk\n",
    "\n",
    "from gensim.models import word2vec\n",
    "\n",
    "from sklearn.manifold import TSNE\n",
    "import matplotlib.pyplot as plt\n",
    "%matplotlib inline"
   ]
  },
  {
   "cell_type": "code",
   "execution_count": null,
   "metadata": {},
   "outputs": [],
   "source": [
    "import yahoo_fin.stock_info as si\n",
    "\n",
    "stocksinfo = si.get_data('SPY', start_date = start, end_date = stop)['adjclose']"
   ]
  },
  {
   "cell_type": "code",
   "execution_count": null,
   "metadata": {},
   "outputs": [],
   "source": [
    "df_stocksinfo = pd.DataFrame({'Close':stocksinfo, 'Date': stocksinfo.index})\n",
    "#stocksinfo.index = [e for e in range(len(stocksinfo))]\n",
    "df_stocksinfo.index = [e for e in range(len(stocksinfo))]"
   ]
  },
  {
   "cell_type": "code",
   "execution_count": null,
   "metadata": {},
   "outputs": [],
   "source": [
    "df_sentiment = df_sentiment.sort_values(by = 'Date')"
   ]
  },
  {
   "cell_type": "code",
   "execution_count": null,
   "metadata": {},
   "outputs": [],
   "source": [
    "aggregate_sentiment = []\n",
    "days = df_sentiment['Date'].unique()\n",
    "for i,e in enumerate(days):\n",
    "    \n",
    "    \n",
    "    #toadd = 0\n",
    "    #for sub in sublist:\n",
    "    #    meanadd = df_sentiment[df_sentiment['subreddit']== sub][df_sentiment['Date'] == e]['sentiment'].mean()\n",
    "    #    if np.isnan(meanadd):\n",
    "    #        meanadd = 0\n",
    "            \n",
    "    #    toadd += meanadd\n",
    "    \n",
    "    toadd = df_sentiment[~df_sentiment['subreddit'].isin(['wallstreetbets', 'finance'])][df_sentiment['Date'] == e]['sentiment'].sum()\n",
    "    #toadd = df_sentiment[df_sentiment['Date'] == e]['sentiment'].sum()\n",
    "    \n",
    "    #if i != 0:\n",
    "    #    toadd = toadd + aggregate_sentiment[-1]\n",
    "    \n",
    "    aggregate_sentiment.append(toadd)"
   ]
  },
  {
   "cell_type": "code",
   "execution_count": null,
   "metadata": {},
   "outputs": [],
   "source": [
    "sublist"
   ]
  },
  {
   "cell_type": "code",
   "execution_count": null,
   "metadata": {},
   "outputs": [],
   "source": [
    "ag_sent_date = pd.DataFrame({'Date': days, 'sentiment':aggregate_sentiment})"
   ]
  },
  {
   "cell_type": "code",
   "execution_count": null,
   "metadata": {},
   "outputs": [],
   "source": [
    "ag_sent_date['Date'] = pd.to_datetime(ag_sent_date['Date'])\n",
    "df_sentiment['Date'] = pd.to_datetime(df_sentiment['Date'])"
   ]
  },
  {
   "cell_type": "code",
   "execution_count": null,
   "metadata": {},
   "outputs": [],
   "source": [
    "df_stocks_sentiment = pd.merge(df_stocksinfo, ag_sent_date, on = 'Date').sort_values(by = 'Date')"
   ]
  },
  {
   "cell_type": "code",
   "execution_count": null,
   "metadata": {
    "scrolled": true
   },
   "outputs": [],
   "source": [
    "df_stocks_sentiment['Close'].plot()\n",
    "df_stocks_sentiment['sentiment'].plot(secondary_y = True)"
   ]
  },
  {
   "cell_type": "code",
   "execution_count": null,
   "metadata": {},
   "outputs": [],
   "source": [
    "dates = df_stocks_sentiment['Date']\n",
    "(pd.to_datetime(min(dates), unit = 's').date(),pd.to_datetime(max(dates), unit = 's').date())"
   ]
  },
  {
   "cell_type": "code",
   "execution_count": null,
   "metadata": {},
   "outputs": [],
   "source": [
    "hwaves = (df_stocks_sentiment['Date'].astype(int)/10**9).apply(lambda x: heat(x, intervals))\n",
    "hwaves"
   ]
  },
  {
   "cell_type": "code",
   "execution_count": null,
   "metadata": {},
   "outputs": [],
   "source": [
    "df_stocks_sentiment['Heat Wave'] = hwaves"
   ]
  },
  {
   "cell_type": "code",
   "execution_count": null,
   "metadata": {},
   "outputs": [],
   "source": [
    "\n",
    "fig, ax = plt.subplots()\n",
    "\n",
    "colors = {0:'blue',1:'red'}\n",
    "\n",
    "grouped = df_stocks_sentiment.groupby('Heat Wave')\n",
    "for key, group in grouped:\n",
    "    group.plot(ax=ax, kind='scatter', x='sentiment', y = 'Heat Wave', label=key, color=colors[key])\n",
    "\n",
    "plt.show()"
   ]
  },
  {
   "cell_type": "code",
   "execution_count": null,
   "metadata": {},
   "outputs": [],
   "source": [
    "hws = df_stocks_sentiment['Heat Wave']#np.where(df_stocks_reduced['Heat Wave'] == 1)"
   ]
  },
  {
   "cell_type": "code",
   "execution_count": null,
   "metadata": {},
   "outputs": [],
   "source": [
    "leading_edges = []\n",
    "following_edges = []\n",
    "for i in range(len(hws)):\n",
    "    if hws[i] == 1:\n",
    "        if i == 0:\n",
    "            leading_edges.append(i)\n",
    "        elif hws[i-1] == 0 :\n",
    "            leading_edges.append(i)\n",
    "        \n",
    "    if hws[i] == 0 :\n",
    "        if i != 0:\n",
    "            if hws[i-1] == 1 :\n",
    "                following_edges.append(i)\n",
    "                \n",
    "if len(leading_edges) != len(following_edges):\n",
    "    if min(leading_edges) > min(following_edges):\n",
    "        leading_edges = [0] + leading_edges\n",
    "        \n",
    "    if max(leading_edge) > max(following_edges):\n",
    "        following_edges = following_edges + [len(hws)]"
   ]
  },
  {
   "cell_type": "code",
   "execution_count": null,
   "metadata": {},
   "outputs": [],
   "source": [
    "#df_stocks_reduced.index = [e for e in range(len(df_stocks_reduced))]\n",
    "df_stocks_sentiment.index = pd.to_datetime(df_stocks_reduced['Date'])\n",
    "print(leading_edges,\"\\n\",following_edges)"
   ]
  },
  {
   "cell_type": "code",
   "execution_count": 925,
   "metadata": {},
   "outputs": [
    {
     "data": {
      "text/plain": [
       "<matplotlib.axes._subplots.AxesSubplot at 0x7f623fbde250>"
      ]
     },
     "execution_count": 925,
     "metadata": {},
     "output_type": "execute_result"
    },
    {
     "data": {
      "image/png": "[encoded data removed]",
      "text/plain": [
       "<Figure size 432x288 with 2 Axes>"
      ]
     },
     "metadata": {
      "needs_background": "light"
     },
     "output_type": "display_data"
    }
   ],
   "source": [
    "\n",
    "#df_stocks_reduced['Close'].plot()\n",
    "#df_stocks_reduced['sentiment'].plot(secondary_y = True)\n",
    "\n",
    "ax = df_stocks_sentiment['Close'].plot()\n",
    "for i,j in zip(df_stocks_sentiment['Date'].iloc[leading_edges], df_stocks_reduced['Date'].iloc[following_edges]):\n",
    "    ax.axvspan(i,j, facecolor = 'red', alpha= 0.25)\n",
    "    \n",
    "df_stocks_reduced['avg5'] = df_stocks_sentiment['sentiment'].rolling(20).mean()\n",
    "df_stocks_reduced['avg5'].plot(secondary_y = True)\n",
    "#ax2 = df_stocks_reduced.plot(x = 'Date', y = 'sentiment', secondary_y = True)\n",
    "\n",
    "#plt.show()"
   ]
  }
 ],
 "metadata": {
  "kernelspec": {
   "display_name": "Python 3.8.5 64-bit",
   "language": "python",
   "name": "python385jvsc74a57bd0916dbcbb3f70747c44a77c7bcd40155683ae19c65e1c03b4aa3499c5328201f1"
  },
  "language_info": {
   "codemirror_mode": {
    "name": "ipython",
    "version": 3
   },
   "file_extension": ".py",
   "mimetype": "text/x-python",
   "name": "python",
   "nbconvert_exporter": "python",
   "pygments_lexer": "ipython3",
   "version": "3.8.5"
  }
 },
 "nbformat": 4,
 "nbformat_minor": 4
}
