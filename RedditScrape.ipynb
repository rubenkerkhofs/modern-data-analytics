{
 "cells": [
  {
   "cell_type": "code",
   "execution_count": 27,
   "metadata": {},
   "outputs": [],
   "source": [
    "import pandas as pd\n",
    "import requests\n",
    "import datetime\n",
    "import numpy as np\n",
    "from datetime import datetime\n",
    "import time\n",
    "from time import sleep\n",
    "import json\n",
    "import random"
   ]
  },
  {
   "cell_type": "code",
   "execution_count": 2,
   "metadata": {},
   "outputs": [],
   "source": [
    "base_url = 'https://api.pushshift.io/reddit/search/submission/'\n",
    "parameters = {'subreddit': 'completeanarchy', 'title' : 'ACAB'}"
   ]
  },
  {
   "cell_type": "code",
   "execution_count": 3,
   "metadata": {},
   "outputs": [],
   "source": [
    "r = requests.get(base_url, params = parameters)"
   ]
  },
  {
   "cell_type": "code",
   "execution_count": 4,
   "metadata": {},
   "outputs": [],
   "source": [
    "reddit_df = pd.DataFrame(r.json()['data'])"
   ]
  },
  {
   "cell_type": "code",
   "execution_count": 5,
   "metadata": {},
   "outputs": [],
   "source": [
    "def getPushshiftData(query, after, before, sub, endpoint = 'submission', size = 25):\n",
    "    url = 'https://api.pushshift.io/reddit/search/' + endpoint\n",
    "    parameters = {'subreddit': sub, 'title' : query, 'after' : str(after), 'before' : str(before), 'size': 500}\n",
    "    r = requests.get(url, parameters)\n",
    "    try:\n",
    "        data = r.json()\n",
    "    except:\n",
    "        data = {'data':[]}\n",
    "        \n",
    "    return data['data']"
   ]
  },
  {
   "cell_type": "code",
   "execution_count": 6,
   "metadata": {},
   "outputs": [],
   "source": [
    "def collectSubData(subm, subStats):\n",
    "    #subData = list() #list to store data points\n",
    "    \n",
    "    pd.DataFrame\n",
    "    title = subm['title']\n",
    "    url = subm['url']\n",
    "    \n",
    "    try:\n",
    "        flair = subm['link_flair_text']\n",
    "    except KeyError:\n",
    "        flair = \"NaN\"\n",
    "        \n",
    "    author = subm['author']\n",
    "    sub_id = subm['id']\n",
    "    score = subm['score']\n",
    "    created = datetime.datetime.fromtimestamp(subm['created_utc'])\n",
    "    numComms = subm['num_comments']\n",
    "    permalink = subm['permalink']\n",
    "    text = subm['selftext']\n",
    "    \n",
    "    subData.append((sub_id,title,url,author,score,created,numComms,permalink,flair))\n",
    "    subStats[sub_id] = subData"
   ]
  },
  {
   "cell_type": "code",
   "execution_count": 7,
   "metadata": {},
   "outputs": [],
   "source": [
    "def extractStats(data):\n",
    "    \n",
    "    subStats = {}\n",
    "    subCount = 0\n",
    "    \n",
    "    while len(data) > 0:\n",
    "        print(len(data))\n",
    "        for submission in data:\n",
    "            collectSubData(submission, subStats)\n",
    "            subCount+=1\n",
    "            \n",
    "        # Calls getPushshiftData() with the created date of the last submission\n",
    "        print(len(data))\n",
    "        print(str(datetime.datetime.fromtimestamp(data[-1]['created_utc'])))\n",
    "        after = data[-1]['created_utc']\n",
    "        data = getPushshiftData(query, after, before, sub)\n",
    "\n",
    "    print(len(data))\n",
    "    return(subStats)"
   ]
  },
  {
   "cell_type": "markdown",
   "metadata": {},
   "source": [
    "Code snippets from https://rareloot.medium.com/using-pushshifts-api-to-extract-reddit-submissions-fb517b286563"
   ]
  },
  {
   "cell_type": "code",
   "execution_count": 8,
   "metadata": {},
   "outputs": [],
   "source": [
    "def dt2unix(before, after, format = \"%Y/%m/%d\"):\n",
    "    # input: two strings in the form yyyy/mm/dd\n",
    "    # returns: tuple (before, after) as unix times\n",
    "    beforeUnix = time.mktime(datetime.strptime(before, format).timetuple())\n",
    "    afterUnix = time.mktime(datetime.strptime(after, format).timetuple())\n",
    "    \n",
    "    return(int(beforeUnix), int(afterUnix))"
   ]
  },
  {
   "cell_type": "code",
   "execution_count": 10,
   "metadata": {},
   "outputs": [],
   "source": [
    "query = 'ACAB'\n",
    "before = 1538352000 # \"1538352000\" #October 1st\n",
    "after = 1514764800  #January 1st \n",
    "before, after = dt2unix(\"2020/1/1\",\"2017/10/1\")\n",
    "sub = 'news'\n",
    "data = getPushshiftData(query, after, before, sub) # Will run until all posts have been gathered \n",
    "dataDF = pd.DataFrame(data)"
   ]
  },
  {
   "cell_type": "code",
   "execution_count": 11,
   "metadata": {},
   "outputs": [
    {
     "data": {
      "text/plain": [
       "Index(['all_awardings', 'allow_live_comments', 'author',\n",
       "       'author_flair_css_class', 'author_flair_richtext', 'author_flair_text',\n",
       "       'author_flair_type', 'author_fullname', 'author_patreon_flair',\n",
       "       'can_mod_post', 'contest_mode', 'created_utc', 'domain', 'full_link',\n",
       "       'gildings', 'id', 'is_crosspostable', 'is_meta', 'is_original_content',\n",
       "       'is_reddit_media_domain', 'is_robot_indexable', 'is_self', 'is_video',\n",
       "       'link_flair_background_color', 'link_flair_richtext',\n",
       "       'link_flair_text_color', 'link_flair_type', 'locked', 'media_only',\n",
       "       'no_follow', 'num_comments', 'num_crossposts', 'over_18',\n",
       "       'parent_whitelist_status', 'permalink', 'pinned', 'pwls',\n",
       "       'retrieved_on', 'score', 'selftext', 'send_replies', 'spoiler',\n",
       "       'stickied', 'subreddit', 'subreddit_id', 'subreddit_subscribers',\n",
       "       'subreddit_type', 'thumbnail', 'title', 'total_awards_received',\n",
       "       'updated_utc', 'url', 'whitelist_status', 'wls'],\n",
       "      dtype='object')"
      ]
     },
     "execution_count": 11,
     "metadata": {},
     "output_type": "execute_result"
    }
   ],
   "source": [
    "dataDF.keys()"
   ]
  },
  {
   "cell_type": "code",
   "execution_count": 12,
   "metadata": {},
   "outputs": [
    {
     "data": {
      "text/plain": [
       "0    https://www.reddit.com/r/news/comments/cnw6h5/...\n",
       "Name: full_link, dtype: object"
      ]
     },
     "execution_count": 12,
     "metadata": {},
     "output_type": "execute_result"
    }
   ],
   "source": [
    "dataDF['full_link']"
   ]
  },
  {
   "cell_type": "code",
   "execution_count": 51,
   "metadata": {},
   "outputs": [],
   "source": [
    "def extractData(data):\n",
    "    dataDF = pd.DataFrame(data)\n",
    "    toExtract = ['author',\n",
    "                 'subreddit',\n",
    "                  'created_utc',\n",
    "                  'full_link', \n",
    "                  'id', 'is_self', \n",
    "                  'is_video', \n",
    "                  'locked', \n",
    "                  'num_comments', \n",
    "                  'num_crossposts', \n",
    "                  'pinned', \n",
    "                  'score',\n",
    "                 'selftext',\n",
    "                  'title']\n",
    "    outDF = pd.DataFrame([])\n",
    "    for query in toExtract:\n",
    "        try:\n",
    "            outDF[query] = dataDF[query]\n",
    "        except:\n",
    "            pass\n",
    "        \n",
    "    return(outDF)"
   ]
  },
  {
   "cell_type": "code",
   "execution_count": 52,
   "metadata": {},
   "outputs": [
    {
     "data": {
      "text/html": [
       "<div>\n",
       "<style scoped>\n",
       "    .dataframe tbody tr th:only-of-type {\n",
       "        vertical-align: middle;\n",
       "    }\n",
       "\n",
       "    .dataframe tbody tr th {\n",
       "        vertical-align: top;\n",
       "    }\n",
       "\n",
       "    .dataframe thead th {\n",
       "        text-align: right;\n",
       "    }\n",
       "</style>\n",
       "<table border=\"1\" class=\"dataframe\">\n",
       "  <thead>\n",
       "    <tr style=\"text-align: right;\">\n",
       "      <th></th>\n",
       "      <th>author</th>\n",
       "      <th>subreddit</th>\n",
       "      <th>created_utc</th>\n",
       "      <th>full_link</th>\n",
       "      <th>id</th>\n",
       "      <th>is_self</th>\n",
       "      <th>is_video</th>\n",
       "      <th>locked</th>\n",
       "      <th>num_comments</th>\n",
       "      <th>num_crossposts</th>\n",
       "      <th>pinned</th>\n",
       "      <th>score</th>\n",
       "      <th>selftext</th>\n",
       "      <th>title</th>\n",
       "    </tr>\n",
       "  </thead>\n",
       "  <tbody>\n",
       "    <tr>\n",
       "      <th>0</th>\n",
       "      <td>corburruto</td>\n",
       "      <td>news</td>\n",
       "      <td>1565318691</td>\n",
       "      <td>https://www.reddit.com/r/news/comments/cnw6h5/...</td>\n",
       "      <td>cnw6h5</td>\n",
       "      <td>False</td>\n",
       "      <td>False</td>\n",
       "      <td>False</td>\n",
       "      <td>0</td>\n",
       "      <td>0</td>\n",
       "      <td>False</td>\n",
       "      <td>1</td>\n",
       "      <td></td>\n",
       "      <td>Interesting read, Reddit will hate it because ...</td>\n",
       "    </tr>\n",
       "  </tbody>\n",
       "</table>\n",
       "</div>"
      ],
      "text/plain": [
       "       author subreddit  created_utc  \\\n",
       "0  corburruto      news   1565318691   \n",
       "\n",
       "                                           full_link      id  is_self  \\\n",
       "0  https://www.reddit.com/r/news/comments/cnw6h5/...  cnw6h5    False   \n",
       "\n",
       "   is_video  locked  num_comments  num_crossposts  pinned  score selftext  \\\n",
       "0     False   False             0               0   False      1            \n",
       "\n",
       "                                               title  \n",
       "0  Interesting read, Reddit will hate it because ...  "
      ]
     },
     "execution_count": 52,
     "metadata": {},
     "output_type": "execute_result"
    }
   ],
   "source": [
    "extractData(data)"
   ]
  },
  {
   "cell_type": "code",
   "execution_count": 53,
   "metadata": {},
   "outputs": [],
   "source": [
    "list_of_subs = ['completeanarchy']"
   ]
  },
  {
   "cell_type": "code",
   "execution_count": 54,
   "metadata": {},
   "outputs": [],
   "source": [
    "def getNews(query, after, before, sublist = ['news','worldnews','gunpolitics']):\n",
    "    combinedDF = pd.DataFrame()\n",
    "    for sub in sublist:\n",
    "        datai = getPushshiftData(query, after, before, sub)\n",
    "        while(len(datai) > 0):\n",
    "            print(len(datai))\n",
    "            dataj = extractData(datai)\n",
    "            combinedDF = combinedDF.append(dataj)\n",
    "            after = datai[-1]['created_utc']\n",
    "            print(before)\n",
    "            datai = getPushshiftData(query, after, before, sub)\n",
    "            #sleep(random.random())\n",
    "            \n",
    "    return(combinedDF)"
   ]
  },
  {
   "cell_type": "code",
   "execution_count": 55,
   "metadata": {},
   "outputs": [
    {
     "name": "stdout",
     "output_type": "stream",
     "text": [
      "100\n",
      "1569880800\n",
      "100\n",
      "1569880800\n"
     ]
    },
    {
     "name": "stderr",
     "output_type": "stream",
     "text": [
      "/usr/lib/python3/dist-packages/pandas/core/frame.py:7134: FutureWarning: Sorting because non-concatenation axis is not aligned. A future version\n",
      "of pandas will change to not sort by default.\n",
      "\n",
      "To accept the future behavior, pass 'sort=False'.\n",
      "\n",
      "To retain the current behavior and silence the warning, pass 'sort=True'.\n",
      "\n",
      "  return concat(\n"
     ]
    },
    {
     "name": "stdout",
     "output_type": "stream",
     "text": [
      "14\n",
      "1569880800\n"
     ]
    }
   ],
   "source": [
    "after, before = dt2unix('2014/05/1', '2019/10/01')\n",
    "stories = getNews('heat wave', after, before)"
   ]
  },
  {
   "cell_type": "code",
   "execution_count": 56,
   "metadata": {},
   "outputs": [
    {
     "data": {
      "text/html": [
       "<div>\n",
       "<style scoped>\n",
       "    .dataframe tbody tr th:only-of-type {\n",
       "        vertical-align: middle;\n",
       "    }\n",
       "\n",
       "    .dataframe tbody tr th {\n",
       "        vertical-align: top;\n",
       "    }\n",
       "\n",
       "    .dataframe thead th {\n",
       "        text-align: right;\n",
       "    }\n",
       "</style>\n",
       "<table border=\"1\" class=\"dataframe\">\n",
       "  <thead>\n",
       "    <tr style=\"text-align: right;\">\n",
       "      <th></th>\n",
       "      <th>author</th>\n",
       "      <th>created_utc</th>\n",
       "      <th>full_link</th>\n",
       "      <th>id</th>\n",
       "      <th>is_self</th>\n",
       "      <th>is_video</th>\n",
       "      <th>locked</th>\n",
       "      <th>num_comments</th>\n",
       "      <th>num_crossposts</th>\n",
       "      <th>pinned</th>\n",
       "      <th>score</th>\n",
       "      <th>selftext</th>\n",
       "      <th>subreddit</th>\n",
       "      <th>title</th>\n",
       "    </tr>\n",
       "  </thead>\n",
       "  <tbody>\n",
       "    <tr>\n",
       "      <th>0</th>\n",
       "      <td>TheKolbrin</td>\n",
       "      <td>1401036144</td>\n",
       "      <td>https://www.reddit.com/r/news/comments/26gd91/...</td>\n",
       "      <td>26gd91</td>\n",
       "      <td>False</td>\n",
       "      <td>NaN</td>\n",
       "      <td>NaN</td>\n",
       "      <td>0</td>\n",
       "      <td>NaN</td>\n",
       "      <td>NaN</td>\n",
       "      <td>1</td>\n",
       "      <td></td>\n",
       "      <td>news</td>\n",
       "      <td>Heat wave hits Hanoi with record temperatures-...</td>\n",
       "    </tr>\n",
       "    <tr>\n",
       "      <th>1</th>\n",
       "      <td>eemma063</td>\n",
       "      <td>1404228548</td>\n",
       "      <td>https://www.reddit.com/r/news/comments/29kht5/...</td>\n",
       "      <td>29kht5</td>\n",
       "      <td>False</td>\n",
       "      <td>NaN</td>\n",
       "      <td>NaN</td>\n",
       "      <td>0</td>\n",
       "      <td>NaN</td>\n",
       "      <td>NaN</td>\n",
       "      <td>1</td>\n",
       "      <td></td>\n",
       "      <td>news</td>\n",
       "      <td>Did you know-With the holiday and heat wave ap...</td>\n",
       "    </tr>\n",
       "    <tr>\n",
       "      <th>2</th>\n",
       "      <td>liltceo</td>\n",
       "      <td>1405660024</td>\n",
       "      <td>https://www.reddit.com/r/news/comments/2b0tt6/...</td>\n",
       "      <td>2b0tt6</td>\n",
       "      <td>False</td>\n",
       "      <td>NaN</td>\n",
       "      <td>NaN</td>\n",
       "      <td>3</td>\n",
       "      <td>NaN</td>\n",
       "      <td>NaN</td>\n",
       "      <td>5</td>\n",
       "      <td></td>\n",
       "      <td>news</td>\n",
       "      <td>BBC News: UK temperature hits 2014 high as hea...</td>\n",
       "    </tr>\n",
       "    <tr>\n",
       "      <th>3</th>\n",
       "      <td>varun_n</td>\n",
       "      <td>1406626885</td>\n",
       "      <td>https://www.reddit.com/r/news/comments/2c12z2/...</td>\n",
       "      <td>2c12z2</td>\n",
       "      <td>False</td>\n",
       "      <td>NaN</td>\n",
       "      <td>NaN</td>\n",
       "      <td>1</td>\n",
       "      <td>NaN</td>\n",
       "      <td>NaN</td>\n",
       "      <td>1</td>\n",
       "      <td></td>\n",
       "      <td>news</td>\n",
       "      <td>At least 15 people died as a heat wave sweeps ...</td>\n",
       "    </tr>\n",
       "    <tr>\n",
       "      <th>4</th>\n",
       "      <td>vitruv</td>\n",
       "      <td>1410919759</td>\n",
       "      <td>https://www.reddit.com/r/news/comments/2gmdrj/...</td>\n",
       "      <td>2gmdrj</td>\n",
       "      <td>False</td>\n",
       "      <td>NaN</td>\n",
       "      <td>NaN</td>\n",
       "      <td>5</td>\n",
       "      <td>NaN</td>\n",
       "      <td>NaN</td>\n",
       "      <td>16</td>\n",
       "      <td></td>\n",
       "      <td>news</td>\n",
       "      <td>Power grid groans, blackouts roll through L.A....</td>\n",
       "    </tr>\n",
       "    <tr>\n",
       "      <th>...</th>\n",
       "      <td>...</td>\n",
       "      <td>...</td>\n",
       "      <td>...</td>\n",
       "      <td>...</td>\n",
       "      <td>...</td>\n",
       "      <td>...</td>\n",
       "      <td>...</td>\n",
       "      <td>...</td>\n",
       "      <td>...</td>\n",
       "      <td>...</td>\n",
       "      <td>...</td>\n",
       "      <td>...</td>\n",
       "      <td>...</td>\n",
       "      <td>...</td>\n",
       "    </tr>\n",
       "    <tr>\n",
       "      <th>9</th>\n",
       "      <td>The_Possessor</td>\n",
       "      <td>1565691679</td>\n",
       "      <td>https://www.reddit.com/r/news/comments/cpr6d9/...</td>\n",
       "      <td>cpr6d9</td>\n",
       "      <td>False</td>\n",
       "      <td>False</td>\n",
       "      <td>False</td>\n",
       "      <td>19</td>\n",
       "      <td>0.0</td>\n",
       "      <td>False</td>\n",
       "      <td>23</td>\n",
       "      <td></td>\n",
       "      <td>news</td>\n",
       "      <td>Texas power demand sets record high as heat wa...</td>\n",
       "    </tr>\n",
       "    <tr>\n",
       "      <th>10</th>\n",
       "      <td>riqelme</td>\n",
       "      <td>1565726524</td>\n",
       "      <td>https://www.reddit.com/r/news/comments/cpyj75/...</td>\n",
       "      <td>cpyj75</td>\n",
       "      <td>False</td>\n",
       "      <td>False</td>\n",
       "      <td>False</td>\n",
       "      <td>1</td>\n",
       "      <td>0.0</td>\n",
       "      <td>False</td>\n",
       "      <td>1</td>\n",
       "      <td></td>\n",
       "      <td>news</td>\n",
       "      <td>Texas power demand to hit record again as heat...</td>\n",
       "    </tr>\n",
       "    <tr>\n",
       "      <th>11</th>\n",
       "      <td>121kiwi</td>\n",
       "      <td>1565826649</td>\n",
       "      <td>https://www.reddit.com/r/news/comments/cqi0q9/...</td>\n",
       "      <td>cqi0q9</td>\n",
       "      <td>False</td>\n",
       "      <td>False</td>\n",
       "      <td>False</td>\n",
       "      <td>0</td>\n",
       "      <td>0.0</td>\n",
       "      <td>False</td>\n",
       "      <td>1</td>\n",
       "      <td></td>\n",
       "      <td>news</td>\n",
       "      <td>Southern Heat Wave Blamed for 1 Death as a Col...</td>\n",
       "    </tr>\n",
       "    <tr>\n",
       "      <th>12</th>\n",
       "      <td>AnonymousTank</td>\n",
       "      <td>1567973568</td>\n",
       "      <td>https://www.reddit.com/r/news/comments/d1g7xc/...</td>\n",
       "      <td>d1g7xc</td>\n",
       "      <td>False</td>\n",
       "      <td>False</td>\n",
       "      <td>False</td>\n",
       "      <td>262</td>\n",
       "      <td>0.0</td>\n",
       "      <td>False</td>\n",
       "      <td>970</td>\n",
       "      <td></td>\n",
       "      <td>news</td>\n",
       "      <td>France says 1,500 died in summer's heat wave</td>\n",
       "    </tr>\n",
       "    <tr>\n",
       "      <th>13</th>\n",
       "      <td>santech360d</td>\n",
       "      <td>1569236619</td>\n",
       "      <td>https://www.reddit.com/r/news/comments/d84ypo/...</td>\n",
       "      <td>d84ypo</td>\n",
       "      <td>False</td>\n",
       "      <td>False</td>\n",
       "      <td>False</td>\n",
       "      <td>0</td>\n",
       "      <td>0.0</td>\n",
       "      <td>False</td>\n",
       "      <td>1</td>\n",
       "      <td></td>\n",
       "      <td>news</td>\n",
       "      <td>Lingering Pacific heat wave threatens Hawaii c...</td>\n",
       "    </tr>\n",
       "  </tbody>\n",
       "</table>\n",
       "<p>214 rows × 14 columns</p>\n",
       "</div>"
      ],
      "text/plain": [
       "           author  created_utc  \\\n",
       "0      TheKolbrin   1401036144   \n",
       "1        eemma063   1404228548   \n",
       "2         liltceo   1405660024   \n",
       "3         varun_n   1406626885   \n",
       "4          vitruv   1410919759   \n",
       "..            ...          ...   \n",
       "9   The_Possessor   1565691679   \n",
       "10        riqelme   1565726524   \n",
       "11        121kiwi   1565826649   \n",
       "12  AnonymousTank   1567973568   \n",
       "13    santech360d   1569236619   \n",
       "\n",
       "                                            full_link      id  is_self  \\\n",
       "0   https://www.reddit.com/r/news/comments/26gd91/...  26gd91    False   \n",
       "1   https://www.reddit.com/r/news/comments/29kht5/...  29kht5    False   \n",
       "2   https://www.reddit.com/r/news/comments/2b0tt6/...  2b0tt6    False   \n",
       "3   https://www.reddit.com/r/news/comments/2c12z2/...  2c12z2    False   \n",
       "4   https://www.reddit.com/r/news/comments/2gmdrj/...  2gmdrj    False   \n",
       "..                                                ...     ...      ...   \n",
       "9   https://www.reddit.com/r/news/comments/cpr6d9/...  cpr6d9    False   \n",
       "10  https://www.reddit.com/r/news/comments/cpyj75/...  cpyj75    False   \n",
       "11  https://www.reddit.com/r/news/comments/cqi0q9/...  cqi0q9    False   \n",
       "12  https://www.reddit.com/r/news/comments/d1g7xc/...  d1g7xc    False   \n",
       "13  https://www.reddit.com/r/news/comments/d84ypo/...  d84ypo    False   \n",
       "\n",
       "   is_video locked  num_comments  num_crossposts pinned  score selftext  \\\n",
       "0       NaN    NaN             0             NaN    NaN      1            \n",
       "1       NaN    NaN             0             NaN    NaN      1            \n",
       "2       NaN    NaN             3             NaN    NaN      5            \n",
       "3       NaN    NaN             1             NaN    NaN      1            \n",
       "4       NaN    NaN             5             NaN    NaN     16            \n",
       "..      ...    ...           ...             ...    ...    ...      ...   \n",
       "9     False  False            19             0.0  False     23            \n",
       "10    False  False             1             0.0  False      1            \n",
       "11    False  False             0             0.0  False      1            \n",
       "12    False  False           262             0.0  False    970            \n",
       "13    False  False             0             0.0  False      1            \n",
       "\n",
       "   subreddit                                              title  \n",
       "0       news  Heat wave hits Hanoi with record temperatures-...  \n",
       "1       news  Did you know-With the holiday and heat wave ap...  \n",
       "2       news  BBC News: UK temperature hits 2014 high as hea...  \n",
       "3       news  At least 15 people died as a heat wave sweeps ...  \n",
       "4       news  Power grid groans, blackouts roll through L.A....  \n",
       "..       ...                                                ...  \n",
       "9       news  Texas power demand sets record high as heat wa...  \n",
       "10      news  Texas power demand to hit record again as heat...  \n",
       "11      news  Southern Heat Wave Blamed for 1 Death as a Col...  \n",
       "12      news       France says 1,500 died in summer's heat wave  \n",
       "13      news  Lingering Pacific heat wave threatens Hawaii c...  \n",
       "\n",
       "[214 rows x 14 columns]"
      ]
     },
     "execution_count": 56,
     "metadata": {},
     "output_type": "execute_result"
    }
   ],
   "source": [
    "stories"
   ]
  },
  {
   "cell_type": "code",
   "execution_count": 57,
   "metadata": {},
   "outputs": [
    {
     "name": "stdout",
     "output_type": "stream",
     "text": [
      "1569880800 1398895200\n"
     ]
    }
   ],
   "source": [
    "print(before,after)"
   ]
  },
  {
   "cell_type": "code",
   "execution_count": 58,
   "metadata": {},
   "outputs": [
    {
     "data": {
      "text/plain": [
       "<matplotlib.axes._subplots.AxesSubplot at 0x7f491cea87f0>"
      ]
     },
     "execution_count": 58,
     "metadata": {},
     "output_type": "execute_result"
    },
    {
     "data": {
      "image/png": "[encoded data removed]",
      "text/plain": [
       "<Figure size 432x288 with 1 Axes>"
      ]
     },
     "metadata": {
      "needs_background": "light"
     },
     "output_type": "display_data"
    }
   ],
   "source": [
    "stories['created_utc'].hist(bins = 25)"
   ]
  },
  {
   "cell_type": "code",
   "execution_count": 59,
   "metadata": {},
   "outputs": [],
   "source": [
    "p = stories['created_utc'].apply(datetime.fromtimestamp)"
   ]
  },
  {
   "cell_type": "code",
   "execution_count": 60,
   "metadata": {},
   "outputs": [],
   "source": [
    "q = p.value_counts()"
   ]
  },
  {
   "cell_type": "code",
   "execution_count": 61,
   "metadata": {},
   "outputs": [],
   "source": [
    "cutoff = 15"
   ]
  },
  {
   "cell_type": "code",
   "execution_count": 62,
   "metadata": {},
   "outputs": [],
   "source": [
    "timesvalues = q > cutoff"
   ]
  },
  {
   "cell_type": "code",
   "execution_count": 63,
   "metadata": {},
   "outputs": [
    {
     "data": {
      "text/plain": [
       "2016-08-10 20:24:37    False\n",
       "2018-05-08 15:37:41    False\n",
       "2017-07-20 03:06:13    False\n",
       "2017-05-24 05:14:38    False\n",
       "2014-10-04 16:02:27    False\n",
       "                       ...  \n",
       "2014-09-17 04:09:19    False\n",
       "2015-06-22 13:31:09    False\n",
       "2019-07-20 20:11:47    False\n",
       "2016-04-12 19:15:23    False\n",
       "2018-09-05 03:46:42    False\n",
       "Name: created_utc, Length: 214, dtype: bool"
      ]
     },
     "execution_count": 63,
     "metadata": {},
     "output_type": "execute_result"
    }
   ],
   "source": [
    "timesvalues"
   ]
  },
  {
   "cell_type": "code",
   "execution_count": 64,
   "metadata": {},
   "outputs": [],
   "source": [
    "counts, rEdge = np.histogram(stories['created_utc'], bins = 25)"
   ]
  },
  {
   "cell_type": "code",
   "execution_count": 65,
   "metadata": {},
   "outputs": [],
   "source": [
    "times = stories['created_utc']\n"
   ]
  },
  {
   "cell_type": "code",
   "execution_count": 66,
   "metadata": {},
   "outputs": [],
   "source": [
    "if counts[0] > cutoff:\n",
    "    tSeries = 1*(rEdge[0] > times).to_numpy()\n",
    "else:\n",
    "    tSeries = 0\n",
    "    \n",
    "for i in range(1, len(counts)):\n",
    "    if counts[i] > cutoff:\n",
    "        tSeries += ((rEdge[i-1] <= times) & (rEdge[i] > times)).to_numpy()"
   ]
  },
  {
   "cell_type": "code",
   "execution_count": 67,
   "metadata": {},
   "outputs": [
    {
     "data": {
      "text/html": [
       "<div>\n",
       "<style scoped>\n",
       "    .dataframe tbody tr th:only-of-type {\n",
       "        vertical-align: middle;\n",
       "    }\n",
       "\n",
       "    .dataframe tbody tr th {\n",
       "        vertical-align: top;\n",
       "    }\n",
       "\n",
       "    .dataframe thead th {\n",
       "        text-align: right;\n",
       "    }\n",
       "</style>\n",
       "<table border=\"1\" class=\"dataframe\">\n",
       "  <thead>\n",
       "    <tr style=\"text-align: right;\">\n",
       "      <th></th>\n",
       "      <th>Times</th>\n",
       "      <th>Heatwave</th>\n",
       "    </tr>\n",
       "  </thead>\n",
       "  <tbody>\n",
       "    <tr>\n",
       "      <th>0</th>\n",
       "      <td>2014-05-25 16:42:24</td>\n",
       "      <td>0</td>\n",
       "    </tr>\n",
       "    <tr>\n",
       "      <th>1</th>\n",
       "      <td>2014-07-01 15:29:08</td>\n",
       "      <td>0</td>\n",
       "    </tr>\n",
       "    <tr>\n",
       "      <th>2</th>\n",
       "      <td>2014-07-18 05:07:04</td>\n",
       "      <td>0</td>\n",
       "    </tr>\n",
       "    <tr>\n",
       "      <th>3</th>\n",
       "      <td>2014-07-29 09:41:25</td>\n",
       "      <td>0</td>\n",
       "    </tr>\n",
       "    <tr>\n",
       "      <th>4</th>\n",
       "      <td>2014-09-17 02:09:19</td>\n",
       "      <td>0</td>\n",
       "    </tr>\n",
       "    <tr>\n",
       "      <th>...</th>\n",
       "      <td>...</td>\n",
       "      <td>...</td>\n",
       "    </tr>\n",
       "    <tr>\n",
       "      <th>9</th>\n",
       "      <td>2019-08-13 10:21:19</td>\n",
       "      <td>0</td>\n",
       "    </tr>\n",
       "    <tr>\n",
       "      <th>10</th>\n",
       "      <td>2019-08-13 20:02:04</td>\n",
       "      <td>0</td>\n",
       "    </tr>\n",
       "    <tr>\n",
       "      <th>11</th>\n",
       "      <td>2019-08-14 23:50:49</td>\n",
       "      <td>0</td>\n",
       "    </tr>\n",
       "    <tr>\n",
       "      <th>12</th>\n",
       "      <td>2019-09-08 20:12:48</td>\n",
       "      <td>0</td>\n",
       "    </tr>\n",
       "    <tr>\n",
       "      <th>13</th>\n",
       "      <td>2019-09-23 11:03:39</td>\n",
       "      <td>0</td>\n",
       "    </tr>\n",
       "  </tbody>\n",
       "</table>\n",
       "<p>214 rows × 2 columns</p>\n",
       "</div>"
      ],
      "text/plain": [
       "                 Times  Heatwave\n",
       "0  2014-05-25 16:42:24         0\n",
       "1  2014-07-01 15:29:08         0\n",
       "2  2014-07-18 05:07:04         0\n",
       "3  2014-07-29 09:41:25         0\n",
       "4  2014-09-17 02:09:19         0\n",
       "..                 ...       ...\n",
       "9  2019-08-13 10:21:19         0\n",
       "10 2019-08-13 20:02:04         0\n",
       "11 2019-08-14 23:50:49         0\n",
       "12 2019-09-08 20:12:48         0\n",
       "13 2019-09-23 11:03:39         0\n",
       "\n",
       "[214 rows x 2 columns]"
      ]
     },
     "execution_count": 67,
     "metadata": {},
     "output_type": "execute_result"
    }
   ],
   "source": [
    "pd.DataFrame({'Times': pd.to_datetime(times, unit = 's'), 'Heatwave' : tSeries})"
   ]
  },
  {
   "cell_type": "code",
   "execution_count": null,
   "metadata": {},
   "outputs": [],
   "source": []
  }
 ],
 "metadata": {
  "kernelspec": {
   "display_name": "Python 3.8.5 64-bit",
   "language": "python",
   "name": "python385jvsc74a57bd0916dbcbb3f70747c44a77c7bcd40155683ae19c65e1c03b4aa3499c5328201f1"
  },
  "language_info": {
   "codemirror_mode": {
    "name": "ipython",
    "version": 3
   },
   "file_extension": ".py",
   "mimetype": "text/x-python",
   "name": "python",
   "nbconvert_exporter": "python",
   "pygments_lexer": "ipython3",
   "version": "3.8.5"
  }
 },
 "nbformat": 4,
 "nbformat_minor": 4
}
