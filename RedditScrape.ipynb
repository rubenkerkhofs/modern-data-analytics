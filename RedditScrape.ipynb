{
 "cells": [
  {
   "cell_type": "code",
   "execution_count": 1,
   "metadata": {},
   "outputs": [],
   "source": [
    "import pandas as pd\n",
    "import requests\n",
    "import datetime\n",
    "import numpy as np\n",
    "from datetime import datetime\n",
    "import time\n",
    "import json"
   ]
  },
  {
   "cell_type": "code",
   "execution_count": 2,
   "metadata": {},
   "outputs": [],
   "source": [
    "base_url = 'https://api.pushshift.io/reddit/search/submission/'\n",
    "parameters = {'subreddit': 'completeanarchy', 'title' : 'ACAB'}"
   ]
  },
  {
   "cell_type": "code",
   "execution_count": 3,
   "metadata": {},
   "outputs": [],
   "source": [
    "r = requests.get(base_url, params = parameters)"
   ]
  },
  {
   "cell_type": "code",
   "execution_count": 4,
   "metadata": {},
   "outputs": [],
   "source": [
    "reddit_df = pd.DataFrame(r.json()['data'])"
   ]
  },
  {
   "cell_type": "code",
   "execution_count": 5,
   "metadata": {},
   "outputs": [],
   "source": [
    "def getPushshiftData(query, after, before, sub, endpoint = 'submission', size = 25):\n",
    "    url = 'https://api.pushshift.io/reddit/search/' + endpoint\n",
    "    parameters = {'subreddit': sub, 'title' : query, 'after' : str(after), 'before' : str(before), 'size': 500}\n",
    "    r = requests.get(url, parameters)\n",
    "    try:\n",
    "        data = r.json()\n",
    "    except:\n",
    "        data = {'data':[]}\n",
    "        \n",
    "    return data['data']"
   ]
  },
  {
   "cell_type": "code",
   "execution_count": 6,
   "metadata": {},
   "outputs": [],
   "source": [
    "def collectSubData(subm, subStats):\n",
    "    #subData = list() #list to store data points\n",
    "    \n",
    "    pd.DataFrame\n",
    "    title = subm['title']\n",
    "    url = subm['url']\n",
    "    \n",
    "    try:\n",
    "        flair = subm['link_flair_text']\n",
    "    except KeyError:\n",
    "        flair = \"NaN\"\n",
    "        \n",
    "    author = subm['author']\n",
    "    sub_id = subm['id']\n",
    "    score = subm['score']\n",
    "    created = datetime.datetime.fromtimestamp(subm['created_utc'])\n",
    "    numComms = subm['num_comments']\n",
    "    permalink = subm['permalink']\n",
    "    text = subm['selftext']\n",
    "    \n",
    "    subData.append((sub_id,title,url,author,score,created,numComms,permalink,flair))\n",
    "    subStats[sub_id] = subData"
   ]
  },
  {
   "cell_type": "code",
   "execution_count": 7,
   "metadata": {},
   "outputs": [],
   "source": [
    "def extractStats(data):\n",
    "    \n",
    "    subStats = {}\n",
    "    subCount = 0\n",
    "    \n",
    "    while len(data) > 0:\n",
    "        print(len(data))\n",
    "        for submission in data:\n",
    "            collectSubData(submission, subStats)\n",
    "            subCount+=1\n",
    "            \n",
    "        # Calls getPushshiftData() with the created date of the last submission\n",
    "        print(len(data))\n",
    "        print(str(datetime.datetime.fromtimestamp(data[-1]['created_utc'])))\n",
    "        after = data[-1]['created_utc']\n",
    "        data = getPushshiftData(query, after, before, sub)\n",
    "\n",
    "    print(len(data))\n",
    "    return(subStats)"
   ]
  },
  {
   "cell_type": "markdown",
   "metadata": {},
   "source": [
    "Code snippets from https://rareloot.medium.com/using-pushshifts-api-to-extract-reddit-submissions-fb517b286563"
   ]
  },
  {
   "cell_type": "code",
   "execution_count": 8,
   "metadata": {},
   "outputs": [],
   "source": [
    "def dt2unix(before, after, format = \"%Y/%m/%d\"):\n",
    "    # input: two strings in the form yyyy/mm/dd\n",
    "    # returns: tuple (before, after) as unix times\n",
    "    beforeUnix = time.mktime(datetime.strptime(before, format).timetuple())\n",
    "    afterUnix = time.mktime(datetime.strptime(after, format).timetuple())\n",
    "    \n",
    "    return(int(beforeUnix), int(afterUnix))"
   ]
  },
  {
   "cell_type": "code",
   "execution_count": 9,
   "metadata": {},
   "outputs": [],
   "source": [
    "query = 'ACAB'\n",
    "before = 1538352000 # \"1538352000\" #October 1st\n",
    "after = 1514764800  #January 1st \n",
    "before, after = dt2unix(\"2020/1/1\",\"2017/10/1\")\n",
    "sub = 'news'\n",
    "data = getPushshiftData(query, after, before, sub) # Will run until all posts have been gathered \n",
    "dataDF = pd.DataFrame(data)"
   ]
  },
  {
   "cell_type": "code",
   "execution_count": 10,
   "metadata": {},
   "outputs": [
    {
     "data": {
      "text/plain": [
       "Index(['all_awardings', 'allow_live_comments', 'author',\n",
       "       'author_flair_css_class', 'author_flair_richtext', 'author_flair_text',\n",
       "       'author_flair_type', 'author_fullname', 'author_patreon_flair',\n",
       "       'can_mod_post', 'contest_mode', 'created_utc', 'domain', 'full_link',\n",
       "       'gildings', 'id', 'is_crosspostable', 'is_meta', 'is_original_content',\n",
       "       'is_reddit_media_domain', 'is_robot_indexable', 'is_self', 'is_video',\n",
       "       'link_flair_background_color', 'link_flair_richtext',\n",
       "       'link_flair_text_color', 'link_flair_type', 'locked', 'media_only',\n",
       "       'no_follow', 'num_comments', 'num_crossposts', 'over_18',\n",
       "       'parent_whitelist_status', 'permalink', 'pinned', 'pwls',\n",
       "       'retrieved_on', 'score', 'selftext', 'send_replies', 'spoiler',\n",
       "       'stickied', 'subreddit', 'subreddit_id', 'subreddit_subscribers',\n",
       "       'subreddit_type', 'thumbnail', 'title', 'total_awards_received',\n",
       "       'updated_utc', 'url', 'whitelist_status', 'wls'],\n",
       "      dtype='object')"
      ]
     },
     "execution_count": 10,
     "metadata": {},
     "output_type": "execute_result"
    }
   ],
   "source": [
    "dataDF.keys()"
   ]
  },
  {
   "cell_type": "code",
   "execution_count": 11,
   "metadata": {},
   "outputs": [
    {
     "data": {
      "text/plain": [
       "0    https://www.reddit.com/r/news/comments/cnw6h5/...\n",
       "Name: full_link, dtype: object"
      ]
     },
     "execution_count": 11,
     "metadata": {},
     "output_type": "execute_result"
    }
   ],
   "source": [
    "dataDF['full_link']"
   ]
  },
  {
   "cell_type": "code",
   "execution_count": 12,
   "metadata": {},
   "outputs": [],
   "source": [
    "def extractData(data):\n",
    "    dataDF = pd.DataFrame(data)\n",
    "    toExtract = ['author',\n",
    "                 'subreddit',\n",
    "                  'created_utc',\n",
    "                  'full_link', \n",
    "                  'id', 'is_self', \n",
    "                  'is_video', \n",
    "                  'locked', \n",
    "                  'num_comments', \n",
    "                  'num_crossposts', \n",
    "                  'pinned', \n",
    "                  'score',\n",
    "                 'selftext',\n",
    "                  'title']\n",
    "    return(dataDF[toExtract])"
   ]
  },
  {
   "cell_type": "code",
   "execution_count": 13,
   "metadata": {},
   "outputs": [
    {
     "data": {
      "text/html": [
       "<div>\n",
       "<style scoped>\n",
       "    .dataframe tbody tr th:only-of-type {\n",
       "        vertical-align: middle;\n",
       "    }\n",
       "\n",
       "    .dataframe tbody tr th {\n",
       "        vertical-align: top;\n",
       "    }\n",
       "\n",
       "    .dataframe thead th {\n",
       "        text-align: right;\n",
       "    }\n",
       "</style>\n",
       "<table border=\"1\" class=\"dataframe\">\n",
       "  <thead>\n",
       "    <tr style=\"text-align: right;\">\n",
       "      <th></th>\n",
       "      <th>author</th>\n",
       "      <th>subreddit</th>\n",
       "      <th>created_utc</th>\n",
       "      <th>full_link</th>\n",
       "      <th>id</th>\n",
       "      <th>is_self</th>\n",
       "      <th>is_video</th>\n",
       "      <th>locked</th>\n",
       "      <th>num_comments</th>\n",
       "      <th>num_crossposts</th>\n",
       "      <th>pinned</th>\n",
       "      <th>score</th>\n",
       "      <th>selftext</th>\n",
       "      <th>title</th>\n",
       "    </tr>\n",
       "  </thead>\n",
       "  <tbody>\n",
       "    <tr>\n",
       "      <th>0</th>\n",
       "      <td>corburruto</td>\n",
       "      <td>news</td>\n",
       "      <td>1565318691</td>\n",
       "      <td>https://www.reddit.com/r/news/comments/cnw6h5/...</td>\n",
       "      <td>cnw6h5</td>\n",
       "      <td>False</td>\n",
       "      <td>False</td>\n",
       "      <td>False</td>\n",
       "      <td>0</td>\n",
       "      <td>0</td>\n",
       "      <td>False</td>\n",
       "      <td>1</td>\n",
       "      <td></td>\n",
       "      <td>Interesting read, Reddit will hate it because ...</td>\n",
       "    </tr>\n",
       "  </tbody>\n",
       "</table>\n",
       "</div>"
      ],
      "text/plain": [
       "       author subreddit  created_utc  \\\n",
       "0  corburruto      news   1565318691   \n",
       "\n",
       "                                           full_link      id  is_self  \\\n",
       "0  https://www.reddit.com/r/news/comments/cnw6h5/...  cnw6h5    False   \n",
       "\n",
       "   is_video  locked  num_comments  num_crossposts  pinned  score selftext  \\\n",
       "0     False   False             0               0   False      1            \n",
       "\n",
       "                                               title  \n",
       "0  Interesting read, Reddit will hate it because ...  "
      ]
     },
     "execution_count": 13,
     "metadata": {},
     "output_type": "execute_result"
    }
   ],
   "source": [
    "extractData(data)"
   ]
  },
  {
   "cell_type": "code",
   "execution_count": 14,
   "metadata": {},
   "outputs": [],
   "source": [
    "list_of_subs = ['completeanarchy']"
   ]
  },
  {
   "cell_type": "code",
   "execution_count": 15,
   "metadata": {},
   "outputs": [],
   "source": [
    "def getNews(query, after, before, sublist = ['news','worldnews','gunpolitics']):\n",
    "    combinedDF = pd.DataFrame()\n",
    "    for sub in sublist:\n",
    "        datai = getPushshiftData(query, after, before, sub)\n",
    "        while(len(datai) > 0):\n",
    "            dataj = extractData(datai)\n",
    "            combinedDF = combinedDF.append(dataj)\n",
    "            before = datai[-1]['created_utc']\n",
    "            print(before)\n",
    "            datai = getPushshiftData(query, after, before, sub)\n",
    "    return(combinedDF)"
   ]
  },
  {
   "cell_type": "code",
   "execution_count": 16,
   "metadata": {},
   "outputs": [
    {
     "name": "stdout",
     "output_type": "stream",
     "text": [
      "1569236619\n",
      "1567973568\n",
      "1565826649\n",
      "1565726524\n",
      "1565691679\n",
      "1565656413\n",
      "1565162417\n",
      "1565114840\n",
      "1564967955\n",
      "1564846833\n",
      "1564702023\n",
      "1564633117\n",
      "1564540891\n",
      "1564246379\n",
      "1564192155\n",
      "1564174422\n",
      "1564130414\n",
      "1564028834\n",
      "1564004212\n",
      "1563918625\n",
      "1563782727\n",
      "1563759654\n",
      "1563750848\n",
      "1563718626\n",
      "1563685221\n",
      "1563672279\n",
      "1563667722\n",
      "1563662019\n",
      "1563658359\n",
      "1563650947\n",
      "1563646307\n",
      "1563645944\n",
      "1563625089\n",
      "1563619396\n",
      "1563619301\n",
      "1563579193\n",
      "1563572204\n",
      "1563563359\n",
      "1563556262\n",
      "1563551376\n",
      "1563515802\n",
      "1563491613\n",
      "1563407265\n",
      "1563395829\n",
      "1563386819\n",
      "1563378454\n",
      "1563363457\n",
      "1562555719\n",
      "1562535669\n",
      "1562367699\n",
      "1562366841\n",
      "1562287800\n",
      "1562187561\n",
      "1562028071\n",
      "1561970258\n",
      "1561735618\n",
      "1561728147\n",
      "1561726263\n",
      "1561648800\n",
      "1561559623\n",
      "1561539279\n",
      "1561493014\n",
      "1561409020\n",
      "1561103917\n",
      "1560337492\n",
      "1558523953\n",
      "1557941608\n"
     ]
    }
   ],
   "source": [
    "after, before = dt2unix('2019/05/1', '2019/10/01')\n",
    "stories = getNews('heat wave', after, before)"
   ]
  },
  {
   "cell_type": "code",
   "execution_count": 17,
   "metadata": {},
   "outputs": [
    {
     "data": {
      "text/html": [
       "<div>\n",
       "<style scoped>\n",
       "    .dataframe tbody tr th:only-of-type {\n",
       "        vertical-align: middle;\n",
       "    }\n",
       "\n",
       "    .dataframe tbody tr th {\n",
       "        vertical-align: top;\n",
       "    }\n",
       "\n",
       "    .dataframe thead th {\n",
       "        text-align: right;\n",
       "    }\n",
       "</style>\n",
       "<table border=\"1\" class=\"dataframe\">\n",
       "  <thead>\n",
       "    <tr style=\"text-align: right;\">\n",
       "      <th></th>\n",
       "      <th>author</th>\n",
       "      <th>subreddit</th>\n",
       "      <th>created_utc</th>\n",
       "      <th>full_link</th>\n",
       "      <th>id</th>\n",
       "      <th>is_self</th>\n",
       "      <th>is_video</th>\n",
       "      <th>locked</th>\n",
       "      <th>num_comments</th>\n",
       "      <th>num_crossposts</th>\n",
       "      <th>pinned</th>\n",
       "      <th>score</th>\n",
       "      <th>selftext</th>\n",
       "      <th>title</th>\n",
       "    </tr>\n",
       "  </thead>\n",
       "  <tbody>\n",
       "    <tr>\n",
       "      <th>0</th>\n",
       "      <td>ToddBBates</td>\n",
       "      <td>news</td>\n",
       "      <td>1557941608</td>\n",
       "      <td>https://www.reddit.com/r/news/comments/bp0vq2/...</td>\n",
       "      <td>bp0vq2</td>\n",
       "      <td>False</td>\n",
       "      <td>False</td>\n",
       "      <td>False</td>\n",
       "      <td>0</td>\n",
       "      <td>0</td>\n",
       "      <td>False</td>\n",
       "      <td>1</td>\n",
       "      <td></td>\n",
       "      <td>Iceland Volcano Eruption in 1783-84 Did Not Sp...</td>\n",
       "    </tr>\n",
       "    <tr>\n",
       "      <th>1</th>\n",
       "      <td>drishtiias</td>\n",
       "      <td>news</td>\n",
       "      <td>1558523953</td>\n",
       "      <td>https://www.reddit.com/r/news/comments/brni3y/...</td>\n",
       "      <td>brni3y</td>\n",
       "      <td>False</td>\n",
       "      <td>False</td>\n",
       "      <td>False</td>\n",
       "      <td>0</td>\n",
       "      <td>0</td>\n",
       "      <td>False</td>\n",
       "      <td>1</td>\n",
       "      <td></td>\n",
       "      <td>Heat Wave Warning-Drishti IAS</td>\n",
       "    </tr>\n",
       "    <tr>\n",
       "      <th>2</th>\n",
       "      <td>BarelyLegalSeagull</td>\n",
       "      <td>news</td>\n",
       "      <td>1560337492</td>\n",
       "      <td>https://www.reddit.com/r/news/comments/bzptu7/...</td>\n",
       "      <td>bzptu7</td>\n",
       "      <td>False</td>\n",
       "      <td>False</td>\n",
       "      <td>False</td>\n",
       "      <td>204</td>\n",
       "      <td>0</td>\n",
       "      <td>False</td>\n",
       "      <td>879</td>\n",
       "      <td></td>\n",
       "      <td>Sweltering BART train reaches 107 degrees duri...</td>\n",
       "    </tr>\n",
       "    <tr>\n",
       "      <th>3</th>\n",
       "      <td>KevinSmith759</td>\n",
       "      <td>news</td>\n",
       "      <td>1561103917</td>\n",
       "      <td>https://www.reddit.com/r/news/comments/c37tle/...</td>\n",
       "      <td>c37tle</td>\n",
       "      <td>False</td>\n",
       "      <td>False</td>\n",
       "      <td>False</td>\n",
       "      <td>0</td>\n",
       "      <td>0</td>\n",
       "      <td>False</td>\n",
       "      <td>1</td>\n",
       "      <td></td>\n",
       "      <td>Summer Heat Wave: Repair or Replace the AC?</td>\n",
       "    </tr>\n",
       "    <tr>\n",
       "      <th>4</th>\n",
       "      <td>RaspyRock</td>\n",
       "      <td>news</td>\n",
       "      <td>1561409020</td>\n",
       "      <td>https://www.reddit.com/r/news/comments/c4vci3/...</td>\n",
       "      <td>c4vci3</td>\n",
       "      <td>False</td>\n",
       "      <td>False</td>\n",
       "      <td>False</td>\n",
       "      <td>25</td>\n",
       "      <td>0</td>\n",
       "      <td>False</td>\n",
       "      <td>19</td>\n",
       "      <td></td>\n",
       "      <td>Massive, record-breaking heat wave in the brin...</td>\n",
       "    </tr>\n",
       "    <tr>\n",
       "      <th>...</th>\n",
       "      <td>...</td>\n",
       "      <td>...</td>\n",
       "      <td>...</td>\n",
       "      <td>...</td>\n",
       "      <td>...</td>\n",
       "      <td>...</td>\n",
       "      <td>...</td>\n",
       "      <td>...</td>\n",
       "      <td>...</td>\n",
       "      <td>...</td>\n",
       "      <td>...</td>\n",
       "      <td>...</td>\n",
       "      <td>...</td>\n",
       "      <td>...</td>\n",
       "    </tr>\n",
       "    <tr>\n",
       "      <th>1</th>\n",
       "      <td>drishtiias</td>\n",
       "      <td>news</td>\n",
       "      <td>1558523953</td>\n",
       "      <td>https://www.reddit.com/r/news/comments/brni3y/...</td>\n",
       "      <td>brni3y</td>\n",
       "      <td>False</td>\n",
       "      <td>False</td>\n",
       "      <td>False</td>\n",
       "      <td>0</td>\n",
       "      <td>0</td>\n",
       "      <td>False</td>\n",
       "      <td>1</td>\n",
       "      <td></td>\n",
       "      <td>Heat Wave Warning-Drishti IAS</td>\n",
       "    </tr>\n",
       "    <tr>\n",
       "      <th>2</th>\n",
       "      <td>BarelyLegalSeagull</td>\n",
       "      <td>news</td>\n",
       "      <td>1560337492</td>\n",
       "      <td>https://www.reddit.com/r/news/comments/bzptu7/...</td>\n",
       "      <td>bzptu7</td>\n",
       "      <td>False</td>\n",
       "      <td>False</td>\n",
       "      <td>False</td>\n",
       "      <td>204</td>\n",
       "      <td>0</td>\n",
       "      <td>False</td>\n",
       "      <td>879</td>\n",
       "      <td></td>\n",
       "      <td>Sweltering BART train reaches 107 degrees duri...</td>\n",
       "    </tr>\n",
       "    <tr>\n",
       "      <th>0</th>\n",
       "      <td>ToddBBates</td>\n",
       "      <td>news</td>\n",
       "      <td>1557941608</td>\n",
       "      <td>https://www.reddit.com/r/news/comments/bp0vq2/...</td>\n",
       "      <td>bp0vq2</td>\n",
       "      <td>False</td>\n",
       "      <td>False</td>\n",
       "      <td>False</td>\n",
       "      <td>0</td>\n",
       "      <td>0</td>\n",
       "      <td>False</td>\n",
       "      <td>1</td>\n",
       "      <td></td>\n",
       "      <td>Iceland Volcano Eruption in 1783-84 Did Not Sp...</td>\n",
       "    </tr>\n",
       "    <tr>\n",
       "      <th>1</th>\n",
       "      <td>drishtiias</td>\n",
       "      <td>news</td>\n",
       "      <td>1558523953</td>\n",
       "      <td>https://www.reddit.com/r/news/comments/brni3y/...</td>\n",
       "      <td>brni3y</td>\n",
       "      <td>False</td>\n",
       "      <td>False</td>\n",
       "      <td>False</td>\n",
       "      <td>0</td>\n",
       "      <td>0</td>\n",
       "      <td>False</td>\n",
       "      <td>1</td>\n",
       "      <td></td>\n",
       "      <td>Heat Wave Warning-Drishti IAS</td>\n",
       "    </tr>\n",
       "    <tr>\n",
       "      <th>0</th>\n",
       "      <td>ToddBBates</td>\n",
       "      <td>news</td>\n",
       "      <td>1557941608</td>\n",
       "      <td>https://www.reddit.com/r/news/comments/bp0vq2/...</td>\n",
       "      <td>bp0vq2</td>\n",
       "      <td>False</td>\n",
       "      <td>False</td>\n",
       "      <td>False</td>\n",
       "      <td>0</td>\n",
       "      <td>0</td>\n",
       "      <td>False</td>\n",
       "      <td>1</td>\n",
       "      <td></td>\n",
       "      <td>Iceland Volcano Eruption in 1783-84 Did Not Sp...</td>\n",
       "    </tr>\n",
       "  </tbody>\n",
       "</table>\n",
       "<p>2278 rows × 14 columns</p>\n",
       "</div>"
      ],
      "text/plain": [
       "                author subreddit  created_utc  \\\n",
       "0           ToddBBates      news   1557941608   \n",
       "1           drishtiias      news   1558523953   \n",
       "2   BarelyLegalSeagull      news   1560337492   \n",
       "3        KevinSmith759      news   1561103917   \n",
       "4            RaspyRock      news   1561409020   \n",
       "..                 ...       ...          ...   \n",
       "1           drishtiias      news   1558523953   \n",
       "2   BarelyLegalSeagull      news   1560337492   \n",
       "0           ToddBBates      news   1557941608   \n",
       "1           drishtiias      news   1558523953   \n",
       "0           ToddBBates      news   1557941608   \n",
       "\n",
       "                                            full_link      id  is_self  \\\n",
       "0   https://www.reddit.com/r/news/comments/bp0vq2/...  bp0vq2    False   \n",
       "1   https://www.reddit.com/r/news/comments/brni3y/...  brni3y    False   \n",
       "2   https://www.reddit.com/r/news/comments/bzptu7/...  bzptu7    False   \n",
       "3   https://www.reddit.com/r/news/comments/c37tle/...  c37tle    False   \n",
       "4   https://www.reddit.com/r/news/comments/c4vci3/...  c4vci3    False   \n",
       "..                                                ...     ...      ...   \n",
       "1   https://www.reddit.com/r/news/comments/brni3y/...  brni3y    False   \n",
       "2   https://www.reddit.com/r/news/comments/bzptu7/...  bzptu7    False   \n",
       "0   https://www.reddit.com/r/news/comments/bp0vq2/...  bp0vq2    False   \n",
       "1   https://www.reddit.com/r/news/comments/brni3y/...  brni3y    False   \n",
       "0   https://www.reddit.com/r/news/comments/bp0vq2/...  bp0vq2    False   \n",
       "\n",
       "    is_video  locked  num_comments  num_crossposts  pinned  score selftext  \\\n",
       "0      False   False             0               0   False      1            \n",
       "1      False   False             0               0   False      1            \n",
       "2      False   False           204               0   False    879            \n",
       "3      False   False             0               0   False      1            \n",
       "4      False   False            25               0   False     19            \n",
       "..       ...     ...           ...             ...     ...    ...      ...   \n",
       "1      False   False             0               0   False      1            \n",
       "2      False   False           204               0   False    879            \n",
       "0      False   False             0               0   False      1            \n",
       "1      False   False             0               0   False      1            \n",
       "0      False   False             0               0   False      1            \n",
       "\n",
       "                                                title  \n",
       "0   Iceland Volcano Eruption in 1783-84 Did Not Sp...  \n",
       "1                       Heat Wave Warning-Drishti IAS  \n",
       "2   Sweltering BART train reaches 107 degrees duri...  \n",
       "3         Summer Heat Wave: Repair or Replace the AC?  \n",
       "4   Massive, record-breaking heat wave in the brin...  \n",
       "..                                                ...  \n",
       "1                       Heat Wave Warning-Drishti IAS  \n",
       "2   Sweltering BART train reaches 107 degrees duri...  \n",
       "0   Iceland Volcano Eruption in 1783-84 Did Not Sp...  \n",
       "1                       Heat Wave Warning-Drishti IAS  \n",
       "0   Iceland Volcano Eruption in 1783-84 Did Not Sp...  \n",
       "\n",
       "[2278 rows x 14 columns]"
      ]
     },
     "execution_count": 17,
     "metadata": {},
     "output_type": "execute_result"
    }
   ],
   "source": [
    "stories"
   ]
  },
  {
   "cell_type": "code",
   "execution_count": 18,
   "metadata": {},
   "outputs": [
    {
     "name": "stdout",
     "output_type": "stream",
     "text": [
      "1569880800 1556661600\n"
     ]
    }
   ],
   "source": [
    "print(before,after)"
   ]
  },
  {
   "cell_type": "code",
   "execution_count": 19,
   "metadata": {},
   "outputs": [
    {
     "data": {
      "text/plain": [
       "<matplotlib.axes._subplots.AxesSubplot at 0x7fb010e22130>"
      ]
     },
     "execution_count": 19,
     "metadata": {},
     "output_type": "execute_result"
    },
    {
     "data": {
      "image/png": "[encoded data removed]",
      "text/plain": [
       "<Figure size 432x288 with 1 Axes>"
      ]
     },
     "metadata": {
      "needs_background": "light"
     },
     "output_type": "display_data"
    }
   ],
   "source": [
    "stories['created_utc'].hist(bins = 25)"
   ]
  },
  {
   "cell_type": "code",
   "execution_count": 20,
   "metadata": {},
   "outputs": [],
   "source": [
    "p = stories['created_utc'].apply(datetime.fromtimestamp)"
   ]
  },
  {
   "cell_type": "code",
   "execution_count": 21,
   "metadata": {},
   "outputs": [],
   "source": [
    "q = p.value_counts()"
   ]
  },
  {
   "cell_type": "code",
   "execution_count": 22,
   "metadata": {},
   "outputs": [],
   "source": [
    "cutoff = 15"
   ]
  },
  {
   "cell_type": "code",
   "execution_count": 23,
   "metadata": {},
   "outputs": [],
   "source": [
    "timesvalues = q > cutoff"
   ]
  },
  {
   "cell_type": "code",
   "execution_count": 24,
   "metadata": {},
   "outputs": [
    {
     "data": {
      "text/plain": [
       "2019-05-15 19:33:28     True\n",
       "2019-05-22 13:19:13     True\n",
       "2019-06-12 13:04:52     True\n",
       "2019-06-21 09:58:37     True\n",
       "2019-06-24 22:43:40     True\n",
       "                       ...  \n",
       "2019-08-13 12:21:19    False\n",
       "2019-08-13 22:02:04    False\n",
       "2019-08-15 01:50:49    False\n",
       "2019-09-08 22:12:48    False\n",
       "2019-09-23 13:03:39    False\n",
       "Name: created_utc, Length: 67, dtype: bool"
      ]
     },
     "execution_count": 24,
     "metadata": {},
     "output_type": "execute_result"
    }
   ],
   "source": [
    "timesvalues"
   ]
  },
  {
   "cell_type": "code",
   "execution_count": 25,
   "metadata": {},
   "outputs": [],
   "source": [
    "counts, rEdge = np.histogram(stories['created_utc'], bins = 25)"
   ]
  },
  {
   "cell_type": "code",
   "execution_count": 27,
   "metadata": {},
   "outputs": [],
   "source": [
    "times = stories['created_utc']\n"
   ]
  },
  {
   "cell_type": "code",
   "execution_count": 28,
   "metadata": {},
   "outputs": [],
   "source": [
    "if counts[0] > cutoff:\n",
    "    tSeries = 1*(rEdge[0] > times).to_numpy()\n",
    "else:\n",
    "    tSeries = 0\n",
    "    \n",
    "for i in range(1, len(counts)):\n",
    "    if counts[i] > cutoff:\n",
    "        tSeries += ((rEdge[i-1] <= times) & (rEdge[i] > times)).to_numpy()"
   ]
  },
  {
   "cell_type": "code",
   "execution_count": 29,
   "metadata": {},
   "outputs": [
    {
     "data": {
      "text/html": [
       "<div>\n",
       "<style scoped>\n",
       "    .dataframe tbody tr th:only-of-type {\n",
       "        vertical-align: middle;\n",
       "    }\n",
       "\n",
       "    .dataframe tbody tr th {\n",
       "        vertical-align: top;\n",
       "    }\n",
       "\n",
       "    .dataframe thead th {\n",
       "        text-align: right;\n",
       "    }\n",
       "</style>\n",
       "<table border=\"1\" class=\"dataframe\">\n",
       "  <thead>\n",
       "    <tr style=\"text-align: right;\">\n",
       "      <th></th>\n",
       "      <th>Times</th>\n",
       "      <th>Heatwave</th>\n",
       "    </tr>\n",
       "  </thead>\n",
       "  <tbody>\n",
       "    <tr>\n",
       "      <th>0</th>\n",
       "      <td>2019-05-15 17:33:28</td>\n",
       "      <td>1</td>\n",
       "    </tr>\n",
       "    <tr>\n",
       "      <th>1</th>\n",
       "      <td>2019-05-22 11:19:13</td>\n",
       "      <td>0</td>\n",
       "    </tr>\n",
       "    <tr>\n",
       "      <th>2</th>\n",
       "      <td>2019-06-12 11:04:52</td>\n",
       "      <td>1</td>\n",
       "    </tr>\n",
       "    <tr>\n",
       "      <th>3</th>\n",
       "      <td>2019-06-21 07:58:37</td>\n",
       "      <td>1</td>\n",
       "    </tr>\n",
       "    <tr>\n",
       "      <th>4</th>\n",
       "      <td>2019-06-24 20:43:40</td>\n",
       "      <td>1</td>\n",
       "    </tr>\n",
       "    <tr>\n",
       "      <th>...</th>\n",
       "      <td>...</td>\n",
       "      <td>...</td>\n",
       "    </tr>\n",
       "    <tr>\n",
       "      <th>1</th>\n",
       "      <td>2019-05-22 11:19:13</td>\n",
       "      <td>0</td>\n",
       "    </tr>\n",
       "    <tr>\n",
       "      <th>2</th>\n",
       "      <td>2019-06-12 11:04:52</td>\n",
       "      <td>1</td>\n",
       "    </tr>\n",
       "    <tr>\n",
       "      <th>0</th>\n",
       "      <td>2019-05-15 17:33:28</td>\n",
       "      <td>1</td>\n",
       "    </tr>\n",
       "    <tr>\n",
       "      <th>1</th>\n",
       "      <td>2019-05-22 11:19:13</td>\n",
       "      <td>0</td>\n",
       "    </tr>\n",
       "    <tr>\n",
       "      <th>0</th>\n",
       "      <td>2019-05-15 17:33:28</td>\n",
       "      <td>1</td>\n",
       "    </tr>\n",
       "  </tbody>\n",
       "</table>\n",
       "<p>2278 rows × 2 columns</p>\n",
       "</div>"
      ],
      "text/plain": [
       "                 Times  Heatwave\n",
       "0  2019-05-15 17:33:28         1\n",
       "1  2019-05-22 11:19:13         0\n",
       "2  2019-06-12 11:04:52         1\n",
       "3  2019-06-21 07:58:37         1\n",
       "4  2019-06-24 20:43:40         1\n",
       "..                 ...       ...\n",
       "1  2019-05-22 11:19:13         0\n",
       "2  2019-06-12 11:04:52         1\n",
       "0  2019-05-15 17:33:28         1\n",
       "1  2019-05-22 11:19:13         0\n",
       "0  2019-05-15 17:33:28         1\n",
       "\n",
       "[2278 rows x 2 columns]"
      ]
     },
     "execution_count": 29,
     "metadata": {},
     "output_type": "execute_result"
    }
   ],
   "source": [
    "pd.DataFrame({'Times': pd.to_datetime(times, unit = 's'), 'Heatwave' : tSeries})"
   ]
  }
 ],
 "metadata": {
  "kernelspec": {
   "display_name": "Python 3.8.5 64-bit",
   "language": "python",
   "name": "python385jvsc74a57bd0916dbcbb3f70747c44a77c7bcd40155683ae19c65e1c03b4aa3499c5328201f1"
  },
  "language_info": {
   "codemirror_mode": {
    "name": "ipython",
    "version": 3
   },
   "file_extension": ".py",
   "mimetype": "text/x-python",
   "name": "python",
   "nbconvert_exporter": "python",
   "pygments_lexer": "ipython3",
   "version": "3.8.5"
  }
 },
 "nbformat": 4,
 "nbformat_minor": 4
}
