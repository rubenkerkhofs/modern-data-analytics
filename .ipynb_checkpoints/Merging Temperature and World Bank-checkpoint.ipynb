{
 "cells": [
  {
   "cell_type": "code",
   "execution_count": 2,
   "metadata": {},
   "outputs": [],
   "source": [
    "import pandas as pd\n",
    "import numpy as np\n",
    "import xarray as xr\n",
    "import io\n",
    "import urllib.request\n",
    "import datetime\n",
    "import gzip\n",
    "import geopandas\n",
    "import geopandas as gpd\n",
    "import os\n",
    "import zipfile as zf\n",
    "import shapefile\n",
    "from shapely.geometry import shape\n",
    "#Api world bank\n",
    "import wbdata as wb"
   ]
  },
  {
   "cell_type": "markdown",
   "metadata": {},
   "source": [
    "Using the World Bank API to import economic indicators, such as the GPD per capita"
   ]
  },
  {
   "cell_type": "code",
   "execution_count": 2,
   "metadata": {},
   "outputs": [],
   "source": [
    "#GDP ppc and indicator data from World Bank API\n",
    "indicators = {\"NY.GDP.PCAP.PP.KD\": \"gdppc\"}\n",
    "wbdf = wb.get_dataframe(indicators=indicators, country=\"all\", convert_date=True)\n",
    "wbdf = pd.DataFrame.reset_index(wbdf, level=None, drop=False, inplace=False, col_level=0, col_fill='')"
   ]
  },
  {
   "cell_type": "markdown",
   "metadata": {},
   "source": [
    "Importing the world borders polygon file, in order to be able to map coordinates to their country locations"
   ]
  },
  {
   "cell_type": "code",
   "execution_count": 3,
   "metadata": {},
   "outputs": [],
   "source": [
    "zp = zf.ZipFile('TM_WORLD_BORDERS-0.3.zip')\n",
    "files_to_read = [y for y in zp.namelist() for ending in ['dbf', 'prj', 'shp', 'shx'] if y.endswith(ending)]\n",
    "dummy = zp.read(files_to_read[0])\n",
    "dbf_file, prj_file, shp_file, shx_file = [zp.open(filename) for filename in files_to_read]\n",
    "r = shapefile.Reader(shp = shp_file, shx = shx_file, dbf = dbf_file, encoding='windows-1252')\n",
    "attributes, geometry = [], []\n",
    "field_names = [field[0] for field in r.fields[1:]]\n",
    "for row in r.shapeRecords():\n",
    "    geometry.append(shape(row.shape.__geo_interface__))\n",
    "    attributes.append(dict(zip(field_names, row.record)))"
   ]
  },
  {
   "cell_type": "markdown",
   "metadata": {},
   "source": [
    "Using a web request to scrape the temperature anomalies dataset from NASA"
   ]
  },
  {
   "cell_type": "code",
   "execution_count": 4,
   "metadata": {},
   "outputs": [],
   "source": [
    "url = \"https://data.giss.nasa.gov/pub/gistemp/gistemp1200_GHCNv4_ERSSTv5.nc.gz\"\n",
    "req = urllib.request.Request(url)\n",
    "with gzip.open(urllib.request.urlopen(req)) as resp:\n",
    "    xr_df = xr.open_dataset(io.BytesIO(resp.read()))\n",
    "dfnasa = xr_df.to_dataframe()\n",
    "#Transforming into pandas dataframe\n",
    "dfnasa = dfnasa.reset_index()\n",
    "#dfnasa.to_csv(\"nasa_temperature.csv\")"
   ]
  },
  {
   "cell_type": "code",
   "execution_count": 3,
   "metadata": {},
   "outputs": [
    {
     "data": {
      "text/plain": [
       "'\\nurl = \"https://data.giss.nasa.gov/pub/gistemp/gistemp250_GHCNv4.nc.gz\"\\nreq = urllib.request.Request(url)\\nwith gzip.open(urllib.request.urlopen(req)) as resp:\\n    xr_df2 = xr.open_dataset(io.BytesIO(resp.read()))\\ndfnasa2 = xr_df2.to_dataframe()\\ndfnasa2 = dfnasa2.reset_index()\\n#dfnasa.to_csv(\"nasa_temperature.csv\")\\ndfnasa2.head()\\n'"
      ]
     },
     "execution_count": 3,
     "metadata": {},
     "output_type": "execute_result"
    }
   ],
   "source": [
    "'''\n",
    "url = \"https://data.giss.nasa.gov/pub/gistemp/gistemp250_GHCNv4.nc.gz\"\n",
    "req = urllib.request.Request(url)\n",
    "with gzip.open(urllib.request.urlopen(req)) as resp:\n",
    "    xr_df2 = xr.open_dataset(io.BytesIO(resp.read()))\n",
    "dfnasa2 = xr_df2.to_dataframe()\n",
    "dfnasa2 = dfnasa2.reset_index()\n",
    "#dfnasa.to_csv(\"nasa_temperature.csv\")\n",
    "dfnasa2.head()\n",
    "'''"
   ]
  },
  {
   "cell_type": "code",
   "execution_count": 9,
   "metadata": {},
   "outputs": [],
   "source": [
    "dfnasa80 = dfnasa[dfnasa['time'].astype(str) >= \"1980-01-01\"]"
   ]
  },
  {
   "cell_type": "code",
   "execution_count": 10,
   "metadata": {},
   "outputs": [],
   "source": [
    "dfnasa80.to_csv(\"nasa_temperature.csv\")"
   ]
  },
  {
   "cell_type": "code",
   "execution_count": 2,
   "metadata": {},
   "outputs": [],
   "source": [
    "dfnasa80 = pd.read_csv(\"nasa_temperature.csv\")"
   ]
  },
  {
   "cell_type": "code",
   "execution_count": 10,
   "metadata": {},
   "outputs": [
    {
     "data": {
      "text/plain": [
       "geopandas.geodataframe.GeoDataFrame"
      ]
     },
     "execution_count": 10,
     "metadata": {},
     "output_type": "execute_result"
    }
   ],
   "source": [
    "CountryDF = geopandas.read_file(\"TM_WORLD_BORDERS-0.3.shp\")\n",
    "type(CountryDF)"
   ]
  },
  {
   "cell_type": "code",
   "execution_count": 11,
   "metadata": {},
   "outputs": [],
   "source": [
    "#df1 = pd.DataFrame(CountryDF)"
   ]
  },
  {
   "cell_type": "code",
   "execution_count": 2,
   "metadata": {},
   "outputs": [
    {
     "name": "stdout",
     "output_type": "stream",
     "text": [
      "FR\n"
     ]
    }
   ],
   "source": [
    "\n",
    "cc = countries2.CountryChecker('TM_WORLD_BORDERS-0.3.shp')\n",
    "print(cc.getCountry(countries2.Point(49.7821, 3.5708)).iso)"
   ]
  },
  {
   "cell_type": "code",
   "execution_count": 21,
   "metadata": {},
   "outputs": [
    {
     "name": "stdout",
     "output_type": "stream",
     "text": [
      "France\n"
     ]
    }
   ],
   "source": [
    "print(cc.getCountry(countries2.Point(49.7821, 3.5708)).name1)"
   ]
  },
  {
   "cell_type": "code",
   "execution_count": 24,
   "metadata": {},
   "outputs": [
    {
     "data": {
      "text/plain": [
       "'France'"
      ]
     },
     "execution_count": 24,
     "metadata": {},
     "output_type": "execute_result"
    }
   ],
   "source": [
    "cc.getCountry(countries2.Point(49.7821, 3.5708)).name1"
   ]
  },
  {
   "cell_type": "code",
   "execution_count": 33,
   "metadata": {},
   "outputs": [
    {
     "data": {
      "text/plain": [
       "'China'"
      ]
     },
     "execution_count": 33,
     "metadata": {},
     "output_type": "execute_result"
    }
   ],
   "source": [
    "cc.getCountry(countries2.Point(29, 109)).name1"
   ]
  },
  {
   "cell_type": "code",
   "execution_count": 3,
   "metadata": {},
   "outputs": [],
   "source": [
    "def countryName(lat, lon):\n",
    "    global pbar\n",
    "    pbar.update(1)\n",
    "    import countries2\n",
    "    try:\n",
    "        cc = countries2.CountryChecker('TM_WORLD_BORDERS-0.3.shp')\n",
    "        return cc.getCountry(countries2.Point(lat,lon)).name1\n",
    "    except:\n",
    "        nocountry = \"International territory\"\n",
    "        return nocountry"
   ]
  },
  {
   "cell_type": "code",
   "execution_count": 9,
   "metadata": {},
   "outputs": [],
   "source": [
    "dfnasa1 = dfnasa80.sample(10)"
   ]
  },
  {
   "cell_type": "code",
   "execution_count": 37,
   "metadata": {},
   "outputs": [
    {
     "data": {
      "text/plain": [
       "'Australia'"
      ]
     },
     "execution_count": 37,
     "metadata": {},
     "output_type": "execute_result"
    }
   ],
   "source": [
    "countryName(-33,151)"
   ]
  },
  {
   "cell_type": "code",
   "execution_count": 49,
   "metadata": {},
   "outputs": [
    {
     "data": {
      "text/html": [
       "<div>\n",
       "<style scoped>\n",
       "    .dataframe tbody tr th:only-of-type {\n",
       "        vertical-align: middle;\n",
       "    }\n",
       "\n",
       "    .dataframe tbody tr th {\n",
       "        vertical-align: top;\n",
       "    }\n",
       "\n",
       "    .dataframe thead th {\n",
       "        text-align: right;\n",
       "    }\n",
       "</style>\n",
       "<table border=\"1\" class=\"dataframe\">\n",
       "  <thead>\n",
       "    <tr style=\"text-align: right;\">\n",
       "      <th></th>\n",
       "      <th>lat</th>\n",
       "      <th>lon</th>\n",
       "      <th>nv</th>\n",
       "      <th>time</th>\n",
       "      <th>time_bnds</th>\n",
       "      <th>tempanomaly</th>\n",
       "    </tr>\n",
       "  </thead>\n",
       "  <tbody>\n",
       "    <tr>\n",
       "      <th>47280065</th>\n",
       "      <td>65.0</td>\n",
       "      <td>-23.0</td>\n",
       "      <td>1</td>\n",
       "      <td>1936-02-15</td>\n",
       "      <td>1936-03-01</td>\n",
       "      <td>-1.35</td>\n",
       "    </tr>\n",
       "    <tr>\n",
       "      <th>3844327</th>\n",
       "      <td>-77.0</td>\n",
       "      <td>-73.0</td>\n",
       "      <td>0</td>\n",
       "      <td>1979-04-15</td>\n",
       "      <td>1979-04-01</td>\n",
       "      <td>3.54</td>\n",
       "    </tr>\n",
       "    <tr>\n",
       "      <th>39560470</th>\n",
       "      <td>39.0</td>\n",
       "      <td>105.0</td>\n",
       "      <td>1</td>\n",
       "      <td>1985-11-15</td>\n",
       "      <td>1985-12-01</td>\n",
       "      <td>-0.72</td>\n",
       "    </tr>\n",
       "    <tr>\n",
       "      <th>38021417</th>\n",
       "      <td>35.0</td>\n",
       "      <td>-81.0</td>\n",
       "      <td>0</td>\n",
       "      <td>1920-10-15</td>\n",
       "      <td>1920-10-01</td>\n",
       "      <td>1.53</td>\n",
       "    </tr>\n",
       "    <tr>\n",
       "      <th>29864957</th>\n",
       "      <td>7.0</td>\n",
       "      <td>149.0</td>\n",
       "      <td>1</td>\n",
       "      <td>1887-10-15</td>\n",
       "      <td>1887-11-01</td>\n",
       "      <td>0.33</td>\n",
       "    </tr>\n",
       "    <tr>\n",
       "      <th>47859868</th>\n",
       "      <td>67.0</td>\n",
       "      <td>-41.0</td>\n",
       "      <td>1</td>\n",
       "      <td>1917-01-15</td>\n",
       "      <td>1917-02-01</td>\n",
       "      <td>3.15</td>\n",
       "    </tr>\n",
       "    <tr>\n",
       "      <th>9939514</th>\n",
       "      <td>-57.0</td>\n",
       "      <td>-79.0</td>\n",
       "      <td>0</td>\n",
       "      <td>1959-07-15</td>\n",
       "      <td>1959-07-01</td>\n",
       "      <td>-0.57</td>\n",
       "    </tr>\n",
       "    <tr>\n",
       "      <th>51717678</th>\n",
       "      <td>79.0</td>\n",
       "      <td>73.0</td>\n",
       "      <td>1</td>\n",
       "      <td>2009-03-15</td>\n",
       "      <td>2009-04-01</td>\n",
       "      <td>0.21</td>\n",
       "    </tr>\n",
       "    <tr>\n",
       "      <th>48252699</th>\n",
       "      <td>69.0</td>\n",
       "      <td>-169.0</td>\n",
       "      <td>0</td>\n",
       "      <td>2004-12-15</td>\n",
       "      <td>2004-12-01</td>\n",
       "      <td>3.17</td>\n",
       "    </tr>\n",
       "    <tr>\n",
       "      <th>33995796</th>\n",
       "      <td>21.0</td>\n",
       "      <td>65.0</td>\n",
       "      <td>0</td>\n",
       "      <td>1977-09-15</td>\n",
       "      <td>1977-09-01</td>\n",
       "      <td>0.33</td>\n",
       "    </tr>\n",
       "  </tbody>\n",
       "</table>\n",
       "</div>"
      ],
      "text/plain": [
       "           lat    lon  nv       time  time_bnds  tempanomaly\n",
       "47280065  65.0  -23.0   1 1936-02-15 1936-03-01        -1.35\n",
       "3844327  -77.0  -73.0   0 1979-04-15 1979-04-01         3.54\n",
       "39560470  39.0  105.0   1 1985-11-15 1985-12-01        -0.72\n",
       "38021417  35.0  -81.0   0 1920-10-15 1920-10-01         1.53\n",
       "29864957   7.0  149.0   1 1887-10-15 1887-11-01         0.33\n",
       "47859868  67.0  -41.0   1 1917-01-15 1917-02-01         3.15\n",
       "9939514  -57.0  -79.0   0 1959-07-15 1959-07-01        -0.57\n",
       "51717678  79.0   73.0   1 2009-03-15 2009-04-01         0.21\n",
       "48252699  69.0 -169.0   0 2004-12-15 2004-12-01         3.17\n",
       "33995796  21.0   65.0   0 1977-09-15 1977-09-01         0.33"
      ]
     },
     "execution_count": 49,
     "metadata": {},
     "output_type": "execute_result"
    }
   ],
   "source": [
    "dfnasa1"
   ]
  },
  {
   "cell_type": "code",
   "execution_count": 9,
   "metadata": {},
   "outputs": [
    {
     "data": {
      "text/plain": [
       "23.0"
      ]
     },
     "execution_count": 9,
     "metadata": {},
     "output_type": "execute_result"
    }
   ],
   "source": [
    "dfnasa.iloc[5839736, 1]"
   ]
  },
  {
   "cell_type": "code",
   "execution_count": 56,
   "metadata": {},
   "outputs": [
    {
     "name": "stderr",
     "output_type": "stream",
     "text": [
      "my bar!: 100%|█████████████████████████████████████████████████████████████████████████| 10/10 [00:00<00:00, 14.43it/s]\n"
     ]
    }
   ],
   "source": [
    "dfnasa80['country']=dfnasa80.progress_apply(lambda x: countryName(x['lat'],x['lon']),axis=1)"
   ]
  },
  {
   "cell_type": "code",
   "execution_count": 4,
   "metadata": {},
   "outputs": [
    {
     "data": {
      "text/html": [
       "<div>\n",
       "<style scoped>\n",
       "    .dataframe tbody tr th:only-of-type {\n",
       "        vertical-align: middle;\n",
       "    }\n",
       "\n",
       "    .dataframe tbody tr th {\n",
       "        vertical-align: top;\n",
       "    }\n",
       "\n",
       "    .dataframe thead th {\n",
       "        text-align: right;\n",
       "    }\n",
       "</style>\n",
       "<table border=\"1\" class=\"dataframe\">\n",
       "  <thead>\n",
       "    <tr style=\"text-align: right;\">\n",
       "      <th></th>\n",
       "      <th>lat</th>\n",
       "      <th>lon</th>\n",
       "      <th>nv</th>\n",
       "      <th>tempanomaly</th>\n",
       "    </tr>\n",
       "  </thead>\n",
       "  <tbody>\n",
       "    <tr>\n",
       "      <th>count</th>\n",
       "      <td>5.495040e+07</td>\n",
       "      <td>5.495040e+07</td>\n",
       "      <td>54950400.0</td>\n",
       "      <td>1.753933e+07</td>\n",
       "    </tr>\n",
       "    <tr>\n",
       "      <th>mean</th>\n",
       "      <td>0.000000e+00</td>\n",
       "      <td>0.000000e+00</td>\n",
       "      <td>0.5</td>\n",
       "      <td>2.399470e-01</td>\n",
       "    </tr>\n",
       "    <tr>\n",
       "      <th>std</th>\n",
       "      <td>5.195832e+01</td>\n",
       "      <td>1.039214e+02</td>\n",
       "      <td>0.5</td>\n",
       "      <td>1.997033e+00</td>\n",
       "    </tr>\n",
       "    <tr>\n",
       "      <th>min</th>\n",
       "      <td>-8.900000e+01</td>\n",
       "      <td>-1.790000e+02</td>\n",
       "      <td>0.0</td>\n",
       "      <td>-2.000000e+01</td>\n",
       "    </tr>\n",
       "    <tr>\n",
       "      <th>25%</th>\n",
       "      <td>-4.500000e+01</td>\n",
       "      <td>-8.950000e+01</td>\n",
       "      <td>0.0</td>\n",
       "      <td>-7.000000e-01</td>\n",
       "    </tr>\n",
       "    <tr>\n",
       "      <th>50%</th>\n",
       "      <td>0.000000e+00</td>\n",
       "      <td>0.000000e+00</td>\n",
       "      <td>0.5</td>\n",
       "      <td>1.800000e-01</td>\n",
       "    </tr>\n",
       "    <tr>\n",
       "      <th>75%</th>\n",
       "      <td>4.500000e+01</td>\n",
       "      <td>8.950000e+01</td>\n",
       "      <td>1.0</td>\n",
       "      <td>1.130000e+00</td>\n",
       "    </tr>\n",
       "    <tr>\n",
       "      <th>max</th>\n",
       "      <td>8.900000e+01</td>\n",
       "      <td>1.790000e+02</td>\n",
       "      <td>1.0</td>\n",
       "      <td>1.904000e+01</td>\n",
       "    </tr>\n",
       "  </tbody>\n",
       "</table>\n",
       "</div>"
      ],
      "text/plain": [
       "                lat           lon          nv   tempanomaly\n",
       "count  5.495040e+07  5.495040e+07  54950400.0  1.753933e+07\n",
       "mean   0.000000e+00  0.000000e+00         0.5  2.399470e-01\n",
       "std    5.195832e+01  1.039214e+02         0.5  1.997033e+00\n",
       "min   -8.900000e+01 -1.790000e+02         0.0 -2.000000e+01\n",
       "25%   -4.500000e+01 -8.950000e+01         0.0 -7.000000e-01\n",
       "50%    0.000000e+00  0.000000e+00         0.5  1.800000e-01\n",
       "75%    4.500000e+01  8.950000e+01         1.0  1.130000e+00\n",
       "max    8.900000e+01  1.790000e+02         1.0  1.904000e+01"
      ]
     },
     "execution_count": 4,
     "metadata": {},
     "output_type": "execute_result"
    }
   ],
   "source": [
    "dfnasa.describe()"
   ]
  },
  {
   "cell_type": "code",
   "execution_count": 4,
   "metadata": {},
   "outputs": [],
   "source": [
    "from tqdm import tqdm"
   ]
  },
  {
   "cell_type": "code",
   "execution_count": 55,
   "metadata": {},
   "outputs": [],
   "source": [
    "# Register `pandas.progress_apply` and `pandas.Series.map_apply` with `tqdm`\n",
    "# (can use `tqdm_gui`, `tqdm_notebook`, optional kwargs, etc.)\n",
    "tqdm.pandas(desc=\"my bar!\")"
   ]
  },
  {
   "cell_type": "code",
   "execution_count": 13,
   "metadata": {},
   "outputs": [],
   "source": [
    "dfnasa1['country'] = np.vectorize(countryName(dfnasa1['lat'], dfnasa1['lon']))"
   ]
  },
  {
   "cell_type": "code",
   "execution_count": 14,
   "metadata": {},
   "outputs": [
    {
     "data": {
      "text/html": [
       "<div>\n",
       "<style scoped>\n",
       "    .dataframe tbody tr th:only-of-type {\n",
       "        vertical-align: middle;\n",
       "    }\n",
       "\n",
       "    .dataframe tbody tr th {\n",
       "        vertical-align: top;\n",
       "    }\n",
       "\n",
       "    .dataframe thead th {\n",
       "        text-align: right;\n",
       "    }\n",
       "</style>\n",
       "<table border=\"1\" class=\"dataframe\">\n",
       "  <thead>\n",
       "    <tr style=\"text-align: right;\">\n",
       "      <th></th>\n",
       "      <th>lat</th>\n",
       "      <th>lon</th>\n",
       "      <th>nv</th>\n",
       "      <th>time</th>\n",
       "      <th>time_bnds</th>\n",
       "      <th>tempanomaly</th>\n",
       "      <th>country</th>\n",
       "    </tr>\n",
       "  </thead>\n",
       "  <tbody>\n",
       "    <tr>\n",
       "      <th>41869540</th>\n",
       "      <td>47.0</td>\n",
       "      <td>27.0</td>\n",
       "      <td>1</td>\n",
       "      <td>1912-05-15</td>\n",
       "      <td>1912-06-01</td>\n",
       "      <td>-1.44</td>\n",
       "      <td>&lt;numpy.vectorize object at 0x0000022561C9EDC0&gt;</td>\n",
       "    </tr>\n",
       "    <tr>\n",
       "      <th>26155256</th>\n",
       "      <td>-5.0</td>\n",
       "      <td>121.0</td>\n",
       "      <td>1</td>\n",
       "      <td>1983-05-15</td>\n",
       "      <td>1983-06-01</td>\n",
       "      <td>0.31</td>\n",
       "      <td>&lt;numpy.vectorize object at 0x0000022561C9EDC0&gt;</td>\n",
       "    </tr>\n",
       "    <tr>\n",
       "      <th>52565026</th>\n",
       "      <td>83.0</td>\n",
       "      <td>-147.0</td>\n",
       "      <td>1</td>\n",
       "      <td>1954-11-15</td>\n",
       "      <td>1954-12-01</td>\n",
       "      <td>3.16</td>\n",
       "      <td>&lt;numpy.vectorize object at 0x0000022561C9EDC0&gt;</td>\n",
       "    </tr>\n",
       "    <tr>\n",
       "      <th>36020056</th>\n",
       "      <td>27.0</td>\n",
       "      <td>179.0</td>\n",
       "      <td>0</td>\n",
       "      <td>1914-01-15</td>\n",
       "      <td>1914-01-01</td>\n",
       "      <td>0.18</td>\n",
       "      <td>&lt;numpy.vectorize object at 0x0000022561C9EDC0&gt;</td>\n",
       "    </tr>\n",
       "    <tr>\n",
       "      <th>52570324</th>\n",
       "      <td>83.0</td>\n",
       "      <td>-143.0</td>\n",
       "      <td>0</td>\n",
       "      <td>1972-05-15</td>\n",
       "      <td>1972-05-01</td>\n",
       "      <td>-2.02</td>\n",
       "      <td>&lt;numpy.vectorize object at 0x0000022561C9EDC0&gt;</td>\n",
       "    </tr>\n",
       "    <tr>\n",
       "      <th>15597387</th>\n",
       "      <td>-39.0</td>\n",
       "      <td>17.0</td>\n",
       "      <td>0</td>\n",
       "      <td>1960-12-15</td>\n",
       "      <td>1960-12-01</td>\n",
       "      <td>0.28</td>\n",
       "      <td>&lt;numpy.vectorize object at 0x0000022561C9EDC0&gt;</td>\n",
       "    </tr>\n",
       "    <tr>\n",
       "      <th>38917449</th>\n",
       "      <td>37.0</td>\n",
       "      <td>87.0</td>\n",
       "      <td>0</td>\n",
       "      <td>1966-02-15</td>\n",
       "      <td>1966-02-01</td>\n",
       "      <td>2.55</td>\n",
       "      <td>&lt;numpy.vectorize object at 0x0000022561C9EDC0&gt;</td>\n",
       "    </tr>\n",
       "    <tr>\n",
       "      <th>5736173</th>\n",
       "      <td>-71.0</td>\n",
       "      <td>-37.0</td>\n",
       "      <td>0</td>\n",
       "      <td>1905-02-15</td>\n",
       "      <td>1905-02-01</td>\n",
       "      <td>-1.90</td>\n",
       "      <td>&lt;numpy.vectorize object at 0x0000022561C9EDC0&gt;</td>\n",
       "    </tr>\n",
       "    <tr>\n",
       "      <th>45037598</th>\n",
       "      <td>57.0</td>\n",
       "      <td>95.0</td>\n",
       "      <td>1</td>\n",
       "      <td>1906-07-15</td>\n",
       "      <td>1906-08-01</td>\n",
       "      <td>-2.26</td>\n",
       "      <td>&lt;numpy.vectorize object at 0x0000022561C9EDC0&gt;</td>\n",
       "    </tr>\n",
       "    <tr>\n",
       "      <th>15249930</th>\n",
       "      <td>-41.0</td>\n",
       "      <td>171.0</td>\n",
       "      <td>1</td>\n",
       "      <td>1979-07-15</td>\n",
       "      <td>1979-08-01</td>\n",
       "      <td>0.62</td>\n",
       "      <td>&lt;numpy.vectorize object at 0x0000022561C9EDC0&gt;</td>\n",
       "    </tr>\n",
       "  </tbody>\n",
       "</table>\n",
       "</div>"
      ],
      "text/plain": [
       "           lat    lon  nv       time  time_bnds  tempanomaly  \\\n",
       "41869540  47.0   27.0   1 1912-05-15 1912-06-01        -1.44   \n",
       "26155256  -5.0  121.0   1 1983-05-15 1983-06-01         0.31   \n",
       "52565026  83.0 -147.0   1 1954-11-15 1954-12-01         3.16   \n",
       "36020056  27.0  179.0   0 1914-01-15 1914-01-01         0.18   \n",
       "52570324  83.0 -143.0   0 1972-05-15 1972-05-01        -2.02   \n",
       "15597387 -39.0   17.0   0 1960-12-15 1960-12-01         0.28   \n",
       "38917449  37.0   87.0   0 1966-02-15 1966-02-01         2.55   \n",
       "5736173  -71.0  -37.0   0 1905-02-15 1905-02-01        -1.90   \n",
       "45037598  57.0   95.0   1 1906-07-15 1906-08-01        -2.26   \n",
       "15249930 -41.0  171.0   1 1979-07-15 1979-08-01         0.62   \n",
       "\n",
       "                                                 country  \n",
       "41869540  <numpy.vectorize object at 0x0000022561C9EDC0>  \n",
       "26155256  <numpy.vectorize object at 0x0000022561C9EDC0>  \n",
       "52565026  <numpy.vectorize object at 0x0000022561C9EDC0>  \n",
       "36020056  <numpy.vectorize object at 0x0000022561C9EDC0>  \n",
       "52570324  <numpy.vectorize object at 0x0000022561C9EDC0>  \n",
       "15597387  <numpy.vectorize object at 0x0000022561C9EDC0>  \n",
       "38917449  <numpy.vectorize object at 0x0000022561C9EDC0>  \n",
       "5736173   <numpy.vectorize object at 0x0000022561C9EDC0>  \n",
       "45037598  <numpy.vectorize object at 0x0000022561C9EDC0>  \n",
       "15249930  <numpy.vectorize object at 0x0000022561C9EDC0>  "
      ]
     },
     "execution_count": 14,
     "metadata": {},
     "output_type": "execute_result"
    }
   ],
   "source": [
    "dfnasa1"
   ]
  },
  {
   "cell_type": "code",
   "execution_count": 7,
   "metadata": {},
   "outputs": [],
   "source": [
    "import swifter"
   ]
  },
  {
   "cell_type": "code",
   "execution_count": null,
   "metadata": {},
   "outputs": [
    {
     "name": "stderr",
     "output_type": "stream",
     "text": [
      "my bar!:   0%|                                                             | 6556/54950400 [20:27<906:05:50, 16.84it/s]"
     ]
    }
   ],
   "source": [
    "dfnasa['country']=dfnasa.progress_apply(lambda x: countryName(x['lat'],x['lon']),axis=1)"
   ]
  },
  {
   "cell_type": "code",
   "execution_count": 8,
   "metadata": {},
   "outputs": [
    {
     "ename": "KeyboardInterrupt",
     "evalue": "",
     "output_type": "error",
     "traceback": [
      "\u001b[1;31m---------------------------------------------------------------------------\u001b[0m",
      "\u001b[1;31mAttributeError\u001b[0m                            Traceback (most recent call last)",
      "\u001b[1;32m~\\anaconda3\\lib\\site-packages\\swifter\\swifter.py\u001b[0m in \u001b[0;36mapply\u001b[1;34m(self, func, axis, raw, result_type, args, **kwds)\u001b[0m\n\u001b[0;32m    342\u001b[0m                 self._validate_apply(\n\u001b[1;32m--> 343\u001b[1;33m                     \u001b[0mnp\u001b[0m\u001b[1;33m.\u001b[0m\u001b[0marray_equal\u001b[0m\u001b[1;33m(\u001b[0m\u001b[0msample_df\u001b[0m\u001b[1;33m,\u001b[0m \u001b[0mtmp_df\u001b[0m\u001b[1;33m)\u001b[0m \u001b[1;33m&\u001b[0m \u001b[1;33m(\u001b[0m\u001b[0msample_df\u001b[0m\u001b[1;33m.\u001b[0m\u001b[0mshape\u001b[0m \u001b[1;33m==\u001b[0m \u001b[0mtmp_df\u001b[0m\u001b[1;33m.\u001b[0m\u001b[0mshape\u001b[0m\u001b[1;33m)\u001b[0m\u001b[1;33m,\u001b[0m\u001b[1;33m\u001b[0m\u001b[1;33m\u001b[0m\u001b[0m\n\u001b[0m\u001b[0;32m    344\u001b[0m                     \u001b[0merror_message\u001b[0m\u001b[1;33m=\u001b[0m\u001b[1;34m\"Vectorized function sample does not match pandas apply sample.\"\u001b[0m\u001b[1;33m,\u001b[0m\u001b[1;33m\u001b[0m\u001b[1;33m\u001b[0m\u001b[0m\n",
      "\u001b[1;31mAttributeError\u001b[0m: 'str' object has no attribute 'shape'",
      "\nDuring handling of the above exception, another exception occurred:\n",
      "\u001b[1;31mKeyboardInterrupt\u001b[0m                         Traceback (most recent call last)",
      "\u001b[1;32m<ipython-input-8-d87d02216a87>\u001b[0m in \u001b[0;36m<module>\u001b[1;34m\u001b[0m\n\u001b[1;32m----> 1\u001b[1;33m \u001b[0mdfnasa80\u001b[0m\u001b[1;33m[\u001b[0m\u001b[1;34m'country'\u001b[0m\u001b[1;33m]\u001b[0m\u001b[1;33m=\u001b[0m\u001b[0mdfnasa80\u001b[0m\u001b[1;33m.\u001b[0m\u001b[0mswifter\u001b[0m\u001b[1;33m.\u001b[0m\u001b[0mprogress_bar\u001b[0m\u001b[1;33m(\u001b[0m\u001b[0menable\u001b[0m\u001b[1;33m=\u001b[0m\u001b[1;32mTrue\u001b[0m\u001b[1;33m)\u001b[0m\u001b[1;33m.\u001b[0m\u001b[0mapply\u001b[0m\u001b[1;33m(\u001b[0m\u001b[1;32mlambda\u001b[0m \u001b[0mx\u001b[0m\u001b[1;33m:\u001b[0m \u001b[0mcountryName\u001b[0m\u001b[1;33m(\u001b[0m\u001b[0mx\u001b[0m\u001b[1;33m[\u001b[0m\u001b[1;34m'lat'\u001b[0m\u001b[1;33m]\u001b[0m\u001b[1;33m,\u001b[0m\u001b[0mx\u001b[0m\u001b[1;33m[\u001b[0m\u001b[1;34m'lon'\u001b[0m\u001b[1;33m]\u001b[0m\u001b[1;33m)\u001b[0m\u001b[1;33m,\u001b[0m \u001b[0maxis\u001b[0m\u001b[1;33m=\u001b[0m\u001b[1;36m1\u001b[0m\u001b[1;33m)\u001b[0m\u001b[1;33m\u001b[0m\u001b[1;33m\u001b[0m\u001b[0m\n\u001b[0m",
      "\u001b[1;32m~\\anaconda3\\lib\\site-packages\\swifter\\swifter.py\u001b[0m in \u001b[0;36mapply\u001b[1;34m(self, func, axis, raw, result_type, args, **kwds)\u001b[0m\n\u001b[0;32m    356\u001b[0m             \u001b[1;31m# if not dask, use modin for string processing\u001b[0m\u001b[1;33m\u001b[0m\u001b[1;33m\u001b[0m\u001b[1;33m\u001b[0m\u001b[0m\n\u001b[0;32m    357\u001b[0m             \u001b[1;32melif\u001b[0m \u001b[1;33m(\u001b[0m\u001b[0mest_apply_duration\u001b[0m \u001b[1;33m>\u001b[0m \u001b[0mself\u001b[0m\u001b[1;33m.\u001b[0m\u001b[0m_dask_threshold\u001b[0m\u001b[1;33m)\u001b[0m \u001b[1;32mand\u001b[0m \u001b[0maxis\u001b[0m \u001b[1;33m==\u001b[0m \u001b[1;36m1\u001b[0m\u001b[1;33m:\u001b[0m\u001b[1;33m\u001b[0m\u001b[1;33m\u001b[0m\u001b[0m\n\u001b[1;32m--> 358\u001b[1;33m                 \u001b[1;32mreturn\u001b[0m \u001b[0mself\u001b[0m\u001b[1;33m.\u001b[0m\u001b[0m_modin_apply\u001b[0m\u001b[1;33m(\u001b[0m\u001b[0mfunc\u001b[0m\u001b[1;33m,\u001b[0m \u001b[0maxis\u001b[0m\u001b[1;33m,\u001b[0m \u001b[0mraw\u001b[0m\u001b[1;33m,\u001b[0m \u001b[0mresult_type\u001b[0m\u001b[1;33m,\u001b[0m \u001b[1;33m*\u001b[0m\u001b[0margs\u001b[0m\u001b[1;33m,\u001b[0m \u001b[1;33m**\u001b[0m\u001b[0mkwds\u001b[0m\u001b[1;33m)\u001b[0m\u001b[1;33m\u001b[0m\u001b[1;33m\u001b[0m\u001b[0m\n\u001b[0m\u001b[0;32m    359\u001b[0m             \u001b[1;32melse\u001b[0m\u001b[1;33m:\u001b[0m  \u001b[1;31m# use pandas\u001b[0m\u001b[1;33m\u001b[0m\u001b[1;33m\u001b[0m\u001b[0m\n\u001b[0;32m    360\u001b[0m                 \u001b[1;32mif\u001b[0m \u001b[0mself\u001b[0m\u001b[1;33m.\u001b[0m\u001b[0m_progress_bar\u001b[0m\u001b[1;33m:\u001b[0m\u001b[1;33m\u001b[0m\u001b[1;33m\u001b[0m\u001b[0m\n",
      "\u001b[1;32m~\\anaconda3\\lib\\site-packages\\swifter\\swifter.py\u001b[0m in \u001b[0;36m_modin_apply\u001b[1;34m(self, func, axis, raw, result_type, *args, **kwds)\u001b[0m\n\u001b[0;32m    273\u001b[0m                 )\n\u001b[0;32m    274\u001b[0m             output_df = (\n\u001b[1;32m--> 275\u001b[1;33m                 \u001b[0mmd\u001b[0m\u001b[1;33m.\u001b[0m\u001b[0mDataFrame\u001b[0m\u001b[1;33m(\u001b[0m\u001b[0mself\u001b[0m\u001b[1;33m.\u001b[0m\u001b[0m_obj\u001b[0m\u001b[1;33m)\u001b[0m\u001b[1;33m\u001b[0m\u001b[1;33m\u001b[0m\u001b[0m\n\u001b[0m\u001b[0;32m    276\u001b[0m                 \u001b[1;33m.\u001b[0m\u001b[0mapply\u001b[0m\u001b[1;33m(\u001b[0m\u001b[0mfunc\u001b[0m\u001b[1;33m,\u001b[0m \u001b[1;33m*\u001b[0m\u001b[0margs\u001b[0m\u001b[1;33m,\u001b[0m \u001b[0maxis\u001b[0m\u001b[1;33m=\u001b[0m\u001b[0maxis\u001b[0m\u001b[1;33m,\u001b[0m \u001b[0mraw\u001b[0m\u001b[1;33m=\u001b[0m\u001b[0mraw\u001b[0m\u001b[1;33m,\u001b[0m \u001b[0mresult_type\u001b[0m\u001b[1;33m=\u001b[0m\u001b[0mresult_type\u001b[0m\u001b[1;33m,\u001b[0m \u001b[1;33m**\u001b[0m\u001b[0mkwds\u001b[0m\u001b[1;33m)\u001b[0m\u001b[1;33m\u001b[0m\u001b[1;33m\u001b[0m\u001b[0m\n\u001b[0;32m    277\u001b[0m                 \u001b[1;33m.\u001b[0m\u001b[0m_to_pandas\u001b[0m\u001b[1;33m(\u001b[0m\u001b[1;33m)\u001b[0m\u001b[1;33m\u001b[0m\u001b[1;33m\u001b[0m\u001b[0m\n",
      "\u001b[1;32m~\\anaconda3\\lib\\site-packages\\modin\\pandas\\dataframe.py\u001b[0m in \u001b[0;36mapply\u001b[1;34m(self, func, axis, raw, result_type, args, **kwds)\u001b[0m\n\u001b[0;32m    289\u001b[0m     \u001b[1;32mdef\u001b[0m \u001b[0mapply\u001b[0m\u001b[1;33m(\u001b[0m\u001b[0mself\u001b[0m\u001b[1;33m,\u001b[0m \u001b[0mfunc\u001b[0m\u001b[1;33m,\u001b[0m \u001b[0maxis\u001b[0m\u001b[1;33m=\u001b[0m\u001b[1;36m0\u001b[0m\u001b[1;33m,\u001b[0m \u001b[0mraw\u001b[0m\u001b[1;33m=\u001b[0m\u001b[1;32mFalse\u001b[0m\u001b[1;33m,\u001b[0m \u001b[0mresult_type\u001b[0m\u001b[1;33m=\u001b[0m\u001b[1;32mNone\u001b[0m\u001b[1;33m,\u001b[0m \u001b[0margs\u001b[0m\u001b[1;33m=\u001b[0m\u001b[1;33m(\u001b[0m\u001b[1;33m)\u001b[0m\u001b[1;33m,\u001b[0m \u001b[1;33m**\u001b[0m\u001b[0mkwds\u001b[0m\u001b[1;33m)\u001b[0m\u001b[1;33m:\u001b[0m\u001b[1;33m\u001b[0m\u001b[1;33m\u001b[0m\u001b[0m\n\u001b[0;32m    290\u001b[0m         \u001b[0maxis\u001b[0m \u001b[1;33m=\u001b[0m \u001b[0mself\u001b[0m\u001b[1;33m.\u001b[0m\u001b[0m_get_axis_number\u001b[0m\u001b[1;33m(\u001b[0m\u001b[0maxis\u001b[0m\u001b[1;33m)\u001b[0m\u001b[1;33m\u001b[0m\u001b[1;33m\u001b[0m\u001b[0m\n\u001b[1;32m--> 291\u001b[1;33m         query_compiler = super(DataFrame, self).apply(\n\u001b[0m\u001b[0;32m    292\u001b[0m             \u001b[0mfunc\u001b[0m\u001b[1;33m,\u001b[0m \u001b[0maxis\u001b[0m\u001b[1;33m=\u001b[0m\u001b[0maxis\u001b[0m\u001b[1;33m,\u001b[0m \u001b[0mraw\u001b[0m\u001b[1;33m=\u001b[0m\u001b[0mraw\u001b[0m\u001b[1;33m,\u001b[0m \u001b[0mresult_type\u001b[0m\u001b[1;33m=\u001b[0m\u001b[0mresult_type\u001b[0m\u001b[1;33m,\u001b[0m \u001b[0margs\u001b[0m\u001b[1;33m=\u001b[0m\u001b[0margs\u001b[0m\u001b[1;33m,\u001b[0m \u001b[1;33m**\u001b[0m\u001b[0mkwds\u001b[0m\u001b[1;33m\u001b[0m\u001b[1;33m\u001b[0m\u001b[0m\n\u001b[0;32m    293\u001b[0m         )\n",
      "\u001b[1;32m~\\anaconda3\\lib\\site-packages\\modin\\pandas\\base.py\u001b[0m in \u001b[0;36mapply\u001b[1;34m(self, func, axis, broadcast, raw, reduce, result_type, convert_dtype, args, **kwds)\u001b[0m\n\u001b[0;32m    743\u001b[0m         \u001b[1;32melif\u001b[0m \u001b[1;32mnot\u001b[0m \u001b[0mcallable\u001b[0m\u001b[1;33m(\u001b[0m\u001b[0mfunc\u001b[0m\u001b[1;33m)\u001b[0m \u001b[1;32mand\u001b[0m \u001b[1;32mnot\u001b[0m \u001b[0mis_list_like\u001b[0m\u001b[1;33m(\u001b[0m\u001b[0mfunc\u001b[0m\u001b[1;33m)\u001b[0m\u001b[1;33m:\u001b[0m\u001b[1;33m\u001b[0m\u001b[1;33m\u001b[0m\u001b[0m\n\u001b[0;32m    744\u001b[0m             \u001b[1;32mraise\u001b[0m \u001b[0mTypeError\u001b[0m\u001b[1;33m(\u001b[0m\u001b[1;34m\"{} object is not callable\"\u001b[0m\u001b[1;33m.\u001b[0m\u001b[0mformat\u001b[0m\u001b[1;33m(\u001b[0m\u001b[0mtype\u001b[0m\u001b[1;33m(\u001b[0m\u001b[0mfunc\u001b[0m\u001b[1;33m)\u001b[0m\u001b[1;33m)\u001b[0m\u001b[1;33m)\u001b[0m\u001b[1;33m\u001b[0m\u001b[1;33m\u001b[0m\u001b[0m\n\u001b[1;32m--> 745\u001b[1;33m         query_compiler = self._query_compiler.apply(\n\u001b[0m\u001b[0;32m    746\u001b[0m             \u001b[0mfunc\u001b[0m\u001b[1;33m,\u001b[0m\u001b[1;33m\u001b[0m\u001b[1;33m\u001b[0m\u001b[0m\n\u001b[0;32m    747\u001b[0m             \u001b[0maxis\u001b[0m\u001b[1;33m,\u001b[0m\u001b[1;33m\u001b[0m\u001b[1;33m\u001b[0m\u001b[0m\n",
      "\u001b[1;32m~\\anaconda3\\lib\\site-packages\\modin\\backends\\pandas\\query_compiler.py\u001b[0m in \u001b[0;36mapply\u001b[1;34m(self, func, axis, *args, **kwargs)\u001b[0m\n\u001b[0;32m   2346\u001b[0m             \u001b[1;32mreturn\u001b[0m \u001b[0mself\u001b[0m\u001b[1;33m.\u001b[0m\u001b[0m_apply_text_func_elementwise\u001b[0m\u001b[1;33m(\u001b[0m\u001b[0mfunc\u001b[0m\u001b[1;33m,\u001b[0m \u001b[0maxis\u001b[0m\u001b[1;33m,\u001b[0m \u001b[1;33m*\u001b[0m\u001b[0margs\u001b[0m\u001b[1;33m,\u001b[0m \u001b[1;33m**\u001b[0m\u001b[0mkwargs\u001b[0m\u001b[1;33m)\u001b[0m\u001b[1;33m\u001b[0m\u001b[1;33m\u001b[0m\u001b[0m\n\u001b[0;32m   2347\u001b[0m         \u001b[1;32melif\u001b[0m \u001b[0mcallable\u001b[0m\u001b[1;33m(\u001b[0m\u001b[0mfunc\u001b[0m\u001b[1;33m)\u001b[0m\u001b[1;33m:\u001b[0m\u001b[1;33m\u001b[0m\u001b[1;33m\u001b[0m\u001b[0m\n\u001b[1;32m-> 2348\u001b[1;33m             \u001b[1;32mreturn\u001b[0m \u001b[0mself\u001b[0m\u001b[1;33m.\u001b[0m\u001b[0m_callable_func\u001b[0m\u001b[1;33m(\u001b[0m\u001b[0mfunc\u001b[0m\u001b[1;33m,\u001b[0m \u001b[0maxis\u001b[0m\u001b[1;33m,\u001b[0m \u001b[1;33m*\u001b[0m\u001b[0margs\u001b[0m\u001b[1;33m,\u001b[0m \u001b[1;33m**\u001b[0m\u001b[0mkwargs\u001b[0m\u001b[1;33m)\u001b[0m\u001b[1;33m\u001b[0m\u001b[1;33m\u001b[0m\u001b[0m\n\u001b[0m\u001b[0;32m   2349\u001b[0m         \u001b[1;32melif\u001b[0m \u001b[0misinstance\u001b[0m\u001b[1;33m(\u001b[0m\u001b[0mfunc\u001b[0m\u001b[1;33m,\u001b[0m \u001b[0mdict\u001b[0m\u001b[1;33m)\u001b[0m\u001b[1;33m:\u001b[0m\u001b[1;33m\u001b[0m\u001b[1;33m\u001b[0m\u001b[0m\n\u001b[0;32m   2350\u001b[0m             \u001b[1;32mreturn\u001b[0m \u001b[0mself\u001b[0m\u001b[1;33m.\u001b[0m\u001b[0m_dict_func\u001b[0m\u001b[1;33m(\u001b[0m\u001b[0mfunc\u001b[0m\u001b[1;33m,\u001b[0m \u001b[0maxis\u001b[0m\u001b[1;33m,\u001b[0m \u001b[1;33m*\u001b[0m\u001b[0margs\u001b[0m\u001b[1;33m,\u001b[0m \u001b[1;33m**\u001b[0m\u001b[0mkwargs\u001b[0m\u001b[1;33m)\u001b[0m\u001b[1;33m\u001b[0m\u001b[1;33m\u001b[0m\u001b[0m\n",
      "\u001b[1;32m~\\anaconda3\\lib\\site-packages\\modin\\backends\\pandas\\query_compiler.py\u001b[0m in \u001b[0;36m_callable_func\u001b[1;34m(self, func, axis, *args, **kwargs)\u001b[0m\n\u001b[0;32m   2443\u001b[0m         \"\"\"\n\u001b[0;32m   2444\u001b[0m         \u001b[0mfunc\u001b[0m \u001b[1;33m=\u001b[0m \u001b[0mwrap_udf_function\u001b[0m\u001b[1;33m(\u001b[0m\u001b[0mfunc\u001b[0m\u001b[1;33m)\u001b[0m\u001b[1;33m\u001b[0m\u001b[1;33m\u001b[0m\u001b[0m\n\u001b[1;32m-> 2445\u001b[1;33m         new_modin_frame = self._modin_frame._apply_full_axis(\n\u001b[0m\u001b[0;32m   2446\u001b[0m             \u001b[0maxis\u001b[0m\u001b[1;33m,\u001b[0m \u001b[1;32mlambda\u001b[0m \u001b[0mdf\u001b[0m\u001b[1;33m:\u001b[0m \u001b[0mdf\u001b[0m\u001b[1;33m.\u001b[0m\u001b[0mapply\u001b[0m\u001b[1;33m(\u001b[0m\u001b[0mfunc\u001b[0m\u001b[1;33m,\u001b[0m \u001b[0maxis\u001b[0m\u001b[1;33m=\u001b[0m\u001b[0maxis\u001b[0m\u001b[1;33m,\u001b[0m \u001b[1;33m*\u001b[0m\u001b[0margs\u001b[0m\u001b[1;33m,\u001b[0m \u001b[1;33m**\u001b[0m\u001b[0mkwargs\u001b[0m\u001b[1;33m)\u001b[0m\u001b[1;33m\u001b[0m\u001b[1;33m\u001b[0m\u001b[0m\n\u001b[0;32m   2447\u001b[0m         )\n",
      "\u001b[1;32m~\\anaconda3\\lib\\site-packages\\modin\\engines\\base\\frame\\data.py\u001b[0m in \u001b[0;36m_apply_full_axis\u001b[1;34m(self, axis, func, new_index, new_columns, dtypes)\u001b[0m\n\u001b[0;32m   1300\u001b[0m         \u001b[0mThe\u001b[0m \u001b[0mdata\u001b[0m \u001b[0mshape\u001b[0m \u001b[0mmay\u001b[0m \u001b[0mchange\u001b[0m \u001b[1;32mas\u001b[0m \u001b[0ma\u001b[0m \u001b[0mresult\u001b[0m \u001b[0mof\u001b[0m \u001b[0mthe\u001b[0m \u001b[0mfunction\u001b[0m\u001b[1;33m.\u001b[0m\u001b[1;33m\u001b[0m\u001b[1;33m\u001b[0m\u001b[0m\n\u001b[0;32m   1301\u001b[0m         \"\"\"\n\u001b[1;32m-> 1302\u001b[1;33m         return self.broadcast_apply_full_axis(\n\u001b[0m\u001b[0;32m   1303\u001b[0m             \u001b[0maxis\u001b[0m\u001b[1;33m=\u001b[0m\u001b[0maxis\u001b[0m\u001b[1;33m,\u001b[0m\u001b[1;33m\u001b[0m\u001b[1;33m\u001b[0m\u001b[0m\n\u001b[0;32m   1304\u001b[0m             \u001b[0mfunc\u001b[0m\u001b[1;33m=\u001b[0m\u001b[0mfunc\u001b[0m\u001b[1;33m,\u001b[0m\u001b[1;33m\u001b[0m\u001b[1;33m\u001b[0m\u001b[0m\n",
      "\u001b[1;32m~\\anaconda3\\lib\\site-packages\\modin\\engines\\base\\frame\\data.py\u001b[0m in \u001b[0;36mbroadcast_apply_full_axis\u001b[1;34m(self, axis, func, other, new_index, new_columns, apply_indices, enumerate_partitions, dtypes)\u001b[0m\n\u001b[0;32m   1692\u001b[0m         )\n\u001b[0;32m   1693\u001b[0m         \u001b[1;31m# Index objects for new object creation. This is shorter than if..else\u001b[0m\u001b[1;33m\u001b[0m\u001b[1;33m\u001b[0m\u001b[1;33m\u001b[0m\u001b[0m\n\u001b[1;32m-> 1694\u001b[1;33m         new_axes = [\n\u001b[0m\u001b[0;32m   1695\u001b[0m             \u001b[0mself\u001b[0m\u001b[1;33m.\u001b[0m\u001b[0m_compute_axis_labels\u001b[0m\u001b[1;33m(\u001b[0m\u001b[0mi\u001b[0m\u001b[1;33m,\u001b[0m \u001b[0mnew_partitions\u001b[0m\u001b[1;33m)\u001b[0m\u001b[1;33m\u001b[0m\u001b[1;33m\u001b[0m\u001b[0m\n\u001b[0;32m   1696\u001b[0m             \u001b[1;32mif\u001b[0m \u001b[0mnew_axis\u001b[0m \u001b[1;32mis\u001b[0m \u001b[1;32mNone\u001b[0m\u001b[1;33m\u001b[0m\u001b[1;33m\u001b[0m\u001b[0m\n",
      "\u001b[1;32m~\\anaconda3\\lib\\site-packages\\modin\\engines\\base\\frame\\data.py\u001b[0m in \u001b[0;36m<listcomp>\u001b[1;34m(.0)\u001b[0m\n\u001b[0;32m   1693\u001b[0m         \u001b[1;31m# Index objects for new object creation. This is shorter than if..else\u001b[0m\u001b[1;33m\u001b[0m\u001b[1;33m\u001b[0m\u001b[1;33m\u001b[0m\u001b[0m\n\u001b[0;32m   1694\u001b[0m         new_axes = [\n\u001b[1;32m-> 1695\u001b[1;33m             \u001b[0mself\u001b[0m\u001b[1;33m.\u001b[0m\u001b[0m_compute_axis_labels\u001b[0m\u001b[1;33m(\u001b[0m\u001b[0mi\u001b[0m\u001b[1;33m,\u001b[0m \u001b[0mnew_partitions\u001b[0m\u001b[1;33m)\u001b[0m\u001b[1;33m\u001b[0m\u001b[1;33m\u001b[0m\u001b[0m\n\u001b[0m\u001b[0;32m   1696\u001b[0m             \u001b[1;32mif\u001b[0m \u001b[0mnew_axis\u001b[0m \u001b[1;32mis\u001b[0m \u001b[1;32mNone\u001b[0m\u001b[1;33m\u001b[0m\u001b[1;33m\u001b[0m\u001b[0m\n\u001b[0;32m   1697\u001b[0m             \u001b[1;32melse\u001b[0m \u001b[0mnew_axis\u001b[0m\u001b[1;33m\u001b[0m\u001b[1;33m\u001b[0m\u001b[0m\n",
      "\u001b[1;32m~\\anaconda3\\lib\\site-packages\\modin\\engines\\base\\frame\\data.py\u001b[0m in \u001b[0;36m_compute_axis_labels\u001b[1;34m(self, axis, partitions)\u001b[0m\n\u001b[0;32m    257\u001b[0m         \u001b[1;32mif\u001b[0m \u001b[0mpartitions\u001b[0m \u001b[1;32mis\u001b[0m \u001b[1;32mNone\u001b[0m\u001b[1;33m:\u001b[0m\u001b[1;33m\u001b[0m\u001b[1;33m\u001b[0m\u001b[0m\n\u001b[0;32m    258\u001b[0m             \u001b[0mpartitions\u001b[0m \u001b[1;33m=\u001b[0m \u001b[0mself\u001b[0m\u001b[1;33m.\u001b[0m\u001b[0m_partitions\u001b[0m\u001b[1;33m\u001b[0m\u001b[1;33m\u001b[0m\u001b[0m\n\u001b[1;32m--> 259\u001b[1;33m         return self._frame_mgr_cls.get_indices(\n\u001b[0m\u001b[0;32m    260\u001b[0m             \u001b[0maxis\u001b[0m\u001b[1;33m,\u001b[0m \u001b[0mpartitions\u001b[0m\u001b[1;33m,\u001b[0m \u001b[1;32mlambda\u001b[0m \u001b[0mdf\u001b[0m\u001b[1;33m:\u001b[0m \u001b[0mdf\u001b[0m\u001b[1;33m.\u001b[0m\u001b[0maxes\u001b[0m\u001b[1;33m[\u001b[0m\u001b[0maxis\u001b[0m\u001b[1;33m]\u001b[0m\u001b[1;33m\u001b[0m\u001b[1;33m\u001b[0m\u001b[0m\n\u001b[0;32m    261\u001b[0m         )\n",
      "\u001b[1;32m~\\anaconda3\\lib\\site-packages\\modin\\engines\\ray\\pandas_on_ray\\frame\\partition_manager.py\u001b[0m in \u001b[0;36mget_indices\u001b[1;34m(cls, axis, partitions, index_func)\u001b[0m\n\u001b[0;32m    147\u001b[0m                 \u001b[1;32melse\u001b[0m \u001b[1;33m[\u001b[0m\u001b[1;33m]\u001b[0m\u001b[1;33m\u001b[0m\u001b[1;33m\u001b[0m\u001b[0m\n\u001b[0;32m    148\u001b[0m             )\n\u001b[1;32m--> 149\u001b[1;33m         \u001b[0mnew_idx\u001b[0m \u001b[1;33m=\u001b[0m \u001b[0mray\u001b[0m\u001b[1;33m.\u001b[0m\u001b[0mget\u001b[0m\u001b[1;33m(\u001b[0m\u001b[0mnew_idx\u001b[0m\u001b[1;33m)\u001b[0m\u001b[1;33m\u001b[0m\u001b[1;33m\u001b[0m\u001b[0m\n\u001b[0m\u001b[0;32m    150\u001b[0m         \u001b[1;32mreturn\u001b[0m \u001b[0mnew_idx\u001b[0m\u001b[1;33m[\u001b[0m\u001b[1;36m0\u001b[0m\u001b[1;33m]\u001b[0m\u001b[1;33m.\u001b[0m\u001b[0mappend\u001b[0m\u001b[1;33m(\u001b[0m\u001b[0mnew_idx\u001b[0m\u001b[1;33m[\u001b[0m\u001b[1;36m1\u001b[0m\u001b[1;33m:\u001b[0m\u001b[1;33m]\u001b[0m\u001b[1;33m)\u001b[0m \u001b[1;32mif\u001b[0m \u001b[0mlen\u001b[0m\u001b[1;33m(\u001b[0m\u001b[0mnew_idx\u001b[0m\u001b[1;33m)\u001b[0m \u001b[1;32melse\u001b[0m \u001b[0mnew_idx\u001b[0m\u001b[1;33m\u001b[0m\u001b[1;33m\u001b[0m\u001b[0m\n\u001b[0;32m    151\u001b[0m \u001b[1;33m\u001b[0m\u001b[0m\n",
      "\u001b[1;32m~\\anaconda3\\lib\\site-packages\\ray\\worker.py\u001b[0m in \u001b[0;36mget\u001b[1;34m(object_refs, timeout)\u001b[0m\n\u001b[0;32m   1369\u001b[0m         \u001b[1;32mglobal\u001b[0m \u001b[0mlast_task_error_raise_time\u001b[0m\u001b[1;33m\u001b[0m\u001b[1;33m\u001b[0m\u001b[0m\n\u001b[0;32m   1370\u001b[0m         \u001b[1;31m# TODO(ujvl): Consider how to allow user to retrieve the ready objects.\u001b[0m\u001b[1;33m\u001b[0m\u001b[1;33m\u001b[0m\u001b[1;33m\u001b[0m\u001b[0m\n\u001b[1;32m-> 1371\u001b[1;33m         values, debugger_breakpoint = worker.get_objects(\n\u001b[0m\u001b[0;32m   1372\u001b[0m             object_refs, timeout=timeout)\n\u001b[0;32m   1373\u001b[0m         \u001b[1;32mfor\u001b[0m \u001b[0mi\u001b[0m\u001b[1;33m,\u001b[0m \u001b[0mvalue\u001b[0m \u001b[1;32min\u001b[0m \u001b[0menumerate\u001b[0m\u001b[1;33m(\u001b[0m\u001b[0mvalues\u001b[0m\u001b[1;33m)\u001b[0m\u001b[1;33m:\u001b[0m\u001b[1;33m\u001b[0m\u001b[1;33m\u001b[0m\u001b[0m\n",
      "\u001b[1;32m~\\anaconda3\\lib\\site-packages\\ray\\worker.py\u001b[0m in \u001b[0;36mget_objects\u001b[1;34m(self, object_refs, timeout)\u001b[0m\n\u001b[0;32m    301\u001b[0m \u001b[1;33m\u001b[0m\u001b[0m\n\u001b[0;32m    302\u001b[0m         \u001b[0mtimeout_ms\u001b[0m \u001b[1;33m=\u001b[0m \u001b[0mint\u001b[0m\u001b[1;33m(\u001b[0m\u001b[0mtimeout\u001b[0m \u001b[1;33m*\u001b[0m \u001b[1;36m1000\u001b[0m\u001b[1;33m)\u001b[0m \u001b[1;32mif\u001b[0m \u001b[0mtimeout\u001b[0m \u001b[1;32melse\u001b[0m \u001b[1;33m-\u001b[0m\u001b[1;36m1\u001b[0m\u001b[1;33m\u001b[0m\u001b[1;33m\u001b[0m\u001b[0m\n\u001b[1;32m--> 303\u001b[1;33m         data_metadata_pairs = self.core_worker.get_objects(\n\u001b[0m\u001b[0;32m    304\u001b[0m             object_refs, self.current_task_id, timeout_ms)\n\u001b[0;32m    305\u001b[0m         \u001b[0mdebugger_breakpoint\u001b[0m \u001b[1;33m=\u001b[0m \u001b[1;34mb\"\"\u001b[0m\u001b[1;33m\u001b[0m\u001b[1;33m\u001b[0m\u001b[0m\n",
      "\u001b[1;32mpython\\ray\\_raylet.pyx\u001b[0m in \u001b[0;36mray._raylet.CoreWorker.get_objects\u001b[1;34m()\u001b[0m\n",
      "\u001b[1;32mpython\\ray\\_raylet.pyx\u001b[0m in \u001b[0;36mray._raylet.check_status\u001b[1;34m()\u001b[0m\n",
      "\u001b[1;31mKeyboardInterrupt\u001b[0m: "
     ]
    }
   ],
   "source": [
    "dfnasa80['country']=dfnasa80.swifter.progress_bar(enable=True).apply(lambda x: countryName(x['lat'],x['lon']), axis=1)"
   ]
  },
  {
   "cell_type": "code",
   "execution_count": 8,
   "metadata": {},
   "outputs": [
    {
     "data": {
      "text/html": [
       "<div>\n",
       "<style scoped>\n",
       "    .dataframe tbody tr th:only-of-type {\n",
       "        vertical-align: middle;\n",
       "    }\n",
       "\n",
       "    .dataframe tbody tr th {\n",
       "        vertical-align: top;\n",
       "    }\n",
       "\n",
       "    .dataframe thead th {\n",
       "        text-align: right;\n",
       "    }\n",
       "</style>\n",
       "<table border=\"1\" class=\"dataframe\">\n",
       "  <thead>\n",
       "    <tr style=\"text-align: right;\">\n",
       "      <th></th>\n",
       "      <th>lat</th>\n",
       "      <th>lon</th>\n",
       "      <th>nv</th>\n",
       "      <th>time</th>\n",
       "      <th>time_bnds</th>\n",
       "      <th>tempanomaly</th>\n",
       "      <th>country</th>\n",
       "    </tr>\n",
       "  </thead>\n",
       "  <tbody>\n",
       "    <tr>\n",
       "      <th>8747671</th>\n",
       "      <td>-61.0</td>\n",
       "      <td>-63.0</td>\n",
       "      <td>1</td>\n",
       "      <td>1996-08-15</td>\n",
       "      <td>1996-09-01</td>\n",
       "      <td>3.06</td>\n",
       "      <td>International territory</td>\n",
       "    </tr>\n",
       "    <tr>\n",
       "      <th>29522290</th>\n",
       "      <td>7.0</td>\n",
       "      <td>-53.0</td>\n",
       "      <td>1</td>\n",
       "      <td>1881-07-15</td>\n",
       "      <td>1881-08-01</td>\n",
       "      <td>0.41</td>\n",
       "      <td>International territory</td>\n",
       "    </tr>\n",
       "    <tr>\n",
       "      <th>12082088</th>\n",
       "      <td>-51.0</td>\n",
       "      <td>103.0</td>\n",
       "      <td>1</td>\n",
       "      <td>2003-05-15</td>\n",
       "      <td>2003-06-01</td>\n",
       "      <td>0.50</td>\n",
       "      <td>International territory</td>\n",
       "    </tr>\n",
       "    <tr>\n",
       "      <th>38036434</th>\n",
       "      <td>35.0</td>\n",
       "      <td>-73.0</td>\n",
       "      <td>1</td>\n",
       "      <td>1900-03-15</td>\n",
       "      <td>1900-04-01</td>\n",
       "      <td>-0.05</td>\n",
       "      <td>International territory</td>\n",
       "    </tr>\n",
       "    <tr>\n",
       "      <th>40041138</th>\n",
       "      <td>41.0</td>\n",
       "      <td>29.0</td>\n",
       "      <td>1</td>\n",
       "      <td>1902-11-15</td>\n",
       "      <td>1902-12-01</td>\n",
       "      <td>-4.50</td>\n",
       "      <td>International territory</td>\n",
       "    </tr>\n",
       "    <tr>\n",
       "      <th>16068561</th>\n",
       "      <td>-37.0</td>\n",
       "      <td>-65.0</td>\n",
       "      <td>0</td>\n",
       "      <td>1934-10-15</td>\n",
       "      <td>1934-10-01</td>\n",
       "      <td>-0.97</td>\n",
       "      <td>Argentina</td>\n",
       "    </tr>\n",
       "    <tr>\n",
       "      <th>13237770</th>\n",
       "      <td>-47.0</td>\n",
       "      <td>65.0</td>\n",
       "      <td>1</td>\n",
       "      <td>1920-11-15</td>\n",
       "      <td>1920-12-01</td>\n",
       "      <td>-0.19</td>\n",
       "      <td>International territory</td>\n",
       "    </tr>\n",
       "    <tr>\n",
       "      <th>24312059</th>\n",
       "      <td>-11.0</td>\n",
       "      <td>115.0</td>\n",
       "      <td>0</td>\n",
       "      <td>2012-12-15</td>\n",
       "      <td>2012-12-01</td>\n",
       "      <td>1.03</td>\n",
       "      <td>International territory</td>\n",
       "    </tr>\n",
       "    <tr>\n",
       "      <th>1991448</th>\n",
       "      <td>-83.0</td>\n",
       "      <td>-85.0</td>\n",
       "      <td>0</td>\n",
       "      <td>1908-09-15</td>\n",
       "      <td>1908-09-01</td>\n",
       "      <td>NaN</td>\n",
       "      <td>Antarctica</td>\n",
       "    </tr>\n",
       "    <tr>\n",
       "      <th>25365261</th>\n",
       "      <td>-7.0</td>\n",
       "      <td>15.0</td>\n",
       "      <td>1</td>\n",
       "      <td>2011-10-15</td>\n",
       "      <td>2011-11-01</td>\n",
       "      <td>0.29</td>\n",
       "      <td>Angola</td>\n",
       "    </tr>\n",
       "  </tbody>\n",
       "</table>\n",
       "</div>"
      ],
      "text/plain": [
       "           lat    lon  nv       time  time_bnds  tempanomaly  \\\n",
       "8747671  -61.0  -63.0   1 1996-08-15 1996-09-01         3.06   \n",
       "29522290   7.0  -53.0   1 1881-07-15 1881-08-01         0.41   \n",
       "12082088 -51.0  103.0   1 2003-05-15 2003-06-01         0.50   \n",
       "38036434  35.0  -73.0   1 1900-03-15 1900-04-01        -0.05   \n",
       "40041138  41.0   29.0   1 1902-11-15 1902-12-01        -4.50   \n",
       "16068561 -37.0  -65.0   0 1934-10-15 1934-10-01        -0.97   \n",
       "13237770 -47.0   65.0   1 1920-11-15 1920-12-01        -0.19   \n",
       "24312059 -11.0  115.0   0 2012-12-15 2012-12-01         1.03   \n",
       "1991448  -83.0  -85.0   0 1908-09-15 1908-09-01          NaN   \n",
       "25365261  -7.0   15.0   1 2011-10-15 2011-11-01         0.29   \n",
       "\n",
       "                          country  \n",
       "8747671   International territory  \n",
       "29522290  International territory  \n",
       "12082088  International territory  \n",
       "38036434  International territory  \n",
       "40041138  International territory  \n",
       "16068561                Argentina  \n",
       "13237770  International territory  \n",
       "24312059  International territory  \n",
       "1991448                Antarctica  \n",
       "25365261                   Angola  "
      ]
     },
     "execution_count": 8,
     "metadata": {},
     "output_type": "execute_result"
    }
   ],
   "source": [
    "dfnasa1"
   ]
  },
  {
   "cell_type": "code",
   "execution_count": null,
   "metadata": {},
   "outputs": [
    {
     "name": "stderr",
     "output_type": "stream",
     "text": [
      "  0%|                                                                      | 1761/16070400 [03:23<511:19:23,  8.73it/s]"
     ]
    }
   ],
   "source": [
    "with tqdm(total=len(dfnasa80)) as pbar:\n",
    "    dfnasa80['country'] = np.vectorize(countryName)(dfnasa80['lat'],dfnasa80['lon'])"
   ]
  },
  {
   "cell_type": "code",
   "execution_count": 11,
   "metadata": {},
   "outputs": [
    {
     "data": {
      "text/html": [
       "<div>\n",
       "<style scoped>\n",
       "    .dataframe tbody tr th:only-of-type {\n",
       "        vertical-align: middle;\n",
       "    }\n",
       "\n",
       "    .dataframe tbody tr th {\n",
       "        vertical-align: top;\n",
       "    }\n",
       "\n",
       "    .dataframe thead th {\n",
       "        text-align: right;\n",
       "    }\n",
       "</style>\n",
       "<table border=\"1\" class=\"dataframe\">\n",
       "  <thead>\n",
       "    <tr style=\"text-align: right;\">\n",
       "      <th></th>\n",
       "      <th>Unnamed: 0</th>\n",
       "      <th>lat</th>\n",
       "      <th>lon</th>\n",
       "      <th>nv</th>\n",
       "      <th>time</th>\n",
       "      <th>time_bnds</th>\n",
       "      <th>tempanomaly</th>\n",
       "      <th>country</th>\n",
       "    </tr>\n",
       "  </thead>\n",
       "  <tbody>\n",
       "    <tr>\n",
       "      <th>7322904</th>\n",
       "      <td>25039704</td>\n",
       "      <td>-7.0</td>\n",
       "      <td>-177.0</td>\n",
       "      <td>1</td>\n",
       "      <td>2018-01-15</td>\n",
       "      <td>2018-02-01</td>\n",
       "      <td>0.55</td>\n",
       "      <td>International territory</td>\n",
       "    </tr>\n",
       "    <tr>\n",
       "      <th>12566272</th>\n",
       "      <td>42969472</td>\n",
       "      <td>51.0</td>\n",
       "      <td>-45.0</td>\n",
       "      <td>1</td>\n",
       "      <td>1989-05-15</td>\n",
       "      <td>1989-06-01</td>\n",
       "      <td>-0.59</td>\n",
       "      <td>International territory</td>\n",
       "    </tr>\n",
       "    <tr>\n",
       "      <th>8103919</th>\n",
       "      <td>27710719</td>\n",
       "      <td>1.0</td>\n",
       "      <td>-41.0</td>\n",
       "      <td>0</td>\n",
       "      <td>2002-08-15</td>\n",
       "      <td>2002-08-01</td>\n",
       "      <td>0.43</td>\n",
       "      <td>International territory</td>\n",
       "    </tr>\n",
       "    <tr>\n",
       "      <th>852271</th>\n",
       "      <td>2915071</td>\n",
       "      <td>-81.0</td>\n",
       "      <td>99.0</td>\n",
       "      <td>0</td>\n",
       "      <td>1991-12-15</td>\n",
       "      <td>1991-12-01</td>\n",
       "      <td>1.59</td>\n",
       "      <td>Antarctica</td>\n",
       "    </tr>\n",
       "    <tr>\n",
       "      <th>12802698</th>\n",
       "      <td>43777098</td>\n",
       "      <td>53.0</td>\n",
       "      <td>71.0</td>\n",
       "      <td>1</td>\n",
       "      <td>2016-11-15</td>\n",
       "      <td>2016-12-01</td>\n",
       "      <td>-3.99</td>\n",
       "      <td>Kazakhstan</td>\n",
       "    </tr>\n",
       "    <tr>\n",
       "      <th>6434307</th>\n",
       "      <td>22001907</td>\n",
       "      <td>-17.0</td>\n",
       "      <td>-167.0</td>\n",
       "      <td>0</td>\n",
       "      <td>1996-04-15</td>\n",
       "      <td>1996-04-01</td>\n",
       "      <td>0.17</td>\n",
       "      <td>International territory</td>\n",
       "    </tr>\n",
       "    <tr>\n",
       "      <th>5544089</th>\n",
       "      <td>18957689</td>\n",
       "      <td>-27.0</td>\n",
       "      <td>-163.0</td>\n",
       "      <td>1</td>\n",
       "      <td>2004-10-15</td>\n",
       "      <td>2004-11-01</td>\n",
       "      <td>0.48</td>\n",
       "      <td>International territory</td>\n",
       "    </tr>\n",
       "    <tr>\n",
       "      <th>15010838</th>\n",
       "      <td>51327638</td>\n",
       "      <td>79.0</td>\n",
       "      <td>-157.0</td>\n",
       "      <td>1</td>\n",
       "      <td>2012-07-15</td>\n",
       "      <td>2012-08-01</td>\n",
       "      <td>2.22</td>\n",
       "      <td>International territory</td>\n",
       "    </tr>\n",
       "    <tr>\n",
       "      <th>10319426</th>\n",
       "      <td>35286626</td>\n",
       "      <td>25.0</td>\n",
       "      <td>105.0</td>\n",
       "      <td>1</td>\n",
       "      <td>1992-03-15</td>\n",
       "      <td>1992-04-01</td>\n",
       "      <td>-1.31</td>\n",
       "      <td>China</td>\n",
       "    </tr>\n",
       "    <tr>\n",
       "      <th>6391868</th>\n",
       "      <td>21856268</td>\n",
       "      <td>-19.0</td>\n",
       "      <td>107.0</td>\n",
       "      <td>0</td>\n",
       "      <td>2014-05-15</td>\n",
       "      <td>2014-05-01</td>\n",
       "      <td>0.87</td>\n",
       "      <td>International territory</td>\n",
       "    </tr>\n",
       "  </tbody>\n",
       "</table>\n",
       "</div>"
      ],
      "text/plain": [
       "          Unnamed: 0   lat    lon  nv        time   time_bnds  tempanomaly  \\\n",
       "7322904     25039704  -7.0 -177.0   1  2018-01-15  2018-02-01         0.55   \n",
       "12566272    42969472  51.0  -45.0   1  1989-05-15  1989-06-01        -0.59   \n",
       "8103919     27710719   1.0  -41.0   0  2002-08-15  2002-08-01         0.43   \n",
       "852271       2915071 -81.0   99.0   0  1991-12-15  1991-12-01         1.59   \n",
       "12802698    43777098  53.0   71.0   1  2016-11-15  2016-12-01        -3.99   \n",
       "6434307     22001907 -17.0 -167.0   0  1996-04-15  1996-04-01         0.17   \n",
       "5544089     18957689 -27.0 -163.0   1  2004-10-15  2004-11-01         0.48   \n",
       "15010838    51327638  79.0 -157.0   1  2012-07-15  2012-08-01         2.22   \n",
       "10319426    35286626  25.0  105.0   1  1992-03-15  1992-04-01        -1.31   \n",
       "6391868     21856268 -19.0  107.0   0  2014-05-15  2014-05-01         0.87   \n",
       "\n",
       "                          country  \n",
       "7322904   International territory  \n",
       "12566272  International territory  \n",
       "8103919   International territory  \n",
       "852271                 Antarctica  \n",
       "12802698               Kazakhstan  \n",
       "6434307   International territory  \n",
       "5544089   International territory  \n",
       "15010838  International territory  \n",
       "10319426                    China  \n",
       "6391868   International territory  "
      ]
     },
     "execution_count": 11,
     "metadata": {},
     "output_type": "execute_result"
    }
   ],
   "source": [
    "dfnasa1"
   ]
  },
  {
   "cell_type": "code",
   "execution_count": null,
   "metadata": {},
   "outputs": [],
   "source": [
    "v = np.vectorize(lambda x, y: y in x)"
   ]
  }
 ],
 "metadata": {
  "kernelspec": {
   "display_name": "Python 3",
   "language": "python",
   "name": "python3"
  },
  "language_info": {
   "codemirror_mode": {
    "name": "ipython",
    "version": 3
   },
   "file_extension": ".py",
   "mimetype": "text/x-python",
   "name": "python",
   "nbconvert_exporter": "python",
   "pygments_lexer": "ipython3",
   "version": "3.8.5"
  }
 },
 "nbformat": 4,
 "nbformat_minor": 4
}
