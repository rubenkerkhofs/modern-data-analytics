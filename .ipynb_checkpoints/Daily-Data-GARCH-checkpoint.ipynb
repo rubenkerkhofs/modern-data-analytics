{
 "cells": [
  {
   "cell_type": "code",
   "execution_count": 44,
   "id": "a10341f5",
   "metadata": {},
   "outputs": [
    {
     "data": {
      "text/plain": [
       "['.git',\n",
       " '.gitignore',\n",
       " '.ipynb_checkpoints',\n",
       " 'app.py',\n",
       " 'assets',\n",
       " 'Daily-Data-GARCH.ipynb',\n",
       " 'Data',\n",
       " 'Experimental Notebooks',\n",
       " 'Mitja Code',\n",
       " 'Model architecture temperature prediction.ipynb',\n",
       " 'model.py',\n",
       " 'pages',\n",
       " 'Procfile',\n",
       " 'RedditData.py',\n",
       " 'RedditScrape.ipynb',\n",
       " 'requirements.txt',\n",
       " 'Scraping temperature anomalies.ipynb',\n",
       " 'temperature_model.py',\n",
       " 'utils.py']"
      ]
     },
     "execution_count": 44,
     "metadata": {},
     "output_type": "execute_result"
    }
   ],
   "source": [
    "import numpy as np\n",
    "import os\n",
    "import zipfile as zf\n",
    "import gzip \n",
    "import urllib.request\n",
    "#import xarray as xr\n",
    "import io\n",
    "import pandas as pd\n",
    "import datetime as dt\n",
    "from datetime import datetime\n",
    "import arch\n",
    "from arch import arch_model\n",
    "import os\n",
    "from statsmodels.tsa import stattools, arima \n",
    "import pmdarima as pm\n",
    "import yfinance as yf\n",
    "import statsmodels.api as sm\n",
    "os.getcwd()\n",
    "os.listdir()"
   ]
  },
  {
   "cell_type": "code",
   "execution_count": 6,
   "id": "d746f218",
   "metadata": {},
   "outputs": [
    {
     "name": "stderr",
     "output_type": "stream",
     "text": [
      "C:\\Users\\jara_\\anaconda3\\lib\\site-packages\\pmdarima\\utils\\visualization.py:219: FutureWarning: the 'unbiased'' keyword is deprecated, use 'adjusted' instead\n",
      "  res = tsaplots.plot_acf(\n"
     ]
    },
    {
     "data": {
      "image/png": "[encoded data removed]",
      "text/plain": [
       "<Figure size 432x288 with 1 Axes>"
      ]
     },
     "metadata": {
      "needs_background": "light"
     },
     "output_type": "display_data"
    },
    {
     "data": {
      "image/png": "[encoded data removed]",
      "text/plain": [
       "<Figure size 432x288 with 1 Axes>"
      ]
     },
     "metadata": {
      "needs_background": "light"
     },
     "output_type": "display_data"
    }
   ],
   "source": [
    "path = os.getcwd()\n",
    "#path = path.replace('\\\\Experimental Notebooks', '')\n",
    "path = path + '\\\\Data'\n",
    "files = os.listdir(path)\n",
    "#returns_df_path = [x for x in files if 'returns' in x]\n",
    "#returns_df = pd.read_csv(path + '\\\\' + returns_df_path[0])\n",
    "stock = yf.Ticker(\"AAPL\")\n",
    "stock.info['previousClose']\n",
    "returns_df = stock.history(period = 'max')\n",
    "returns_df = returns_df['Close']\n",
    "returns_df = returns_df.reset_index()\n",
    "returns_df['Date'] = pd.to_datetime(returns_df['Date'])\n",
    "returns_df = returns_df.sort_values(by = 'Date')\n",
    "returns_df_train = returns_df[(returns_df['Date'].dt.year >= 2001) & (returns_df['Date'].dt.year < 2021)]\n",
    "pm.arima.ndiffs(returns_df['Close'])\n",
    "pm.arima.nsdiffs(returns_df['Close'], m = 7)\n",
    "diff_series = returns_df.Close.diff()\n",
    "pm.plot_acf(diff_series.dropna())\n",
    "pm.plot_pacf(diff_series.dropna())"
   ]
  },
  {
   "cell_type": "code",
   "execution_count": 3,
   "id": "5ac166a2",
   "metadata": {},
   "outputs": [
    {
     "data": {
      "text/html": [
       "<table class=\"simpletable\">\n",
       "<caption>SARIMAX Results</caption>\n",
       "<tr>\n",
       "  <th>Dep. Variable:</th>                    <td>y</td>                 <th>  No. Observations:  </th>   <td>5032</td>   \n",
       "</tr>\n",
       "<tr>\n",
       "  <th>Model:</th>           <td>SARIMAX(3, 2, 0)x(4, 0, [1, 2], 7)</td> <th>  Log Likelihood     </th> <td>-5604.312</td>\n",
       "</tr>\n",
       "<tr>\n",
       "  <th>Date:</th>                     <td>Mon, 31 May 2021</td>          <th>  AIC                </th> <td>11228.625</td>\n",
       "</tr>\n",
       "<tr>\n",
       "  <th>Time:</th>                         <td>09:19:53</td>              <th>  BIC                </th> <td>11293.856</td>\n",
       "</tr>\n",
       "<tr>\n",
       "  <th>Sample:</th>                           <td>0</td>                 <th>  HQIC               </th> <td>11251.480</td>\n",
       "</tr>\n",
       "<tr>\n",
       "  <th></th>                               <td> - 5032</td>              <th>                     </th>     <td> </td>    \n",
       "</tr>\n",
       "<tr>\n",
       "  <th>Covariance Type:</th>                 <td>opg</td>                <th>                     </th>     <td> </td>    \n",
       "</tr>\n",
       "</table>\n",
       "<table class=\"simpletable\">\n",
       "<tr>\n",
       "      <td></td>        <th>coef</th>     <th>std err</th>      <th>z</th>      <th>P>|z|</th>  <th>[0.025</th>    <th>0.975]</th>  \n",
       "</tr>\n",
       "<tr>\n",
       "  <th>ar.L1</th>    <td>   -0.8452</td> <td>    0.004</td> <td> -216.136</td> <td> 0.000</td> <td>   -0.853</td> <td>   -0.838</td>\n",
       "</tr>\n",
       "<tr>\n",
       "  <th>ar.L2</th>    <td>   -0.5344</td> <td>    0.005</td> <td> -105.314</td> <td> 0.000</td> <td>   -0.544</td> <td>   -0.524</td>\n",
       "</tr>\n",
       "<tr>\n",
       "  <th>ar.L3</th>    <td>   -0.2533</td> <td>    0.004</td> <td>  -62.586</td> <td> 0.000</td> <td>   -0.261</td> <td>   -0.245</td>\n",
       "</tr>\n",
       "<tr>\n",
       "  <th>ar.S.L7</th>  <td>   -0.9061</td> <td>    0.036</td> <td>  -25.450</td> <td> 0.000</td> <td>   -0.976</td> <td>   -0.836</td>\n",
       "</tr>\n",
       "<tr>\n",
       "  <th>ar.S.L14</th> <td>   -0.4659</td> <td>    0.034</td> <td>  -13.787</td> <td> 0.000</td> <td>   -0.532</td> <td>   -0.400</td>\n",
       "</tr>\n",
       "<tr>\n",
       "  <th>ar.S.L21</th> <td>    0.1087</td> <td>    0.007</td> <td>   15.393</td> <td> 0.000</td> <td>    0.095</td> <td>    0.122</td>\n",
       "</tr>\n",
       "<tr>\n",
       "  <th>ar.S.L28</th> <td>    0.0927</td> <td>    0.005</td> <td>   17.704</td> <td> 0.000</td> <td>    0.082</td> <td>    0.103</td>\n",
       "</tr>\n",
       "<tr>\n",
       "  <th>ma.S.L7</th>  <td>    0.9932</td> <td>    0.036</td> <td>   27.809</td> <td> 0.000</td> <td>    0.923</td> <td>    1.063</td>\n",
       "</tr>\n",
       "<tr>\n",
       "  <th>ma.S.L14</th> <td>    0.5856</td> <td>    0.035</td> <td>   16.578</td> <td> 0.000</td> <td>    0.516</td> <td>    0.655</td>\n",
       "</tr>\n",
       "<tr>\n",
       "  <th>sigma2</th>   <td>    0.5435</td> <td>    0.002</td> <td>  245.882</td> <td> 0.000</td> <td>    0.539</td> <td>    0.548</td>\n",
       "</tr>\n",
       "</table>\n",
       "<table class=\"simpletable\">\n",
       "<tr>\n",
       "  <th>Ljung-Box (L1) (Q):</th>      <td>20.14</td> <th>  Jarque-Bera (JB):  </th> <td>623363.78</td>\n",
       "</tr>\n",
       "<tr>\n",
       "  <th>Prob(Q):</th>                 <td>0.00</td>  <th>  Prob(JB):          </th>   <td>0.00</td>   \n",
       "</tr>\n",
       "<tr>\n",
       "  <th>Heteroskedasticity (H):</th> <td>891.03</td> <th>  Skew:              </th>   <td>0.37</td>   \n",
       "</tr>\n",
       "<tr>\n",
       "  <th>Prob(H) (two-sided):</th>     <td>0.00</td>  <th>  Kurtosis:          </th>   <td>57.53</td>  \n",
       "</tr>\n",
       "</table><br/><br/>Warnings:<br/>[1] Covariance matrix calculated using the outer product of gradients (complex-step)."
      ],
      "text/plain": [
       "<class 'statsmodels.iolib.summary.Summary'>\n",
       "\"\"\"\n",
       "                                       SARIMAX Results                                        \n",
       "==============================================================================================\n",
       "Dep. Variable:                                      y   No. Observations:                 5032\n",
       "Model:             SARIMAX(3, 2, 0)x(4, 0, [1, 2], 7)   Log Likelihood               -5604.312\n",
       "Date:                                Mon, 31 May 2021   AIC                          11228.625\n",
       "Time:                                        09:19:53   BIC                          11293.856\n",
       "Sample:                                             0   HQIC                         11251.480\n",
       "                                               - 5032                                         \n",
       "Covariance Type:                                  opg                                         \n",
       "==============================================================================\n",
       "                 coef    std err          z      P>|z|      [0.025      0.975]\n",
       "------------------------------------------------------------------------------\n",
       "ar.L1         -0.8452      0.004   -216.136      0.000      -0.853      -0.838\n",
       "ar.L2         -0.5344      0.005   -105.314      0.000      -0.544      -0.524\n",
       "ar.L3         -0.2533      0.004    -62.586      0.000      -0.261      -0.245\n",
       "ar.S.L7       -0.9061      0.036    -25.450      0.000      -0.976      -0.836\n",
       "ar.S.L14      -0.4659      0.034    -13.787      0.000      -0.532      -0.400\n",
       "ar.S.L21       0.1087      0.007     15.393      0.000       0.095       0.122\n",
       "ar.S.L28       0.0927      0.005     17.704      0.000       0.082       0.103\n",
       "ma.S.L7        0.9932      0.036     27.809      0.000       0.923       1.063\n",
       "ma.S.L14       0.5856      0.035     16.578      0.000       0.516       0.655\n",
       "sigma2         0.5435      0.002    245.882      0.000       0.539       0.548\n",
       "===================================================================================\n",
       "Ljung-Box (L1) (Q):                  20.14   Jarque-Bera (JB):            623363.78\n",
       "Prob(Q):                              0.00   Prob(JB):                         0.00\n",
       "Heteroskedasticity (H):             891.03   Skew:                             0.37\n",
       "Prob(H) (two-sided):                  0.00   Kurtosis:                        57.53\n",
       "===================================================================================\n",
       "\n",
       "Warnings:\n",
       "[1] Covariance matrix calculated using the outer product of gradients (complex-step).\n",
       "\"\"\""
      ]
     },
     "execution_count": 3,
     "metadata": {},
     "output_type": "execute_result"
    }
   ],
   "source": [
    "arima_component = pm.auto_arima(returns_df_train['Close'], max_p = 5, \n",
    "                                max_q = 5, m =7, max_P = 5, \n",
    "                                max_Q = 5, max_D = 2,\n",
    "                                seasonal = True, trace = False)\n",
    "arima_component.summary()"
   ]
  },
  {
   "cell_type": "code",
   "execution_count": 15,
   "id": "f2ee5ab6",
   "metadata": {},
   "outputs": [],
   "source": [
    "def loadTemperatures() -> pd.DataFrame:\n",
    "    df = pd.read_pickle(\"data/dfmaxcel.pkl\")\n",
    "    df.DateMax = df.DateMax - (45-32.2)  # Calibrate temperatures\n",
    "    return df\n"
   ]
  },
  {
   "cell_type": "code",
   "execution_count": 16,
   "id": "8e2b3c69",
   "metadata": {},
   "outputs": [],
   "source": [
    "def loadHeatwaves() -> pd.Series:\n",
    "    temperatures = loadTemperatures().dropna().tail(365*11)\n",
    "    temperatures.DateMax = temperatures.DateMax\n",
    "    temps = temperatures.DateMax\n",
    "    heatwave = []\n",
    "    h = False\n",
    "    min_temp = 32.2\n",
    "    for i in range(len(temps) - 2):\n",
    "        temp_tod = temps[i]\n",
    "        temp_tom = temps[i+1]\n",
    "        temp_ove = temps[i+1]\n",
    "        if h and temp_tod > min_temp:\n",
    "            heatwave.append(1)\n",
    "        elif temp_tod > min_temp and temp_tom > min_temp and temp_ove > min_temp:\n",
    "            heatwave.append(1)\n",
    "            h = True\n",
    "        else:\n",
    "            heatwave.append(0)\n",
    "            h = False\n",
    "    heatwave.append(0)\n",
    "    heatwave.append(0)\n",
    "    temperatures.loc[:, 'heatwave'] = heatwave\n",
    "    return temperatures['heatwave']\n"
   ]
  },
  {
   "cell_type": "code",
   "execution_count": 30,
   "id": "c2782c9c",
   "metadata": {},
   "outputs": [],
   "source": [
    "heatwaves_df = loadHeatwaves()"
   ]
  },
  {
   "cell_type": "code",
   "execution_count": 31,
   "id": "abbffba1",
   "metadata": {},
   "outputs": [],
   "source": [
    "heatwaves_df = heatwaves_df.reset_index()\n",
    "heatwaves_df['Date'] = pd.to_datetime(heatwaves_df['Date'])"
   ]
  },
  {
   "cell_type": "code",
   "execution_count": 34,
   "id": "bcbd8aa8",
   "metadata": {},
   "outputs": [
    {
     "name": "stderr",
     "output_type": "stream",
     "text": [
      "C:\\Users\\jara_\\anaconda3\\lib\\site-packages\\pmdarima\\utils\\visualization.py:219: FutureWarning: the 'unbiased'' keyword is deprecated, use 'adjusted' instead\n",
      "  res = tsaplots.plot_acf(\n"
     ]
    },
    {
     "data": {
      "image/png": "[encoded data removed]",
      "text/plain": [
       "<Figure size 432x288 with 1 Axes>"
      ]
     },
     "metadata": {
      "needs_background": "light"
     },
     "output_type": "display_data"
    },
    {
     "name": "stderr",
     "output_type": "stream",
     "text": [
      "<ipython-input-34-5ad7fc3d1d1d>:3: SettingWithCopyWarning: \n",
      "A value is trying to be set on a copy of a slice from a DataFrame.\n",
      "Try using .loc[row_indexer,col_indexer] = value instead\n",
      "\n",
      "See the caveats in the documentation: https://pandas.pydata.org/pandas-docs/stable/user_guide/indexing.html#returning-a-view-versus-a-copy\n",
      "  returns_df_train['Residuals'] = residuals.tolist()\n"
     ]
    },
    {
     "data": {
      "image/png": "[encoded data removed]",
      "text/plain": [
       "<Figure size 432x288 with 1 Axes>"
      ]
     },
     "metadata": {
      "needs_background": "light"
     },
     "output_type": "display_data"
    }
   ],
   "source": [
    "residuals = arima_component.resid()\n",
    "pm.plot_acf(np.square(residuals))\n",
    "returns_df_train['Residuals'] = residuals.tolist()\n",
    "returns_resid = returns_df_train.iloc[1:]\n",
    "returns_resid.plot(x = 'Date', y = 'Residuals')\n",
    "returns_resid = returns_resid.merge(heatwaves_df, on = 'Date', how = 'inner')"
   ]
  },
  {
   "cell_type": "code",
   "execution_count": 36,
   "id": "fad83ba7",
   "metadata": {},
   "outputs": [
    {
     "data": {
      "text/html": [
       "<div>\n",
       "<style scoped>\n",
       "    .dataframe tbody tr th:only-of-type {\n",
       "        vertical-align: middle;\n",
       "    }\n",
       "\n",
       "    .dataframe tbody tr th {\n",
       "        vertical-align: top;\n",
       "    }\n",
       "\n",
       "    .dataframe thead th {\n",
       "        text-align: right;\n",
       "    }\n",
       "</style>\n",
       "<table border=\"1\" class=\"dataframe\">\n",
       "  <thead>\n",
       "    <tr style=\"text-align: right;\">\n",
       "      <th></th>\n",
       "      <th>Date</th>\n",
       "      <th>Close</th>\n",
       "      <th>Residuals</th>\n",
       "      <th>heatwave</th>\n",
       "    </tr>\n",
       "  </thead>\n",
       "  <tbody>\n",
       "    <tr>\n",
       "      <th>0</th>\n",
       "      <td>2010-01-04</td>\n",
       "      <td>6.572422</td>\n",
       "      <td>0.069000</td>\n",
       "      <td>0</td>\n",
       "    </tr>\n",
       "    <tr>\n",
       "      <th>1</th>\n",
       "      <td>2010-01-05</td>\n",
       "      <td>6.583784</td>\n",
       "      <td>-0.023440</td>\n",
       "      <td>0</td>\n",
       "    </tr>\n",
       "    <tr>\n",
       "      <th>2</th>\n",
       "      <td>2010-01-06</td>\n",
       "      <td>6.479061</td>\n",
       "      <td>-0.161680</td>\n",
       "      <td>0</td>\n",
       "    </tr>\n",
       "    <tr>\n",
       "      <th>3</th>\n",
       "      <td>2010-01-07</td>\n",
       "      <td>6.467082</td>\n",
       "      <td>-0.020501</td>\n",
       "      <td>0</td>\n",
       "    </tr>\n",
       "    <tr>\n",
       "      <th>4</th>\n",
       "      <td>2010-01-08</td>\n",
       "      <td>6.510078</td>\n",
       "      <td>0.077752</td>\n",
       "      <td>0</td>\n",
       "    </tr>\n",
       "    <tr>\n",
       "      <th>...</th>\n",
       "      <td>...</td>\n",
       "      <td>...</td>\n",
       "      <td>...</td>\n",
       "      <td>...</td>\n",
       "    </tr>\n",
       "    <tr>\n",
       "      <th>2764</th>\n",
       "      <td>2020-12-24</td>\n",
       "      <td>131.549637</td>\n",
       "      <td>-0.324583</td>\n",
       "      <td>0</td>\n",
       "    </tr>\n",
       "    <tr>\n",
       "      <th>2765</th>\n",
       "      <td>2020-12-28</td>\n",
       "      <td>136.254608</td>\n",
       "      <td>3.616807</td>\n",
       "      <td>0</td>\n",
       "    </tr>\n",
       "    <tr>\n",
       "      <th>2766</th>\n",
       "      <td>2020-12-29</td>\n",
       "      <td>134.440399</td>\n",
       "      <td>-3.341316</td>\n",
       "      <td>0</td>\n",
       "    </tr>\n",
       "    <tr>\n",
       "      <th>2767</th>\n",
       "      <td>2020-12-30</td>\n",
       "      <td>133.294067</td>\n",
       "      <td>-2.403980</td>\n",
       "      <td>0</td>\n",
       "    </tr>\n",
       "    <tr>\n",
       "      <th>2768</th>\n",
       "      <td>2020-12-31</td>\n",
       "      <td>132.267349</td>\n",
       "      <td>-1.774305</td>\n",
       "      <td>0</td>\n",
       "    </tr>\n",
       "  </tbody>\n",
       "</table>\n",
       "<p>2769 rows × 4 columns</p>\n",
       "</div>"
      ],
      "text/plain": [
       "           Date       Close  Residuals  heatwave\n",
       "0    2010-01-04    6.572422   0.069000         0\n",
       "1    2010-01-05    6.583784  -0.023440         0\n",
       "2    2010-01-06    6.479061  -0.161680         0\n",
       "3    2010-01-07    6.467082  -0.020501         0\n",
       "4    2010-01-08    6.510078   0.077752         0\n",
       "...         ...         ...        ...       ...\n",
       "2764 2020-12-24  131.549637  -0.324583         0\n",
       "2765 2020-12-28  136.254608   3.616807         0\n",
       "2766 2020-12-29  134.440399  -3.341316         0\n",
       "2767 2020-12-30  133.294067  -2.403980         0\n",
       "2768 2020-12-31  132.267349  -1.774305         0\n",
       "\n",
       "[2769 rows x 4 columns]"
      ]
     },
     "execution_count": 36,
     "metadata": {},
     "output_type": "execute_result"
    }
   ],
   "source": [
    "returns_resid"
   ]
  },
  {
   "cell_type": "code",
   "execution_count": 45,
   "id": "d235df48",
   "metadata": {},
   "outputs": [],
   "source": [
    "class Model:\n",
    "    def __init__(self, returns: pd.Series,\n",
    "                 exogenous_regressor: pd.Series = None,\n",
    "                 mean_model: str = \"ARX\",\n",
    "                 volatility_model: str = \"Garch\",\n",
    "                 p: int = 1, q: int = 1):\n",
    "        # Define initial volatility model\n",
    "        self.r = returns\n",
    "        self.arch_model = arch_model(self.r,\n",
    "                                     x=exogenous_regressor,\n",
    "                                     mean=mean_model,\n",
    "                                     vol=volatility_model,\n",
    "                                     p=p, q=q\n",
    "                                     )\n",
    "        self.ex = exogenous_regressor\n",
    "        np.random.seed(123456)\n",
    "\n",
    "    #################\n",
    "    # Private methods\n",
    "    #################\n",
    "    def __getGarchPredictions(self):\n",
    "        # !!!!linear model optimized separately from GARCH model!!!!\n",
    "        garch_estimates = []\n",
    "        true_volatility = []\n",
    "        for i in range(len(self.r)-100, len(self.r)-1):\n",
    "            r_filtered = self.r[i-200:i]\n",
    "            am = arch_model(r_filtered)\n",
    "            am = am.fit(disp=\"off\")\n",
    "            forecasts = am.forecast(reindex=False)\n",
    "            garch_estimates.append(forecasts.mean['h.1'].values[0])\n",
    "\n",
    "            # Get true volatility\n",
    "            r_filtered = self.r[i-99:i+1]\n",
    "            true_volatility.append(np.std(r_filtered)**2)\n",
    "        result = pd.DataFrame(true_volatility, columns=['true_volatility'])\n",
    "        result.loc[:, 'garch_volatility_prediction'] = garch_estimates\n",
    "        return result\n",
    "\n",
    "    ################\n",
    "    # Public methods\n",
    "    ################\n",
    "    def fit(self):\n",
    "        ######\n",
    "        # !! Linear correction model and ARX + GARCH model are\n",
    "        # Fitted independently -> suboptimal result!!\n",
    "        ######\n",
    "\n",
    "        # Fit the ARX + GARCH model\n",
    "        self.res = self.arch_model.fit(disp=\"off\")\n",
    "\n",
    "        # Fit the linear correction model\n",
    "        garch_pred = self.__getGarchPredictions()\n",
    "        garch_pred.loc[:, 'dummy'] = np.random.uniform(\n",
    "            0, 1, garch_pred.shape[0])\n",
    "        garch_pred.dummy = garch_pred.dummy.apply(lambda x: int(x > 0.6))\n",
    "        X = garch_pred[['garch_volatility_prediction', 'dummy']]\n",
    "        X = sm.add_constant(X)\n",
    "        y = garch_pred['true_volatility']\n",
    "        mod = sm.OLS(y, X)\n",
    "        mod = mod.fit()\n",
    "        self.summary_lr = mod.summary()\n",
    "\n",
    "        # Save result for forecast\n",
    "        self.intercept = mod.params['const']\n",
    "        self.garch_vol = mod.params['garch_volatility_prediction']\n",
    "        self.dummy_var = mod.params['dummy']\n",
    "\n",
    "    def forecast(self, exogenous: int = None):\n",
    "        if self.ex is None:\n",
    "            forecasts = self.res.forecast(reindex=False)\n",
    "            mean = forecasts.mean['h.1'].values[0]\n",
    "            vol = np.sqrt(forecasts.variance['h.1'].values[0])\n",
    "        else:\n",
    "            forecasts = self.res.forecast(x=exogenous, reindex=False)\n",
    "            mean = forecasts.mean['h.1'].values[0]\n",
    "            vol = np.sqrt(self.intercept +\n",
    "                          self.garch_vol*forecasts.variance['h.1'].values[0] +\n",
    "                          self.dummy_var*exogenous[0])\n",
    "        return mean, vol\n",
    "\n",
    "    def summary(self):\n",
    "        print(self.res.summary())\n",
    "        print(self.summary_lr)\n"
   ]
  },
  {
   "cell_type": "code",
   "execution_count": 46,
   "id": "2804e16c",
   "metadata": {},
   "outputs": [
    {
     "name": "stderr",
     "output_type": "stream",
     "text": [
      "C:\\Users\\jara_\\anaconda3\\lib\\site-packages\\arch\\univariate\\mean.py:506: FutureWarning: Support for multi-dimensional indexing (e.g. `obj[:, None]`) is deprecated and will be removed in a future version.  Convert to a numpy array before indexing instead.\n",
      "  self._x = self._x[:, None]\n"
     ]
    }
   ],
   "source": [
    "arch_mod = Model(returns = returns_resid['Residuals'], exogenous_regressor = returns_resid['heatwave'])"
   ]
  },
  {
   "cell_type": "code",
   "execution_count": 47,
   "id": "53f06975",
   "metadata": {},
   "outputs": [],
   "source": [
    "arch_mod.fit()"
   ]
  },
  {
   "cell_type": "code",
   "execution_count": 48,
   "id": "59ed96d5",
   "metadata": {},
   "outputs": [
    {
     "name": "stdout",
     "output_type": "stream",
     "text": [
      "                          AR-X - GARCH Model Results                          \n",
      "==============================================================================\n",
      "Dep. Variable:              Residuals   R-squared:                      -0.001\n",
      "Mean Model:                      AR-X   Adj. R-squared:                 -0.001\n",
      "Vol Model:                      GARCH   Log-Likelihood:               -1812.09\n",
      "Distribution:                  Normal   AIC:                           3634.17\n",
      "Method:            Maximum Likelihood   BIC:                           3663.81\n",
      "                                        No. Observations:                 2769\n",
      "Date:                Mon, May 31 2021   Df Residuals:                     2767\n",
      "Time:                        10:18:06   Df Model:                            2\n",
      "                                  Mean Model                                 \n",
      "=============================================================================\n",
      "                 coef    std err          t      P>|t|       95.0% Conf. Int.\n",
      "-----------------------------------------------------------------------------\n",
      "Const      3.9078e-03  6.115e-03      0.639      0.523 [-8.077e-03,1.589e-02]\n",
      "x0             0.0655  5.160e-02      1.269      0.205   [-3.567e-02,  0.167]\n",
      "                               Volatility Model                              \n",
      "=============================================================================\n",
      "                 coef    std err          t      P>|t|       95.0% Conf. Int.\n",
      "-----------------------------------------------------------------------------\n",
      "omega      8.2753e-04  1.105e-03      0.749      0.454 [-1.339e-03,2.994e-03]\n",
      "alpha[1]       0.0709  4.601e-02      1.541      0.123   [-1.930e-02,  0.161]\n",
      "beta[1]        0.9291  5.060e-02     18.360  2.724e-75      [  0.830,  1.028]\n",
      "=============================================================================\n",
      "\n",
      "Covariance estimator: robust\n",
      "                            OLS Regression Results                            \n",
      "==============================================================================\n",
      "Dep. Variable:        true_volatility   R-squared:                       0.025\n",
      "Model:                            OLS   Adj. R-squared:                  0.005\n",
      "Method:                 Least Squares   F-statistic:                     1.240\n",
      "Date:                Mon, 31 May 2021   Prob (F-statistic):              0.294\n",
      "Time:                        10:18:10   Log-Likelihood:                -231.55\n",
      "No. Observations:                  99   AIC:                             469.1\n",
      "Df Residuals:                      96   BIC:                             476.9\n",
      "Df Model:                           2                                         \n",
      "Covariance Type:            nonrobust                                         \n",
      "===============================================================================================\n",
      "                                  coef    std err          t      P>|t|      [0.025      0.975]\n",
      "-----------------------------------------------------------------------------------------------\n",
      "const                           9.7934      0.750     13.057      0.000       8.305      11.282\n",
      "garch_volatility_prediction    10.7646     10.193      1.056      0.294      -9.468      30.997\n",
      "dummy                           0.5978      0.533      1.122      0.265      -0.460       1.656\n",
      "==============================================================================\n",
      "Omnibus:                       13.107   Durbin-Watson:                   0.034\n",
      "Prob(Omnibus):                  0.001   Jarque-Bera (JB):               13.170\n",
      "Skew:                          -0.834   Prob(JB):                      0.00138\n",
      "Kurtosis:                       2.358   Cond. No.                         43.1\n",
      "==============================================================================\n",
      "\n",
      "Notes:\n",
      "[1] Standard Errors assume that the covariance matrix of the errors is correctly specified.\n"
     ]
    }
   ],
   "source": [
    "arch_mod.summary()"
   ]
  },
  {
   "cell_type": "code",
   "execution_count": null,
   "id": "7c088822",
   "metadata": {},
   "outputs": [],
   "source": []
  }
 ],
 "metadata": {
  "kernelspec": {
   "display_name": "Python 3",
   "language": "python",
   "name": "python3"
  },
  "language_info": {
   "codemirror_mode": {
    "name": "ipython",
    "version": 3
   },
   "file_extension": ".py",
   "mimetype": "text/x-python",
   "name": "python",
   "nbconvert_exporter": "python",
   "pygments_lexer": "ipython3",
   "version": "3.8.8"
  }
 },
 "nbformat": 4,
 "nbformat_minor": 5
}
