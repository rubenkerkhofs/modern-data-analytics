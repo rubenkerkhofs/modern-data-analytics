{
 "cells": [
  {
   "cell_type": "code",
   "execution_count": 89,
   "metadata": {},
   "outputs": [],
   "source": [
    "import pandas as pd\n",
    "import requests\n",
    "import datetime\n",
    "import numpy as np\n",
    "from datetime import datetime\n",
    "import time\n",
    "from time import sleep\n",
    "import json\n",
    "import random"
   ]
  },
  {
   "cell_type": "code",
   "execution_count": 182,
   "metadata": {},
   "outputs": [],
   "source": [
    "def getPushshiftData(query, after, before, sub, endpoint = 'submission', size = 25, score = '>99'):\n",
    "    url = 'https://api.pushshift.io/reddit/search/' + endpoint\n",
    "    parameters = {'subreddit': sub, 'title' : query, 'after' : str(after), 'before' : str(before), 'size': 500}#, 'score' :score}\n",
    "    \n",
    "    if endpoint == 'comment':\n",
    "        parameters['score'] = '>99'\n",
    "        \n",
    "    r = requests.get(url, parameters)\n",
    "    try:\n",
    "        data = r.json()\n",
    "    except:\n",
    "        data = {'data':[]}\n",
    "        \n",
    "    return data['data']"
   ]
  },
  {
   "cell_type": "code",
   "execution_count": 183,
   "metadata": {},
   "outputs": [],
   "source": [
    "def collectSubData(subm, subStats):\n",
    "    #subData = list() #list to store data points\n",
    "    \n",
    "    pd.DataFrame\n",
    "    title = subm['title']\n",
    "    url = subm['url']\n",
    "    \n",
    "    try:\n",
    "        flair = subm['link_flair_text']\n",
    "    except KeyError:\n",
    "        flair = \"NaN\"\n",
    "        \n",
    "    author = subm['author']\n",
    "    sub_id = subm['id']\n",
    "    score = subm['score']\n",
    "    created = datetime.datetime.fromtimestamp(subm['created_utc'])\n",
    "    numComms = subm['num_comments']\n",
    "    permalink = subm['permalink']\n",
    "    text = subm['selftext']\n",
    "    \n",
    "    subData.append((sub_id,title,url,author,score,created,numComms,permalink,flair))\n",
    "    subStats[sub_id] = subData"
   ]
  },
  {
   "cell_type": "code",
   "execution_count": 184,
   "metadata": {},
   "outputs": [],
   "source": [
    "def extractStats(data):\n",
    "    \n",
    "    subStats = {}\n",
    "    subCount = 0\n",
    "    \n",
    "    while len(data) > 0:\n",
    "        print(len(data), end = ' , ')\n",
    "        for submission in data:\n",
    "            collectSubData(submission, subStats)\n",
    "            subCount+=1\n",
    "            \n",
    "        # Calls getPushshiftData() with the created date of the last submission\n",
    "        print(len(data), end = \" , \")\n",
    "        print(str(datetime.datetime.fromtimestamp(data[-1]['created_utc'])), end = ' , ')\n",
    "        after = data[-1]['created_utc']\n",
    "        data = getPushshiftData(query, after, before, sub)\n",
    "\n",
    "    print(len(data))\n",
    "    return(subStats)"
   ]
  },
  {
   "cell_type": "markdown",
   "metadata": {},
   "source": [
    "Code snippets from https://rareloot.medium.com/using-pushshifts-api-to-extract-reddit-submissions-fb517b286563"
   ]
  },
  {
   "cell_type": "code",
   "execution_count": 185,
   "metadata": {},
   "outputs": [],
   "source": [
    "def dt2unix(before, after, format = \"%Y/%m/%d\"):\n",
    "    # input: two strings in the form yyyy/mm/dd\n",
    "    # returns: tuple (before, after) as unix times\n",
    "    beforeUnix = time.mktime(datetime.strptime(before, format).timetuple())\n",
    "    afterUnix = time.mktime(datetime.strptime(after, format).timetuple())\n",
    "    \n",
    "    return(int(beforeUnix), int(afterUnix))"
   ]
  },
  {
   "cell_type": "code",
   "execution_count": 186,
   "metadata": {},
   "outputs": [],
   "source": [
    "def extractData(data):\n",
    "    dataDF = pd.DataFrame(data)\n",
    "    toExtract = ['author',\n",
    "                 'subreddit',\n",
    "                  'created_utc',\n",
    "                  'full_link', \n",
    "                  'id', 'is_self', \n",
    "                  'is_video', \n",
    "                  'locked', \n",
    "                  'num_comments', \n",
    "                  'num_crossposts', \n",
    "                  'pinned', \n",
    "                  'score',\n",
    "                 'selftext',\n",
    "                  'title',\n",
    "                'body']\n",
    "    outDF = pd.DataFrame([])\n",
    "    for query in toExtract:\n",
    "        try:\n",
    "            outDF[query] = dataDF[query]\n",
    "        except:\n",
    "            pass\n",
    "        \n",
    "    return(outDF)"
   ]
  },
  {
   "cell_type": "code",
   "execution_count": 187,
   "metadata": {},
   "outputs": [],
   "source": [
    "def getNews(query, after, before, sublist = ['news','worldnews','gunpolitics'], endpoint = 'submission'):\n",
    "    combinedDF = pd.DataFrame()\n",
    "    after0 = after\n",
    "    for sub in sublist:\n",
    "        print(\"\\n\")\n",
    "        print(sub)\n",
    "        datai = getPushshiftData(query, after0, before, sub, endpoint)\n",
    "        i = 1\n",
    "        while(len(datai) > 0):\n",
    "            print(len(datai), end = ' ')\n",
    "            dataj = extractData(datai)\n",
    "            combinedDF = combinedDF.append(dataj)\n",
    "            after = datai[-1]['created_utc']\n",
    "            \n",
    "            print(after, end = ' , ')\n",
    "            \n",
    "            if i % 10 == 0:\n",
    "                print(\"\\n\")\n",
    "            i+=1\n",
    "            \n",
    "            datai = getPushshiftData(query, after, before, sub, endpoint)\n",
    "            sleep(random.random())\n",
    "            \n",
    "    return(combinedDF)"
   ]
  },
  {
   "cell_type": "code",
   "execution_count": 188,
   "metadata": {},
   "outputs": [],
   "source": [
    "class RedditData:\n",
    "    dataframe = pd.DataFrame()\n",
    "    datalist = []\n",
    "    \n",
    "    \n",
    "    \n",
    "    def __init__(self):\n",
    "        pass\n",
    "    \n",
    "    def collect(self, subs, terms, startdate, enddate, endpoint = 'submission'):\n",
    "        \n",
    "        # assert that subs, dates, and terms are nonempty\n",
    "        assert(len(subs) > 0), \"Search a Subreddit\"\n",
    "        assert(len(terms) > 0), \"Pick a searchterm\"\n",
    "        \n",
    "        \n",
    "        after, before = dt2unix(startdate, enddate)\n",
    "        \n",
    "        \n",
    "        if type(terms) == list:\n",
    "            print(terms)\n",
    "            for term in terms:\n",
    "                print(term)\n",
    "                self.datalist.append(term)\n",
    "                stories = getNews(term, after, before, subs, endpoint)\n",
    "                stories.insert(0, \"Search Term\", term)\n",
    "                self.dataframe = self.dataframe.append(stories)\n",
    "                \n",
    "        else:\n",
    "            print(terms)\n",
    "            stories = getNews(terms, after, before, subs, endpoint)\n",
    "            stories.insert(0, \"Search Term\", terms)\n",
    "            self.dataframe = self.dataframe.append(stories)\n",
    "            \n",
    "    def getdata(self):\n",
    "        return(self.dataframe)"
   ]
  },
  {
   "cell_type": "code",
   "execution_count": 464,
   "metadata": {},
   "outputs": [],
   "source": [
    "start = '2019/5/27'\n",
    "stop = '2021/5/1'"
   ]
  },
  {
   "cell_type": "code",
   "execution_count": 190,
   "metadata": {},
   "outputs": [
    {
     "name": "stdout",
     "output_type": "stream",
     "text": [
      "heat wave\n",
      "\n",
      "\n",
      "news\n",
      "100 1593196637 , 69 1602615593 , \n",
      "\n",
      "worldnews\n",
      "100 1564951090 , 100 1597019788 , 37 1606816378 , \n",
      "\n",
      "TrueNews\n",
      "2 1595210651 , \n",
      "\n",
      "InDepthStories\n",
      "5 1599184046 , "
     ]
    }
   ],
   "source": [
    "stories = RedditData()\n",
    "stories.collect(['news','worldnews','TrueNews', \"InDepthStories\"], \"heat wave\", start,stop)"
   ]
  },
  {
   "cell_type": "code",
   "execution_count": 191,
   "metadata": {},
   "outputs": [
    {
     "data": {
      "text/plain": [
       "<matplotlib.axes._subplots.AxesSubplot at 0x7efcd10602e0>"
      ]
     },
     "execution_count": 191,
     "metadata": {},
     "output_type": "execute_result"
    },
    {
     "data": {
      "image/png": "[encoded data removed]",
      "text/plain": [
       "<Figure size 432x288 with 1 Axes>"
      ]
     },
     "metadata": {
      "needs_background": "light"
     },
     "output_type": "display_data"
    }
   ],
   "source": [
    "stories.getdata()['created_utc'].hist(bins = 25)"
   ]
  },
  {
   "cell_type": "code",
   "execution_count": 192,
   "metadata": {},
   "outputs": [
    {
     "data": {
      "text/plain": [
       "0    879\n",
       "1      1\n",
       "2     19\n",
       "3      1\n",
       "4     76\n",
       "    ... \n",
       "0      1\n",
       "1      1\n",
       "2      1\n",
       "3      1\n",
       "4      1\n",
       "Name: score, Length: 413, dtype: int64"
      ]
     },
     "execution_count": 192,
     "metadata": {},
     "output_type": "execute_result"
    }
   ],
   "source": [
    "stories.getdata()['score']"
   ]
  },
  {
   "cell_type": "code",
   "execution_count": 193,
   "metadata": {},
   "outputs": [],
   "source": [
    "p = stories.getdata()['created_utc'].apply(datetime.fromtimestamp).value_counts()"
   ]
  },
  {
   "cell_type": "code",
   "execution_count": 194,
   "metadata": {},
   "outputs": [],
   "source": [
    "cutoff = 15"
   ]
  },
  {
   "cell_type": "code",
   "execution_count": 195,
   "metadata": {},
   "outputs": [],
   "source": [
    "timesvalues = p > cutoff"
   ]
  },
  {
   "cell_type": "code",
   "execution_count": 196,
   "metadata": {},
   "outputs": [
    {
     "data": {
      "text/plain": [
       "2020-08-15 02:25:36    False\n",
       "2019-08-03 04:22:17    False\n",
       "2019-08-02 01:27:03    False\n",
       "2019-09-06 05:38:20    False\n",
       "2019-07-21 00:33:39    False\n",
       "                       ...  \n",
       "2020-08-01 19:18:28    False\n",
       "2020-08-16 01:36:29    False\n",
       "2020-08-16 09:36:12    False\n",
       "2019-08-07 09:20:17    False\n",
       "2020-04-26 04:13:16    False\n",
       "Name: created_utc, Length: 413, dtype: bool"
      ]
     },
     "execution_count": 196,
     "metadata": {},
     "output_type": "execute_result"
    }
   ],
   "source": [
    "timesvalues"
   ]
  },
  {
   "cell_type": "code",
   "execution_count": 197,
   "metadata": {},
   "outputs": [],
   "source": [
    "counts, rEdge = np.histogram(stories.getdata()['created_utc'], bins = 25)"
   ]
  },
  {
   "cell_type": "code",
   "execution_count": 198,
   "metadata": {},
   "outputs": [
    {
     "data": {
      "text/plain": [
       "'\\nif counts[0] > cutoff:\\n    tSeries = 1*(rEdge[0] > times).to_numpy()\\nelse:\\n    tSeries = 0\\n    \\nfor i in range(1, len(counts)):\\n    if counts[i] > cutoff:\\n        tSeries += ((rEdge[i-1] <= times) & (rEdge[i] > times)).to_numpy()\\n'"
      ]
     },
     "execution_count": 198,
     "metadata": {},
     "output_type": "execute_result"
    }
   ],
   "source": [
    "\"\"\"\n",
    "if counts[0] > cutoff:\n",
    "    tSeries = 1*(rEdge[0] > times).to_numpy()\n",
    "else:\n",
    "    tSeries = 0\n",
    "    \n",
    "for i in range(1, len(counts)):\n",
    "    if counts[i] > cutoff:\n",
    "        tSeries += ((rEdge[i-1] <= times) & (rEdge[i] > times)).to_numpy()\n",
    "\"\"\""
   ]
  },
  {
   "cell_type": "code",
   "execution_count": 199,
   "metadata": {},
   "outputs": [],
   "source": [
    "intervals = []\n",
    "for i in range(len(counts)):\n",
    "    if counts[i] >= cutoff:\n",
    "        intervals.append((rEdge[i],rEdge[i+1]))"
   ]
  },
  {
   "cell_type": "code",
   "execution_count": 200,
   "metadata": {},
   "outputs": [],
   "source": [
    "def heat(x, intervals):\n",
    "    for edge in intervals:\n",
    "        if (x >= edge[0]) & (x <= edge[1]):\n",
    "            return 1\n",
    "    return 0"
   ]
  },
  {
   "cell_type": "code",
   "execution_count": 136,
   "metadata": {
    "scrolled": true
   },
   "outputs": [
    {
     "name": "stdout",
     "output_type": "stream",
     "text": [
      "*\n",
      "\n",
      "\n",
      "wallstreetbets\n",
      "100 1559214797 , 100 1559319850 , 100 1559514453 , 100 1559672109 , 100 1559915949 , 100 1560040061 , 100 1560191314 , 100 1560445673 , 100 1560718858 , 100 1561020250 , \n",
      "\n",
      "100 1561422992 , 100 1561941243 , 100 1562166702 , 100 1562569439 , 100 1562855509 , 100 1563157781 , 100 1563538980 , 100 1570378898 , 100 1578006068 , 100 1578156860 , \n",
      "\n",
      "100 1578415322 , 100 1581203161 , 100 1583291358 , 100 1583974770 , 100 1584130995 , 100 1584488951 , 100 1584579665 , 100 1585001309 , 100 1585185157 , 100 1586378120 , \n",
      "\n",
      "100 1586790566 , 100 1586814769 , 100 1586865318 , 100 1586882102 , 100 1586928197 , 100 1586971747 , 100 1587069457 , 100 1587682242 , 100 1588386905 , 100 1589317821 , \n",
      "\n",
      "100 1591309171 , 100 1591646931 , 100 1591699671 , 100 1591735666 , 100 1591799964 , 100 1591997657 , 100 1594738455 , 100 1594825534 , 100 1594842431 , 100 1595182979 , \n",
      "\n",
      "100 1595265125 , 100 1595330277 , 100 1595373441 , 100 1595450330 , 100 1595508554 , 100 1595536219 , 100 1595603731 , 100 1595640176 , 100 1595733709 , 100 1595851052 , \n",
      "\n",
      "100 1595905789 , 100 1596574754 , 100 1598383720 , 100 1599167483 , 100 1599941712 , 100 1600008378 , 100 1600066376 , 100 1600109247 , 100 1600130019 , 100 1600175167 , \n",
      "\n",
      "100 1600189102 , 100 1600209913 , 100 1600266187 , 100 1600298067 , 100 1600378254 , 100 1600427641 , 100 1600478138 , 100 1600570206 , 100 1600640838 , 100 1601169814 , \n",
      "\n",
      "100 1602395515 , 100 1605436108 , 100 1605510414 , 100 1605561144 , 100 1605578820 , 100 1605637323 , 100 1605688274 , 100 1605726045 , 100 1605756082 , 100 1605812235 , \n",
      "\n",
      "100 1605843362 , 100 1605946181 , 100 1606074243 , 100 1606181020 , 100 1606842932 , 100 1607284622 , 100 1608160429 , 100 1608250765 , 100 1608299159 , 100 1608329244 , \n",
      "\n",
      "100 1608409769 , 100 1608487937 , 100 1608512254 , 100 1609940374 , 100 1609990327 , 100 1610039534 , 100 1610055359 , 100 1610102584 , 100 1610122734 , 100 1610138259 , \n",
      "\n",
      "100 1610201023 , 100 1610236545 , 100 1610289550 , 100 1610312796 , 100 1610334126 , 100 1610380899 , 100 1610397453 , 100 1610414367 , 100 1610460157 , 100 1610490569 , \n",
      "\n",
      "100 1610541607 , 100 1610554108 , 100 1610558769 , 100 1610571946 , 100 1610575763 , 100 1610616263 , 100 1610636257 , 100 1610645617 , 100 1610657331 , 100 1610660575 , \n",
      "\n",
      "100 1610667612 , 100 1610673965 , 100 1610686698 , 100 1610714145 , 100 1610724889 , 100 1610733406 , 100 1610744131 , 100 1610751132 , 100 1610766719 , 100 1610791175 , \n",
      "\n",
      "100 1610820340 , 100 1610832723 , 100 1610865186 , 100 1610903726 , 100 1610915689 , 100 1610928294 , 100 1610950658 , 100 1610970656 , 100 1610980429 , 100 1610990866 , \n",
      "\n",
      "100 1611002223 , 100 1611008845 , 100 1611022595 , 100 1611036613 , 100 1611061838 , 100 1611069145 , 100 1611071448 , 100 1611076987 , 100 1611087680 , 100 1611092263 , \n",
      "\n",
      "100 1611100311 , 100 1611109376 , 100 1611125840 , 100 1611150819 , 100 1611157748 , 100 1611163623 , 100 1611177390 , 100 1611191730 , 100 1611200763 , 100 1611229937 , \n",
      "\n",
      "100 1611242062 , 100 1611248798 , 100 1611253721 , 100 1611261349 , 100 1611264951 , 100 1611269154 , 100 1611273750 , 100 1611280533 , 100 1611290624 , 100 1611305565 , \n",
      "\n",
      "100 1611319440 , 100 1611329042 , 100 1611335322 , 100 1611339282 , 100 1611342164 , 100 1611348340 , 100 1611350196 , 100 1611351118 , 100 1611352687 , 100 1611355525 , \n",
      "\n",
      "100 1611358906 , 100 1611363401 , 100 1611368920 , 100 1611376447 , 100 1611381480 , 100 1611401670 , 100 1611411298 , 100 1611421708 , 100 1611426636 , 100 1611431890 , \n",
      "\n",
      "100 1611441342 , 100 1611446224 , 100 1611454806 , 100 1611464704 , 100 1611480771 , 100 1611762043 , 100 1611765754 , 100 1611766159 , 100 1611766687 , 100 1611767007 , \n",
      "\n",
      "100 1611767251 , 100 1611767763 , 100 1611768358 , 100 1611769208 , 100 1611769947 , 100 1611770706 , 100 1611771519 , 100 1611774958 , 100 1611775893 , 100 1611776581 , \n",
      "\n",
      "100 1611777231 , 100 1611778007 , 100 1611778967 , 100 1611779962 , 100 1611781212 , 100 1611782097 , 100 1611782532 , 100 1611782892 , 100 1611783286 , 100 1611783695 , \n",
      "\n",
      "100 1611784626 , 100 1611785654 , 100 1611786636 , 100 1611787643 , 100 1611788570 , 100 1611789546 , 100 1611790556 , 100 1611794623 , 100 1611794932 , 100 1611795295 , \n",
      "\n",
      "100 1611795675 , 100 1611796043 , 100 1611796498 , 100 1611796822 , 100 1611797098 , 100 1611797425 , 100 1611797868 , 100 1611798465 , 100 1611799039 , 100 1611799568 , \n",
      "\n",
      "100 1611800222 , 100 1611800785 , 100 1611801501 , 100 1611802749 , 100 1611803840 , 100 1611804808 , 100 1611805694 , 100 1611806628 , 100 1611807680 , 100 1611808322 , \n",
      "\n",
      "100 1611808949 , 100 1611809720 , 100 1611810525 , 100 1611811397 , 100 1611812896 , 100 1611814367 , 100 1611815553 , 100 1611817108 , 100 1611818610 , 100 1611821040 , \n",
      "\n",
      "100 1611823503 , 100 1611825238 , 100 1611827536 , 100 1611830649 , 100 1611832580 , 100 1611833932 , 100 1611835091 , 100 1611836492 , 100 1611837392 , 100 1611838466 , \n",
      "\n",
      "100 1611840247 , 100 1611840887 , 100 1611841465 , 100 1611842094 , 100 1611842784 , 100 1611843487 , 100 1611844074 , 100 1611844531 , 100 1611845192 , 100 1611845665 , \n",
      "\n",
      "100 1611846112 , 100 1611846643 , 100 1611847139 , 100 1611847646 , 100 1611847987 , 100 1611848406 , 100 1611848885 , 100 1611849281 , 100 1611849756 , 100 1611850128 , \n",
      "\n",
      "100 1611850365 , 100 1611850887 , 100 1611851281 , 100 1611851507 , 100 1611851996 , 100 1611852524 , 100 1611853162 , 100 1611853907 , 100 1611854913 , 100 1611855639 , \n",
      "\n",
      "100 1611856204 , 100 1611856878 , 100 1611857647 , 100 1611858233 , 100 1611858920 , 100 1611859349 , 100 1611859598 , 100 1611860001 , 100 1611860510 , 100 1611861014 , \n",
      "\n",
      "100 1611861349 , 100 1611861699 , 100 1611862081 , 100 1611862538 , 100 1611862989 , 100 1611863431 , 100 1611863823 , 100 1611864261 , 100 1611864698 , 100 1611865056 , \n",
      "\n",
      "100 1611865374 , 100 1611865822 , 100 1611866170 , 100 1611866531 , 100 1611866890 , 100 1611867260 , 100 1611867607 , 100 1611867911 , 100 1611868104 , 100 1611868267 , \n",
      "\n",
      "100 1611868414 , 100 1611868623 , 100 1611868865 , 100 1611869192 , 100 1611869591 , 100 1611869933 , 100 1611870329 , 100 1611870789 , 100 1611871313 , 100 1611871829 , \n",
      "\n",
      "100 1611872447 , 100 1611872899 , 100 1611873520 , 100 1611874190 , 100 1611874637 , 100 1611875044 , 100 1611875536 , 100 1611876014 , 100 1611876471 , 100 1611877241 , \n",
      "\n",
      "100 1611878010 , 100 1611878425 , 100 1611879044 , 100 1611879541 , 100 1611880085 , 100 1611880540 , 100 1611881090 , 100 1611881518 , 100 1611882085 , 100 1611882479 , \n",
      "\n",
      "100 1611882840 , 100 1611883339 , 100 1611883964 , 100 1611884642 , 100 1611885387 , 100 1611886083 , 100 1611886619 , 100 1611887328 , 100 1611888056 , 100 1611888879 , \n",
      "\n",
      "100 1611889631 , 100 1611890502 , 100 1611891392 , 100 1611892586 , 100 1611893357 , 100 1611893934 , 100 1611894765 , 100 1611895524 , 100 1611896233 , 100 1611897078 , \n",
      "\n",
      "100 1611898280 , 100 1611899054 , 100 1611900428 , 100 1611901888 , 100 1611903247 , 100 1611904582 , 100 1611906732 , 100 1611909247 , 100 1611912179 , 100 1611914174 , \n",
      "\n",
      "100 1611915888 , 100 1611918151 , 100 1611919307 , 100 1611920226 , 100 1611921394 , 100 1611922288 , 100 1611923108 , 100 1611923896 , 100 1611924889 , 100 1611925847 , \n",
      "\n",
      "100 1611926452 , 100 1611927258 , 100 1611928163 , 100 1611928834 , 100 1611929722 , 100 1611930439 , 100 1611931033 , 100 1611931594 , 100 1611932250 , 100 1611932795 , \n",
      "\n",
      "100 1611933442 , 100 1611933848 , 100 1611934147 , 100 1611934542 , 100 1611935129 , 100 1611935943 , 100 1611936556 , 100 1611937036 , 100 1611937432 , 100 1611937718 , \n",
      "\n",
      "100 1611938351 , 100 1611939149 , 100 1611939862 , 100 1611940511 , 100 1611941107 , 100 1611941524 , 100 1611942080 , 100 1611942623 , 100 1611943318 , 100 1611943878 , \n",
      "\n",
      "100 1611944445 , 100 1611944890 , 100 1611945548 , 100 1611946247 , 100 1611946816 , 100 1611947289 , 100 1611947824 , 100 1611948360 , 100 1611948600 , 100 1611948899 , \n",
      "\n",
      "100 1611949479 , 100 1611950148 , 100 1611951173 , 100 1611951655 , 100 1611952175 , 100 1611952712 , 100 1611953521 , 100 1611954088 , 100 1611954307 , 100 1611954408 , \n",
      "\n",
      "100 1611954554 , 100 1611954818 , 100 1611955279 , 100 1611955788 , 100 1611956237 , 100 1611956711 , 100 1611957106 , 100 1611957629 , 100 1611958137 , 100 1611958670 , \n",
      "\n"
     ]
    },
    {
     "name": "stdout",
     "output_type": "stream",
     "text": [
      "100 1611959406 , 100 1611959951 , 100 1611960494 , 100 1611961189 , 100 1611961922 , 100 1611962591 , 100 1611963392 , 100 1611964123 , 100 1611965005 , 100 1611966096 , \n",
      "\n",
      "100 1611966875 , 100 1611967496 , 100 1611968093 , 100 1611968958 , 100 1611969933 , 100 1611971134 , 100 1611972250 , 100 1611973181 , 100 1611974045 , 100 1611975000 , \n",
      "\n",
      "100 1611975811 , 100 1611976811 , 100 1611977728 , 100 1611978477 , 100 1611979516 , 100 1611980616 , 100 1611982178 , 100 1611983444 , 100 1611984697 , 100 1611986754 , \n",
      "\n",
      "100 1611988643 , 100 1611990808 , 100 1611993043 , 100 1611996263 , 100 1611999509 , 100 1612002648 , 100 1612005931 , 100 1612008950 , 100 1612011309 , 100 1612013027 , \n",
      "\n",
      "100 1612014979 , 100 1612016377 , 100 1612017773 , 100 1612019041 , 100 1612020541 , 100 1612021736 , 100 1612022807 , 100 1612023831 , 100 1612024688 , 100 1612025647 , \n",
      "\n",
      "100 1612026535 , 100 1612027615 , 100 1612028909 , 100 1612029911 , 100 1612030571 , 100 1612031350 , 100 1612032221 , 100 1612032899 , 100 1612033713 , 100 1612034995 , \n",
      "\n",
      "100 1612036208 , 100 1612037542 , 100 1612039106 , 100 1612040992 , 100 1612042490 , 100 1612043821 , 100 1612044807 , 100 1612046186 , 100 1612047144 , 100 1612048210 , \n",
      "\n",
      "100 1612049277 , 100 1612050611 , 100 1612051917 , 100 1612053239 , 100 1612054593 , 100 1612055711 , 100 1612057007 , 100 1612058735 , 100 1612060434 , 100 1612061742 , \n",
      "\n",
      "100 1612062955 , 100 1612064544 , 100 1612066174 , 100 1612067740 , 100 1612069138 , 100 1612070457 , 100 1612072841 , 100 1612074856 , 100 1612078656 , 100 1612082212 , \n",
      "\n",
      "100 1612084335 , 100 1612085981 , 100 1612088042 , 100 1612091321 , 100 1612095529 , 100 1612097476 , 100 1612099328 , 100 1612102008 , 100 1612103421 , 100 1612104674 , \n",
      "\n",
      "100 1612105928 , 100 1612107412 , 100 1612108894 , 100 1612110032 , 100 1612110963 , 100 1612112168 , 100 1612113543 , 100 1612114485 , 100 1612115579 , 100 1612116397 , \n",
      "\n",
      "100 1612117638 , 100 1612118627 , 100 1612119629 , 100 1612120986 , 100 1612122075 , 100 1612123467 , 100 1612124766 , 100 1612126464 , 100 1612127602 , 100 1612128743 , \n",
      "\n",
      "100 1612130146 , 100 1612131328 , 100 1612132505 , 100 1612134075 , 100 1612135357 , 100 1612136446 , 100 1612137437 , 100 1612138570 , 100 1612139851 , 100 1612141217 , \n",
      "\n",
      "100 1612142103 , 100 1612143286 , 100 1612144305 , 100 1612145420 , 100 1612146630 , 100 1612147731 , 100 1612148937 , 100 1612150043 , 100 1612151689 , 100 1612153047 , \n",
      "\n",
      "100 1612154562 , 100 1612156877 , 100 1612160003 , 100 1612161479 , 100 1612163055 , 100 1612165466 , 100 1612168227 , 100 1612171341 , 100 1612173661 , 100 1612176469 , \n",
      "\n",
      "100 1612178065 , 100 1612179835 , 100 1612181329 , 100 1612182973 , 100 1612184479 , 100 1612185917 , 100 1612187023 , 100 1612188241 , 100 1612189329 , 100 1612190619 , \n",
      "\n",
      "100 1612191271 , 100 1612191957 , 100 1612192726 , 100 1612193253 , 100 1612193651 , 100 1612193901 , 100 1612194470 , 100 1612195173 , 100 1612196178 , 100 1612196949 , \n",
      "\n",
      "100 1612197419 , 100 1612198276 , 100 1612199270 , 100 1612200321 , 100 1612201083 , 100 1612201872 , 100 1612202789 , 100 1612203701 , 100 1612204384 , 100 1612205035 , \n",
      "\n",
      "100 1612205728 , 100 1612206448 , 100 1612206851 , 100 1612207678 , 100 1612208357 , 100 1612208910 , 100 1612209681 , 100 1612210437 , 100 1612211078 , 100 1612212016 , \n",
      "\n",
      "100 1612212828 , 100 1612213442 , 100 1612213747 , 100 1612213954 , 100 1612214384 , 100 1612214925 , 100 1612215870 , 100 1612216724 , 100 1612217491 , 100 1612218435 , \n",
      "\n",
      "100 1612219271 , 100 1612219984 , 100 1612220631 , 100 1612221345 , 100 1612222037 , 100 1612222880 , 100 1612223406 , 100 1612224101 , 100 1612225053 , 100 1612226168 , \n",
      "\n",
      "100 1612227213 , 100 1612228332 , 100 1612229384 , 100 1612230567 , 100 1612231857 , 100 1612232872 , 100 1612233785 , 100 1612234902 , 100 1612235968 , 100 1612237441 , \n",
      "\n",
      "100 1612239248 , 100 1612241183 , 100 1612243417 , 100 1612244701 , 100 1612246819 , 100 1612250922 , 100 1612255615 , 100 1612261209 , 100 1612264659 , 100 1612267622 , \n",
      "\n",
      "100 1612269881 , 100 1612271164 , 100 1612272320 , 100 1612273189 , 100 1612274264 , 100 1612275420 , 100 1612276420 , 100 1612277106 , 100 1612277570 , 100 1612277996 , \n",
      "\n",
      "100 1612278395 , 100 1612278708 , 100 1612279075 , 100 1612279519 , 100 1612280147 , 100 1612280543 , 100 1612280963 , 100 1612281416 , 100 1612281576 , 100 1612282047 , \n",
      "\n",
      "100 1612282576 , 100 1612283231 , 100 1612283923 , 100 1612284565 , 100 1612285310 , 100 1612285978 , 100 1612286562 , 100 1612287277 , 100 1612287753 , 100 1612288253 , \n",
      "\n",
      "100 1612289444 , 100 1612290681 , 100 1612291993 , 100 1612293303 , 100 1612294427 , 100 1612295554 , 100 1612296591 , 100 1612297737 , 100 1612299195 , 100 1612299764 , \n",
      "\n",
      "100 1612300331 , 100 1612300478 , 100 1612300756 , 100 1612301267 , 100 1612302036 , 100 1612303158 , 100 1612303580 , 100 1612304482 , 100 1612305095 , 100 1612306060 , \n",
      "\n",
      "100 1612307357 , 100 1612308486 , 100 1612309590 , 100 1612310674 , 100 1612311902 , 100 1612312919 , 100 1612314109 , 100 1612315580 , 100 1612316889 , 100 1612317900 , \n",
      "\n",
      "100 1612318874 , 100 1612320056 , 100 1612321488 , 100 1612323026 , 100 1612324554 , 100 1612326266 , 100 1612327906 , 100 1612329804 , 100 1612332201 , 100 1612336445 , \n",
      "\n",
      "100 1612341709 , 100 1612347161 , 100 1612350143 , 100 1612352413 , 100 1612354384 , 100 1612356388 , 100 1612358103 , 100 1612360035 , 100 1612361294 , 100 1612361968 , \n",
      "\n",
      "100 1612362563 , 100 1612363223 , 100 1612363890 , 100 1612364682 , 100 1612365479 , 100 1612366607 , 100 1612367974 , 100 1612369337 , 100 1612370426 , 100 1612371838 , \n",
      "\n",
      "100 1612372871 , 100 1612374233 , 100 1612375576 , 100 1612376570 , 100 1612377728 , 100 1612925887 , 100 1612932839 , 100 1612971460 , 100 1612978551 , 100 1612987195 , \n",
      "\n",
      "100 1612994091 , 100 1612998317 , 100 1613005064 , 100 1613012858 , 100 1613051549 , 100 1613070768 , 100 1613084460 , 100 1613179005 , 100 1613326014 , 100 1613669030 , \n",
      "\n",
      "100 1613677172 , 100 1613685150 , 100 1613692426 , 100 1613768824 , 100 1614027652 , 100 1614063068 , 100 1614086930 , 100 1614092729 , 100 1614097879 , 100 1614104736 , \n",
      "\n",
      "100 1614112815 , 100 1614117217 , 100 1614121769 , 100 1614128468 , 100 1614135760 , 100 1614142454 , 100 1614151905 , 100 1614167766 , 100 1614176416 , 100 1614178998 , \n",
      "\n",
      "100 1614184134 , 100 1614197425 , 100 1614200040 , 100 1614201231 , 100 1614202731 , 100 1614203475 , 100 1614204248 , 100 1614204964 , 100 1614205839 , 100 1614206772 , \n",
      "\n",
      "100 1614207932 , 100 1614208964 , 100 1614210144 , 100 1614211769 , 100 1614213713 , 100 1614215506 , 100 1614218081 , 100 1614221330 , 100 1614226510 , 100 1614238186 , \n",
      "\n",
      "100 1614244922 , 100 1614252521 , 100 1614258523 , 100 1614261418 , 100 1614265268 , 100 1614266654 , 100 1614268138 , 100 1614271426 , 100 1614275021 , 100 1614276682 , \n",
      "\n",
      "100 1614279532 , 100 1614284533 , 100 1614287161 , 100 1614288432 , 100 1614289428 , 100 1614291211 , 100 1614293460 , 100 1614296090 , 100 1614299852 , 100 1614303448 , \n",
      "\n",
      "100 1614307252 , 100 1614314432 , 100 1614334348 , 100 1614340042 , 100 1614345721 , 100 1614350659 , 100 1614354574 , 100 1614358440 , 100 1614361592 , 100 1614367324 , \n",
      "\n",
      "100 1614372824 , 100 1614373877 , 100 1614374987 , 100 1614381886 , 100 1614391664 , 100 1614398515 , 100 1614730829 , 100 1614740682 , 100 1614754693 , 100 1614774640 , \n",
      "\n",
      "100 1614780774 , 100 1614788423 , 100 1614800897 , 100 1614807260 , 100 1614815268 , 100 1614823301 , 100 1614835794 , 100 1614843668 , 100 1614860498 , 100 1614867914 , \n",
      "\n",
      "100 1614873330 , 100 1614882040 , 100 1614888881 , 100 1614893191 , 100 1614897548 , 100 1615232236 , 100 1615238388 , 100 1615303991 , 100 1615397787 , 100 1615400652 , \n",
      "\n",
      "100 1615408830 , 100 1615410026 , 100 1615413528 , 100 1615482585 , 100 1615506813 , 100 1615836989 , 100 1615855775 , 100 1617121172 , 100 1617224127 , 100 1618442795 , \n",
      "\n",
      "100 1618534395 , 100 1618604568 , 100 1618609067 , 100 1618890296 , 100 1619052163 , 100 1619133198 , 100 1619216628 , 100 1619309824 , 100 1619464668 , 100 1619473099 , \n",
      "\n",
      "100 1619560098 , 100 1619637124 , 100 1619656312 , 100 1619727820 , 100 1619759460 , 100 1619807675 , 52 1619819158 , "
     ]
    }
   ],
   "source": [
    "stories.collect(['wallstreetbets'], '*',  start,stop, endpoint = 'comment')\n",
    "#stories.collect(['stocks','wallstreetbets','personalfinance','investing'], ['merger','penis','moon','rocket','unicorn','disaster','due dilligence', 'bull', 'bear', 'profit','loss','hedge','IPO', 'Nasdaq','meme','portfolio','spy', 'vix'],  start,stop)"
   ]
  },
  {
   "cell_type": "code",
   "execution_count": 137,
   "metadata": {},
   "outputs": [
    {
     "data": {
      "text/plain": [
       "88921"
      ]
     },
     "execution_count": 137,
     "metadata": {},
     "output_type": "execute_result"
    }
   ],
   "source": [
    "len(stories.getdata()['created_utc'].unique())"
   ]
  },
  {
   "cell_type": "code",
   "execution_count": 138,
   "metadata": {},
   "outputs": [],
   "source": [
    "#stories.getdata().to_csv('wsb_100.csv')\n"
   ]
  },
  {
   "cell_type": "code",
   "execution_count": 276,
   "metadata": {},
   "outputs": [
    {
     "data": {
      "text/html": [
       "<div>\n",
       "<style scoped>\n",
       "    .dataframe tbody tr th:only-of-type {\n",
       "        vertical-align: middle;\n",
       "    }\n",
       "\n",
       "    .dataframe tbody tr th {\n",
       "        vertical-align: top;\n",
       "    }\n",
       "\n",
       "    .dataframe thead th {\n",
       "        text-align: right;\n",
       "    }\n",
       "</style>\n",
       "<table border=\"1\" class=\"dataframe\">\n",
       "  <thead>\n",
       "    <tr style=\"text-align: right;\">\n",
       "      <th></th>\n",
       "      <th>Search Term</th>\n",
       "      <th>author</th>\n",
       "      <th>subreddit</th>\n",
       "      <th>created_utc</th>\n",
       "      <th>full_link</th>\n",
       "      <th>id</th>\n",
       "      <th>is_self</th>\n",
       "      <th>is_video</th>\n",
       "      <th>locked</th>\n",
       "      <th>num_comments</th>\n",
       "      <th>num_crossposts</th>\n",
       "      <th>pinned</th>\n",
       "      <th>score</th>\n",
       "      <th>selftext</th>\n",
       "      <th>title</th>\n",
       "    </tr>\n",
       "  </thead>\n",
       "  <tbody>\n",
       "  </tbody>\n",
       "</table>\n",
       "</div>"
      ],
      "text/plain": [
       "Empty DataFrame\n",
       "Columns: [Search Term, author, subreddit, created_utc, full_link, id, is_self, is_video, locked, num_comments, num_crossposts, pinned, score, selftext, title]\n",
       "Index: []"
      ]
     },
     "execution_count": 276,
     "metadata": {},
     "output_type": "execute_result"
    }
   ],
   "source": [
    "stories.getdata()[stories.getdata()['subreddit'] == 'wallstreetbets']"
   ]
  },
  {
   "cell_type": "code",
   "execution_count": 366,
   "metadata": {},
   "outputs": [],
   "source": [
    "#stockstories = stories.getdata()[stories.getdata()['Search Term'] != \"heat wave\"]\n",
    "#stockstories = stockstories[stockstories['num_comments'] > 5]\n",
    "stockstories = pd.DataFrame() \n",
    "stocksinv = pd.read_csv('stocks_investing.csv')\n",
    "wsbstocks = pd.read_csv('wsb_100.csv')\n",
    "stockstories = stockstories.append(wsbstocks)\n",
    "stockstories = stockstories.append(stocksinv)"
   ]
  },
  {
   "cell_type": "code",
   "execution_count": 367,
   "metadata": {},
   "outputs": [
    {
     "data": {
      "text/plain": [
       "(Timestamp('2019-05-27 01:45:12'), Timestamp('2021-04-30 21:45:58'))"
      ]
     },
     "execution_count": 367,
     "metadata": {},
     "output_type": "execute_result"
    }
   ],
   "source": [
    "df = (stockstories[stockstories['subreddit'] == 'wallstreetbets']['created_utc'])\n",
    "\n",
    "pd.to_datetime(min(df), unit = 's'), pd.to_datetime(max(df), unit = 's')"
   ]
  },
  {
   "cell_type": "code",
   "execution_count": 368,
   "metadata": {},
   "outputs": [
    {
     "name": "stdout",
     "output_type": "stream",
     "text": [
      "2019-04-30 2019-10-09\n"
     ]
    }
   ],
   "source": [
    "dates = stockstories[stockstories['subreddit'] == 'investing']['created_utc']\n",
    "print(pd.to_datetime(min(dates), unit = 's').date(), pd.to_datetime(max(dates), unit = 's').date())"
   ]
  },
  {
   "cell_type": "code",
   "execution_count": 369,
   "metadata": {},
   "outputs": [],
   "source": [
    "start,stop = (pd.to_datetime(min(dates), unit = 's').date(), pd.to_datetime(max(dates), unit = 's').date())"
   ]
  },
  {
   "cell_type": "code",
   "execution_count": 370,
   "metadata": {},
   "outputs": [],
   "source": [
    "#times = stories.getdata()['created_utc']\n",
    "#tSeries = stories.getdata()['created_utc'].apply(lambda x: heat(x, intervals))\n",
    "times = stockstories['created_utc']\n",
    "tSeries = stockstories['created_utc'].apply(lambda x: heat(x, intervals))"
   ]
  },
  {
   "cell_type": "code",
   "execution_count": 371,
   "metadata": {},
   "outputs": [
    {
     "data": {
      "text/plain": [
       "0         0\n",
       "1         1\n",
       "2         1\n",
       "3         1\n",
       "4         1\n",
       "         ..\n",
       "347065    0\n",
       "347066    0\n",
       "347067    0\n",
       "347068    0\n",
       "347069    0\n",
       "Name: created_utc, Length: 440754, dtype: int64"
      ]
     },
     "execution_count": 371,
     "metadata": {},
     "output_type": "execute_result"
    }
   ],
   "source": [
    "tSeries"
   ]
  },
  {
   "cell_type": "code",
   "execution_count": 372,
   "metadata": {},
   "outputs": [
    {
     "data": {
      "text/html": [
       "<div>\n",
       "<style scoped>\n",
       "    .dataframe tbody tr th:only-of-type {\n",
       "        vertical-align: middle;\n",
       "    }\n",
       "\n",
       "    .dataframe tbody tr th {\n",
       "        vertical-align: top;\n",
       "    }\n",
       "\n",
       "    .dataframe thead th {\n",
       "        text-align: right;\n",
       "    }\n",
       "</style>\n",
       "<table border=\"1\" class=\"dataframe\">\n",
       "  <thead>\n",
       "    <tr style=\"text-align: right;\">\n",
       "      <th></th>\n",
       "      <th>Times</th>\n",
       "      <th>Heatwave</th>\n",
       "    </tr>\n",
       "  </thead>\n",
       "  <tbody>\n",
       "    <tr>\n",
       "      <th>0</th>\n",
       "      <td>2019-06-12 11:04:52</td>\n",
       "      <td>0</td>\n",
       "    </tr>\n",
       "    <tr>\n",
       "      <th>1</th>\n",
       "      <td>2019-07-17 11:37:37</td>\n",
       "      <td>1</td>\n",
       "    </tr>\n",
       "    <tr>\n",
       "      <th>2</th>\n",
       "      <td>2019-07-19 15:49:36</td>\n",
       "      <td>1</td>\n",
       "    </tr>\n",
       "    <tr>\n",
       "      <th>3</th>\n",
       "      <td>2019-07-21 00:08:42</td>\n",
       "      <td>1</td>\n",
       "    </tr>\n",
       "    <tr>\n",
       "      <th>4</th>\n",
       "      <td>2019-08-01 23:27:03</td>\n",
       "      <td>1</td>\n",
       "    </tr>\n",
       "    <tr>\n",
       "      <th>...</th>\n",
       "      <td>...</td>\n",
       "      <td>...</td>\n",
       "    </tr>\n",
       "    <tr>\n",
       "      <th>347065</th>\n",
       "      <td>2019-10-09 21:29:57</td>\n",
       "      <td>0</td>\n",
       "    </tr>\n",
       "    <tr>\n",
       "      <th>347066</th>\n",
       "      <td>2019-10-09 21:36:25</td>\n",
       "      <td>0</td>\n",
       "    </tr>\n",
       "    <tr>\n",
       "      <th>347067</th>\n",
       "      <td>2019-10-09 21:48:57</td>\n",
       "      <td>0</td>\n",
       "    </tr>\n",
       "    <tr>\n",
       "      <th>347068</th>\n",
       "      <td>2019-10-09 21:50:41</td>\n",
       "      <td>0</td>\n",
       "    </tr>\n",
       "    <tr>\n",
       "      <th>347069</th>\n",
       "      <td>2019-10-09 21:54:32</td>\n",
       "      <td>0</td>\n",
       "    </tr>\n",
       "  </tbody>\n",
       "</table>\n",
       "<p>440754 rows × 2 columns</p>\n",
       "</div>"
      ],
      "text/plain": [
       "                     Times  Heatwave\n",
       "0      2019-06-12 11:04:52         0\n",
       "1      2019-07-17 11:37:37         1\n",
       "2      2019-07-19 15:49:36         1\n",
       "3      2019-07-21 00:08:42         1\n",
       "4      2019-08-01 23:27:03         1\n",
       "...                    ...       ...\n",
       "347065 2019-10-09 21:29:57         0\n",
       "347066 2019-10-09 21:36:25         0\n",
       "347067 2019-10-09 21:48:57         0\n",
       "347068 2019-10-09 21:50:41         0\n",
       "347069 2019-10-09 21:54:32         0\n",
       "\n",
       "[440754 rows x 2 columns]"
      ]
     },
     "execution_count": 372,
     "metadata": {},
     "output_type": "execute_result"
    }
   ],
   "source": [
    "pd.DataFrame({'Times': pd.to_datetime(times, unit = 's'), 'Heatwave' : tSeries})"
   ]
  },
  {
   "cell_type": "code",
   "execution_count": 373,
   "metadata": {},
   "outputs": [],
   "source": [
    "#df_sentiment = stories.getdata().loc[:,['title','created_utc','Search Term']]\n",
    "#df_sentiment = stockstories.loc[:,['title','created_utc']]\n",
    "df_sentiment = stockstories.loc[:,['body','created_utc','subreddit']]\n",
    "heat_utc = pd.DataFrame({'created_utc': times, 'Heatwave' : tSeries})\n",
    "df_sentiment = pd.merge(df_sentiment, heat_utc)\n",
    "df_sentiment['Date'] = pd.to_datetime(df_sentiment['created_utc'], unit = 's').apply(lambda x: x.date())\n",
    "df_sentiment.index.name = ''\n",
    "df_sentiment = df_sentiment.drop(columns = 'created_utc')\n",
    "df_sentiment.index = [e for e in range(len(df_sentiment))]"
   ]
  },
  {
   "cell_type": "markdown",
   "metadata": {},
   "source": [
    "Make a dataframe to store the unmodified titles.  They must be cleaned and have sentiment analysis performed on them."
   ]
  },
  {
   "cell_type": "code",
   "execution_count": 374,
   "metadata": {},
   "outputs": [
    {
     "data": {
      "text/html": [
       "<div>\n",
       "<style scoped>\n",
       "    .dataframe tbody tr th:only-of-type {\n",
       "        vertical-align: middle;\n",
       "    }\n",
       "\n",
       "    .dataframe tbody tr th {\n",
       "        vertical-align: top;\n",
       "    }\n",
       "\n",
       "    .dataframe thead th {\n",
       "        text-align: right;\n",
       "    }\n",
       "</style>\n",
       "<table border=\"1\" class=\"dataframe\">\n",
       "  <thead>\n",
       "    <tr style=\"text-align: right;\">\n",
       "      <th></th>\n",
       "      <th>body</th>\n",
       "      <th>subreddit</th>\n",
       "      <th>Heatwave</th>\n",
       "      <th>Date</th>\n",
       "    </tr>\n",
       "  </thead>\n",
       "  <tbody>\n",
       "    <tr>\n",
       "      <th>0</th>\n",
       "      <td>NaN</td>\n",
       "      <td>news</td>\n",
       "      <td>0</td>\n",
       "      <td>2019-06-12</td>\n",
       "    </tr>\n",
       "    <tr>\n",
       "      <th>1</th>\n",
       "      <td>NaN</td>\n",
       "      <td>news</td>\n",
       "      <td>0</td>\n",
       "      <td>2019-06-12</td>\n",
       "    </tr>\n",
       "    <tr>\n",
       "      <th>2</th>\n",
       "      <td>NaN</td>\n",
       "      <td>news</td>\n",
       "      <td>0</td>\n",
       "      <td>2019-06-12</td>\n",
       "    </tr>\n",
       "    <tr>\n",
       "      <th>3</th>\n",
       "      <td>NaN</td>\n",
       "      <td>news</td>\n",
       "      <td>0</td>\n",
       "      <td>2019-06-12</td>\n",
       "    </tr>\n",
       "    <tr>\n",
       "      <th>4</th>\n",
       "      <td>NaN</td>\n",
       "      <td>news</td>\n",
       "      <td>1</td>\n",
       "      <td>2019-07-17</td>\n",
       "    </tr>\n",
       "  </tbody>\n",
       "</table>\n",
       "</div>"
      ],
      "text/plain": [
       "  body subreddit  Heatwave        Date\n",
       "0  NaN      news         0  2019-06-12\n",
       "1  NaN      news         0  2019-06-12\n",
       "2  NaN      news         0  2019-06-12\n",
       "3  NaN      news         0  2019-06-12\n",
       "4  NaN      news         1  2019-07-17"
      ]
     },
     "execution_count": 374,
     "metadata": {},
     "output_type": "execute_result"
    }
   ],
   "source": [
    "df_sentiment.head()"
   ]
  },
  {
   "cell_type": "code",
   "execution_count": 375,
   "metadata": {},
   "outputs": [
    {
     "data": {
      "text/html": [
       "<div>\n",
       "<style scoped>\n",
       "    .dataframe tbody tr th:only-of-type {\n",
       "        vertical-align: middle;\n",
       "    }\n",
       "\n",
       "    .dataframe tbody tr th {\n",
       "        vertical-align: top;\n",
       "    }\n",
       "\n",
       "    .dataframe thead th {\n",
       "        text-align: right;\n",
       "    }\n",
       "</style>\n",
       "<table border=\"1\" class=\"dataframe\">\n",
       "  <thead>\n",
       "    <tr style=\"text-align: right;\">\n",
       "      <th></th>\n",
       "      <th>body</th>\n",
       "      <th>subreddit</th>\n",
       "      <th>Heatwave</th>\n",
       "      <th>Date</th>\n",
       "    </tr>\n",
       "  </thead>\n",
       "  <tbody>\n",
       "    <tr>\n",
       "      <th>125</th>\n",
       "      <td>AAPL 190 by Tuesday open confirmed!</td>\n",
       "      <td>wallstreetbets</td>\n",
       "      <td>0</td>\n",
       "      <td>2019-05-27</td>\n",
       "    </tr>\n",
       "    <tr>\n",
       "      <th>126</th>\n",
       "      <td>AAPL 190 by Tuesday open confirmed!</td>\n",
       "      <td>wallstreetbets</td>\n",
       "      <td>0</td>\n",
       "      <td>2019-05-27</td>\n",
       "    </tr>\n",
       "    <tr>\n",
       "      <th>127</th>\n",
       "      <td>What about like trading as a part time job/ on...</td>\n",
       "      <td>stocks</td>\n",
       "      <td>0</td>\n",
       "      <td>2019-05-27</td>\n",
       "    </tr>\n",
       "    <tr>\n",
       "      <th>128</th>\n",
       "      <td>What about like trading as a part time job/ on...</td>\n",
       "      <td>stocks</td>\n",
       "      <td>0</td>\n",
       "      <td>2019-05-27</td>\n",
       "    </tr>\n",
       "    <tr>\n",
       "      <th>129</th>\n",
       "      <td>It's funny cause you know Tim cook is clenchin...</td>\n",
       "      <td>wallstreetbets</td>\n",
       "      <td>0</td>\n",
       "      <td>2019-05-27</td>\n",
       "    </tr>\n",
       "  </tbody>\n",
       "</table>\n",
       "</div>"
      ],
      "text/plain": [
       "                                                  body       subreddit  \\\n",
       "125                AAPL 190 by Tuesday open confirmed!  wallstreetbets   \n",
       "126                AAPL 190 by Tuesday open confirmed!  wallstreetbets   \n",
       "127  What about like trading as a part time job/ on...          stocks   \n",
       "128  What about like trading as a part time job/ on...          stocks   \n",
       "129  It's funny cause you know Tim cook is clenchin...  wallstreetbets   \n",
       "\n",
       "     Heatwave        Date  \n",
       "125         0  2019-05-27  \n",
       "126         0  2019-05-27  \n",
       "127         0  2019-05-27  \n",
       "128         0  2019-05-27  \n",
       "129         0  2019-05-27  "
      ]
     },
     "execution_count": 375,
     "metadata": {},
     "output_type": "execute_result"
    }
   ],
   "source": [
    "df_sentiment = df_sentiment[df_sentiment['body'].isna() == 0]\n",
    "#df_sentiment = df_sentiment[(df_sentiment['subreddit'].isin(['stocks', 'wallstreetbets']))]\n",
    "df_sentiment.head()"
   ]
  },
  {
   "cell_type": "code",
   "execution_count": 376,
   "metadata": {},
   "outputs": [],
   "source": [
    "from textblob import TextBlob, Word\n",
    "from nltk.corpus import stopwords\n"
   ]
  },
  {
   "cell_type": "code",
   "execution_count": 377,
   "metadata": {},
   "outputs": [],
   "source": [
    "def lemmatize_with_postag(sentence):\n",
    "    sent = TextBlob(sentence)\n",
    "    tag_dict = {\"J\": 'a', \n",
    "                \"N\": 'n', \n",
    "                \"V\": 'v', \n",
    "                \"R\": 'r'}\n",
    "    words_and_tags = [(w, tag_dict.get(pos[0], 'n')) for w, pos in sent.lower().tags if w not in stopwords.words('english')]\n",
    "    lemmatized_list = [wd.lemmatize(tag) for wd, tag in words_and_tags]\n",
    "    return \" \".join(lemmatized_list)"
   ]
  },
  {
   "cell_type": "code",
   "execution_count": 378,
   "metadata": {},
   "outputs": [],
   "source": [
    "#df_sentiment['newtitle'] = df_sentiment['title'].apply(lemmatize_with_postag)"
   ]
  },
  {
   "cell_type": "code",
   "execution_count": 379,
   "metadata": {},
   "outputs": [],
   "source": [
    "#df_sentiment['newtitle'].iloc[20]"
   ]
  },
  {
   "cell_type": "code",
   "execution_count": 380,
   "metadata": {},
   "outputs": [
    {
     "name": "stderr",
     "output_type": "stream",
     "text": [
      "[nltk_data] Downloading package vader_lexicon to\n",
      "[nltk_data]     /home/zach/nltk_data...\n",
      "[nltk_data]   Package vader_lexicon is already up-to-date!\n"
     ]
    },
    {
     "data": {
      "text/plain": [
       "True"
      ]
     },
     "execution_count": 380,
     "metadata": {},
     "output_type": "execute_result"
    }
   ],
   "source": [
    "import nltk\n",
    "nltk.download('vader_lexicon')"
   ]
  },
  {
   "cell_type": "code",
   "execution_count": 381,
   "metadata": {},
   "outputs": [],
   "source": [
    "from nltk.sentiment.vader import SentimentIntensityAnalyzer"
   ]
  },
  {
   "cell_type": "code",
   "execution_count": 382,
   "metadata": {},
   "outputs": [],
   "source": [
    "vds = SentimentIntensityAnalyzer()"
   ]
  },
  {
   "cell_type": "code",
   "execution_count": 383,
   "metadata": {},
   "outputs": [
    {
     "data": {
      "text/plain": [
       "0.0"
      ]
     },
     "execution_count": 383,
     "metadata": {},
     "output_type": "execute_result"
    }
   ],
   "source": [
    "vds.polarity_scores(df_sentiment['body'].iloc[0])['compound']"
   ]
  },
  {
   "cell_type": "code",
   "execution_count": 384,
   "metadata": {},
   "outputs": [
    {
     "data": {
      "text/html": [
       "<div>\n",
       "<style scoped>\n",
       "    .dataframe tbody tr th:only-of-type {\n",
       "        vertical-align: middle;\n",
       "    }\n",
       "\n",
       "    .dataframe tbody tr th {\n",
       "        vertical-align: top;\n",
       "    }\n",
       "\n",
       "    .dataframe thead th {\n",
       "        text-align: right;\n",
       "    }\n",
       "</style>\n",
       "<table border=\"1\" class=\"dataframe\">\n",
       "  <thead>\n",
       "    <tr style=\"text-align: right;\">\n",
       "      <th></th>\n",
       "      <th>body</th>\n",
       "      <th>subreddit</th>\n",
       "      <th>Heatwave</th>\n",
       "      <th>Date</th>\n",
       "      <th>sentiment</th>\n",
       "    </tr>\n",
       "  </thead>\n",
       "  <tbody>\n",
       "    <tr>\n",
       "      <th>146283</th>\n",
       "      <td>I love Linus, but he's very clear in that vide...</td>\n",
       "      <td>investing</td>\n",
       "      <td>0</td>\n",
       "      <td>2019-05-28</td>\n",
       "      <td>0.9896</td>\n",
       "    </tr>\n",
       "    <tr>\n",
       "      <th>199926</th>\n",
       "      <td>I've actually gone back and forth about doing ...</td>\n",
       "      <td>investing</td>\n",
       "      <td>1</td>\n",
       "      <td>2019-06-30</td>\n",
       "      <td>-0.8485</td>\n",
       "    </tr>\n",
       "    <tr>\n",
       "      <th>456415</th>\n",
       "      <td>JUUL under fire, smoking industry under fire, ...</td>\n",
       "      <td>stocks</td>\n",
       "      <td>0</td>\n",
       "      <td>2019-09-25</td>\n",
       "      <td>-0.7351</td>\n",
       "    </tr>\n",
       "    <tr>\n",
       "      <th>71537</th>\n",
       "      <td>All my homies hate robinhood😤😤</td>\n",
       "      <td>wallstreetbets</td>\n",
       "      <td>0</td>\n",
       "      <td>2021-02-01</td>\n",
       "      <td>-0.5719</td>\n",
       "    </tr>\n",
       "  </tbody>\n",
       "</table>\n",
       "</div>"
      ],
      "text/plain": [
       "                                                     body       subreddit  \\\n",
       "146283  I love Linus, but he's very clear in that vide...       investing   \n",
       "199926  I've actually gone back and forth about doing ...       investing   \n",
       "456415  JUUL under fire, smoking industry under fire, ...          stocks   \n",
       "71537                      All my homies hate robinhood😤😤  wallstreetbets   \n",
       "\n",
       "        Heatwave        Date  sentiment  \n",
       "146283         0  2019-05-28     0.9896  \n",
       "199926         1  2019-06-30    -0.8485  \n",
       "456415         0  2019-09-25    -0.7351  \n",
       "71537          0  2021-02-01    -0.5719  "
      ]
     },
     "execution_count": 384,
     "metadata": {},
     "output_type": "execute_result"
    }
   ],
   "source": [
    "df_sentiment['sentiment'] = df_sentiment['body'].apply(lambda x: vds.polarity_scores(x)['compound'])\n",
    "df_sentiment.sample(4)"
   ]
  },
  {
   "cell_type": "code",
   "execution_count": 385,
   "metadata": {},
   "outputs": [
    {
     "data": {
      "image/png": "[encoded data removed]",
      "text/plain": [
       "<Figure size 432x288 with 1 Axes>"
      ]
     },
     "metadata": {
      "needs_background": "light"
     },
     "output_type": "display_data"
    }
   ],
   "source": [
    "import matplotlib.pyplot as plt\n",
    "\n",
    "fig, ax = plt.subplots()\n",
    "\n",
    "colors = {0:'blue',1:'red'}\n",
    "\n",
    "grouped = df_sentiment.groupby('Heatwave')\n",
    "for key, group in grouped:\n",
    "    group.plot(ax=ax, kind='scatter', x='sentiment', y = 'Heatwave', label=key, color=colors[key])\n",
    "\n",
    "plt.show()"
   ]
  },
  {
   "cell_type": "code",
   "execution_count": 386,
   "metadata": {},
   "outputs": [],
   "source": [
    "import pandas as pd\n",
    "pd.options.mode.chained_assignment = None \n",
    "import numpy as np\n",
    "import re\n",
    "import nltk\n",
    "\n",
    "from gensim.models import word2vec\n",
    "\n",
    "from sklearn.manifold import TSNE\n",
    "import matplotlib.pyplot as plt\n",
    "%matplotlib inline"
   ]
  },
  {
   "cell_type": "code",
   "execution_count": 465,
   "metadata": {},
   "outputs": [],
   "source": [
    "import yahoo_fin.stock_info as si\n",
    "\n",
    "stocksinfo = si.get_data('SPY', start_date = start, end_date = stop)['adjclose']"
   ]
  },
  {
   "cell_type": "code",
   "execution_count": 466,
   "metadata": {},
   "outputs": [],
   "source": [
    "df_stocksinfo = pd.DataFrame({'Close':stocksinfo, 'Date': stocksinfo.index})\n",
    "#stocksinfo.index = [e for e in range(len(stocksinfo))]\n",
    "df_stocksinfo.index = [e for e in range(len(stocksinfo))]"
   ]
  },
  {
   "cell_type": "code",
   "execution_count": 467,
   "metadata": {},
   "outputs": [],
   "source": [
    "df_sentiment = df_sentiment.sort_values(by = 'Date')"
   ]
  },
  {
   "cell_type": "code",
   "execution_count": null,
   "metadata": {},
   "outputs": [],
   "source": []
  },
  {
   "cell_type": "code",
   "execution_count": 478,
   "metadata": {},
   "outputs": [
    {
     "name": "stderr",
     "output_type": "stream",
     "text": [
      "<ipython-input-478-00700f4bcd57>:4: UserWarning: Boolean Series key will be reindexed to match DataFrame index.\n",
      "  toadd = df_sentiment[df_sentiment['subreddit'] == 'wallstreetbets'][df_sentiment['Date'] == e]['sentiment'].sum()\n"
     ]
    }
   ],
   "source": [
    "aggregate_sentiment = []\n",
    "days = df_sentiment['Date'].unique()\n",
    "for i,e in enumerate(days):\n",
    "    toadd = df_sentiment[df_sentiment['subreddit'] == 'wallstreetbets'][df_sentiment['Date'] == e]['sentiment'].sum()\n",
    "    \n",
    "    if i != 0:\n",
    "        toadd = toadd + aggregate_sentiment[-1]\n",
    "    \n",
    "    aggregate_sentiment.append(toadd)"
   ]
  },
  {
   "cell_type": "code",
   "execution_count": 479,
   "metadata": {},
   "outputs": [],
   "source": [
    "ag_sent_date = pd.DataFrame({'Date': days, 'sentiment':aggregate_sentiment})"
   ]
  },
  {
   "cell_type": "code",
   "execution_count": 480,
   "metadata": {},
   "outputs": [],
   "source": [
    "ag_sent_date['Date'] = pd.to_datetime(ag_sent_date['Date'])\n",
    "df_sentiment['Date'] = pd.to_datetime(df_sentiment['Date'])"
   ]
  },
  {
   "cell_type": "code",
   "execution_count": 481,
   "metadata": {},
   "outputs": [],
   "source": [
    "df_stocks_sentiment = pd.merge(df_stocksinfo, ag_sent_date, on = 'Date').sort_values(by = 'Date')"
   ]
  },
  {
   "cell_type": "code",
   "execution_count": 482,
   "metadata": {
    "scrolled": true
   },
   "outputs": [
    {
     "data": {
      "text/plain": [
       "<matplotlib.axes._subplots.AxesSubplot at 0x7efcaf258ee0>"
      ]
     },
     "execution_count": 482,
     "metadata": {},
     "output_type": "execute_result"
    },
    {
     "data": {
      "image/png": "[encoded data removed]",
      "text/plain": [
       "<Figure size 432x288 with 2 Axes>"
      ]
     },
     "metadata": {
      "needs_background": "light"
     },
     "output_type": "display_data"
    }
   ],
   "source": [
    "df_stocks_sentiment['Close'].plot()\n",
    "df_stocks_sentiment['sentiment'].plot(secondary_y = True)"
   ]
  },
  {
   "cell_type": "code",
   "execution_count": 483,
   "metadata": {},
   "outputs": [
    {
     "data": {
      "text/plain": [
       "(datetime.date(2019, 5, 28), datetime.date(2021, 4, 30))"
      ]
     },
     "execution_count": 483,
     "metadata": {},
     "output_type": "execute_result"
    }
   ],
   "source": [
    "dates = df_stocks_sentiment['Date']\n",
    "(pd.to_datetime(min(dates), unit = 's').date(),pd.to_datetime(max(dates), unit = 's').date())"
   ]
  },
  {
   "cell_type": "code",
   "execution_count": 484,
   "metadata": {},
   "outputs": [],
   "source": [
    "df_stocks_reduced = df_stocks_sentiment[df_stocks_sentiment['Date'] <= datetime(2020,10,1)]"
   ]
  },
  {
   "cell_type": "code",
   "execution_count": 485,
   "metadata": {
    "scrolled": true
   },
   "outputs": [
    {
     "data": {
      "text/plain": [
       "<matplotlib.axes._subplots.AxesSubplot at 0x7efcaf23ea60>"
      ]
     },
     "execution_count": 485,
     "metadata": {},
     "output_type": "execute_result"
    },
    {
     "data": {
      "image/png": "[encoded data removed]",
      "text/plain": [
       "<Figure size 432x288 with 2 Axes>"
      ]
     },
     "metadata": {
      "needs_background": "light"
     },
     "output_type": "display_data"
    }
   ],
   "source": [
    "df_stocks_reduced['Close'].plot()\n",
    "df_stocks_reduced['sentiment'].plot(secondary_y = True)"
   ]
  },
  {
   "cell_type": "code",
   "execution_count": 493,
   "metadata": {},
   "outputs": [],
   "source": [
    "hwaves = (df_stocks_reduced['Date'].astype(int)/10**9).apply(lambda x: heat(x, intervals))"
   ]
  },
  {
   "cell_type": "code",
   "execution_count": 494,
   "metadata": {},
   "outputs": [],
   "source": [
    "df_stocks_reduced['Heat Wave'] = hwaves"
   ]
  },
  {
   "cell_type": "code",
   "execution_count": 505,
   "metadata": {},
   "outputs": [
    {
     "ename": "AttributeError",
     "evalue": "'Line2D' object has no property 'col'",
     "output_type": "error",
     "traceback": [
      "\u001b[0;31m---------------------------------------------------------------------------\u001b[0m",
      "\u001b[0;31mAttributeError\u001b[0m                            Traceback (most recent call last)",
      "\u001b[0;32m<ipython-input-505-00283e8ed591>\u001b[0m in \u001b[0;36m<module>\u001b[0;34m\u001b[0m\n\u001b[0;32m----> 1\u001b[0;31m \u001b[0mdf_stocks_reduced\u001b[0m\u001b[0;34m[\u001b[0m\u001b[0;34m'Close'\u001b[0m\u001b[0;34m]\u001b[0m\u001b[0;34m.\u001b[0m\u001b[0mplot\u001b[0m\u001b[0;34m(\u001b[0m\u001b[0mcol\u001b[0m \u001b[0;34m=\u001b[0m \u001b[0mdf_stocks_reduced\u001b[0m\u001b[0;34m[\u001b[0m\u001b[0;34m'Heat Wave'\u001b[0m\u001b[0;34m]\u001b[0m\u001b[0;34m)\u001b[0m\u001b[0;34m\u001b[0m\u001b[0;34m\u001b[0m\u001b[0m\n\u001b[0m\u001b[1;32m      2\u001b[0m \u001b[0mdf_stocks_reduced\u001b[0m\u001b[0;34m[\u001b[0m\u001b[0;34m'sentiment'\u001b[0m\u001b[0;34m]\u001b[0m\u001b[0;34m.\u001b[0m\u001b[0mplot\u001b[0m\u001b[0;34m(\u001b[0m\u001b[0msecondary_y\u001b[0m \u001b[0;34m=\u001b[0m \u001b[0;32mTrue\u001b[0m\u001b[0;34m)\u001b[0m\u001b[0;34m\u001b[0m\u001b[0;34m\u001b[0m\u001b[0m\n",
      "\u001b[0;32m/usr/lib/python3/dist-packages/pandas/plotting/_core.py\u001b[0m in \u001b[0;36m__call__\u001b[0;34m(self, *args, **kwargs)\u001b[0m\n\u001b[1;32m    792\u001b[0m                     \u001b[0mdata\u001b[0m\u001b[0;34m.\u001b[0m\u001b[0mcolumns\u001b[0m \u001b[0;34m=\u001b[0m \u001b[0mlabel_name\u001b[0m\u001b[0;34m\u001b[0m\u001b[0;34m\u001b[0m\u001b[0m\n\u001b[1;32m    793\u001b[0m \u001b[0;34m\u001b[0m\u001b[0m\n\u001b[0;32m--> 794\u001b[0;31m         \u001b[0;32mreturn\u001b[0m \u001b[0mplot_backend\u001b[0m\u001b[0;34m.\u001b[0m\u001b[0mplot\u001b[0m\u001b[0;34m(\u001b[0m\u001b[0mdata\u001b[0m\u001b[0;34m,\u001b[0m \u001b[0mkind\u001b[0m\u001b[0;34m=\u001b[0m\u001b[0mkind\u001b[0m\u001b[0;34m,\u001b[0m \u001b[0;34m**\u001b[0m\u001b[0mkwargs\u001b[0m\u001b[0;34m)\u001b[0m\u001b[0;34m\u001b[0m\u001b[0;34m\u001b[0m\u001b[0m\n\u001b[0m\u001b[1;32m    795\u001b[0m \u001b[0;34m\u001b[0m\u001b[0m\n\u001b[1;32m    796\u001b[0m     \u001b[0;32mdef\u001b[0m \u001b[0mline\u001b[0m\u001b[0;34m(\u001b[0m\u001b[0mself\u001b[0m\u001b[0;34m,\u001b[0m \u001b[0mx\u001b[0m\u001b[0;34m=\u001b[0m\u001b[0;32mNone\u001b[0m\u001b[0;34m,\u001b[0m \u001b[0my\u001b[0m\u001b[0;34m=\u001b[0m\u001b[0;32mNone\u001b[0m\u001b[0;34m,\u001b[0m \u001b[0;34m**\u001b[0m\u001b[0mkwargs\u001b[0m\u001b[0;34m)\u001b[0m\u001b[0;34m:\u001b[0m\u001b[0;34m\u001b[0m\u001b[0;34m\u001b[0m\u001b[0m\n",
      "\u001b[0;32m/usr/lib/python3/dist-packages/pandas/plotting/_matplotlib/__init__.py\u001b[0m in \u001b[0;36mplot\u001b[0;34m(data, kind, **kwargs)\u001b[0m\n\u001b[1;32m     60\u001b[0m             \u001b[0mkwargs\u001b[0m\u001b[0;34m[\u001b[0m\u001b[0;34m\"ax\"\u001b[0m\u001b[0;34m]\u001b[0m \u001b[0;34m=\u001b[0m \u001b[0mgetattr\u001b[0m\u001b[0;34m(\u001b[0m\u001b[0max\u001b[0m\u001b[0;34m,\u001b[0m \u001b[0;34m\"left_ax\"\u001b[0m\u001b[0;34m,\u001b[0m \u001b[0max\u001b[0m\u001b[0;34m)\u001b[0m\u001b[0;34m\u001b[0m\u001b[0;34m\u001b[0m\u001b[0m\n\u001b[1;32m     61\u001b[0m     \u001b[0mplot_obj\u001b[0m \u001b[0;34m=\u001b[0m \u001b[0mPLOT_CLASSES\u001b[0m\u001b[0;34m[\u001b[0m\u001b[0mkind\u001b[0m\u001b[0;34m]\u001b[0m\u001b[0;34m(\u001b[0m\u001b[0mdata\u001b[0m\u001b[0;34m,\u001b[0m \u001b[0;34m**\u001b[0m\u001b[0mkwargs\u001b[0m\u001b[0;34m)\u001b[0m\u001b[0;34m\u001b[0m\u001b[0;34m\u001b[0m\u001b[0m\n\u001b[0;32m---> 62\u001b[0;31m     \u001b[0mplot_obj\u001b[0m\u001b[0;34m.\u001b[0m\u001b[0mgenerate\u001b[0m\u001b[0;34m(\u001b[0m\u001b[0;34m)\u001b[0m\u001b[0;34m\u001b[0m\u001b[0;34m\u001b[0m\u001b[0m\n\u001b[0m\u001b[1;32m     63\u001b[0m     \u001b[0mplot_obj\u001b[0m\u001b[0;34m.\u001b[0m\u001b[0mdraw\u001b[0m\u001b[0;34m(\u001b[0m\u001b[0;34m)\u001b[0m\u001b[0;34m\u001b[0m\u001b[0;34m\u001b[0m\u001b[0m\n\u001b[1;32m     64\u001b[0m     \u001b[0;32mreturn\u001b[0m \u001b[0mplot_obj\u001b[0m\u001b[0;34m.\u001b[0m\u001b[0mresult\u001b[0m\u001b[0;34m\u001b[0m\u001b[0;34m\u001b[0m\u001b[0m\n",
      "\u001b[0;32m/usr/lib/python3/dist-packages/pandas/plotting/_matplotlib/core.py\u001b[0m in \u001b[0;36mgenerate\u001b[0;34m(self)\u001b[0m\n\u001b[1;32m    279\u001b[0m         \u001b[0mself\u001b[0m\u001b[0;34m.\u001b[0m\u001b[0m_compute_plot_data\u001b[0m\u001b[0;34m(\u001b[0m\u001b[0;34m)\u001b[0m\u001b[0;34m\u001b[0m\u001b[0;34m\u001b[0m\u001b[0m\n\u001b[1;32m    280\u001b[0m         \u001b[0mself\u001b[0m\u001b[0;34m.\u001b[0m\u001b[0m_setup_subplots\u001b[0m\u001b[0;34m(\u001b[0m\u001b[0;34m)\u001b[0m\u001b[0;34m\u001b[0m\u001b[0;34m\u001b[0m\u001b[0m\n\u001b[0;32m--> 281\u001b[0;31m         \u001b[0mself\u001b[0m\u001b[0;34m.\u001b[0m\u001b[0m_make_plot\u001b[0m\u001b[0;34m(\u001b[0m\u001b[0;34m)\u001b[0m\u001b[0;34m\u001b[0m\u001b[0;34m\u001b[0m\u001b[0m\n\u001b[0m\u001b[1;32m    282\u001b[0m         \u001b[0mself\u001b[0m\u001b[0;34m.\u001b[0m\u001b[0m_add_table\u001b[0m\u001b[0;34m(\u001b[0m\u001b[0;34m)\u001b[0m\u001b[0;34m\u001b[0m\u001b[0;34m\u001b[0m\u001b[0m\n\u001b[1;32m    283\u001b[0m         \u001b[0mself\u001b[0m\u001b[0;34m.\u001b[0m\u001b[0m_make_legend\u001b[0m\u001b[0;34m(\u001b[0m\u001b[0;34m)\u001b[0m\u001b[0;34m\u001b[0m\u001b[0;34m\u001b[0m\u001b[0m\n",
      "\u001b[0;32m/usr/lib/python3/dist-packages/pandas/plotting/_matplotlib/core.py\u001b[0m in \u001b[0;36m_make_plot\u001b[0;34m(self)\u001b[0m\n\u001b[1;32m   1069\u001b[0m             \u001b[0mkwds\u001b[0m\u001b[0;34m[\u001b[0m\u001b[0;34m\"label\"\u001b[0m\u001b[0;34m]\u001b[0m \u001b[0;34m=\u001b[0m \u001b[0mlabel\u001b[0m\u001b[0;34m\u001b[0m\u001b[0;34m\u001b[0m\u001b[0m\n\u001b[1;32m   1070\u001b[0m \u001b[0;34m\u001b[0m\u001b[0m\n\u001b[0;32m-> 1071\u001b[0;31m             newlines = plotf(\n\u001b[0m\u001b[1;32m   1072\u001b[0m                 \u001b[0max\u001b[0m\u001b[0;34m,\u001b[0m\u001b[0;34m\u001b[0m\u001b[0;34m\u001b[0m\u001b[0m\n\u001b[1;32m   1073\u001b[0m                 \u001b[0mx\u001b[0m\u001b[0;34m,\u001b[0m\u001b[0;34m\u001b[0m\u001b[0;34m\u001b[0m\u001b[0m\n",
      "\u001b[0;32m/usr/lib/python3/dist-packages/pandas/plotting/_matplotlib/core.py\u001b[0m in \u001b[0;36m_plot\u001b[0;34m(cls, ax, x, y, style, column_num, stacking_id, **kwds)\u001b[0m\n\u001b[1;32m   1092\u001b[0m             \u001b[0mcls\u001b[0m\u001b[0;34m.\u001b[0m\u001b[0m_initialize_stacker\u001b[0m\u001b[0;34m(\u001b[0m\u001b[0max\u001b[0m\u001b[0;34m,\u001b[0m \u001b[0mstacking_id\u001b[0m\u001b[0;34m,\u001b[0m \u001b[0mlen\u001b[0m\u001b[0;34m(\u001b[0m\u001b[0my\u001b[0m\u001b[0;34m)\u001b[0m\u001b[0;34m)\u001b[0m\u001b[0;34m\u001b[0m\u001b[0;34m\u001b[0m\u001b[0m\n\u001b[1;32m   1093\u001b[0m         \u001b[0my_values\u001b[0m \u001b[0;34m=\u001b[0m \u001b[0mcls\u001b[0m\u001b[0;34m.\u001b[0m\u001b[0m_get_stacked_values\u001b[0m\u001b[0;34m(\u001b[0m\u001b[0max\u001b[0m\u001b[0;34m,\u001b[0m \u001b[0mstacking_id\u001b[0m\u001b[0;34m,\u001b[0m \u001b[0my\u001b[0m\u001b[0;34m,\u001b[0m \u001b[0mkwds\u001b[0m\u001b[0;34m[\u001b[0m\u001b[0;34m\"label\"\u001b[0m\u001b[0;34m]\u001b[0m\u001b[0;34m)\u001b[0m\u001b[0;34m\u001b[0m\u001b[0;34m\u001b[0m\u001b[0m\n\u001b[0;32m-> 1094\u001b[0;31m         \u001b[0mlines\u001b[0m \u001b[0;34m=\u001b[0m \u001b[0mMPLPlot\u001b[0m\u001b[0;34m.\u001b[0m\u001b[0m_plot\u001b[0m\u001b[0;34m(\u001b[0m\u001b[0max\u001b[0m\u001b[0;34m,\u001b[0m \u001b[0mx\u001b[0m\u001b[0;34m,\u001b[0m \u001b[0my_values\u001b[0m\u001b[0;34m,\u001b[0m \u001b[0mstyle\u001b[0m\u001b[0;34m=\u001b[0m\u001b[0mstyle\u001b[0m\u001b[0;34m,\u001b[0m \u001b[0;34m**\u001b[0m\u001b[0mkwds\u001b[0m\u001b[0;34m)\u001b[0m\u001b[0;34m\u001b[0m\u001b[0;34m\u001b[0m\u001b[0m\n\u001b[0m\u001b[1;32m   1095\u001b[0m         \u001b[0mcls\u001b[0m\u001b[0;34m.\u001b[0m\u001b[0m_update_stacker\u001b[0m\u001b[0;34m(\u001b[0m\u001b[0max\u001b[0m\u001b[0;34m,\u001b[0m \u001b[0mstacking_id\u001b[0m\u001b[0;34m,\u001b[0m \u001b[0my\u001b[0m\u001b[0;34m)\u001b[0m\u001b[0;34m\u001b[0m\u001b[0;34m\u001b[0m\u001b[0m\n\u001b[1;32m   1096\u001b[0m         \u001b[0;32mreturn\u001b[0m \u001b[0mlines\u001b[0m\u001b[0;34m\u001b[0m\u001b[0;34m\u001b[0m\u001b[0m\n",
      "\u001b[0;32m/usr/lib/python3/dist-packages/pandas/plotting/_matplotlib/core.py\u001b[0m in \u001b[0;36m_plot\u001b[0;34m(cls, ax, x, y, style, is_errorbar, **kwds)\u001b[0m\n\u001b[1;32m    650\u001b[0m             \u001b[0;32melse\u001b[0m\u001b[0;34m:\u001b[0m\u001b[0;34m\u001b[0m\u001b[0;34m\u001b[0m\u001b[0m\n\u001b[1;32m    651\u001b[0m                 \u001b[0margs\u001b[0m \u001b[0;34m=\u001b[0m \u001b[0;34m(\u001b[0m\u001b[0mx\u001b[0m\u001b[0;34m,\u001b[0m \u001b[0my\u001b[0m\u001b[0;34m)\u001b[0m\u001b[0;34m\u001b[0m\u001b[0;34m\u001b[0m\u001b[0m\n\u001b[0;32m--> 652\u001b[0;31m             \u001b[0;32mreturn\u001b[0m \u001b[0max\u001b[0m\u001b[0;34m.\u001b[0m\u001b[0mplot\u001b[0m\u001b[0;34m(\u001b[0m\u001b[0;34m*\u001b[0m\u001b[0margs\u001b[0m\u001b[0;34m,\u001b[0m \u001b[0;34m**\u001b[0m\u001b[0mkwds\u001b[0m\u001b[0;34m)\u001b[0m\u001b[0;34m\u001b[0m\u001b[0;34m\u001b[0m\u001b[0m\n\u001b[0m\u001b[1;32m    653\u001b[0m \u001b[0;34m\u001b[0m\u001b[0m\n\u001b[1;32m    654\u001b[0m     \u001b[0;32mdef\u001b[0m \u001b[0m_get_index_name\u001b[0m\u001b[0;34m(\u001b[0m\u001b[0mself\u001b[0m\u001b[0;34m)\u001b[0m\u001b[0;34m:\u001b[0m\u001b[0;34m\u001b[0m\u001b[0;34m\u001b[0m\u001b[0m\n",
      "\u001b[0;32m/usr/lib/python3/dist-packages/matplotlib/axes/_axes.py\u001b[0m in \u001b[0;36mplot\u001b[0;34m(self, scalex, scaley, data, *args, **kwargs)\u001b[0m\n\u001b[1;32m   1663\u001b[0m         \"\"\"\n\u001b[1;32m   1664\u001b[0m         \u001b[0mkwargs\u001b[0m \u001b[0;34m=\u001b[0m \u001b[0mcbook\u001b[0m\u001b[0;34m.\u001b[0m\u001b[0mnormalize_kwargs\u001b[0m\u001b[0;34m(\u001b[0m\u001b[0mkwargs\u001b[0m\u001b[0;34m,\u001b[0m \u001b[0mmlines\u001b[0m\u001b[0;34m.\u001b[0m\u001b[0mLine2D\u001b[0m\u001b[0;34m.\u001b[0m\u001b[0m_alias_map\u001b[0m\u001b[0;34m)\u001b[0m\u001b[0;34m\u001b[0m\u001b[0;34m\u001b[0m\u001b[0m\n\u001b[0;32m-> 1665\u001b[0;31m         \u001b[0mlines\u001b[0m \u001b[0;34m=\u001b[0m \u001b[0;34m[\u001b[0m\u001b[0;34m*\u001b[0m\u001b[0mself\u001b[0m\u001b[0;34m.\u001b[0m\u001b[0m_get_lines\u001b[0m\u001b[0;34m(\u001b[0m\u001b[0;34m*\u001b[0m\u001b[0margs\u001b[0m\u001b[0;34m,\u001b[0m \u001b[0mdata\u001b[0m\u001b[0;34m=\u001b[0m\u001b[0mdata\u001b[0m\u001b[0;34m,\u001b[0m \u001b[0;34m**\u001b[0m\u001b[0mkwargs\u001b[0m\u001b[0;34m)\u001b[0m\u001b[0;34m]\u001b[0m\u001b[0;34m\u001b[0m\u001b[0;34m\u001b[0m\u001b[0m\n\u001b[0m\u001b[1;32m   1666\u001b[0m         \u001b[0;32mfor\u001b[0m \u001b[0mline\u001b[0m \u001b[0;32min\u001b[0m \u001b[0mlines\u001b[0m\u001b[0;34m:\u001b[0m\u001b[0;34m\u001b[0m\u001b[0;34m\u001b[0m\u001b[0m\n\u001b[1;32m   1667\u001b[0m             \u001b[0mself\u001b[0m\u001b[0;34m.\u001b[0m\u001b[0madd_line\u001b[0m\u001b[0;34m(\u001b[0m\u001b[0mline\u001b[0m\u001b[0;34m)\u001b[0m\u001b[0;34m\u001b[0m\u001b[0;34m\u001b[0m\u001b[0m\n",
      "\u001b[0;32m/usr/lib/python3/dist-packages/matplotlib/axes/_base.py\u001b[0m in \u001b[0;36m__call__\u001b[0;34m(self, *args, **kwargs)\u001b[0m\n\u001b[1;32m    223\u001b[0m                 \u001b[0mthis\u001b[0m \u001b[0;34m+=\u001b[0m \u001b[0margs\u001b[0m\u001b[0;34m[\u001b[0m\u001b[0;36m0\u001b[0m\u001b[0;34m]\u001b[0m\u001b[0;34m,\u001b[0m\u001b[0;34m\u001b[0m\u001b[0;34m\u001b[0m\u001b[0m\n\u001b[1;32m    224\u001b[0m                 \u001b[0margs\u001b[0m \u001b[0;34m=\u001b[0m \u001b[0margs\u001b[0m\u001b[0;34m[\u001b[0m\u001b[0;36m1\u001b[0m\u001b[0;34m:\u001b[0m\u001b[0;34m]\u001b[0m\u001b[0;34m\u001b[0m\u001b[0;34m\u001b[0m\u001b[0m\n\u001b[0;32m--> 225\u001b[0;31m             \u001b[0;32myield\u001b[0m \u001b[0;32mfrom\u001b[0m \u001b[0mself\u001b[0m\u001b[0;34m.\u001b[0m\u001b[0m_plot_args\u001b[0m\u001b[0;34m(\u001b[0m\u001b[0mthis\u001b[0m\u001b[0;34m,\u001b[0m \u001b[0mkwargs\u001b[0m\u001b[0;34m)\u001b[0m\u001b[0;34m\u001b[0m\u001b[0;34m\u001b[0m\u001b[0m\n\u001b[0m\u001b[1;32m    226\u001b[0m \u001b[0;34m\u001b[0m\u001b[0m\n\u001b[1;32m    227\u001b[0m     \u001b[0;32mdef\u001b[0m \u001b[0mget_next_color\u001b[0m\u001b[0;34m(\u001b[0m\u001b[0mself\u001b[0m\u001b[0;34m)\u001b[0m\u001b[0;34m:\u001b[0m\u001b[0;34m\u001b[0m\u001b[0;34m\u001b[0m\u001b[0m\n",
      "\u001b[0;32m/usr/lib/python3/dist-packages/matplotlib/axes/_base.py\u001b[0m in \u001b[0;36m_plot_args\u001b[0;34m(self, tup, kwargs)\u001b[0m\n\u001b[1;32m    403\u001b[0m                 \"non-matching shapes is deprecated.\")\n\u001b[1;32m    404\u001b[0m         \u001b[0;32mfor\u001b[0m \u001b[0mj\u001b[0m \u001b[0;32min\u001b[0m \u001b[0mrange\u001b[0m\u001b[0;34m(\u001b[0m\u001b[0mmax\u001b[0m\u001b[0;34m(\u001b[0m\u001b[0mncx\u001b[0m\u001b[0;34m,\u001b[0m \u001b[0mncy\u001b[0m\u001b[0;34m)\u001b[0m\u001b[0;34m)\u001b[0m\u001b[0;34m:\u001b[0m\u001b[0;34m\u001b[0m\u001b[0;34m\u001b[0m\u001b[0m\n\u001b[0;32m--> 405\u001b[0;31m             \u001b[0mseg\u001b[0m \u001b[0;34m=\u001b[0m \u001b[0mfunc\u001b[0m\u001b[0;34m(\u001b[0m\u001b[0mx\u001b[0m\u001b[0;34m[\u001b[0m\u001b[0;34m:\u001b[0m\u001b[0;34m,\u001b[0m \u001b[0mj\u001b[0m \u001b[0;34m%\u001b[0m \u001b[0mncx\u001b[0m\u001b[0;34m]\u001b[0m\u001b[0;34m,\u001b[0m \u001b[0my\u001b[0m\u001b[0;34m[\u001b[0m\u001b[0;34m:\u001b[0m\u001b[0;34m,\u001b[0m \u001b[0mj\u001b[0m \u001b[0;34m%\u001b[0m \u001b[0mncy\u001b[0m\u001b[0;34m]\u001b[0m\u001b[0;34m,\u001b[0m \u001b[0mkw\u001b[0m\u001b[0;34m,\u001b[0m \u001b[0mkwargs\u001b[0m\u001b[0;34m)\u001b[0m\u001b[0;34m\u001b[0m\u001b[0;34m\u001b[0m\u001b[0m\n\u001b[0m\u001b[1;32m    406\u001b[0m             \u001b[0mret\u001b[0m\u001b[0;34m.\u001b[0m\u001b[0mappend\u001b[0m\u001b[0;34m(\u001b[0m\u001b[0mseg\u001b[0m\u001b[0;34m)\u001b[0m\u001b[0;34m\u001b[0m\u001b[0;34m\u001b[0m\u001b[0m\n\u001b[1;32m    407\u001b[0m         \u001b[0;32mreturn\u001b[0m \u001b[0mret\u001b[0m\u001b[0;34m\u001b[0m\u001b[0;34m\u001b[0m\u001b[0m\n",
      "\u001b[0;32m/usr/lib/python3/dist-packages/matplotlib/axes/_base.py\u001b[0m in \u001b[0;36m_makeline\u001b[0;34m(self, x, y, kw, kwargs)\u001b[0m\n\u001b[1;32m    310\u001b[0m         \u001b[0mdefault_dict\u001b[0m \u001b[0;34m=\u001b[0m \u001b[0mself\u001b[0m\u001b[0;34m.\u001b[0m\u001b[0m_getdefaults\u001b[0m\u001b[0;34m(\u001b[0m\u001b[0mset\u001b[0m\u001b[0;34m(\u001b[0m\u001b[0;34m)\u001b[0m\u001b[0;34m,\u001b[0m \u001b[0mkw\u001b[0m\u001b[0;34m)\u001b[0m\u001b[0;34m\u001b[0m\u001b[0;34m\u001b[0m\u001b[0m\n\u001b[1;32m    311\u001b[0m         \u001b[0mself\u001b[0m\u001b[0;34m.\u001b[0m\u001b[0m_setdefaults\u001b[0m\u001b[0;34m(\u001b[0m\u001b[0mdefault_dict\u001b[0m\u001b[0;34m,\u001b[0m \u001b[0mkw\u001b[0m\u001b[0;34m)\u001b[0m\u001b[0;34m\u001b[0m\u001b[0;34m\u001b[0m\u001b[0m\n\u001b[0;32m--> 312\u001b[0;31m         \u001b[0mseg\u001b[0m \u001b[0;34m=\u001b[0m \u001b[0mmlines\u001b[0m\u001b[0;34m.\u001b[0m\u001b[0mLine2D\u001b[0m\u001b[0;34m(\u001b[0m\u001b[0mx\u001b[0m\u001b[0;34m,\u001b[0m \u001b[0my\u001b[0m\u001b[0;34m,\u001b[0m \u001b[0;34m**\u001b[0m\u001b[0mkw\u001b[0m\u001b[0;34m)\u001b[0m\u001b[0;34m\u001b[0m\u001b[0;34m\u001b[0m\u001b[0m\n\u001b[0m\u001b[1;32m    313\u001b[0m         \u001b[0;32mreturn\u001b[0m \u001b[0mseg\u001b[0m\u001b[0;34m\u001b[0m\u001b[0;34m\u001b[0m\u001b[0m\n\u001b[1;32m    314\u001b[0m \u001b[0;34m\u001b[0m\u001b[0m\n",
      "\u001b[0;32m/usr/lib/python3/dist-packages/matplotlib/lines.py\u001b[0m in \u001b[0;36m__init__\u001b[0;34m(self, xdata, ydata, linewidth, linestyle, color, marker, markersize, markeredgewidth, markeredgecolor, markerfacecolor, markerfacecoloralt, fillstyle, antialiased, dash_capstyle, solid_capstyle, dash_joinstyle, solid_joinstyle, pickradius, drawstyle, markevery, **kwargs)\u001b[0m\n\u001b[1;32m    402\u001b[0m         \u001b[0;31m# update kwargs before updating data to give the caller a\u001b[0m\u001b[0;34m\u001b[0m\u001b[0;34m\u001b[0m\u001b[0;34m\u001b[0m\u001b[0m\n\u001b[1;32m    403\u001b[0m         \u001b[0;31m# chance to init axes (and hence unit support)\u001b[0m\u001b[0;34m\u001b[0m\u001b[0;34m\u001b[0m\u001b[0;34m\u001b[0m\u001b[0m\n\u001b[0;32m--> 404\u001b[0;31m         \u001b[0mself\u001b[0m\u001b[0;34m.\u001b[0m\u001b[0mupdate\u001b[0m\u001b[0;34m(\u001b[0m\u001b[0mkwargs\u001b[0m\u001b[0;34m)\u001b[0m\u001b[0;34m\u001b[0m\u001b[0;34m\u001b[0m\u001b[0m\n\u001b[0m\u001b[1;32m    405\u001b[0m         \u001b[0mself\u001b[0m\u001b[0;34m.\u001b[0m\u001b[0mpickradius\u001b[0m \u001b[0;34m=\u001b[0m \u001b[0mpickradius\u001b[0m\u001b[0;34m\u001b[0m\u001b[0;34m\u001b[0m\u001b[0m\n\u001b[1;32m    406\u001b[0m         \u001b[0mself\u001b[0m\u001b[0;34m.\u001b[0m\u001b[0mind_offset\u001b[0m \u001b[0;34m=\u001b[0m \u001b[0;36m0\u001b[0m\u001b[0;34m\u001b[0m\u001b[0;34m\u001b[0m\u001b[0m\n",
      "\u001b[0;32m/usr/lib/python3/dist-packages/matplotlib/artist.py\u001b[0m in \u001b[0;36mupdate\u001b[0;34m(self, props)\u001b[0m\n\u001b[1;32m    972\u001b[0m \u001b[0;34m\u001b[0m\u001b[0m\n\u001b[1;32m    973\u001b[0m         \u001b[0;32mwith\u001b[0m \u001b[0mcbook\u001b[0m\u001b[0;34m.\u001b[0m\u001b[0m_setattr_cm\u001b[0m\u001b[0;34m(\u001b[0m\u001b[0mself\u001b[0m\u001b[0;34m,\u001b[0m \u001b[0meventson\u001b[0m\u001b[0;34m=\u001b[0m\u001b[0;32mFalse\u001b[0m\u001b[0;34m)\u001b[0m\u001b[0;34m:\u001b[0m\u001b[0;34m\u001b[0m\u001b[0;34m\u001b[0m\u001b[0m\n\u001b[0;32m--> 974\u001b[0;31m             \u001b[0mret\u001b[0m \u001b[0;34m=\u001b[0m \u001b[0;34m[\u001b[0m\u001b[0m_update_property\u001b[0m\u001b[0;34m(\u001b[0m\u001b[0mself\u001b[0m\u001b[0;34m,\u001b[0m \u001b[0mk\u001b[0m\u001b[0;34m,\u001b[0m \u001b[0mv\u001b[0m\u001b[0;34m)\u001b[0m \u001b[0;32mfor\u001b[0m \u001b[0mk\u001b[0m\u001b[0;34m,\u001b[0m \u001b[0mv\u001b[0m \u001b[0;32min\u001b[0m \u001b[0mprops\u001b[0m\u001b[0;34m.\u001b[0m\u001b[0mitems\u001b[0m\u001b[0;34m(\u001b[0m\u001b[0;34m)\u001b[0m\u001b[0;34m]\u001b[0m\u001b[0;34m\u001b[0m\u001b[0;34m\u001b[0m\u001b[0m\n\u001b[0m\u001b[1;32m    975\u001b[0m \u001b[0;34m\u001b[0m\u001b[0m\n\u001b[1;32m    976\u001b[0m         \u001b[0;32mif\u001b[0m \u001b[0mlen\u001b[0m\u001b[0;34m(\u001b[0m\u001b[0mret\u001b[0m\u001b[0;34m)\u001b[0m\u001b[0;34m:\u001b[0m\u001b[0;34m\u001b[0m\u001b[0;34m\u001b[0m\u001b[0m\n",
      "\u001b[0;32m/usr/lib/python3/dist-packages/matplotlib/artist.py\u001b[0m in \u001b[0;36m<listcomp>\u001b[0;34m(.0)\u001b[0m\n\u001b[1;32m    972\u001b[0m \u001b[0;34m\u001b[0m\u001b[0m\n\u001b[1;32m    973\u001b[0m         \u001b[0;32mwith\u001b[0m \u001b[0mcbook\u001b[0m\u001b[0;34m.\u001b[0m\u001b[0m_setattr_cm\u001b[0m\u001b[0;34m(\u001b[0m\u001b[0mself\u001b[0m\u001b[0;34m,\u001b[0m \u001b[0meventson\u001b[0m\u001b[0;34m=\u001b[0m\u001b[0;32mFalse\u001b[0m\u001b[0;34m)\u001b[0m\u001b[0;34m:\u001b[0m\u001b[0;34m\u001b[0m\u001b[0;34m\u001b[0m\u001b[0m\n\u001b[0;32m--> 974\u001b[0;31m             \u001b[0mret\u001b[0m \u001b[0;34m=\u001b[0m \u001b[0;34m[\u001b[0m\u001b[0m_update_property\u001b[0m\u001b[0;34m(\u001b[0m\u001b[0mself\u001b[0m\u001b[0;34m,\u001b[0m \u001b[0mk\u001b[0m\u001b[0;34m,\u001b[0m \u001b[0mv\u001b[0m\u001b[0;34m)\u001b[0m \u001b[0;32mfor\u001b[0m \u001b[0mk\u001b[0m\u001b[0;34m,\u001b[0m \u001b[0mv\u001b[0m \u001b[0;32min\u001b[0m \u001b[0mprops\u001b[0m\u001b[0;34m.\u001b[0m\u001b[0mitems\u001b[0m\u001b[0;34m(\u001b[0m\u001b[0;34m)\u001b[0m\u001b[0;34m]\u001b[0m\u001b[0;34m\u001b[0m\u001b[0;34m\u001b[0m\u001b[0m\n\u001b[0m\u001b[1;32m    975\u001b[0m \u001b[0;34m\u001b[0m\u001b[0m\n\u001b[1;32m    976\u001b[0m         \u001b[0;32mif\u001b[0m \u001b[0mlen\u001b[0m\u001b[0;34m(\u001b[0m\u001b[0mret\u001b[0m\u001b[0;34m)\u001b[0m\u001b[0;34m:\u001b[0m\u001b[0;34m\u001b[0m\u001b[0;34m\u001b[0m\u001b[0m\n",
      "\u001b[0;32m/usr/lib/python3/dist-packages/matplotlib/artist.py\u001b[0m in \u001b[0;36m_update_property\u001b[0;34m(self, k, v)\u001b[0m\n\u001b[1;32m    967\u001b[0m                 \u001b[0mfunc\u001b[0m \u001b[0;34m=\u001b[0m \u001b[0mgetattr\u001b[0m\u001b[0;34m(\u001b[0m\u001b[0mself\u001b[0m\u001b[0;34m,\u001b[0m \u001b[0;34m'set_'\u001b[0m \u001b[0;34m+\u001b[0m \u001b[0mk\u001b[0m\u001b[0;34m,\u001b[0m \u001b[0;32mNone\u001b[0m\u001b[0;34m)\u001b[0m\u001b[0;34m\u001b[0m\u001b[0;34m\u001b[0m\u001b[0m\n\u001b[1;32m    968\u001b[0m                 \u001b[0;32mif\u001b[0m \u001b[0;32mnot\u001b[0m \u001b[0mcallable\u001b[0m\u001b[0;34m(\u001b[0m\u001b[0mfunc\u001b[0m\u001b[0;34m)\u001b[0m\u001b[0;34m:\u001b[0m\u001b[0;34m\u001b[0m\u001b[0;34m\u001b[0m\u001b[0m\n\u001b[0;32m--> 969\u001b[0;31m                     raise AttributeError('{!r} object has no property {!r}'\n\u001b[0m\u001b[1;32m    970\u001b[0m                                          .format(type(self).__name__, k))\n\u001b[1;32m    971\u001b[0m                 \u001b[0;32mreturn\u001b[0m \u001b[0mfunc\u001b[0m\u001b[0;34m(\u001b[0m\u001b[0mv\u001b[0m\u001b[0;34m)\u001b[0m\u001b[0;34m\u001b[0m\u001b[0;34m\u001b[0m\u001b[0m\n",
      "\u001b[0;31mAttributeError\u001b[0m: 'Line2D' object has no property 'col'"
     ]
    },
    {
     "data": {
      "image/png": "[encoded data removed]",
      "text/plain": [
       "<Figure size 432x288 with 1 Axes>"
      ]
     },
     "metadata": {
      "needs_background": "light"
     },
     "output_type": "display_data"
    }
   ],
   "source": [
    "df_stocks_reduced['Close'].plot(col = df_stocks_reduced['Heat Wave'])\n",
    "df_stocks_reduced['sentiment'].plot(secondary_y = True)"
   ]
  },
  {
   "cell_type": "code",
   "execution_count": 496,
   "metadata": {},
   "outputs": [
    {
     "data": {
      "text/plain": [
       "109"
      ]
     },
     "execution_count": 496,
     "metadata": {},
     "output_type": "execute_result"
    }
   ],
   "source": [
    "df_stocks_reduced['sentiment'].plot.scatter()"
   ]
  },
  {
   "cell_type": "code",
   "execution_count": 498,
   "metadata": {},
   "outputs": [
    {
     "data": {
      "image/png": "[encoded data removed]",
      "text/plain": [
       "<Figure size 432x288 with 1 Axes>"
      ]
     },
     "metadata": {
      "needs_background": "light"
     },
     "output_type": "display_data"
    }
   ],
   "source": [
    "\n",
    "fig, ax = plt.subplots()\n",
    "\n",
    "colors = {0:'blue',1:'red'}\n",
    "\n",
    "grouped = df_stocks_reduced.groupby('Heat Wave')\n",
    "for key, group in grouped:\n",
    "    group.plot(ax=ax, kind='scatter', x='sentiment', y = 'Heat Wave', label=key, color=colors[key])\n",
    "\n",
    "plt.show()"
   ]
  },
  {
   "cell_type": "code",
   "execution_count": 509,
   "metadata": {},
   "outputs": [],
   "source": [
    "hws = df_stocks_reduced['Heat Wave']#np.where(df_stocks_reduced['Heat Wave'] == 1)"
   ]
  },
  {
   "cell_type": "code",
   "execution_count": 531,
   "metadata": {},
   "outputs": [],
   "source": [
    "leading_edges = []\n",
    "following_edges = []\n",
    "for i in range(len(hws)):\n",
    "    if hws[i] == 1:\n",
    "        if i == 0:\n",
    "            leading_edges.append(i)\n",
    "        elif hws[i-1] == 0 :\n",
    "            leading_edges.append(i)\n",
    "        \n",
    "    if hws[i] == 0 :\n",
    "        if i != 0:\n",
    "            if hws[i-1] == 1 :\n",
    "                following_edges.append(i)\n",
    "                \n",
    "if len(leading_edges) != len(following_edges):\n",
    "    if min(leading_edges) > min(following_edges):\n",
    "        leading_edges = [0] + leading_edges\n",
    "        \n",
    "    if max(leading_edge) > max(following_edges):\n",
    "        following_edges = following_edges + [len(hws)]"
   ]
  },
  {
   "cell_type": "code",
   "execution_count": 540,
   "metadata": {},
   "outputs": [
    {
     "data": {
      "text/plain": [
       "<matplotlib.axes._subplots.AxesSubplot at 0x7efcae409070>"
      ]
     },
     "execution_count": 540,
     "metadata": {},
     "output_type": "execute_result"
    },
    {
     "data": {
      "image/png": "[encoded data removed]",
      "text/plain": [
       "<Figure size 432x288 with 2 Axes>"
      ]
     },
     "metadata": {
      "needs_background": "light"
     },
     "output_type": "display_data"
    }
   ],
   "source": [
    "\n",
    "#df_stocks_reduced['Close'].plot()\n",
    "#df_stocks_reduced['sentiment'].plot(secondary_y = True)\n",
    "ax = df_stocks_reduced['Close'].plot()\n",
    "for i,j in zip(leading_edges, following_edges):\n",
    "    ax.axvspan(i,j, facecolor = 'red', alpha= 0.25)\n",
    "    \n",
    "df_stocks_reduced['sentiment'].plot(secondary_y = True)"
   ]
  },
  {
   "cell_type": "code",
   "execution_count": 534,
   "metadata": {},
   "outputs": [
    {
     "data": {
      "text/plain": [
       "[48, 128, 240]"
      ]
     },
     "execution_count": 534,
     "metadata": {},
     "output_type": "execute_result"
    }
   ],
   "source": [
    "leading_edges\n",
    "following_edges"
   ]
  },
  {
   "cell_type": "code",
   "execution_count": null,
   "metadata": {},
   "outputs": [],
   "source": []
  }
 ],
 "metadata": {
  "kernelspec": {
   "display_name": "Python 3.8.5 64-bit",
   "language": "python",
   "name": "python385jvsc74a57bd0916dbcbb3f70747c44a77c7bcd40155683ae19c65e1c03b4aa3499c5328201f1"
  }
 },
 "nbformat": 4,
 "nbformat_minor": 4
}
