{
 "cells": [
  {
   "cell_type": "code",
   "execution_count": 1,
   "metadata": {},
   "outputs": [],
   "source": [
    "import pandas as pd\n",
    "import requests\n",
    "import datetime\n",
    "import numpy as np\n",
    "from datetime import datetime\n",
    "import time\n",
    "from time import sleep\n",
    "import json\n",
    "import random"
   ]
  },
  {
   "cell_type": "code",
   "execution_count": 5,
   "metadata": {},
   "outputs": [],
   "source": [
    "def getPushshiftData(query, after, before, sub, endpoint = 'submission', size = 25):\n",
    "    url = 'https://api.pushshift.io/reddit/search/' + endpoint\n",
    "    parameters = {'subreddit': sub, 'title' : query, 'after' : str(after), 'before' : str(before), 'size': 500}\n",
    "    r = requests.get(url, parameters)\n",
    "    try:\n",
    "        data = r.json()\n",
    "    except:\n",
    "        data = {'data':[]}\n",
    "        \n",
    "    return data['data']"
   ]
  },
  {
   "cell_type": "code",
   "execution_count": 6,
   "metadata": {},
   "outputs": [],
   "source": [
    "def collectSubData(subm, subStats):\n",
    "    #subData = list() #list to store data points\n",
    "    \n",
    "    pd.DataFrame\n",
    "    title = subm['title']\n",
    "    url = subm['url']\n",
    "    \n",
    "    try:\n",
    "        flair = subm['link_flair_text']\n",
    "    except KeyError:\n",
    "        flair = \"NaN\"\n",
    "        \n",
    "    author = subm['author']\n",
    "    sub_id = subm['id']\n",
    "    score = subm['score']\n",
    "    created = datetime.datetime.fromtimestamp(subm['created_utc'])\n",
    "    numComms = subm['num_comments']\n",
    "    permalink = subm['permalink']\n",
    "    text = subm['selftext']\n",
    "    \n",
    "    subData.append((sub_id,title,url,author,score,created,numComms,permalink,flair))\n",
    "    subStats[sub_id] = subData"
   ]
  },
  {
   "cell_type": "code",
   "execution_count": 7,
   "metadata": {},
   "outputs": [],
   "source": [
    "def extractStats(data):\n",
    "    \n",
    "    subStats = {}\n",
    "    subCount = 0\n",
    "    \n",
    "    while len(data) > 0:\n",
    "        print(len(data))\n",
    "        for submission in data:\n",
    "            collectSubData(submission, subStats)\n",
    "            subCount+=1\n",
    "            \n",
    "        # Calls getPushshiftData() with the created date of the last submission\n",
    "        print(len(data))\n",
    "        print(str(datetime.datetime.fromtimestamp(data[-1]['created_utc'])))\n",
    "        after = data[-1]['created_utc']\n",
    "        data = getPushshiftData(query, after, before, sub)\n",
    "\n",
    "    print(len(data))\n",
    "    return(subStats)"
   ]
  },
  {
   "cell_type": "markdown",
   "metadata": {},
   "source": [
    "Code snippets from https://rareloot.medium.com/using-pushshifts-api-to-extract-reddit-submissions-fb517b286563"
   ]
  },
  {
   "cell_type": "code",
   "execution_count": 8,
   "metadata": {},
   "outputs": [],
   "source": [
    "def dt2unix(before, after, format = \"%Y/%m/%d\"):\n",
    "    # input: two strings in the form yyyy/mm/dd\n",
    "    # returns: tuple (before, after) as unix times\n",
    "    beforeUnix = time.mktime(datetime.strptime(before, format).timetuple())\n",
    "    afterUnix = time.mktime(datetime.strptime(after, format).timetuple())\n",
    "    \n",
    "    return(int(beforeUnix), int(afterUnix))"
   ]
  },
  {
   "cell_type": "code",
   "execution_count": 9,
   "metadata": {},
   "outputs": [],
   "source": [
    "def extractData(data):\n",
    "    dataDF = pd.DataFrame(data)\n",
    "    toExtract = ['author',\n",
    "                 'subreddit',\n",
    "                  'created_utc',\n",
    "                  'full_link', \n",
    "                  'id', 'is_self', \n",
    "                  'is_video', \n",
    "                  'locked', \n",
    "                  'num_comments', \n",
    "                  'num_crossposts', \n",
    "                  'pinned', \n",
    "                  'score',\n",
    "                 'selftext',\n",
    "                  'title',\n",
    "                'body']\n",
    "    outDF = pd.DataFrame([])\n",
    "    for query in toExtract:\n",
    "        try:\n",
    "            outDF[query] = dataDF[query]\n",
    "        except:\n",
    "            pass\n",
    "        \n",
    "    return(outDF)"
   ]
  },
  {
   "cell_type": "code",
   "execution_count": 10,
   "metadata": {},
   "outputs": [],
   "source": [
    "def getNews(query, after, before, sublist = ['news','worldnews','gunpolitics'], endpoint = 'submission'):\n",
    "    combinedDF = pd.DataFrame()\n",
    "    for sub in sublist:\n",
    "        datai = getPushshiftData(query, after, before, sub, endpoint)\n",
    "        while(len(datai) > 0):\n",
    "            print(len(datai))\n",
    "            dataj = extractData(datai)\n",
    "            combinedDF = combinedDF.append(dataj)\n",
    "            after = datai[-1]['created_utc']\n",
    "            print(before)\n",
    "            datai = getPushshiftData(query, after, before, sub, endpoint)\n",
    "            #sleep(random.random())\n",
    "            \n",
    "    return(combinedDF)"
   ]
  },
  {
   "cell_type": "code",
   "execution_count": 11,
   "metadata": {},
   "outputs": [],
   "source": [
    "class RedditData:\n",
    "    dataframe = pd.DataFrame()\n",
    "    \n",
    "    \n",
    "    \n",
    "    def __init__(self):\n",
    "        pass\n",
    "    \n",
    "    def collect(self, subs, terms, startdate, enddate, endpoint = 'submission'):\n",
    "        \n",
    "        # assert that subs, dates, and terms are nonempty\n",
    "        assert(len(subs) > 0), \"Search a Subreddit\"\n",
    "        assert(len(terms) > 0), \"Pick a searchterm\"\n",
    "        \n",
    "        \n",
    "        after, before = dt2unix(startdate, enddate)\n",
    "        \n",
    "        if type(terms) == list:\n",
    "            for term in terms:\n",
    "                stories = getNews(term, after, before, subs, endpoint)\n",
    "                stories.insert(0, \"Search Term\", term)\n",
    "                self.dataframe = self.dataframe.append(stories)\n",
    "        else:\n",
    "            stories = getNews(terms, after, before, subs, endpoint)\n",
    "            stories.insert(0, \"Search Term\", terms)\n",
    "            self.dataframe = self.dataframe.append(stories)\n",
    "            \n",
    "    def getdata(self):\n",
    "        return(self.dataframe)"
   ]
  },
  {
   "cell_type": "code",
   "execution_count": 162,
   "metadata": {},
   "outputs": [
    {
     "name": "stdout",
     "output_type": "stream",
     "text": [
      "99\n",
      "1569880800\n"
     ]
    }
   ],
   "source": [
    "stories = RedditData()\n",
    "stories.collect(['news','worldnews','gunpolitics'], \"heat wave\", '2018/05/1', '2019/10/01')"
   ]
  },
  {
   "cell_type": "code",
   "execution_count": 163,
   "metadata": {},
   "outputs": [
    {
     "data": {
      "text/plain": [
       "<matplotlib.axes._subplots.AxesSubplot at 0x7f6224cac9d0>"
      ]
     },
     "execution_count": 163,
     "metadata": {},
     "output_type": "execute_result"
    },
    {
     "data": {
      "image/png": "[encoded data removed]",
      "text/plain": [
       "<Figure size 432x288 with 1 Axes>"
      ]
     },
     "metadata": {
      "needs_background": "light"
     },
     "output_type": "display_data"
    }
   ],
   "source": [
    "stories.getdata()['created_utc'].hist(bins = 25)"
   ]
  },
  {
   "cell_type": "code",
   "execution_count": 164,
   "metadata": {},
   "outputs": [],
   "source": [
    "p = stories.getdata()['created_utc'].apply(datetime.fromtimestamp)"
   ]
  },
  {
   "cell_type": "code",
   "execution_count": 165,
   "metadata": {},
   "outputs": [],
   "source": [
    "q = p.value_counts()"
   ]
  },
  {
   "cell_type": "code",
   "execution_count": 166,
   "metadata": {},
   "outputs": [],
   "source": [
    "cutoff = 15"
   ]
  },
  {
   "cell_type": "code",
   "execution_count": 167,
   "metadata": {},
   "outputs": [],
   "source": [
    "timesvalues = q > cutoff"
   ]
  },
  {
   "cell_type": "code",
   "execution_count": 168,
   "metadata": {},
   "outputs": [
    {
     "data": {
      "text/plain": [
       "2018-07-23 07:31:11    False\n",
       "2019-06-26 10:54:39    False\n",
       "2019-08-13 12:21:19    False\n",
       "2019-07-19 23:36:44    False\n",
       "2018-09-05 03:46:42    False\n",
       "                       ...  \n",
       "2019-07-22 01:14:08    False\n",
       "2018-08-04 15:58:58    False\n",
       "2019-07-19 07:56:42    False\n",
       "2019-07-19 19:11:02    False\n",
       "2019-06-28 17:26:58    False\n",
       "Name: created_utc, Length: 99, dtype: bool"
      ]
     },
     "execution_count": 168,
     "metadata": {},
     "output_type": "execute_result"
    }
   ],
   "source": [
    "timesvalues"
   ]
  },
  {
   "cell_type": "code",
   "execution_count": 169,
   "metadata": {},
   "outputs": [],
   "source": [
    "counts, rEdge = np.histogram(stories.getdata()['created_utc'], bins = 25)"
   ]
  },
  {
   "cell_type": "code",
   "execution_count": 24,
   "metadata": {},
   "outputs": [],
   "source": [
    "if counts[0] > cutoff:\n",
    "    tSeries = 1*(rEdge[0] > times).to_numpy()\n",
    "else:\n",
    "    tSeries = 0\n",
    "    \n",
    "for i in range(1, len(counts)):\n",
    "    if counts[i] > cutoff:\n",
    "        tSeries += ((rEdge[i-1] <= times) & (rEdge[i] > times)).to_numpy()"
   ]
  },
  {
   "cell_type": "code",
   "execution_count": 171,
   "metadata": {},
   "outputs": [],
   "source": [
    "intervals = []\n",
    "for i in range(len(counts)):\n",
    "    if counts[i] >= cutoff:\n",
    "        intervals.append((rEdge[i],rEdge[i+1]))"
   ]
  },
  {
   "cell_type": "code",
   "execution_count": 172,
   "metadata": {},
   "outputs": [],
   "source": [
    "def heat(x, intervals):\n",
    "    for edge in intervals:\n",
    "        if (x >= edge[0]) & (x <= edge[1]):\n",
    "            return 1\n",
    "    return 0"
   ]
  },
  {
   "cell_type": "code",
   "execution_count": 181,
   "metadata": {},
   "outputs": [
    {
     "name": "stdout",
     "output_type": "stream",
     "text": [
      "100\n",
      "1569880800\n",
      "99\n",
      "1569880800\n",
      "100\n",
      "1569880800\n",
      "100\n",
      "1569880800\n",
      "94\n",
      "1569880800\n"
     ]
    }
   ],
   "source": [
    "stories.collect(['politics'], 'die',  '2018/05/1', '2019/10/01')"
   ]
  },
  {
   "cell_type": "code",
   "execution_count": 185,
   "metadata": {},
   "outputs": [
    {
     "data": {
      "text/html": [
       "<div>\n",
       "<style scoped>\n",
       "    .dataframe tbody tr th:only-of-type {\n",
       "        vertical-align: middle;\n",
       "    }\n",
       "\n",
       "    .dataframe tbody tr th {\n",
       "        vertical-align: top;\n",
       "    }\n",
       "\n",
       "    .dataframe thead th {\n",
       "        text-align: right;\n",
       "    }\n",
       "</style>\n",
       "<table border=\"1\" class=\"dataframe\">\n",
       "  <thead>\n",
       "    <tr style=\"text-align: right;\">\n",
       "      <th></th>\n",
       "      <th>Search Term</th>\n",
       "      <th>author</th>\n",
       "      <th>subreddit</th>\n",
       "      <th>created_utc</th>\n",
       "      <th>full_link</th>\n",
       "      <th>id</th>\n",
       "      <th>is_self</th>\n",
       "      <th>is_video</th>\n",
       "      <th>locked</th>\n",
       "      <th>num_comments</th>\n",
       "      <th>num_crossposts</th>\n",
       "      <th>pinned</th>\n",
       "      <th>score</th>\n",
       "      <th>selftext</th>\n",
       "      <th>title</th>\n",
       "    </tr>\n",
       "  </thead>\n",
       "  <tbody>\n",
       "    <tr>\n",
       "      <th>0</th>\n",
       "      <td>heat wave</td>\n",
       "      <td>LudovicoSpecs</td>\n",
       "      <td>news</td>\n",
       "      <td>1525786661</td>\n",
       "      <td>https://www.reddit.com/r/news/comments/8hwqlr/...</td>\n",
       "      <td>8hwqlr</td>\n",
       "      <td>False</td>\n",
       "      <td>False</td>\n",
       "      <td>False</td>\n",
       "      <td>0</td>\n",
       "      <td>0</td>\n",
       "      <td>False</td>\n",
       "      <td>1</td>\n",
       "      <td></td>\n",
       "      <td>Another extreme heat wave strikes the North Pole</td>\n",
       "    </tr>\n",
       "    <tr>\n",
       "      <th>1</th>\n",
       "      <td>heat wave</td>\n",
       "      <td>-Anarresti-</td>\n",
       "      <td>news</td>\n",
       "      <td>1527960054</td>\n",
       "      <td>https://www.reddit.com/r/news/comments/8o22d6/...</td>\n",
       "      <td>8o22d6</td>\n",
       "      <td>False</td>\n",
       "      <td>False</td>\n",
       "      <td>False</td>\n",
       "      <td>7</td>\n",
       "      <td>0</td>\n",
       "      <td>False</td>\n",
       "      <td>23</td>\n",
       "      <td></td>\n",
       "      <td>Heat wave: May 2018 likely hottest, breaking m...</td>\n",
       "    </tr>\n",
       "    <tr>\n",
       "      <th>2</th>\n",
       "      <td>heat wave</td>\n",
       "      <td>SetMau92</td>\n",
       "      <td>news</td>\n",
       "      <td>1530573901</td>\n",
       "      <td>https://www.reddit.com/r/news/comments/8vnb04/...</td>\n",
       "      <td>8vnb04</td>\n",
       "      <td>False</td>\n",
       "      <td>False</td>\n",
       "      <td>False</td>\n",
       "      <td>1</td>\n",
       "      <td>0</td>\n",
       "      <td>False</td>\n",
       "      <td>2</td>\n",
       "      <td></td>\n",
       "      <td>The Northeast US is sweltering under the worst...</td>\n",
       "    </tr>\n",
       "    <tr>\n",
       "      <th>3</th>\n",
       "      <td>heat wave</td>\n",
       "      <td>ApEcet</td>\n",
       "      <td>news</td>\n",
       "      <td>1530575008</td>\n",
       "      <td>https://www.reddit.com/r/news/comments/8vnflz/...</td>\n",
       "      <td>8vnflz</td>\n",
       "      <td>False</td>\n",
       "      <td>False</td>\n",
       "      <td>False</td>\n",
       "      <td>0</td>\n",
       "      <td>0</td>\n",
       "      <td>False</td>\n",
       "      <td>1</td>\n",
       "      <td></td>\n",
       "      <td>Wildfire acreage up 25% nationally as Californ...</td>\n",
       "    </tr>\n",
       "    <tr>\n",
       "      <th>4</th>\n",
       "      <td>heat wave</td>\n",
       "      <td>ionised</td>\n",
       "      <td>news</td>\n",
       "      <td>1530576635</td>\n",
       "      <td>https://www.reddit.com/r/news/comments/8vnm8t/...</td>\n",
       "      <td>8vnm8t</td>\n",
       "      <td>False</td>\n",
       "      <td>False</td>\n",
       "      <td>False</td>\n",
       "      <td>6</td>\n",
       "      <td>0</td>\n",
       "      <td>False</td>\n",
       "      <td>8</td>\n",
       "      <td></td>\n",
       "      <td>Nearly 60 million people across the Northeaste...</td>\n",
       "    </tr>\n",
       "    <tr>\n",
       "      <th>...</th>\n",
       "      <td>...</td>\n",
       "      <td>...</td>\n",
       "      <td>...</td>\n",
       "      <td>...</td>\n",
       "      <td>...</td>\n",
       "      <td>...</td>\n",
       "      <td>...</td>\n",
       "      <td>...</td>\n",
       "      <td>...</td>\n",
       "      <td>...</td>\n",
       "      <td>...</td>\n",
       "      <td>...</td>\n",
       "      <td>...</td>\n",
       "      <td>...</td>\n",
       "      <td>...</td>\n",
       "    </tr>\n",
       "    <tr>\n",
       "      <th>89</th>\n",
       "      <td>die</td>\n",
       "      <td>Lady_Justice_Boner</td>\n",
       "      <td>politics</td>\n",
       "      <td>1569305483</td>\n",
       "      <td>https://www.reddit.com/r/politics/comments/d8j...</td>\n",
       "      <td>d8j541</td>\n",
       "      <td>False</td>\n",
       "      <td>False</td>\n",
       "      <td>False</td>\n",
       "      <td>89</td>\n",
       "      <td>0</td>\n",
       "      <td>False</td>\n",
       "      <td>0</td>\n",
       "      <td></td>\n",
       "      <td>Carol Roth: Stop scaring our kids – the world ...</td>\n",
       "    </tr>\n",
       "    <tr>\n",
       "      <th>90</th>\n",
       "      <td>die</td>\n",
       "      <td>Fr1sk3r</td>\n",
       "      <td>politics</td>\n",
       "      <td>1569410567</td>\n",
       "      <td>https://www.reddit.com/r/politics/comments/d91...</td>\n",
       "      <td>d91vka</td>\n",
       "      <td>False</td>\n",
       "      <td>False</td>\n",
       "      <td>False</td>\n",
       "      <td>171</td>\n",
       "      <td>0</td>\n",
       "      <td>False</td>\n",
       "      <td>3790</td>\n",
       "      <td></td>\n",
       "      <td>Pressuring vulnerable Republicans on impeachme...</td>\n",
       "    </tr>\n",
       "    <tr>\n",
       "      <th>91</th>\n",
       "      <td>die</td>\n",
       "      <td>john_brown_adk</td>\n",
       "      <td>politics</td>\n",
       "      <td>1569506607</td>\n",
       "      <td>https://www.reddit.com/r/politics/comments/d9k...</td>\n",
       "      <td>d9k2bo</td>\n",
       "      <td>False</td>\n",
       "      <td>False</td>\n",
       "      <td>False</td>\n",
       "      <td>12</td>\n",
       "      <td>0</td>\n",
       "      <td>False</td>\n",
       "      <td>107</td>\n",
       "      <td></td>\n",
       "      <td>Only the Poor Die Young</td>\n",
       "    </tr>\n",
       "    <tr>\n",
       "      <th>92</th>\n",
       "      <td>die</td>\n",
       "      <td>MrIonSol</td>\n",
       "      <td>politics</td>\n",
       "      <td>1569660524</td>\n",
       "      <td>https://www.reddit.com/r/politics/comments/dad...</td>\n",
       "      <td>dadjw9</td>\n",
       "      <td>False</td>\n",
       "      <td>False</td>\n",
       "      <td>False</td>\n",
       "      <td>3</td>\n",
       "      <td>0</td>\n",
       "      <td>False</td>\n",
       "      <td>1</td>\n",
       "      <td></td>\n",
       "      <td>Mut für die Herausforderungen der Zukunft</td>\n",
       "    </tr>\n",
       "    <tr>\n",
       "      <th>93</th>\n",
       "      <td>die</td>\n",
       "      <td>DonnyMoscow1</td>\n",
       "      <td>politics</td>\n",
       "      <td>1569870360</td>\n",
       "      <td>https://www.reddit.com/r/politics/comments/dbg...</td>\n",
       "      <td>dbghgg</td>\n",
       "      <td>False</td>\n",
       "      <td>False</td>\n",
       "      <td>False</td>\n",
       "      <td>14</td>\n",
       "      <td>0</td>\n",
       "      <td>False</td>\n",
       "      <td>0</td>\n",
       "      <td></td>\n",
       "      <td>Cory Booker meets do-or-die $1.7M fundraising ...</td>\n",
       "    </tr>\n",
       "  </tbody>\n",
       "</table>\n",
       "<p>592 rows × 15 columns</p>\n",
       "</div>"
      ],
      "text/plain": [
       "   Search Term              author subreddit  created_utc  \\\n",
       "0    heat wave       LudovicoSpecs      news   1525786661   \n",
       "1    heat wave         -Anarresti-      news   1527960054   \n",
       "2    heat wave            SetMau92      news   1530573901   \n",
       "3    heat wave              ApEcet      news   1530575008   \n",
       "4    heat wave             ionised      news   1530576635   \n",
       "..         ...                 ...       ...          ...   \n",
       "89         die  Lady_Justice_Boner  politics   1569305483   \n",
       "90         die             Fr1sk3r  politics   1569410567   \n",
       "91         die      john_brown_adk  politics   1569506607   \n",
       "92         die            MrIonSol  politics   1569660524   \n",
       "93         die        DonnyMoscow1  politics   1569870360   \n",
       "\n",
       "                                            full_link      id  is_self  \\\n",
       "0   https://www.reddit.com/r/news/comments/8hwqlr/...  8hwqlr    False   \n",
       "1   https://www.reddit.com/r/news/comments/8o22d6/...  8o22d6    False   \n",
       "2   https://www.reddit.com/r/news/comments/8vnb04/...  8vnb04    False   \n",
       "3   https://www.reddit.com/r/news/comments/8vnflz/...  8vnflz    False   \n",
       "4   https://www.reddit.com/r/news/comments/8vnm8t/...  8vnm8t    False   \n",
       "..                                                ...     ...      ...   \n",
       "89  https://www.reddit.com/r/politics/comments/d8j...  d8j541    False   \n",
       "90  https://www.reddit.com/r/politics/comments/d91...  d91vka    False   \n",
       "91  https://www.reddit.com/r/politics/comments/d9k...  d9k2bo    False   \n",
       "92  https://www.reddit.com/r/politics/comments/dad...  dadjw9    False   \n",
       "93  https://www.reddit.com/r/politics/comments/dbg...  dbghgg    False   \n",
       "\n",
       "    is_video  locked  num_comments  num_crossposts  pinned  score selftext  \\\n",
       "0      False   False             0               0   False      1            \n",
       "1      False   False             7               0   False     23            \n",
       "2      False   False             1               0   False      2            \n",
       "3      False   False             0               0   False      1            \n",
       "4      False   False             6               0   False      8            \n",
       "..       ...     ...           ...             ...     ...    ...      ...   \n",
       "89     False   False            89               0   False      0            \n",
       "90     False   False           171               0   False   3790            \n",
       "91     False   False            12               0   False    107            \n",
       "92     False   False             3               0   False      1            \n",
       "93     False   False            14               0   False      0            \n",
       "\n",
       "                                                title  \n",
       "0    Another extreme heat wave strikes the North Pole  \n",
       "1   Heat wave: May 2018 likely hottest, breaking m...  \n",
       "2   The Northeast US is sweltering under the worst...  \n",
       "3   Wildfire acreage up 25% nationally as Californ...  \n",
       "4   Nearly 60 million people across the Northeaste...  \n",
       "..                                                ...  \n",
       "89  Carol Roth: Stop scaring our kids – the world ...  \n",
       "90  Pressuring vulnerable Republicans on impeachme...  \n",
       "91                            Only the Poor Die Young  \n",
       "92          Mut für die Herausforderungen der Zukunft  \n",
       "93  Cory Booker meets do-or-die $1.7M fundraising ...  \n",
       "\n",
       "[592 rows x 15 columns]"
      ]
     },
     "execution_count": 185,
     "metadata": {},
     "output_type": "execute_result"
    }
   ],
   "source": [
    "stories.getdata()"
   ]
  },
  {
   "cell_type": "code",
   "execution_count": 187,
   "metadata": {},
   "outputs": [],
   "source": [
    "times = stories.getdata()['created_utc']\n",
    "tSeries = stories.getdata()['created_utc'].apply(lambda x: heat(x, intervals))"
   ]
  },
  {
   "cell_type": "code",
   "execution_count": 190,
   "metadata": {},
   "outputs": [
    {
     "data": {
      "text/plain": [
       "0     0\n",
       "1     0\n",
       "2     0\n",
       "3     0\n",
       "4     0\n",
       "     ..\n",
       "89    0\n",
       "90    0\n",
       "91    0\n",
       "92    0\n",
       "93    0\n",
       "Name: created_utc, Length: 592, dtype: int64"
      ]
     },
     "execution_count": 190,
     "metadata": {},
     "output_type": "execute_result"
    }
   ],
   "source": [
    "tSeries"
   ]
  },
  {
   "cell_type": "code",
   "execution_count": 191,
   "metadata": {},
   "outputs": [
    {
     "data": {
      "text/html": [
       "<div>\n",
       "<style scoped>\n",
       "    .dataframe tbody tr th:only-of-type {\n",
       "        vertical-align: middle;\n",
       "    }\n",
       "\n",
       "    .dataframe tbody tr th {\n",
       "        vertical-align: top;\n",
       "    }\n",
       "\n",
       "    .dataframe thead th {\n",
       "        text-align: right;\n",
       "    }\n",
       "</style>\n",
       "<table border=\"1\" class=\"dataframe\">\n",
       "  <thead>\n",
       "    <tr style=\"text-align: right;\">\n",
       "      <th></th>\n",
       "      <th>Times</th>\n",
       "      <th>Heatwave</th>\n",
       "    </tr>\n",
       "  </thead>\n",
       "  <tbody>\n",
       "    <tr>\n",
       "      <th>0</th>\n",
       "      <td>2018-05-08 13:37:41</td>\n",
       "      <td>0</td>\n",
       "    </tr>\n",
       "    <tr>\n",
       "      <th>1</th>\n",
       "      <td>2018-06-02 17:20:54</td>\n",
       "      <td>0</td>\n",
       "    </tr>\n",
       "    <tr>\n",
       "      <th>2</th>\n",
       "      <td>2018-07-02 23:25:01</td>\n",
       "      <td>0</td>\n",
       "    </tr>\n",
       "    <tr>\n",
       "      <th>3</th>\n",
       "      <td>2018-07-02 23:43:28</td>\n",
       "      <td>0</td>\n",
       "    </tr>\n",
       "    <tr>\n",
       "      <th>4</th>\n",
       "      <td>2018-07-03 00:10:35</td>\n",
       "      <td>0</td>\n",
       "    </tr>\n",
       "    <tr>\n",
       "      <th>...</th>\n",
       "      <td>...</td>\n",
       "      <td>...</td>\n",
       "    </tr>\n",
       "    <tr>\n",
       "      <th>89</th>\n",
       "      <td>2019-09-24 06:11:23</td>\n",
       "      <td>0</td>\n",
       "    </tr>\n",
       "    <tr>\n",
       "      <th>90</th>\n",
       "      <td>2019-09-25 11:22:47</td>\n",
       "      <td>0</td>\n",
       "    </tr>\n",
       "    <tr>\n",
       "      <th>91</th>\n",
       "      <td>2019-09-26 14:03:27</td>\n",
       "      <td>0</td>\n",
       "    </tr>\n",
       "    <tr>\n",
       "      <th>92</th>\n",
       "      <td>2019-09-28 08:48:44</td>\n",
       "      <td>0</td>\n",
       "    </tr>\n",
       "    <tr>\n",
       "      <th>93</th>\n",
       "      <td>2019-09-30 19:06:00</td>\n",
       "      <td>0</td>\n",
       "    </tr>\n",
       "  </tbody>\n",
       "</table>\n",
       "<p>592 rows × 2 columns</p>\n",
       "</div>"
      ],
      "text/plain": [
       "                 Times  Heatwave\n",
       "0  2018-05-08 13:37:41         0\n",
       "1  2018-06-02 17:20:54         0\n",
       "2  2018-07-02 23:25:01         0\n",
       "3  2018-07-02 23:43:28         0\n",
       "4  2018-07-03 00:10:35         0\n",
       "..                 ...       ...\n",
       "89 2019-09-24 06:11:23         0\n",
       "90 2019-09-25 11:22:47         0\n",
       "91 2019-09-26 14:03:27         0\n",
       "92 2019-09-28 08:48:44         0\n",
       "93 2019-09-30 19:06:00         0\n",
       "\n",
       "[592 rows x 2 columns]"
      ]
     },
     "execution_count": 191,
     "metadata": {},
     "output_type": "execute_result"
    }
   ],
   "source": [
    "pd.DataFrame({'Times': pd.to_datetime(times, unit = 's'), 'Heatwave' : tSeries})"
   ]
  },
  {
   "cell_type": "code",
   "execution_count": 194,
   "metadata": {},
   "outputs": [],
   "source": [
    "df_sentiment = stories.getdata().loc[:,['title','created_utc','Search Term']]\n",
    "heat_utc = pd.DataFrame({'created_utc': times, 'Heatwave' : tSeries})\n",
    "df_sentiment = pd.merge(df_sentiment, heat_utc)\n",
    "df_sentiment = df_sentiment.drop(columns = 'created_utc')"
   ]
  },
  {
   "cell_type": "markdown",
   "metadata": {},
   "source": [
    "Make a dataframe to store the unmodified titles.  They must be cleaned and have sentiment analysis performed on them."
   ]
  },
  {
   "cell_type": "code",
   "execution_count": 195,
   "metadata": {},
   "outputs": [
    {
     "data": {
      "text/html": [
       "<div>\n",
       "<style scoped>\n",
       "    .dataframe tbody tr th:only-of-type {\n",
       "        vertical-align: middle;\n",
       "    }\n",
       "\n",
       "    .dataframe tbody tr th {\n",
       "        vertical-align: top;\n",
       "    }\n",
       "\n",
       "    .dataframe thead th {\n",
       "        text-align: right;\n",
       "    }\n",
       "</style>\n",
       "<table border=\"1\" class=\"dataframe\">\n",
       "  <thead>\n",
       "    <tr style=\"text-align: right;\">\n",
       "      <th></th>\n",
       "      <th>title</th>\n",
       "      <th>Search Term</th>\n",
       "      <th>Heatwave</th>\n",
       "    </tr>\n",
       "  </thead>\n",
       "  <tbody>\n",
       "    <tr>\n",
       "      <th>0</th>\n",
       "      <td>Another extreme heat wave strikes the North Pole</td>\n",
       "      <td>heat wave</td>\n",
       "      <td>0</td>\n",
       "    </tr>\n",
       "    <tr>\n",
       "      <th>1</th>\n",
       "      <td>Heat wave: May 2018 likely hottest, breaking m...</td>\n",
       "      <td>heat wave</td>\n",
       "      <td>0</td>\n",
       "    </tr>\n",
       "    <tr>\n",
       "      <th>2</th>\n",
       "      <td>The Northeast US is sweltering under the worst...</td>\n",
       "      <td>heat wave</td>\n",
       "      <td>0</td>\n",
       "    </tr>\n",
       "    <tr>\n",
       "      <th>3</th>\n",
       "      <td>Wildfire acreage up 25% nationally as Californ...</td>\n",
       "      <td>heat wave</td>\n",
       "      <td>0</td>\n",
       "    </tr>\n",
       "    <tr>\n",
       "      <th>4</th>\n",
       "      <td>Nearly 60 million people across the Northeaste...</td>\n",
       "      <td>heat wave</td>\n",
       "      <td>0</td>\n",
       "    </tr>\n",
       "  </tbody>\n",
       "</table>\n",
       "</div>"
      ],
      "text/plain": [
       "                                               title Search Term  Heatwave\n",
       "0   Another extreme heat wave strikes the North Pole   heat wave         0\n",
       "1  Heat wave: May 2018 likely hottest, breaking m...   heat wave         0\n",
       "2  The Northeast US is sweltering under the worst...   heat wave         0\n",
       "3  Wildfire acreage up 25% nationally as Californ...   heat wave         0\n",
       "4  Nearly 60 million people across the Northeaste...   heat wave         0"
      ]
     },
     "execution_count": 195,
     "metadata": {},
     "output_type": "execute_result"
    }
   ],
   "source": [
    "df_sentiment.head()"
   ]
  },
  {
   "cell_type": "code",
   "execution_count": 196,
   "metadata": {},
   "outputs": [],
   "source": [
    "from textblob import TextBlob, Word\n",
    "from nltk.corpus import stopwords\n"
   ]
  },
  {
   "cell_type": "code",
   "execution_count": 197,
   "metadata": {},
   "outputs": [],
   "source": [
    "def lemmatize_with_postag(sentence):\n",
    "    sent = TextBlob(sentence)\n",
    "    tag_dict = {\"J\": 'a', \n",
    "                \"N\": 'n', \n",
    "                \"V\": 'v', \n",
    "                \"R\": 'r'}\n",
    "    words_and_tags = [(w, tag_dict.get(pos[0], 'n')) for w, pos in sent.lower().tags if w not in stopwords.words('english')]\n",
    "    lemmatized_list = [wd.lemmatize(tag) for wd, tag in words_and_tags]\n",
    "    return \" \".join(lemmatized_list)"
   ]
  },
  {
   "cell_type": "code",
   "execution_count": 198,
   "metadata": {},
   "outputs": [],
   "source": [
    "df_sentiment['newtitle'] = df_sentiment['title'].apply(lemmatize_with_postag)"
   ]
  },
  {
   "cell_type": "code",
   "execution_count": 199,
   "metadata": {},
   "outputs": [
    {
     "data": {
      "text/plain": [
       "'temperature near pass all-time record europe another heat wave blast continent'"
      ]
     },
     "execution_count": 199,
     "metadata": {},
     "output_type": "execute_result"
    }
   ],
   "source": [
    "df_sentiment['newtitle'].iloc[20]"
   ]
  },
  {
   "cell_type": "code",
   "execution_count": 200,
   "metadata": {},
   "outputs": [
    {
     "name": "stderr",
     "output_type": "stream",
     "text": [
      "[nltk_data] Downloading package vader_lexicon to\n",
      "[nltk_data]     /home/zach/nltk_data...\n",
      "[nltk_data]   Package vader_lexicon is already up-to-date!\n"
     ]
    },
    {
     "data": {
      "text/plain": [
       "True"
      ]
     },
     "execution_count": 200,
     "metadata": {},
     "output_type": "execute_result"
    }
   ],
   "source": [
    "import nltk\n",
    "nltk.download('vader_lexicon')"
   ]
  },
  {
   "cell_type": "code",
   "execution_count": 201,
   "metadata": {},
   "outputs": [],
   "source": [
    "from nltk.sentiment.vader import SentimentIntensityAnalyzer"
   ]
  },
  {
   "cell_type": "code",
   "execution_count": 202,
   "metadata": {},
   "outputs": [],
   "source": [
    "vds = SentimentIntensityAnalyzer()"
   ]
  },
  {
   "cell_type": "code",
   "execution_count": 207,
   "metadata": {},
   "outputs": [
    {
     "data": {
      "text/plain": [
       "-0.3612"
      ]
     },
     "execution_count": 207,
     "metadata": {},
     "output_type": "execute_result"
    }
   ],
   "source": [
    "vds.polarity_scores(df_sentiment['title'].iloc[0])['compound']"
   ]
  },
  {
   "cell_type": "code",
   "execution_count": 222,
   "metadata": {},
   "outputs": [],
   "source": [
    "df_sentiment['sentiment'] = df_sentiment['title'].apply(lambda x: vds.polarity_scores(x)['compound'])"
   ]
  },
  {
   "cell_type": "code",
   "execution_count": 234,
   "metadata": {},
   "outputs": [
    {
     "data": {
      "image/png": "[encoded data removed]",
      "text/plain": [
       "<Figure size 432x288 with 1 Axes>"
      ]
     },
     "metadata": {
      "needs_background": "light"
     },
     "output_type": "display_data"
    }
   ],
   "source": [
    "fig, ax = plt.subplots()\n",
    "\n",
    "colors = {0:'blue',1:'red'}\n",
    "\n",
    "grouped = df_sentiment.groupby('Heatwave')\n",
    "for key, group in grouped:\n",
    "    group.plot(ax=ax, kind='scatter', x='sentiment', y = 'Heatwave', label=key, color=colors[key])\n",
    "\n",
    "plt.show()\n",
    "\n",
    "\n",
    "\n",
    "\n",
    "\n",
    "\n",
    "#plt.scatter(df_sentiment['sentiment'], np.zeros(len(df_sentiment)),c = df_sentiment['Heatwave'], label = df_sentiment['Heatwave'])\n",
    "#plt.legend()"
   ]
  },
  {
   "cell_type": "code",
   "execution_count": 205,
   "metadata": {},
   "outputs": [
    {
     "name": "stderr",
     "output_type": "stream",
     "text": [
      "/usr/local/lib/python3.8/dist-packages/gensim/similarities/__init__.py:15: UserWarning: The gensim.similarities.levenshtein submodule is disabled, because the optional Levenshtein package <https://pypi.org/project/python-Levenshtein/> is unavailable. Install Levenhstein (e.g. `pip install python-Levenshtein`) to suppress this warning.\n",
      "  warnings.warn(msg)\n"
     ]
    }
   ],
   "source": [
    "import pandas as pd\n",
    "pd.options.mode.chained_assignment = None \n",
    "import numpy as np\n",
    "import re\n",
    "import nltk\n",
    "\n",
    "from gensim.models import word2vec\n",
    "\n",
    "from sklearn.manifold import TSNE\n",
    "import matplotlib.pyplot as plt\n",
    "%matplotlib inline"
   ]
  },
  {
   "cell_type": "code",
   "execution_count": null,
   "metadata": {},
   "outputs": [],
   "source": []
  },
  {
   "cell_type": "code",
   "execution_count": 95,
   "metadata": {},
   "outputs": [
    {
     "name": "stdout",
     "output_type": "stream",
     "text": [
      "100\n",
      "1567375200\n",
      "100\n",
      "1567375200\n",
      "100\n",
      "1567375200\n",
      "100\n",
      "1567375200\n",
      "100\n",
      "1567375200\n",
      "100\n",
      "1567375200\n",
      "100\n",
      "1567375200\n",
      "100\n",
      "1567375200\n",
      "100\n",
      "1567375200\n",
      "94\n",
      "1567375200\n"
     ]
    }
   ],
   "source": []
  },
  {
   "cell_type": "code",
   "execution_count": 104,
   "metadata": {},
   "outputs": [],
   "source": []
  }
 ],
 "metadata": {
  "kernelspec": {
   "display_name": "Python 3.8.5 64-bit",
   "language": "python",
   "name": "python385jvsc74a57bd0916dbcbb3f70747c44a77c7bcd40155683ae19c65e1c03b4aa3499c5328201f1"
  },
  "language_info": {
   "codemirror_mode": {
    "name": "ipython",
    "version": 3
   },
   "file_extension": ".py",
   "mimetype": "text/x-python",
   "name": "python",
   "nbconvert_exporter": "python",
   "pygments_lexer": "ipython3",
   "version": "3.8.5"
  }
 },
 "nbformat": 4,
 "nbformat_minor": 4
}
