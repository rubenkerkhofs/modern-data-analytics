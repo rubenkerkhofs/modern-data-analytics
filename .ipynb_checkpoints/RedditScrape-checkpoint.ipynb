{
 "cells": [
  {
   "cell_type": "code",
   "execution_count": 34,
   "metadata": {},
   "outputs": [],
   "source": [
    "import pandas as pd\n",
    "import requests\n",
    "import datetime\n",
    "import numpy as np\n",
    "from datetime import datetime\n",
    "import time\n",
    "from time import sleep\n",
    "import json\n",
    "import random\n",
    "import os"
   ]
  },
  {
   "cell_type": "code",
   "execution_count": 2,
   "metadata": {},
   "outputs": [],
   "source": [
    "base_url = 'https://api.pushshift.io/reddit/search/submission/'\n",
    "parameters = {'subreddit': 'completeanarchy', 'title' : 'ACAB'}"
   ]
  },
  {
   "cell_type": "code",
   "execution_count": 3,
   "metadata": {},
   "outputs": [],
   "source": [
    "r = requests.get(base_url, params = parameters)"
   ]
  },
  {
   "cell_type": "code",
   "execution_count": 4,
   "metadata": {},
   "outputs": [],
   "source": [
    "reddit_df = pd.DataFrame(r.json()['data'])"
   ]
  },
  {
   "cell_type": "code",
   "execution_count": 5,
   "metadata": {},
   "outputs": [],
   "source": [
    "def getPushshiftData(query, after, before, sub, endpoint = 'submission', size = 25):\n",
    "    url = 'https://api.pushshift.io/reddit/search/' + endpoint\n",
    "    parameters = {'subreddit': sub, 'title' : query, 'after' : str(after), 'before' : str(before), 'size': 500}\n",
    "    r = requests.get(url, parameters)\n",
    "    try:\n",
    "        data = r.json()\n",
    "    except:\n",
    "        data = {'data':[]}\n",
    "        \n",
    "    return data['data']"
   ]
  },
  {
   "cell_type": "code",
   "execution_count": 6,
   "metadata": {},
   "outputs": [],
   "source": [
    "def collectSubData(subm, subStats):\n",
    "    #subData = list() #list to store data points\n",
    "    \n",
    "    pd.DataFrame\n",
    "    title = subm['title']\n",
    "    url = subm['url']\n",
    "    \n",
    "    try:\n",
    "        flair = subm['link_flair_text']\n",
    "    except KeyError:\n",
    "        flair = \"NaN\"\n",
    "        \n",
    "    author = subm['author']\n",
    "    sub_id = subm['id']\n",
    "    score = subm['score']\n",
    "    created = datetime.datetime.fromtimestamp(subm['created_utc'])\n",
    "    numComms = subm['num_comments']\n",
    "    permalink = subm['permalink']\n",
    "    text = subm['selftext']\n",
    "    \n",
    "    subData.append((sub_id,title,url,author,score,created,numComms,permalink,flair))\n",
    "    subStats[sub_id] = subData"
   ]
  },
  {
   "cell_type": "code",
   "execution_count": 7,
   "metadata": {},
   "outputs": [],
   "source": [
    "def extractStats(data):\n",
    "    \n",
    "    subStats = {}\n",
    "    subCount = 0\n",
    "    \n",
    "    while len(data) > 0:\n",
    "        print(len(data))\n",
    "        for submission in data:\n",
    "            collectSubData(submission, subStats)\n",
    "            subCount+=1\n",
    "            \n",
    "        # Calls getPushshiftData() with the created date of the last submission\n",
    "        print(len(data))\n",
    "        print(str(datetime.datetime.fromtimestamp(data[-1]['created_utc'])))\n",
    "        after = data[-1]['created_utc']\n",
    "        data = getPushshiftData(query, after, before, sub)\n",
    "\n",
    "    print(len(data))\n",
    "    return(subStats)"
   ]
  },
  {
   "cell_type": "markdown",
   "metadata": {},
   "source": [
    "Code snippets from https://rareloot.medium.com/using-pushshifts-api-to-extract-reddit-submissions-fb517b286563"
   ]
  },
  {
   "cell_type": "code",
   "execution_count": 8,
   "metadata": {},
   "outputs": [],
   "source": [
    "def dt2unix(before, after, format = \"%Y/%m/%d\"):\n",
    "    # input: two strings in the form yyyy/mm/dd\n",
    "    # returns: tuple (before, after) as unix times\n",
    "    beforeUnix = time.mktime(datetime.strptime(before, format).timetuple())\n",
    "    afterUnix = time.mktime(datetime.strptime(after, format).timetuple())\n",
    "    \n",
    "    return(int(beforeUnix), int(afterUnix))"
   ]
  },
  {
   "cell_type": "code",
   "execution_count": 9,
   "metadata": {},
   "outputs": [],
   "source": [
    "query = 'ACAB'\n",
    "before = 1538352000 # \"1538352000\" #October 1st\n",
    "after = 1514764800  #January 1st \n",
    "before, after = dt2unix(\"2020/1/1\",\"2017/10/1\")\n",
    "sub = 'news'\n",
    "data = getPushshiftData(query, after, before, sub) # Will run until all posts have been gathered \n",
    "dataDF = pd.DataFrame(data)"
   ]
  },
  {
   "cell_type": "code",
   "execution_count": 10,
   "metadata": {},
   "outputs": [
    {
     "data": {
      "text/plain": [
       "Index(['all_awardings', 'allow_live_comments', 'author',\n",
       "       'author_flair_css_class', 'author_flair_richtext', 'author_flair_text',\n",
       "       'author_flair_type', 'author_fullname', 'author_patreon_flair',\n",
       "       'can_mod_post', 'contest_mode', 'created_utc', 'domain', 'full_link',\n",
       "       'gildings', 'id', 'is_crosspostable', 'is_meta', 'is_original_content',\n",
       "       'is_reddit_media_domain', 'is_robot_indexable', 'is_self', 'is_video',\n",
       "       'link_flair_background_color', 'link_flair_richtext',\n",
       "       'link_flair_text_color', 'link_flair_type', 'locked', 'media_only',\n",
       "       'no_follow', 'num_comments', 'num_crossposts', 'over_18',\n",
       "       'parent_whitelist_status', 'permalink', 'pinned', 'pwls',\n",
       "       'retrieved_on', 'score', 'selftext', 'send_replies', 'spoiler',\n",
       "       'stickied', 'subreddit', 'subreddit_id', 'subreddit_subscribers',\n",
       "       'subreddit_type', 'thumbnail', 'title', 'total_awards_received',\n",
       "       'updated_utc', 'url', 'whitelist_status', 'wls'],\n",
       "      dtype='object')"
      ]
     },
     "execution_count": 10,
     "metadata": {},
     "output_type": "execute_result"
    }
   ],
   "source": [
    "dataDF.keys()"
   ]
  },
  {
   "cell_type": "code",
   "execution_count": 11,
   "metadata": {},
   "outputs": [
    {
     "data": {
      "text/plain": [
       "0    https://www.reddit.com/r/news/comments/cnw6h5/...\n",
       "Name: full_link, dtype: object"
      ]
     },
     "execution_count": 11,
     "metadata": {},
     "output_type": "execute_result"
    }
   ],
   "source": [
    "dataDF['full_link']"
   ]
  },
  {
   "cell_type": "code",
   "execution_count": 12,
   "metadata": {},
   "outputs": [],
   "source": [
    "def extractData(data):\n",
    "    dataDF = pd.DataFrame(data)\n",
    "    toExtract = ['author',\n",
    "                 'subreddit',\n",
    "                  'created_utc',\n",
    "                  'full_link', \n",
    "                  'id', 'is_self', \n",
    "                  'is_video', \n",
    "                  'locked', \n",
    "                  'num_comments', \n",
    "                  'num_crossposts', \n",
    "                  'pinned', \n",
    "                  'score',\n",
    "                 'selftext',\n",
    "                  'title']\n",
    "    outDF = pd.DataFrame([])\n",
    "    for query in toExtract:\n",
    "        try:\n",
    "            outDF[query] = dataDF[query]\n",
    "        except:\n",
    "            pass\n",
    "        \n",
    "    return(outDF)"
   ]
  },
  {
   "cell_type": "code",
   "execution_count": 13,
   "metadata": {},
   "outputs": [
    {
     "data": {
      "text/html": [
       "<div>\n",
       "<style scoped>\n",
       "    .dataframe tbody tr th:only-of-type {\n",
       "        vertical-align: middle;\n",
       "    }\n",
       "\n",
       "    .dataframe tbody tr th {\n",
       "        vertical-align: top;\n",
       "    }\n",
       "\n",
       "    .dataframe thead th {\n",
       "        text-align: right;\n",
       "    }\n",
       "</style>\n",
       "<table border=\"1\" class=\"dataframe\">\n",
       "  <thead>\n",
       "    <tr style=\"text-align: right;\">\n",
       "      <th></th>\n",
       "      <th>author</th>\n",
       "      <th>subreddit</th>\n",
       "      <th>created_utc</th>\n",
       "      <th>full_link</th>\n",
       "      <th>id</th>\n",
       "      <th>is_self</th>\n",
       "      <th>is_video</th>\n",
       "      <th>locked</th>\n",
       "      <th>num_comments</th>\n",
       "      <th>num_crossposts</th>\n",
       "      <th>pinned</th>\n",
       "      <th>score</th>\n",
       "      <th>selftext</th>\n",
       "      <th>title</th>\n",
       "    </tr>\n",
       "  </thead>\n",
       "  <tbody>\n",
       "    <tr>\n",
       "      <th>0</th>\n",
       "      <td>corburruto</td>\n",
       "      <td>news</td>\n",
       "      <td>1565318691</td>\n",
       "      <td>https://www.reddit.com/r/news/comments/cnw6h5/...</td>\n",
       "      <td>cnw6h5</td>\n",
       "      <td>False</td>\n",
       "      <td>False</td>\n",
       "      <td>False</td>\n",
       "      <td>0</td>\n",
       "      <td>0</td>\n",
       "      <td>False</td>\n",
       "      <td>1</td>\n",
       "      <td></td>\n",
       "      <td>Interesting read, Reddit will hate it because ...</td>\n",
       "    </tr>\n",
       "  </tbody>\n",
       "</table>\n",
       "</div>"
      ],
      "text/plain": [
       "       author subreddit  created_utc  \\\n",
       "0  corburruto      news   1565318691   \n",
       "\n",
       "                                           full_link      id  is_self  \\\n",
       "0  https://www.reddit.com/r/news/comments/cnw6h5/...  cnw6h5    False   \n",
       "\n",
       "   is_video  locked  num_comments  num_crossposts  pinned  score selftext  \\\n",
       "0     False   False             0               0   False      1            \n",
       "\n",
       "                                               title  \n",
       "0  Interesting read, Reddit will hate it because ...  "
      ]
     },
     "execution_count": 13,
     "metadata": {},
     "output_type": "execute_result"
    }
   ],
   "source": [
    "extractData(data)"
   ]
  },
  {
   "cell_type": "code",
   "execution_count": 53,
   "metadata": {},
   "outputs": [],
   "source": [
    "list_of_subs = ['completeanarchy']"
   ]
  },
  {
   "cell_type": "code",
   "execution_count": 14,
   "metadata": {},
   "outputs": [],
   "source": [
    "def getNews(query, after, before, sublist = ['news','worldnews','gunpolitics']):\n",
    "    combinedDF = pd.DataFrame()\n",
    "    for sub in sublist:\n",
    "        datai = getPushshiftData(query, after, before, sub)\n",
    "        while(len(datai) > 0):\n",
    "            print(len(datai))\n",
    "            dataj = extractData(datai)\n",
    "            combinedDF = combinedDF.append(dataj)\n",
    "            after = datai[-1]['created_utc']\n",
    "            print(before)\n",
    "            datai = getPushshiftData(query, after, before, sub)\n",
    "            #sleep(random.random())\n",
    "            \n",
    "    return(combinedDF)"
   ]
  },
  {
   "cell_type": "code",
   "execution_count": 15,
   "metadata": {},
   "outputs": [
    {
     "name": "stdout",
     "output_type": "stream",
     "text": [
      "100\n",
      "1556661600\n",
      "37\n",
      "1556661600\n"
     ]
    }
   ],
   "source": [
    "after, before = dt2unix('2015/01/1', '2019/05/01')\n",
    "stories = getNews('heat wave', after, before)"
   ]
  },
  {
   "cell_type": "code",
   "execution_count": 16,
   "metadata": {},
   "outputs": [
    {
     "data": {
      "text/html": [
       "<div>\n",
       "<style scoped>\n",
       "    .dataframe tbody tr th:only-of-type {\n",
       "        vertical-align: middle;\n",
       "    }\n",
       "\n",
       "    .dataframe tbody tr th {\n",
       "        vertical-align: top;\n",
       "    }\n",
       "\n",
       "    .dataframe thead th {\n",
       "        text-align: right;\n",
       "    }\n",
       "</style>\n",
       "<table border=\"1\" class=\"dataframe\">\n",
       "  <thead>\n",
       "    <tr style=\"text-align: right;\">\n",
       "      <th></th>\n",
       "      <th>author</th>\n",
       "      <th>subreddit</th>\n",
       "      <th>created_utc</th>\n",
       "      <th>full_link</th>\n",
       "      <th>id</th>\n",
       "      <th>is_self</th>\n",
       "      <th>is_video</th>\n",
       "      <th>locked</th>\n",
       "      <th>num_comments</th>\n",
       "      <th>num_crossposts</th>\n",
       "      <th>pinned</th>\n",
       "      <th>score</th>\n",
       "      <th>selftext</th>\n",
       "      <th>title</th>\n",
       "    </tr>\n",
       "  </thead>\n",
       "  <tbody>\n",
       "    <tr>\n",
       "      <th>0</th>\n",
       "      <td>rytis</td>\n",
       "      <td>news</td>\n",
       "      <td>1426366385</td>\n",
       "      <td>https://www.reddit.com/r/news/comments/2z204z/...</td>\n",
       "      <td>2z204z</td>\n",
       "      <td>False</td>\n",
       "      <td>NaN</td>\n",
       "      <td>NaN</td>\n",
       "      <td>118</td>\n",
       "      <td>NaN</td>\n",
       "      <td>NaN</td>\n",
       "      <td>337</td>\n",
       "      <td></td>\n",
       "      <td>Record-breaking heat wave broils Southern Cali...</td>\n",
       "    </tr>\n",
       "    <tr>\n",
       "      <th>1</th>\n",
       "      <td>Wagamaga</td>\n",
       "      <td>news</td>\n",
       "      <td>1427695544</td>\n",
       "      <td>https://www.reddit.com/r/news/comments/30s4fi/...</td>\n",
       "      <td>30s4fi</td>\n",
       "      <td>False</td>\n",
       "      <td>NaN</td>\n",
       "      <td>NaN</td>\n",
       "      <td>134</td>\n",
       "      <td>NaN</td>\n",
       "      <td>NaN</td>\n",
       "      <td>208</td>\n",
       "      <td></td>\n",
       "      <td>California drought goes from bad to worse as s...</td>\n",
       "    </tr>\n",
       "    <tr>\n",
       "      <th>2</th>\n",
       "      <td>kate500</td>\n",
       "      <td>news</td>\n",
       "      <td>1430655938</td>\n",
       "      <td>https://www.reddit.com/r/news/comments/34pmtc/...</td>\n",
       "      <td>34pmtc</td>\n",
       "      <td>False</td>\n",
       "      <td>NaN</td>\n",
       "      <td>NaN</td>\n",
       "      <td>6</td>\n",
       "      <td>NaN</td>\n",
       "      <td>NaN</td>\n",
       "      <td>99</td>\n",
       "      <td></td>\n",
       "      <td>Puerto Rico urges water conservation amid heat...</td>\n",
       "    </tr>\n",
       "    <tr>\n",
       "      <th>3</th>\n",
       "      <td>raoprimepost</td>\n",
       "      <td>news</td>\n",
       "      <td>1432625776</td>\n",
       "      <td>https://www.reddit.com/r/news/comments/37ax9e/...</td>\n",
       "      <td>37ax9e</td>\n",
       "      <td>False</td>\n",
       "      <td>NaN</td>\n",
       "      <td>NaN</td>\n",
       "      <td>0</td>\n",
       "      <td>NaN</td>\n",
       "      <td>NaN</td>\n",
       "      <td>1</td>\n",
       "      <td></td>\n",
       "      <td>Heat wave conditions to continue for next 5 da...</td>\n",
       "    </tr>\n",
       "    <tr>\n",
       "      <th>4</th>\n",
       "      <td>getanews</td>\n",
       "      <td>news</td>\n",
       "      <td>1432643041</td>\n",
       "      <td>https://www.reddit.com/r/news/comments/37bjb4/...</td>\n",
       "      <td>37bjb4</td>\n",
       "      <td>False</td>\n",
       "      <td>NaN</td>\n",
       "      <td>NaN</td>\n",
       "      <td>0</td>\n",
       "      <td>NaN</td>\n",
       "      <td>NaN</td>\n",
       "      <td>1</td>\n",
       "      <td></td>\n",
       "      <td>Over 750 Dead Due to Heat Wave in Telangana an...</td>\n",
       "    </tr>\n",
       "    <tr>\n",
       "      <th>...</th>\n",
       "      <td>...</td>\n",
       "      <td>...</td>\n",
       "      <td>...</td>\n",
       "      <td>...</td>\n",
       "      <td>...</td>\n",
       "      <td>...</td>\n",
       "      <td>...</td>\n",
       "      <td>...</td>\n",
       "      <td>...</td>\n",
       "      <td>...</td>\n",
       "      <td>...</td>\n",
       "      <td>...</td>\n",
       "      <td>...</td>\n",
       "      <td>...</td>\n",
       "    </tr>\n",
       "    <tr>\n",
       "      <th>32</th>\n",
       "      <td>PapiStalin</td>\n",
       "      <td>news</td>\n",
       "      <td>1536112002</td>\n",
       "      <td>https://www.reddit.com/r/news/comments/9d1vdd/...</td>\n",
       "      <td>9d1vdd</td>\n",
       "      <td>False</td>\n",
       "      <td>False</td>\n",
       "      <td>False</td>\n",
       "      <td>116</td>\n",
       "      <td>0.0</td>\n",
       "      <td>False</td>\n",
       "      <td>354</td>\n",
       "      <td></td>\n",
       "      <td>Huge swaths of Philadelphia area schools are i...</td>\n",
       "    </tr>\n",
       "    <tr>\n",
       "      <th>33</th>\n",
       "      <td>alfosn</td>\n",
       "      <td>news</td>\n",
       "      <td>1545908099</td>\n",
       "      <td>https://www.reddit.com/r/news/comments/a9ya94/...</td>\n",
       "      <td>a9ya94</td>\n",
       "      <td>False</td>\n",
       "      <td>False</td>\n",
       "      <td>False</td>\n",
       "      <td>12</td>\n",
       "      <td>0.0</td>\n",
       "      <td>False</td>\n",
       "      <td>1</td>\n",
       "      <td></td>\n",
       "      <td>Australia suffers extreme heat wave up to 14 C...</td>\n",
       "    </tr>\n",
       "    <tr>\n",
       "      <th>34</th>\n",
       "      <td>TheSuperSagor</td>\n",
       "      <td>news</td>\n",
       "      <td>1548213277</td>\n",
       "      <td>https://www.reddit.com/r/news/comments/aiv96f/...</td>\n",
       "      <td>aiv96f</td>\n",
       "      <td>False</td>\n",
       "      <td>False</td>\n",
       "      <td>False</td>\n",
       "      <td>0</td>\n",
       "      <td>0.0</td>\n",
       "      <td>False</td>\n",
       "      <td>1</td>\n",
       "      <td></td>\n",
       "      <td>A Single Heat Wave Killed One Third of Spectac...</td>\n",
       "    </tr>\n",
       "    <tr>\n",
       "      <th>35</th>\n",
       "      <td>FederalTeam</td>\n",
       "      <td>news</td>\n",
       "      <td>1552796024</td>\n",
       "      <td>https://www.reddit.com/r/news/comments/b21dtr/...</td>\n",
       "      <td>b21dtr</td>\n",
       "      <td>False</td>\n",
       "      <td>False</td>\n",
       "      <td>False</td>\n",
       "      <td>0</td>\n",
       "      <td>0.0</td>\n",
       "      <td>False</td>\n",
       "      <td>1</td>\n",
       "      <td></td>\n",
       "      <td>MIT scientists: Heat can act like sound wave w...</td>\n",
       "    </tr>\n",
       "    <tr>\n",
       "      <th>36</th>\n",
       "      <td>SeeWhatEyeSee</td>\n",
       "      <td>news</td>\n",
       "      <td>1554434242</td>\n",
       "      <td>https://www.reddit.com/r/news/comments/b9m6af/...</td>\n",
       "      <td>b9m6af</td>\n",
       "      <td>False</td>\n",
       "      <td>False</td>\n",
       "      <td>False</td>\n",
       "      <td>7</td>\n",
       "      <td>0.0</td>\n",
       "      <td>False</td>\n",
       "      <td>75</td>\n",
       "      <td></td>\n",
       "      <td>Heat wave destroys 'igloo village' outside Inu...</td>\n",
       "    </tr>\n",
       "  </tbody>\n",
       "</table>\n",
       "<p>137 rows × 14 columns</p>\n",
       "</div>"
      ],
      "text/plain": [
       "           author subreddit  created_utc  \\\n",
       "0           rytis      news   1426366385   \n",
       "1        Wagamaga      news   1427695544   \n",
       "2         kate500      news   1430655938   \n",
       "3    raoprimepost      news   1432625776   \n",
       "4        getanews      news   1432643041   \n",
       "..            ...       ...          ...   \n",
       "32     PapiStalin      news   1536112002   \n",
       "33         alfosn      news   1545908099   \n",
       "34  TheSuperSagor      news   1548213277   \n",
       "35    FederalTeam      news   1552796024   \n",
       "36  SeeWhatEyeSee      news   1554434242   \n",
       "\n",
       "                                            full_link      id  is_self  \\\n",
       "0   https://www.reddit.com/r/news/comments/2z204z/...  2z204z    False   \n",
       "1   https://www.reddit.com/r/news/comments/30s4fi/...  30s4fi    False   \n",
       "2   https://www.reddit.com/r/news/comments/34pmtc/...  34pmtc    False   \n",
       "3   https://www.reddit.com/r/news/comments/37ax9e/...  37ax9e    False   \n",
       "4   https://www.reddit.com/r/news/comments/37bjb4/...  37bjb4    False   \n",
       "..                                                ...     ...      ...   \n",
       "32  https://www.reddit.com/r/news/comments/9d1vdd/...  9d1vdd    False   \n",
       "33  https://www.reddit.com/r/news/comments/a9ya94/...  a9ya94    False   \n",
       "34  https://www.reddit.com/r/news/comments/aiv96f/...  aiv96f    False   \n",
       "35  https://www.reddit.com/r/news/comments/b21dtr/...  b21dtr    False   \n",
       "36  https://www.reddit.com/r/news/comments/b9m6af/...  b9m6af    False   \n",
       "\n",
       "   is_video locked  num_comments  num_crossposts pinned  score selftext  \\\n",
       "0       NaN    NaN           118             NaN    NaN    337            \n",
       "1       NaN    NaN           134             NaN    NaN    208            \n",
       "2       NaN    NaN             6             NaN    NaN     99            \n",
       "3       NaN    NaN             0             NaN    NaN      1            \n",
       "4       NaN    NaN             0             NaN    NaN      1            \n",
       "..      ...    ...           ...             ...    ...    ...      ...   \n",
       "32    False  False           116             0.0  False    354            \n",
       "33    False  False            12             0.0  False      1            \n",
       "34    False  False             0             0.0  False      1            \n",
       "35    False  False             0             0.0  False      1            \n",
       "36    False  False             7             0.0  False     75            \n",
       "\n",
       "                                                title  \n",
       "0   Record-breaking heat wave broils Southern Cali...  \n",
       "1   California drought goes from bad to worse as s...  \n",
       "2   Puerto Rico urges water conservation amid heat...  \n",
       "3   Heat wave conditions to continue for next 5 da...  \n",
       "4   Over 750 Dead Due to Heat Wave in Telangana an...  \n",
       "..                                                ...  \n",
       "32  Huge swaths of Philadelphia area schools are i...  \n",
       "33  Australia suffers extreme heat wave up to 14 C...  \n",
       "34  A Single Heat Wave Killed One Third of Spectac...  \n",
       "35  MIT scientists: Heat can act like sound wave w...  \n",
       "36  Heat wave destroys 'igloo village' outside Inu...  \n",
       "\n",
       "[137 rows x 14 columns]"
      ]
     },
     "execution_count": 16,
     "metadata": {},
     "output_type": "execute_result"
    }
   ],
   "source": [
    "stories"
   ]
  },
  {
   "cell_type": "code",
   "execution_count": 17,
   "metadata": {},
   "outputs": [
    {
     "name": "stdout",
     "output_type": "stream",
     "text": [
      "1556661600 1420066800\n"
     ]
    }
   ],
   "source": [
    "print(before,after)"
   ]
  },
  {
   "cell_type": "code",
   "execution_count": 18,
   "metadata": {},
   "outputs": [
    {
     "data": {
      "text/plain": [
       "<AxesSubplot:>"
      ]
     },
     "execution_count": 18,
     "metadata": {},
     "output_type": "execute_result"
    },
    {
     "data": {
      "image/png": "[encoded data removed]",
      "text/plain": [
       "<Figure size 432x288 with 1 Axes>"
      ]
     },
     "metadata": {
      "needs_background": "light"
     },
     "output_type": "display_data"
    }
   ],
   "source": [
    "stories['created_utc'].hist(bins = 25)"
   ]
  },
  {
   "cell_type": "code",
   "execution_count": 19,
   "metadata": {},
   "outputs": [],
   "source": [
    "p = stories['created_utc'].apply(datetime.fromtimestamp)"
   ]
  },
  {
   "cell_type": "code",
   "execution_count": 20,
   "metadata": {},
   "outputs": [],
   "source": [
    "q = p.value_counts()"
   ]
  },
  {
   "cell_type": "code",
   "execution_count": 21,
   "metadata": {},
   "outputs": [],
   "source": [
    "cutoff = 15"
   ]
  },
  {
   "cell_type": "code",
   "execution_count": 22,
   "metadata": {},
   "outputs": [],
   "source": [
    "timesvalues = q > cutoff"
   ]
  },
  {
   "cell_type": "code",
   "execution_count": 23,
   "metadata": {},
   "outputs": [
    {
     "data": {
      "text/plain": [
       "2015-07-14 12:30:01    False\n",
       "2017-08-06 16:04:34    False\n",
       "2018-07-03 01:25:01    False\n",
       "2016-07-26 04:33:44    False\n",
       "2016-06-18 20:24:53    False\n",
       "                       ...  \n",
       "2015-06-05 10:34:36    False\n",
       "2015-06-28 18:32:10    False\n",
       "2017-09-25 12:27:36    False\n",
       "2016-06-21 22:05:17    False\n",
       "2016-08-10 20:24:37    False\n",
       "Name: created_utc, Length: 137, dtype: bool"
      ]
     },
     "execution_count": 23,
     "metadata": {},
     "output_type": "execute_result"
    }
   ],
   "source": [
    "timesvalues"
   ]
  },
  {
   "cell_type": "code",
   "execution_count": 24,
   "metadata": {},
   "outputs": [],
   "source": [
    "counts, rEdge = np.histogram(stories['created_utc'], bins = 25)"
   ]
  },
  {
   "cell_type": "code",
   "execution_count": 25,
   "metadata": {},
   "outputs": [],
   "source": [
    "times = stories['created_utc']\n"
   ]
  },
  {
   "cell_type": "code",
   "execution_count": 26,
   "metadata": {},
   "outputs": [],
   "source": [
    "if counts[0] > cutoff:\n",
    "    tSeries = 1*(rEdge[0] > times).to_numpy()\n",
    "else:\n",
    "    tSeries = 0\n",
    "    \n",
    "for i in range(1, len(counts)):\n",
    "    if counts[i] > cutoff:\n",
    "        tSeries += ((rEdge[i-1] <= times) & (rEdge[i] > times)).to_numpy()"
   ]
  },
  {
   "cell_type": "code",
   "execution_count": 28,
   "metadata": {},
   "outputs": [],
   "source": [
    "scrape_df = pd.DataFrame({'Times': pd.to_datetime(times, unit = 's'), 'Heatwave' : tSeries})"
   ]
  },
  {
   "cell_type": "code",
   "execution_count": 31,
   "metadata": {},
   "outputs": [
    {
     "data": {
      "text/html": [
       "<div>\n",
       "<style scoped>\n",
       "    .dataframe tbody tr th:only-of-type {\n",
       "        vertical-align: middle;\n",
       "    }\n",
       "\n",
       "    .dataframe tbody tr th {\n",
       "        vertical-align: top;\n",
       "    }\n",
       "\n",
       "    .dataframe thead th {\n",
       "        text-align: right;\n",
       "    }\n",
       "</style>\n",
       "<table border=\"1\" class=\"dataframe\">\n",
       "  <thead>\n",
       "    <tr style=\"text-align: right;\">\n",
       "      <th></th>\n",
       "      <th>Times</th>\n",
       "      <th>Heatwave</th>\n",
       "      <th>date_no_time</th>\n",
       "    </tr>\n",
       "  </thead>\n",
       "  <tbody>\n",
       "    <tr>\n",
       "      <th>0</th>\n",
       "      <td>2015-03-14 20:53:05</td>\n",
       "      <td>1</td>\n",
       "      <td>2015-03-14</td>\n",
       "    </tr>\n",
       "    <tr>\n",
       "      <th>1</th>\n",
       "      <td>2015-03-30 06:05:44</td>\n",
       "      <td>1</td>\n",
       "      <td>2015-03-30</td>\n",
       "    </tr>\n",
       "    <tr>\n",
       "      <th>2</th>\n",
       "      <td>2015-05-03 12:25:38</td>\n",
       "      <td>1</td>\n",
       "      <td>2015-05-03</td>\n",
       "    </tr>\n",
       "    <tr>\n",
       "      <th>3</th>\n",
       "      <td>2015-05-26 07:36:16</td>\n",
       "      <td>0</td>\n",
       "      <td>2015-05-26</td>\n",
       "    </tr>\n",
       "    <tr>\n",
       "      <th>4</th>\n",
       "      <td>2015-05-26 12:24:01</td>\n",
       "      <td>0</td>\n",
       "      <td>2015-05-26</td>\n",
       "    </tr>\n",
       "    <tr>\n",
       "      <th>...</th>\n",
       "      <td>...</td>\n",
       "      <td>...</td>\n",
       "      <td>...</td>\n",
       "    </tr>\n",
       "    <tr>\n",
       "      <th>32</th>\n",
       "      <td>2018-09-05 01:46:42</td>\n",
       "      <td>0</td>\n",
       "      <td>2018-09-05</td>\n",
       "    </tr>\n",
       "    <tr>\n",
       "      <th>33</th>\n",
       "      <td>2018-12-27 10:54:59</td>\n",
       "      <td>0</td>\n",
       "      <td>2018-12-27</td>\n",
       "    </tr>\n",
       "    <tr>\n",
       "      <th>34</th>\n",
       "      <td>2019-01-23 03:14:37</td>\n",
       "      <td>0</td>\n",
       "      <td>2019-01-23</td>\n",
       "    </tr>\n",
       "    <tr>\n",
       "      <th>35</th>\n",
       "      <td>2019-03-17 04:13:44</td>\n",
       "      <td>0</td>\n",
       "      <td>2019-03-17</td>\n",
       "    </tr>\n",
       "    <tr>\n",
       "      <th>36</th>\n",
       "      <td>2019-04-05 03:17:22</td>\n",
       "      <td>0</td>\n",
       "      <td>2019-04-05</td>\n",
       "    </tr>\n",
       "  </tbody>\n",
       "</table>\n",
       "<p>137 rows × 3 columns</p>\n",
       "</div>"
      ],
      "text/plain": [
       "                 Times  Heatwave date_no_time\n",
       "0  2015-03-14 20:53:05         1   2015-03-14\n",
       "1  2015-03-30 06:05:44         1   2015-03-30\n",
       "2  2015-05-03 12:25:38         1   2015-05-03\n",
       "3  2015-05-26 07:36:16         0   2015-05-26\n",
       "4  2015-05-26 12:24:01         0   2015-05-26\n",
       "..                 ...       ...          ...\n",
       "32 2018-09-05 01:46:42         0   2018-09-05\n",
       "33 2018-12-27 10:54:59         0   2018-12-27\n",
       "34 2019-01-23 03:14:37         0   2019-01-23\n",
       "35 2019-03-17 04:13:44         0   2019-03-17\n",
       "36 2019-04-05 03:17:22         0   2019-04-05\n",
       "\n",
       "[137 rows x 3 columns]"
      ]
     },
     "execution_count": 31,
     "metadata": {},
     "output_type": "execute_result"
    }
   ],
   "source": [
    "scrape_df['date_no_time'] = scrape_df['Times'].dt.date\n",
    "scrape_df"
   ]
  },
  {
   "cell_type": "code",
   "execution_count": 32,
   "metadata": {},
   "outputs": [
    {
     "data": {
      "text/plain": [
       "datetime.date(2015, 3, 14)"
      ]
     },
     "execution_count": 32,
     "metadata": {},
     "output_type": "execute_result"
    }
   ],
   "source": [
    "min(scrape_df['date_no_time'])"
   ]
  },
  {
   "cell_type": "code",
   "execution_count": 40,
   "metadata": {},
   "outputs": [],
   "source": [
    "os.getcwd()\n",
    "os.chdir(os.getcwd() + '\\\\Data')\n",
    "scrape_df.to_csv('reddit_scrape.csv')"
   ]
  },
  {
   "cell_type": "code",
   "execution_count": null,
   "metadata": {},
   "outputs": [],
   "source": []
  }
 ],
 "metadata": {
  "kernelspec": {
   "display_name": "Python 3",
   "language": "python",
   "name": "python3"
  },
  "language_info": {
   "codemirror_mode": {
    "name": "ipython",
    "version": 3
   },
   "file_extension": ".py",
   "mimetype": "text/x-python",
   "name": "python",
   "nbconvert_exporter": "python",
   "pygments_lexer": "ipython3",
   "version": "3.7.9"
  }
 },
 "nbformat": 4,
 "nbformat_minor": 4
}
