{
 "cells": [
  {
   "cell_type": "markdown",
   "metadata": {},
   "source": [
    "## Creat dummy data"
   ]
  },
  {
   "cell_type": "code",
   "execution_count": 1,
   "metadata": {},
   "outputs": [],
   "source": [
    "import yfinance as yf\n",
    "index = yf.Ticker('XWD.TO')\n",
    "index_returns = index.history(period='10y')\n",
    "r = index_returns['Open']"
   ]
  },
  {
   "cell_type": "code",
   "execution_count": 2,
   "metadata": {},
   "outputs": [
    {
     "data": {
      "text/plain": [
       "Date\n",
       "2011-05-19    0.207463\n",
       "2011-05-20    0.455487\n",
       "2011-05-24   -1.154162\n",
       "2011-05-25   -0.875717\n",
       "2011-05-26    1.262089\n",
       "                ...   \n",
       "2021-05-12   -0.455189\n",
       "2021-05-13   -0.504572\n",
       "2021-05-14    1.236137\n",
       "2021-05-17    0.516590\n",
       "2021-05-18   -0.218034\n",
       "Name: Open, Length: 2509, dtype: float64"
      ]
     },
     "execution_count": 2,
     "metadata": {},
     "output_type": "execute_result"
    }
   ],
   "source": [
    "r = r.pct_change().dropna()*100\n",
    "r"
   ]
  },
  {
   "cell_type": "markdown",
   "metadata": {},
   "source": [
    "## Test out arch model"
   ]
  },
  {
   "cell_type": "code",
   "execution_count": 3,
   "metadata": {},
   "outputs": [],
   "source": [
    "from arch import arch_model\n",
    "am = arch_model(r)"
   ]
  },
  {
   "cell_type": "code",
   "execution_count": 4,
   "metadata": {},
   "outputs": [
    {
     "name": "stdout",
     "output_type": "stream",
     "text": [
      "Iteration:      1,   Func. Count:      6,   Neg. LLF: 16114.861992806535\n",
      "Iteration:      2,   Func. Count:     15,   Neg. LLF: 752153.6328243011\n",
      "Iteration:      3,   Func. Count:     24,   Neg. LLF: 3504.0171689396484\n",
      "Iteration:      4,   Func. Count:     32,   Neg. LLF: 3552.7127038993694\n",
      "Iteration:      5,   Func. Count:     39,   Neg. LLF: 2887.171220917003\n",
      "Iteration:      6,   Func. Count:     44,   Neg. LLF: 2887.092341376512\n",
      "Iteration:      7,   Func. Count:     49,   Neg. LLF: 2887.091410701239\n",
      "Iteration:      8,   Func. Count:     54,   Neg. LLF: 2887.0914039175414\n",
      "Iteration:      9,   Func. Count:     58,   Neg. LLF: 2887.091403918342\n",
      "Optimization terminated successfully    (Exit mode 0)\n",
      "            Current function value: 2887.0914039175414\n",
      "            Iterations: 9\n",
      "            Function evaluations: 58\n",
      "            Gradient evaluations: 9\n"
     ]
    }
   ],
   "source": [
    "res = am.fit()"
   ]
  },
  {
   "cell_type": "code",
   "execution_count": 5,
   "metadata": {},
   "outputs": [
    {
     "name": "stdout",
     "output_type": "stream",
     "text": [
      "                     Constant Mean - GARCH Model Results                      \n",
      "==============================================================================\n",
      "Dep. Variable:                   Open   R-squared:                       0.000\n",
      "Mean Model:             Constant Mean   Adj. R-squared:                  0.000\n",
      "Vol Model:                      GARCH   Log-Likelihood:               -2887.09\n",
      "Distribution:                  Normal   AIC:                           5782.18\n",
      "Method:            Maximum Likelihood   BIC:                           5805.49\n",
      "                                        No. Observations:                 2509\n",
      "Date:                Wed, May 19 2021   Df Residuals:                     2508\n",
      "Time:                        11:13:08   Df Model:                            1\n",
      "                                 Mean Model                                 \n",
      "============================================================================\n",
      "                 coef    std err          t      P>|t|      95.0% Conf. Int.\n",
      "----------------------------------------------------------------------------\n",
      "mu             0.0644  1.417e-02      4.547  5.437e-06 [3.665e-02,9.218e-02]\n",
      "                              Volatility Model                              \n",
      "============================================================================\n",
      "                 coef    std err          t      P>|t|      95.0% Conf. Int.\n",
      "----------------------------------------------------------------------------\n",
      "omega          0.0280  8.827e-03      3.176  1.494e-03 [1.073e-02,4.534e-02]\n",
      "alpha[1]       0.1062  2.332e-02      4.553  5.295e-06   [6.046e-02,  0.152]\n",
      "beta[1]        0.8536  3.104e-02     27.503 1.611e-166     [  0.793,  0.914]\n",
      "============================================================================\n",
      "\n",
      "Covariance estimator: robust\n"
     ]
    }
   ],
   "source": [
    "print(res.summary())"
   ]
  },
  {
   "cell_type": "code",
   "execution_count": 6,
   "metadata": {},
   "outputs": [
    {
     "data": {
      "text/plain": [
       "0.8799900048475655"
      ]
     },
     "execution_count": 6,
     "metadata": {},
     "output_type": "execute_result"
    }
   ],
   "source": [
    "forecasts = res.forecast(reindex=False)\n",
    "forecasts.variance['h.1'][0]"
   ]
  },
  {
   "cell_type": "markdown",
   "metadata": {},
   "source": [
    "## Create dataset for linear model"
   ]
  },
  {
   "cell_type": "code",
   "execution_count": 7,
   "metadata": {},
   "outputs": [
    {
     "name": "stderr",
     "output_type": "stream",
     "text": [
      "100%|█████████████████████████████████████████████████████████████████████████████| 508/508 [00:23<00:00, 21.90it/s]\n"
     ]
    }
   ],
   "source": [
    "import tqdm\n",
    "import numpy as np\n",
    "garch_estimates = [None]*2000\n",
    "true_volatility = [None]*2000\n",
    "\n",
    "for i in tqdm.tqdm(range(2000, len(r)-1)):\n",
    "    # Get estimated garcg\n",
    "    r_filtered = r[i-200:i]\n",
    "    am = arch_model(r_filtered)\n",
    "    res = am.fit(disp=\"off\")\n",
    "    forecasts = res.forecast(reindex=False)\n",
    "    garch_estimates.append(forecasts.variance['h.1'][0])\n",
    "    \n",
    "    # Get true volatility\n",
    "    r_filtered = r[i-99:i+1]\n",
    "    true_volatility.append(np.std(r_filtered)) "
   ]
  },
  {
   "cell_type": "code",
   "execution_count": 8,
   "metadata": {},
   "outputs": [
    {
     "data": {
      "text/html": [
       "<div>\n",
       "<style scoped>\n",
       "    .dataframe tbody tr th:only-of-type {\n",
       "        vertical-align: middle;\n",
       "    }\n",
       "\n",
       "    .dataframe tbody tr th {\n",
       "        vertical-align: top;\n",
       "    }\n",
       "\n",
       "    .dataframe thead th {\n",
       "        text-align: right;\n",
       "    }\n",
       "</style>\n",
       "<table border=\"1\" class=\"dataframe\">\n",
       "  <thead>\n",
       "    <tr style=\"text-align: right;\">\n",
       "      <th></th>\n",
       "      <th>true_volatility</th>\n",
       "      <th>garch_volatility_prediction</th>\n",
       "      <th>dummy</th>\n",
       "    </tr>\n",
       "  </thead>\n",
       "  <tbody>\n",
       "    <tr>\n",
       "      <th>2000</th>\n",
       "      <td>0.787779</td>\n",
       "      <td>0.483027</td>\n",
       "      <td>0</td>\n",
       "    </tr>\n",
       "    <tr>\n",
       "      <th>2001</th>\n",
       "      <td>0.779430</td>\n",
       "      <td>0.484552</td>\n",
       "      <td>0</td>\n",
       "    </tr>\n",
       "    <tr>\n",
       "      <th>2002</th>\n",
       "      <td>0.781971</td>\n",
       "      <td>0.448278</td>\n",
       "      <td>1</td>\n",
       "    </tr>\n",
       "    <tr>\n",
       "      <th>2003</th>\n",
       "      <td>0.777944</td>\n",
       "      <td>0.632526</td>\n",
       "      <td>0</td>\n",
       "    </tr>\n",
       "    <tr>\n",
       "      <th>2004</th>\n",
       "      <td>0.777648</td>\n",
       "      <td>0.558970</td>\n",
       "      <td>0</td>\n",
       "    </tr>\n",
       "    <tr>\n",
       "      <th>...</th>\n",
       "      <td>...</td>\n",
       "      <td>...</td>\n",
       "      <td>...</td>\n",
       "    </tr>\n",
       "    <tr>\n",
       "      <th>2503</th>\n",
       "      <td>0.678074</td>\n",
       "      <td>0.414559</td>\n",
       "      <td>1</td>\n",
       "    </tr>\n",
       "    <tr>\n",
       "      <th>2504</th>\n",
       "      <td>0.676145</td>\n",
       "      <td>2.715654</td>\n",
       "      <td>0</td>\n",
       "    </tr>\n",
       "    <tr>\n",
       "      <th>2505</th>\n",
       "      <td>0.677314</td>\n",
       "      <td>1.923364</td>\n",
       "      <td>0</td>\n",
       "    </tr>\n",
       "    <tr>\n",
       "      <th>2506</th>\n",
       "      <td>0.687561</td>\n",
       "      <td>1.416646</td>\n",
       "      <td>1</td>\n",
       "    </tr>\n",
       "    <tr>\n",
       "      <th>2507</th>\n",
       "      <td>0.681089</td>\n",
       "      <td>1.355604</td>\n",
       "      <td>0</td>\n",
       "    </tr>\n",
       "  </tbody>\n",
       "</table>\n",
       "<p>508 rows × 3 columns</p>\n",
       "</div>"
      ],
      "text/plain": [
       "      true_volatility  garch_volatility_prediction  dummy\n",
       "2000         0.787779                     0.483027      0\n",
       "2001         0.779430                     0.484552      0\n",
       "2002         0.781971                     0.448278      1\n",
       "2003         0.777944                     0.632526      0\n",
       "2004         0.777648                     0.558970      0\n",
       "...               ...                          ...    ...\n",
       "2503         0.678074                     0.414559      1\n",
       "2504         0.676145                     2.715654      0\n",
       "2505         0.677314                     1.923364      0\n",
       "2506         0.687561                     1.416646      1\n",
       "2507         0.681089                     1.355604      0\n",
       "\n",
       "[508 rows x 3 columns]"
      ]
     },
     "execution_count": 8,
     "metadata": {},
     "output_type": "execute_result"
    }
   ],
   "source": [
    "import pandas as pd\n",
    "result = pd.DataFrame(true_volatility, columns=['true_volatility'])\n",
    "result.loc[:, 'garch_volatility_prediction'] = garch_estimates\n",
    "result.loc[:, 'dummy'] =  np.random.uniform(0,1,result.shape[0])\n",
    "result.dummy = result.dummy.apply(lambda x: int(x > 0.8))\n",
    "result = result.dropna()\n",
    "result"
   ]
  },
  {
   "cell_type": "markdown",
   "metadata": {},
   "source": [
    "## Fit linear model\n"
   ]
  },
  {
   "cell_type": "code",
   "execution_count": 9,
   "metadata": {},
   "outputs": [],
   "source": [
    "import statsmodels.api as sm\n",
    "X = result[['garch_volatility_prediction', 'dummy']]\n",
    "X = sm.add_constant(X)\n",
    "y = result['true_volatility']\n",
    "mod = sm.OLS(y, X)\n",
    "res = mod.fit()"
   ]
  },
  {
   "cell_type": "code",
   "execution_count": 10,
   "metadata": {},
   "outputs": [
    {
     "name": "stdout",
     "output_type": "stream",
     "text": [
      "                            OLS Regression Results                            \n",
      "==============================================================================\n",
      "Dep. Variable:        true_volatility   R-squared:                       0.213\n",
      "Model:                            OLS   Adj. R-squared:                  0.209\n",
      "Method:                 Least Squares   F-statistic:                     68.14\n",
      "Date:                Wed, 19 May 2021   Prob (F-statistic):           6.32e-27\n",
      "Time:                        11:13:32   Log-Likelihood:                -360.86\n",
      "No. Observations:                 508   AIC:                             727.7\n",
      "Df Residuals:                     505   BIC:                             740.4\n",
      "Df Model:                           2                                         \n",
      "Covariance Type:            nonrobust                                         \n",
      "===============================================================================================\n",
      "                                  coef    std err          t      P>|t|      [0.025      0.975]\n",
      "-----------------------------------------------------------------------------------------------\n",
      "const                           0.9167      0.027     33.775      0.000       0.863       0.970\n",
      "garch_volatility_prediction     0.0950      0.008     11.661      0.000       0.079       0.111\n",
      "dummy                          -0.0298      0.057     -0.524      0.601      -0.142       0.082\n",
      "==============================================================================\n",
      "Omnibus:                       91.501   Durbin-Watson:                   0.021\n",
      "Prob(Omnibus):                  0.000   Jarque-Bera (JB):              139.312\n",
      "Skew:                           1.257   Prob(JB):                     5.61e-31\n",
      "Kurtosis:                       3.515   Cond. No.                         8.28\n",
      "==============================================================================\n",
      "\n",
      "Notes:\n",
      "[1] Standard Errors assume that the covariance matrix of the errors is correctly specified.\n"
     ]
    }
   ],
   "source": [
    "print(res.summary())"
   ]
  },
  {
   "cell_type": "markdown",
   "metadata": {},
   "source": [
    "## Prediction\n"
   ]
  },
  {
   "cell_type": "code",
   "execution_count": 11,
   "metadata": {},
   "outputs": [
    {
     "name": "stdout",
     "output_type": "stream",
     "text": [
      "For dummy equals 1\n",
      "------------------\n",
      "0.9625378738654022\n",
      "\n",
      "For dummy equals 0\n",
      "------------------\n",
      "0.9923481739556161\n"
     ]
    }
   ],
   "source": [
    "intercept = res.params['const']\n",
    "garch_vol = res.params['garch_volatility_prediction']\n",
    "dummy_var = res.params['dummy']\n",
    "\n",
    "obs = len(r)\n",
    "r = r[obs-200:obs] # Only use last 50 obs just like in training\n",
    "\n",
    "# Get arch forecast\n",
    "am = arch_model(r)\n",
    "res = am.fit(disp=\"off\")\n",
    "forecasts = res.forecast(reindex=False)\n",
    "forecast = forecasts.variance['h.1'][0]\n",
    "\n",
    "# Prediction\n",
    "print(\"For dummy equals 1\")\n",
    "print(\"------------------\")\n",
    "dummy = 1\n",
    "pred = intercept + garch_vol*forecast + dummy_var*dummy\n",
    "print(pred)\n",
    "\n",
    "print(\"\\nFor dummy equals 0\")\n",
    "print(\"------------------\")\n",
    "dummy = 0\n",
    "pred = intercept + garch_vol*forecast + dummy_var*dummy\n",
    "print(pred)"
   ]
  }
 ],
 "metadata": {
  "kernelspec": {
   "display_name": "Python 3",
   "language": "python",
   "name": "python3"
  },
  "language_info": {
   "codemirror_mode": {
    "name": "ipython",
    "version": 3
   },
   "file_extension": ".py",
   "mimetype": "text/x-python",
   "name": "python",
   "nbconvert_exporter": "python",
   "pygments_lexer": "ipython3",
   "version": "3.8.5"
  }
 },
 "nbformat": 4,
 "nbformat_minor": 4
}
