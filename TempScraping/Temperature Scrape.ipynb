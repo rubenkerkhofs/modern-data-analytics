{
 "cells": [
  {
   "cell_type": "code",
   "execution_count": 1,
   "metadata": {},
   "outputs": [],
   "source": [
    "import pandas as pd\n",
    "import numpy as np\n",
    "import xarray as xr\n",
    "import io\n",
    "import urllib.request\n",
    "import datetime\n",
    "import gzip\n",
    "import geopandas as gpd\n",
    "import os\n",
    "import zipfile as zf\n",
    "import shapefile\n",
    "from shapely.geometry import shape"
   ]
  },
  {
   "cell_type": "markdown",
   "metadata": {},
   "source": [
    "Importing file with world country borders as coordinates"
   ]
  },
  {
   "cell_type": "code",
   "execution_count": 2,
   "metadata": {},
   "outputs": [],
   "source": [
    "zp = zf.ZipFile('TM_WORLD_BORDERS-0.3.zip')\n",
    "files_to_read = [y for y in zp.namelist() for ending in ['dbf', 'prj', 'shp', 'shx'] if y.endswith(ending)]\n",
    "dummy = zp.read(files_to_read[0])\n",
    "dbf_file, prj_file, shp_file, shx_file = [zp.open(filename) for filename in files_to_read]\n",
    "r = shapefile.Reader(shp = shp_file, shx = shx_file, dbf = dbf_file, encoding='windows-1252')\n",
    "attributes, geometry = [], []\n",
    "field_names = [field[0] for field in r.fields[1:]]\n",
    "for row in r.shapeRecords():\n",
    "    geometry.append(shape(row.shape.__geo_interface__))\n",
    "    attributes.append(dict(zip(field_names, row.record)))\n",
    "#Creating a GeoDataframe of the World Borders\n",
    "gdf = gpd.GeoDataFrame(data = attributes, geometry = geometry)"
   ]
  },
  {
   "cell_type": "markdown",
   "metadata": {},
   "source": [
    "Scraping temperature anomlalies from NASA dataset"
   ]
  },
  {
   "cell_type": "code",
   "execution_count": 3,
   "metadata": {},
   "outputs": [],
   "source": [
    "url = \"https://data.giss.nasa.gov/pub/gistemp/gistemp1200_GHCNv4_ERSSTv5.nc.gz\"\n",
    "req = urllib.request.Request(url)\n",
    "with gzip.open(urllib.request.urlopen(req)) as resp:\n",
    "    xr_df = xr.open_dataset(io.BytesIO(resp.read()))\n",
    "dfnasa = xr_df.to_dataframe()\n",
    "#Transforming into pandas dataframe\n",
    "dfnasa = dfnasa.reset_index()"
   ]
  },
  {
   "cell_type": "code",
   "execution_count": 7,
   "metadata": {},
   "outputs": [
    {
     "data": {
      "text/html": [
       "<div>\n",
       "<style scoped>\n",
       "    .dataframe tbody tr th:only-of-type {\n",
       "        vertical-align: middle;\n",
       "    }\n",
       "\n",
       "    .dataframe tbody tr th {\n",
       "        vertical-align: top;\n",
       "    }\n",
       "\n",
       "    .dataframe thead th {\n",
       "        text-align: right;\n",
       "    }\n",
       "</style>\n",
       "<table border=\"1\" class=\"dataframe\">\n",
       "  <thead>\n",
       "    <tr style=\"text-align: right;\">\n",
       "      <th></th>\n",
       "      <th>lat</th>\n",
       "      <th>lon</th>\n",
       "      <th>nv</th>\n",
       "      <th>time</th>\n",
       "      <th>time_bnds</th>\n",
       "      <th>tempanomaly</th>\n",
       "    </tr>\n",
       "  </thead>\n",
       "  <tbody>\n",
       "    <tr>\n",
       "      <th>0</th>\n",
       "      <td>-89.0</td>\n",
       "      <td>-179.0</td>\n",
       "      <td>0</td>\n",
       "      <td>1880-01-15</td>\n",
       "      <td>1880-01-01</td>\n",
       "      <td>NaN</td>\n",
       "    </tr>\n",
       "    <tr>\n",
       "      <th>1</th>\n",
       "      <td>-89.0</td>\n",
       "      <td>-179.0</td>\n",
       "      <td>0</td>\n",
       "      <td>1880-02-15</td>\n",
       "      <td>1880-02-01</td>\n",
       "      <td>NaN</td>\n",
       "    </tr>\n",
       "    <tr>\n",
       "      <th>2</th>\n",
       "      <td>-89.0</td>\n",
       "      <td>-179.0</td>\n",
       "      <td>0</td>\n",
       "      <td>1880-03-15</td>\n",
       "      <td>1880-03-01</td>\n",
       "      <td>NaN</td>\n",
       "    </tr>\n",
       "    <tr>\n",
       "      <th>3</th>\n",
       "      <td>-89.0</td>\n",
       "      <td>-179.0</td>\n",
       "      <td>0</td>\n",
       "      <td>1880-04-15</td>\n",
       "      <td>1880-04-01</td>\n",
       "      <td>NaN</td>\n",
       "    </tr>\n",
       "    <tr>\n",
       "      <th>4</th>\n",
       "      <td>-89.0</td>\n",
       "      <td>-179.0</td>\n",
       "      <td>0</td>\n",
       "      <td>1880-05-15</td>\n",
       "      <td>1880-05-01</td>\n",
       "      <td>NaN</td>\n",
       "    </tr>\n",
       "  </tbody>\n",
       "</table>\n",
       "</div>"
      ],
      "text/plain": [
       "    lat    lon  nv       time  time_bnds  tempanomaly\n",
       "0 -89.0 -179.0   0 1880-01-15 1880-01-01          NaN\n",
       "1 -89.0 -179.0   0 1880-02-15 1880-02-01          NaN\n",
       "2 -89.0 -179.0   0 1880-03-15 1880-03-01          NaN\n",
       "3 -89.0 -179.0   0 1880-04-15 1880-04-01          NaN\n",
       "4 -89.0 -179.0   0 1880-05-15 1880-05-01          NaN"
      ]
     },
     "execution_count": 7,
     "metadata": {},
     "output_type": "execute_result"
    }
   ],
   "source": [
    "dfnasa.head()"
   ]
  },
  {
   "cell_type": "markdown",
   "metadata": {},
   "source": [
    "Set year from which to obtain data and country"
   ]
  },
  {
   "cell_type": "code",
   "execution_count": 13,
   "metadata": {},
   "outputs": [],
   "source": [
    "year = 1980\n",
    "iso3= \"USA\""
   ]
  },
  {
   "cell_type": "code",
   "execution_count": 12,
   "metadata": {},
   "outputs": [],
   "source": [
    "def tempdata(year, iso3):\n",
    "    #Subsetting the year range from the provided year\n",
    "    tempyear = dfnasa[dfnasa['time'].dt.year >= year]\n",
    "    #Creating a GeoDataFrame\n",
    "    tempyear = gpd.GeoDataFrame(tempyear, geometry=gpd.points_from_xy(tempyear.lon, tempyear.lat))\n",
    "    #Merging with the border data\n",
    "    bord = gpd.sjoin(gdf, tempyear, how=\"inner\")\n",
    "    yearcountry = bord[bord[\"ISO3\"]==iso3]\n",
    "    #Sorting values by time\n",
    "    yearcountry = yearcountry.sort_values(by=[\"time\"])\n",
    "    yearcountry = pd.DataFrame(yearcountry)\n",
    "    yearcountry = yearcountry.drop(columns= [\"FIPS\", \"UN\", \"AREA\",\"POP2005\", \"index_right\", \"nv\"])\n",
    "    yearcountry[\"YearMonth\"]=yearcountry[\"time\"].dt.strftime(\"%Y-%m\")\n",
    "    del tempyear\n",
    "    return yearcountry"
   ]
  },
  {
   "cell_type": "code",
   "execution_count": 14,
   "metadata": {},
   "outputs": [],
   "source": [
    "df = tempdata(year,iso3)"
   ]
  },
  {
   "cell_type": "markdown",
   "metadata": {},
   "source": [
    "Export to pickle"
   ]
  },
  {
   "cell_type": "code",
   "execution_count": 18,
   "metadata": {},
   "outputs": [],
   "source": [
    "df.to_pickle(\"temperature_anomalies_\"+str(year)+\"_\"+country+\".pkl\")"
   ]
  }
 ],
 "metadata": {
  "kernelspec": {
   "display_name": "Python 3",
   "language": "python",
   "name": "python3"
  },
  "language_info": {
   "codemirror_mode": {
    "name": "ipython",
    "version": 3
   },
   "file_extension": ".py",
   "mimetype": "text/x-python",
   "name": "python",
   "nbconvert_exporter": "python",
   "pygments_lexer": "ipython3",
   "version": "3.8.5"
  }
 },
 "nbformat": 4,
 "nbformat_minor": 4
}
