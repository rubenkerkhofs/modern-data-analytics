{
 "cells": [
  {
   "cell_type": "code",
   "execution_count": 1,
   "metadata": {},
   "outputs": [],
   "source": [
    "import pandas as pd\n",
    "import numpy as np\n",
    "import xarray as xr\n",
    "import io\n",
    "import urllib.request\n",
    "import datetime\n",
    "import gzip\n",
    "import geopandas as gpd\n",
    "import os\n",
    "import zipfile as zf\n",
    "import shapefile\n",
    "from shapely.geometry import shape"
   ]
  },
  {
   "cell_type": "markdown",
   "metadata": {},
   "source": [
    "Importing file with world country borders as coordinates"
   ]
  },
  {
   "cell_type": "code",
   "execution_count": 3,
   "metadata": {},
   "outputs": [],
   "source": [
    "zp = zf.ZipFile('TM_WORLD_BORDERS-0.3.zip')\n",
    "files_to_read = [y for y in zp.namelist() for ending in ['dbf', 'prj', 'shp', 'shx'] if y.endswith(ending)]\n",
    "dummy = zp.read(files_to_read[0])\n",
    "dbf_file, prj_file, shp_file, shx_file = [zp.open(filename) for filename in files_to_read]\n",
    "r = shapefile.Reader(shp = shp_file, shx = shx_file, dbf = dbf_file, encoding='windows-1252')\n",
    "attributes, geometry = [], []\n",
    "field_names = [field[0] for field in r.fields[1:]]\n",
    "for row in r.shapeRecords():\n",
    "    geometry.append(shape(row.shape.__geo_interface__))\n",
    "    attributes.append(dict(zip(field_names, row.record)))\n",
    "#Creating a GeoDataframe of the World Borders\n",
    "gdf = gpd.GeoDataFrame(data = attributes, geometry = geometry)"
   ]
  },
  {
   "cell_type": "markdown",
   "metadata": {},
   "source": [
    "Scraping temperature anomlalies from NASA dataset"
   ]
  },
  {
   "cell_type": "code",
   "execution_count": 4,
   "metadata": {},
   "outputs": [],
   "source": [
    "url = \"https://data.giss.nasa.gov/pub/gistemp/gistemp1200_GHCNv4_ERSSTv5.nc.gz\"\n",
    "req = urllib.request.Request(url)\n",
    "with gzip.open(urllib.request.urlopen(req)) as resp:\n",
    "    xr_df = xr.open_dataset(io.BytesIO(resp.read()))\n",
    "dfnasa = xr_df.to_dataframe()\n",
    "#Transforming into pandas dataframe\n",
    "dfnasa = dfnasa.reset_index()"
   ]
  },
  {
   "cell_type": "code",
   "execution_count": 7,
   "metadata": {},
   "outputs": [],
   "source": [
    "def tempdata(year, country):\n",
    "    #Subsetting the year range from the provided year\n",
    "    tempyear = dfnasa[dfnasa['time'].dt.year >= year]\n",
    "    #Creating a GeoDataFrame\n",
    "    tempyear = gpd.GeoDataFrame(tempyear, geometry=gpd.points_from_xy(tempyear.lat, tempyear.lon))\n",
    "    #Merging with the border data\n",
    "    bord = gpd.sjoin(gdf, tempyear, how=\"inner\")\n",
    "    yearcountry = bord[bord[\"NAME\"]==country]\n",
    "    #Sorting values by time\n",
    "    yearcountry = yearcountry.sort_values(by=[\"time\"])\n",
    "    yearcountry = pd.DataFrame(yearcountry)\n",
    "    del tempyear\n",
    "    return yearcountry"
   ]
  },
  {
   "cell_type": "markdown",
   "metadata": {},
   "source": [
    "Set year from which to obtain data and country"
   ]
  },
  {
   "cell_type": "code",
   "execution_count": 13,
   "metadata": {},
   "outputs": [],
   "source": [
    "year = 2005\n",
    "country= \"United States\""
   ]
  },
  {
   "cell_type": "code",
   "execution_count": 9,
   "metadata": {},
   "outputs": [],
   "source": [
    "df = tempdata(year,country)"
   ]
  },
  {
   "cell_type": "markdown",
   "metadata": {},
   "source": [
    "Export to csv"
   ]
  },
  {
   "cell_type": "code",
   "execution_count": null,
   "metadata": {},
   "outputs": [],
   "source": [
    "df.to_csv(\"temperature_anomalies_\"+str(year)+\"_\"+country+\".csv\")"
   ]
  }
 ],
 "metadata": {
  "kernelspec": {
   "display_name": "Python 3",
   "language": "python",
   "name": "python3"
  },
  "language_info": {
   "codemirror_mode": {
    "name": "ipython",
    "version": 3
   },
   "file_extension": ".py",
   "mimetype": "text/x-python",
   "name": "python",
   "nbconvert_exporter": "python",
   "pygments_lexer": "ipython3",
   "version": "3.8.5"
  }
 },
 "nbformat": 4,
 "nbformat_minor": 4
}
