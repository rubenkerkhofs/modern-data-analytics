{
 "cells": [
  {
   "cell_type": "code",
   "execution_count": 54,
   "metadata": {},
   "outputs": [],
   "source": [
    "import pandas as pd\n",
    "import numpy as np"
   ]
  },
  {
   "cell_type": "markdown",
   "metadata": {},
   "source": [
    "### Importing"
   ]
  },
  {
   "cell_type": "code",
   "execution_count": 55,
   "metadata": {},
   "outputs": [],
   "source": [
    "df = pd.read_pickle(\"temperature_anomalies_1980_United States.pkl\")\n",
    "GDPus = pd.read_csv(\"GDPC1.csv\")"
   ]
  },
  {
   "cell_type": "markdown",
   "metadata": {},
   "source": [
    "### Data cleaning"
   ]
  },
  {
   "cell_type": "code",
   "execution_count": 56,
   "metadata": {},
   "outputs": [],
   "source": [
    "# convert to period\n",
    "GDPus['Month'] = pd.to_datetime(GDPus['DATE']).dt.to_period('M')\n",
    "# set Date as index and resample\n",
    "GDPus2 = GDPus.set_index('Month').resample('M').interpolate()\n",
    "#Reset index\n",
    "GDPus2 = GDPus2.reset_index()\n",
    "#Create time variable\n",
    "GDPus2['time'] = GDPus2['Month'].astype(str)\n",
    "GDPus2['time'] = pd.to_datetime(GDPus2['time'])\n",
    "#Drop unnecessary columns\n",
    "GDPus2.drop([\"Month\", \"DATE\"], inplace= True, axis =1)"
   ]
  },
  {
   "cell_type": "code",
   "execution_count": 61,
   "metadata": {},
   "outputs": [],
   "source": [
    "mapping = dict(zip(GDPus2.time.dt.to_period('M'), GDPus2.GDPC1))\n",
    "df = df.assign(gdp=df.time.dt.to_period('M').map(mapping))"
   ]
  }
 ],
 "metadata": {
  "kernelspec": {
   "display_name": "Python 3",
   "language": "python",
   "name": "python3"
  },
  "language_info": {
   "codemirror_mode": {
    "name": "ipython",
    "version": 3
   },
   "file_extension": ".py",
   "mimetype": "text/x-python",
   "name": "python",
   "nbconvert_exporter": "python",
   "pygments_lexer": "ipython3",
   "version": "3.8.5"
  }
 },
 "nbformat": 4,
 "nbformat_minor": 4
}
