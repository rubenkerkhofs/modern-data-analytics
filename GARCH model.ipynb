{
 "cells": [
  {
   "cell_type": "code",
   "execution_count": 16,
   "id": "edb512fe",
   "metadata": {},
   "outputs": [],
   "source": [
    "import pandas as pd\n",
    "import numpy as np\n",
    "import requests\n",
    "import datetime\n",
    "from datetime import datetime\n",
    "import time\n",
    "import json\n",
    "import arch\n",
    "import os\n",
    "from statsmodels.tsa import stattools, arima \n",
    "import pmdarima as pm"
   ]
  },
  {
   "cell_type": "code",
   "execution_count": 17,
   "id": "a1ec21f7",
   "metadata": {},
   "outputs": [
    {
     "name": "stderr",
     "output_type": "stream",
     "text": [
      "C:\\Users\\jara_\\Anaconda3\\lib\\site-packages\\pmdarima\\utils\\visualization.py:222: FutureWarning: the 'unbiased'' keyword is deprecated, use 'adjusted' instead\n",
      "  vlines_kwargs=vlines_kwargs, **kwargs)\n"
     ]
    },
    {
     "data": {
      "image/png": "[encoded data removed]",
      "text/plain": [
       "<Figure size 432x288 with 1 Axes>"
      ]
     },
     "metadata": {
      "needs_background": "light"
     },
     "output_type": "display_data"
    },
    {
     "data": {
      "image/png": "[encoded data removed]",
      "text/plain": [
       "<Figure size 432x288 with 1 Axes>"
      ]
     },
     "metadata": {
      "needs_background": "light"
     },
     "output_type": "display_data"
    }
   ],
   "source": [
    "path = os.getcwd() + '\\\\Data'\n",
    "files = os.listdir(path)\n",
    "returns_df_path = [x for x in files if 'returns' in x]\n",
    "returns_df = pd.read_csv(path + '\\\\' + returns_df_path[0])\n",
    "reddit_df = [x for x in files if 'reddit' in x]\n",
    "returns_df['Date'] = pd.to_datetime(returns_df['Date'])\n",
    "returns_df = returns_df.sort_values(by = 'Date')\n",
    "returns_df = returns_df[returns_df['Date'].dt.year >= 2015]\n",
    "returns_garch = returns_df[returns_df['Date'].dt.year < 2021]\n",
    "pm.arima.ndiffs(returns_df['Return'])\n",
    "pm.arima.nsdiffs(returns_df['Return'], m = 7)\n",
    "diff_series = returns_df.Return.diff()\n",
    "pm.plot_acf(diff_series.dropna())\n",
    "pm.plot_pacf(diff_series.dropna())"
   ]
  },
  {
   "cell_type": "code",
   "execution_count": 18,
   "id": "d3edc6e3",
   "metadata": {},
   "outputs": [
    {
     "data": {
      "text/html": [
       "<table class=\"simpletable\">\n",
       "<caption>SARIMAX Results</caption>\n",
       "<tr>\n",
       "  <th>Dep. Variable:</th>           <td>y</td>        <th>  No. Observations:  </th>   <td>1511</td>   \n",
       "</tr>\n",
       "<tr>\n",
       "  <th>Model:</th>           <td>SARIMAX(1, 1, 1)</td> <th>  Log Likelihood     </th> <td>-7453.732</td>\n",
       "</tr>\n",
       "<tr>\n",
       "  <th>Date:</th>            <td>Wed, 12 May 2021</td> <th>  AIC                </th> <td>14913.465</td>\n",
       "</tr>\n",
       "<tr>\n",
       "  <th>Time:</th>                <td>18:38:37</td>     <th>  BIC                </th> <td>14929.424</td>\n",
       "</tr>\n",
       "<tr>\n",
       "  <th>Sample:</th>                  <td>0</td>        <th>  HQIC               </th> <td>14919.408</td>\n",
       "</tr>\n",
       "<tr>\n",
       "  <th></th>                      <td> - 1511</td>     <th>                     </th>     <td> </td>    \n",
       "</tr>\n",
       "<tr>\n",
       "  <th>Covariance Type:</th>        <td>opg</td>       <th>                     </th>     <td> </td>    \n",
       "</tr>\n",
       "</table>\n",
       "<table class=\"simpletable\">\n",
       "<tr>\n",
       "     <td></td>       <th>coef</th>     <th>std err</th>      <th>z</th>      <th>P>|z|</th>  <th>[0.025</th>    <th>0.975]</th>  \n",
       "</tr>\n",
       "<tr>\n",
       "  <th>ar.L1</th>  <td>    0.7170</td> <td>    0.154</td> <td>    4.644</td> <td> 0.000</td> <td>    0.414</td> <td>    1.020</td>\n",
       "</tr>\n",
       "<tr>\n",
       "  <th>ma.L1</th>  <td>   -0.6675</td> <td>    0.166</td> <td>   -4.010</td> <td> 0.000</td> <td>   -0.994</td> <td>   -0.341</td>\n",
       "</tr>\n",
       "<tr>\n",
       "  <th>sigma2</th> <td> 1134.9560</td> <td>   26.354</td> <td>   43.067</td> <td> 0.000</td> <td> 1083.304</td> <td> 1186.608</td>\n",
       "</tr>\n",
       "</table>\n",
       "<table class=\"simpletable\">\n",
       "<tr>\n",
       "  <th>Ljung-Box (L1) (Q):</th>     <td>0.01</td> <th>  Jarque-Bera (JB):  </th> <td>658.68</td>\n",
       "</tr>\n",
       "<tr>\n",
       "  <th>Prob(Q):</th>                <td>0.94</td> <th>  Prob(JB):          </th>  <td>0.00</td> \n",
       "</tr>\n",
       "<tr>\n",
       "  <th>Heteroskedasticity (H):</th> <td>1.27</td> <th>  Skew:              </th>  <td>-0.38</td>\n",
       "</tr>\n",
       "<tr>\n",
       "  <th>Prob(H) (two-sided):</th>    <td>0.01</td> <th>  Kurtosis:          </th>  <td>6.14</td> \n",
       "</tr>\n",
       "</table><br/><br/>Warnings:<br/>[1] Covariance matrix calculated using the outer product of gradients (complex-step)."
      ],
      "text/plain": [
       "<class 'statsmodels.iolib.summary.Summary'>\n",
       "\"\"\"\n",
       "                               SARIMAX Results                                \n",
       "==============================================================================\n",
       "Dep. Variable:                      y   No. Observations:                 1511\n",
       "Model:               SARIMAX(1, 1, 1)   Log Likelihood               -7453.732\n",
       "Date:                Wed, 12 May 2021   AIC                          14913.465\n",
       "Time:                        18:38:37   BIC                          14929.424\n",
       "Sample:                             0   HQIC                         14919.408\n",
       "                               - 1511                                         \n",
       "Covariance Type:                  opg                                         \n",
       "==============================================================================\n",
       "                 coef    std err          z      P>|z|      [0.025      0.975]\n",
       "------------------------------------------------------------------------------\n",
       "ar.L1          0.7170      0.154      4.644      0.000       0.414       1.020\n",
       "ma.L1         -0.6675      0.166     -4.010      0.000      -0.994      -0.341\n",
       "sigma2      1134.9560     26.354     43.067      0.000    1083.304    1186.608\n",
       "===================================================================================\n",
       "Ljung-Box (L1) (Q):                   0.01   Jarque-Bera (JB):               658.68\n",
       "Prob(Q):                              0.94   Prob(JB):                         0.00\n",
       "Heteroskedasticity (H):               1.27   Skew:                            -0.38\n",
       "Prob(H) (two-sided):                  0.01   Kurtosis:                         6.14\n",
       "===================================================================================\n",
       "\n",
       "Warnings:\n",
       "[1] Covariance matrix calculated using the outer product of gradients (complex-step).\n",
       "\"\"\""
      ]
     },
     "execution_count": 18,
     "metadata": {},
     "output_type": "execute_result"
    }
   ],
   "source": [
    "arima_component = pm.auto_arima(returns_garch['Return'], max_p = 5, \n",
    "                                       max_q = 5, m =7, max_P = 5, \n",
    "                                       max_Q = 5, max_D = 2,\n",
    "                                       seasonal = True, trace = False)\n",
    "arima_component.summary()"
   ]
  },
  {
   "cell_type": "code",
   "execution_count": 19,
   "id": "4a343205",
   "metadata": {},
   "outputs": [
    {
     "name": "stderr",
     "output_type": "stream",
     "text": [
      "C:\\Users\\jara_\\Anaconda3\\lib\\site-packages\\pmdarima\\utils\\visualization.py:222: FutureWarning: the 'unbiased'' keyword is deprecated, use 'adjusted' instead\n",
      "  vlines_kwargs=vlines_kwargs, **kwargs)\n"
     ]
    },
    {
     "data": {
      "image/png": "[encoded data removed]",
      "text/plain": [
       "<Figure size 432x288 with 1 Axes>"
      ]
     },
     "metadata": {
      "needs_background": "light"
     },
     "output_type": "display_data"
    },
    {
     "name": "stderr",
     "output_type": "stream",
     "text": [
      "C:\\Users\\jara_\\Anaconda3\\lib\\site-packages\\ipykernel_launcher.py:3: SettingWithCopyWarning: \n",
      "A value is trying to be set on a copy of a slice from a DataFrame.\n",
      "Try using .loc[row_indexer,col_indexer] = value instead\n",
      "\n",
      "See the caveats in the documentation: https://pandas.pydata.org/pandas-docs/stable/user_guide/indexing.html#returning-a-view-versus-a-copy\n",
      "  This is separate from the ipykernel package so we can avoid doing imports until\n"
     ]
    },
    {
     "data": {
      "text/plain": [
       "<AxesSubplot:xlabel='Date'>"
      ]
     },
     "execution_count": 19,
     "metadata": {},
     "output_type": "execute_result"
    },
    {
     "data": {
      "image/png": "[encoded data removed]",
      "text/plain": [
       "<Figure size 432x288 with 1 Axes>"
      ]
     },
     "metadata": {
      "needs_background": "light"
     },
     "output_type": "display_data"
    }
   ],
   "source": [
    "residuals = arima_component.resid()\n",
    "pm.plot_acf(np.square(residuals))\n",
    "returns_garch['Residuals'] = residuals.tolist()\n",
    "returns_resid = returns_garch.iloc[1:]\n",
    "returns_resid.plot(x = 'Date', y = 'Residuals')"
   ]
  },
  {
   "cell_type": "code",
   "execution_count": 20,
   "id": "19147025",
   "metadata": {},
   "outputs": [
    {
     "data": {
      "text/plain": [
       "0     2015-03-14\n",
       "1     2015-03-30\n",
       "2     2015-05-03\n",
       "3     2015-05-26\n",
       "4     2015-05-26\n",
       "         ...    \n",
       "132   2018-09-05\n",
       "133   2018-12-27\n",
       "134   2019-01-23\n",
       "135   2019-03-17\n",
       "136   2019-04-05\n",
       "Name: Date, Length: 137, dtype: datetime64[ns]"
      ]
     },
     "execution_count": 20,
     "metadata": {},
     "output_type": "execute_result"
    }
   ],
   "source": [
    "reddit_scrape = pd.read_csv(path + '\\\\' + reddit_df[0])\n",
    "reddit_scrape.columns = ['Index', 'Times', 'Heatwave', 'Date']\n",
    "reddit_scrape['Date'] = pd.to_datetime(reddit_scrape['Date'])\n",
    "reddit_scrape['Date']"
   ]
  },
  {
   "cell_type": "code",
   "execution_count": 21,
   "id": "19313a0a",
   "metadata": {},
   "outputs": [
    {
     "data": {
      "text/plain": [
       "Index(['Date', 'Return', 'Residuals', 'Index', 'Times', 'Heatwave'], dtype='object')"
      ]
     },
     "execution_count": 21,
     "metadata": {},
     "output_type": "execute_result"
    }
   ],
   "source": [
    "returns_resid = returns_resid.merge(reddit_scrape, how = 'left', on = 'Date')\n",
    "returns_resid.columns"
   ]
  },
  {
   "cell_type": "code",
   "execution_count": 22,
   "id": "91788f05",
   "metadata": {},
   "outputs": [
    {
     "name": "stderr",
     "output_type": "stream",
     "text": [
      "C:\\Users\\jara_\\Anaconda3\\lib\\site-packages\\pandas\\core\\generic.py:5494: SettingWithCopyWarning: \n",
      "A value is trying to be set on a copy of a slice from a DataFrame.\n",
      "Try using .loc[row_indexer,col_indexer] = value instead\n",
      "\n",
      "See the caveats in the documentation: https://pandas.pydata.org/pandas-docs/stable/user_guide/indexing.html#returning-a-view-versus-a-copy\n",
      "  self[name] = value\n"
     ]
    }
   ],
   "source": [
    "returns_resid[~(returns_resid['Heatwave'].isna())]\n",
    "returns_resid[returns_resid['Heatwave'].isna()].Heatwave = 0\n",
    "external_reg = returns_resid['Heatwave'].to_numpy()"
   ]
  },
  {
   "cell_type": "code",
   "execution_count": 23,
   "id": "312d5ffd",
   "metadata": {},
   "outputs": [
    {
     "name": "stderr",
     "output_type": "stream",
     "text": [
      "C:\\Users\\jara_\\Anaconda3\\lib\\site-packages\\arch\\univariate\\mean.py:448: FutureWarning: Support for multi-dimensional indexing (e.g. `obj[:, None]`) is deprecated and will be removed in a future version.  Convert to a numpy array before indexing instead.\n",
      "  self._x = self._x[:, None]\n"
     ]
    }
   ],
   "source": [
    "arch_ext_reg = arch.arch_model(returns_resid['Residuals'], mean = 'ARX',\n",
    "                               x = returns_resid['Heatwave'], vol = 'Garch', p = 1, q = 1)"
   ]
  },
  {
   "cell_type": "code",
   "execution_count": 11,
   "id": "e7777222",
   "metadata": {},
   "outputs": [
    {
     "name": "stdout",
     "output_type": "stream",
     "text": [
      "Iteration:      1,   Func. Count:      7,   Neg. LLF: 1482102773.8638165\n",
      "Iteration:      2,   Func. Count:     15,   Neg. LLF: 9189.737963439957\n",
      "Iteration:      3,   Func. Count:     24,   Neg. LLF: 5781.819746836493\n",
      "Iteration:      4,   Func. Count:     32,   Neg. LLF: 4790.914764332045\n",
      "Iteration:      5,   Func. Count:     39,   Neg. LLF: 5658.778106436774\n",
      "Iteration:      6,   Func. Count:     46,   Neg. LLF: 4772.020551888817\n",
      "Iteration:      7,   Func. Count:     52,   Neg. LLF: 6003.0639844867865\n",
      "Iteration:      8,   Func. Count:     59,   Neg. LLF: 4766.009494285156\n",
      "Iteration:      9,   Func. Count:     65,   Neg. LLF: 4764.445494164387\n",
      "Iteration:     10,   Func. Count:     71,   Neg. LLF: 4763.88297566028\n",
      "Iteration:     11,   Func. Count:     77,   Neg. LLF: 4763.8654330539575\n",
      "Iteration:     12,   Func. Count:     84,   Neg. LLF: 4763.816934238703\n",
      "Iteration:     13,   Func. Count:     90,   Neg. LLF: 4763.816462199405\n",
      "Iteration:     14,   Func. Count:     96,   Neg. LLF: 4763.816424651608\n",
      "Iteration:     15,   Func. Count:    102,   Neg. LLF: 4763.816423314126\n",
      "Iteration:     16,   Func. Count:    107,   Neg. LLF: 4763.816423314285\n",
      "Optimization terminated successfully    (Exit mode 0)\n",
      "            Current function value: 4763.816423314126\n",
      "            Iterations: 16\n",
      "            Function evaluations: 107\n",
      "            Gradient evaluations: 16\n"
     ]
    },
    {
     "data": {
      "text/plain": [
       "                          AR-X - GARCH Model Results                          \n",
       "==============================================================================\n",
       "Dep. Variable:              Residuals   R-squared:                      -0.027\n",
       "Mean Model:                      AR-X   Adj. R-squared:                 -0.027\n",
       "Vol Model:                      GARCH   Log-Likelihood:               -4763.82\n",
       "Distribution:                  Normal   AIC:                           9537.63\n",
       "Method:            Maximum Likelihood   BIC:                           9564.31\n",
       "                                        No. Observations:                 1533\n",
       "Date:                Wed, May 12 2021   Df Residuals:                     1528\n",
       "Time:                        17:33:51   Df Model:                            5\n",
       "                                Mean Model                                \n",
       "==========================================================================\n",
       "                 coef    std err          t      P>|t|    95.0% Conf. Int.\n",
       "--------------------------------------------------------------------------\n",
       "Const          0.1972  9.922e-02      1.988  4.686e-02 [2.740e-03,  0.392]\n",
       "x0            14.4587     22.927      0.631      0.528   [-30.477, 59.395]\n",
       "                             Volatility Model                             \n",
       "==========================================================================\n",
       "                 coef    std err          t      P>|t|    95.0% Conf. Int.\n",
       "--------------------------------------------------------------------------\n",
       "omega          1.5069      1.165      1.293      0.196   [ -0.777,  3.791]\n",
       "alpha[1]       0.0889  3.083e-02      2.885  3.911e-03 [2.852e-02,  0.149]\n",
       "beta[1]        0.8959  3.037e-02     29.497 3.142e-191   [  0.836,  0.955]\n",
       "==========================================================================\n",
       "\n",
       "Covariance estimator: robust\n",
       "ARCHModelResult, id: 0x20593d0c3c8"
      ]
     },
     "execution_count": 11,
     "metadata": {},
     "output_type": "execute_result"
    }
   ],
   "source": [
    "arch_ext_reg.fit()"
   ]
  },
  {
   "cell_type": "code",
   "execution_count": 14,
   "id": "ea7a0615",
   "metadata": {},
   "outputs": [
    {
     "ename": "TypeError",
     "evalue": "forecast() got an unexpected keyword argument 'reindex'",
     "output_type": "error",
     "traceback": [
      "\u001b[1;31m---------------------------------------------------------------------------\u001b[0m",
      "\u001b[1;31mTypeError\u001b[0m                                 Traceback (most recent call last)",
      "\u001b[1;32m<ipython-input-14-1db3e02554df>\u001b[0m in \u001b[0;36m<module>\u001b[1;34m\u001b[0m\n\u001b[1;32m----> 1\u001b[1;33m \u001b[0march_ext_reg\u001b[0m\u001b[1;33m.\u001b[0m\u001b[0mforecast\u001b[0m\u001b[1;33m(\u001b[0m\u001b[0mhorizon\u001b[0m \u001b[1;33m=\u001b[0m \u001b[1;36m15\u001b[0m\u001b[1;33m,\u001b[0m \u001b[0mreindex\u001b[0m \u001b[1;33m=\u001b[0m \u001b[1;32mFalse\u001b[0m\u001b[1;33m)\u001b[0m\u001b[1;33m\u001b[0m\u001b[1;33m\u001b[0m\u001b[0m\n\u001b[0m",
      "\u001b[1;31mTypeError\u001b[0m: forecast() got an unexpected keyword argument 'reindex'"
     ]
    }
   ],
   "source": [
    "arch_ext_reg.forecast(horizon = 15, start = '')"
   ]
  },
  {
   "cell_type": "code",
   "execution_count": 24,
   "id": "ae60a11c",
   "metadata": {},
   "outputs": [
    {
     "data": {
      "text/html": [
       "<div>\n",
       "<style scoped>\n",
       "    .dataframe tbody tr th:only-of-type {\n",
       "        vertical-align: middle;\n",
       "    }\n",
       "\n",
       "    .dataframe tbody tr th {\n",
       "        vertical-align: top;\n",
       "    }\n",
       "\n",
       "    .dataframe thead th {\n",
       "        text-align: right;\n",
       "    }\n",
       "</style>\n",
       "<table border=\"1\" class=\"dataframe\">\n",
       "  <thead>\n",
       "    <tr style=\"text-align: right;\">\n",
       "      <th></th>\n",
       "      <th>Date</th>\n",
       "      <th>Return</th>\n",
       "      <th>Residuals</th>\n",
       "      <th>Index</th>\n",
       "      <th>Times</th>\n",
       "      <th>Heatwave</th>\n",
       "    </tr>\n",
       "  </thead>\n",
       "  <tbody>\n",
       "    <tr>\n",
       "      <th>0</th>\n",
       "      <td>2015-01-05</td>\n",
       "      <td>3045.809288</td>\n",
       "      <td>-11.586781</td>\n",
       "      <td>NaN</td>\n",
       "      <td>NaN</td>\n",
       "      <td>NaN</td>\n",
       "    </tr>\n",
       "    <tr>\n",
       "      <th>1</th>\n",
       "      <td>2015-01-06</td>\n",
       "      <td>3067.821815</td>\n",
       "      <td>22.492228</td>\n",
       "      <td>NaN</td>\n",
       "      <td>NaN</td>\n",
       "      <td>NaN</td>\n",
       "    </tr>\n",
       "    <tr>\n",
       "      <th>2</th>\n",
       "      <td>2015-01-07</td>\n",
       "      <td>3073.962685</td>\n",
       "      <td>5.339441</td>\n",
       "      <td>NaN</td>\n",
       "      <td>NaN</td>\n",
       "      <td>NaN</td>\n",
       "    </tr>\n",
       "    <tr>\n",
       "      <th>3</th>\n",
       "      <td>2015-01-08</td>\n",
       "      <td>3086.449913</td>\n",
       "      <td>11.645136</td>\n",
       "      <td>NaN</td>\n",
       "      <td>NaN</td>\n",
       "      <td>NaN</td>\n",
       "    </tr>\n",
       "    <tr>\n",
       "      <th>4</th>\n",
       "      <td>2015-01-09</td>\n",
       "      <td>3053.371376</td>\n",
       "      <td>-34.261425</td>\n",
       "      <td>NaN</td>\n",
       "      <td>NaN</td>\n",
       "      <td>NaN</td>\n",
       "    </tr>\n",
       "    <tr>\n",
       "      <th>...</th>\n",
       "      <td>...</td>\n",
       "      <td>...</td>\n",
       "      <td>...</td>\n",
       "      <td>...</td>\n",
       "      <td>...</td>\n",
       "      <td>...</td>\n",
       "    </tr>\n",
       "    <tr>\n",
       "      <th>1528</th>\n",
       "      <td>2020-12-24</td>\n",
       "      <td>3622.376793</td>\n",
       "      <td>-28.926202</td>\n",
       "      <td>NaN</td>\n",
       "      <td>NaN</td>\n",
       "      <td>NaN</td>\n",
       "    </tr>\n",
       "    <tr>\n",
       "      <th>1529</th>\n",
       "      <td>2020-12-28</td>\n",
       "      <td>3681.321335</td>\n",
       "      <td>60.270765</td>\n",
       "      <td>NaN</td>\n",
       "      <td>NaN</td>\n",
       "      <td>NaN</td>\n",
       "    </tr>\n",
       "    <tr>\n",
       "      <th>1530</th>\n",
       "      <td>2020-12-29</td>\n",
       "      <td>3692.204948</td>\n",
       "      <td>8.854796</td>\n",
       "      <td>NaN</td>\n",
       "      <td>NaN</td>\n",
       "      <td>NaN</td>\n",
       "    </tr>\n",
       "    <tr>\n",
       "      <th>1531</th>\n",
       "      <td>2020-12-30</td>\n",
       "      <td>3662.651581</td>\n",
       "      <td>-31.445716</td>\n",
       "      <td>NaN</td>\n",
       "      <td>NaN</td>\n",
       "      <td>NaN</td>\n",
       "    </tr>\n",
       "    <tr>\n",
       "      <th>1532</th>\n",
       "      <td>2020-12-31</td>\n",
       "      <td>3671.116177</td>\n",
       "      <td>8.662469</td>\n",
       "      <td>NaN</td>\n",
       "      <td>NaN</td>\n",
       "      <td>NaN</td>\n",
       "    </tr>\n",
       "  </tbody>\n",
       "</table>\n",
       "<p>1533 rows × 6 columns</p>\n",
       "</div>"
      ],
      "text/plain": [
       "           Date       Return  Residuals  Index Times  Heatwave\n",
       "0    2015-01-05  3045.809288 -11.586781    NaN   NaN       NaN\n",
       "1    2015-01-06  3067.821815  22.492228    NaN   NaN       NaN\n",
       "2    2015-01-07  3073.962685   5.339441    NaN   NaN       NaN\n",
       "3    2015-01-08  3086.449913  11.645136    NaN   NaN       NaN\n",
       "4    2015-01-09  3053.371376 -34.261425    NaN   NaN       NaN\n",
       "...         ...          ...        ...    ...   ...       ...\n",
       "1528 2020-12-24  3622.376793 -28.926202    NaN   NaN       NaN\n",
       "1529 2020-12-28  3681.321335  60.270765    NaN   NaN       NaN\n",
       "1530 2020-12-29  3692.204948   8.854796    NaN   NaN       NaN\n",
       "1531 2020-12-30  3662.651581 -31.445716    NaN   NaN       NaN\n",
       "1532 2020-12-31  3671.116177   8.662469    NaN   NaN       NaN\n",
       "\n",
       "[1533 rows x 6 columns]"
      ]
     },
     "execution_count": 24,
     "metadata": {},
     "output_type": "execute_result"
    }
   ],
   "source": [
    "returns_resid"
   ]
  },
  {
   "cell_type": "code",
   "execution_count": null,
   "id": "e5b79d03",
   "metadata": {},
   "outputs": [],
   "source": []
  }
 ],
 "metadata": {
  "kernelspec": {
   "display_name": "Python 3",
   "language": "python",
   "name": "python3"
  },
  "language_info": {
   "codemirror_mode": {
    "name": "ipython",
    "version": 3
   },
   "file_extension": ".py",
   "mimetype": "text/x-python",
   "name": "python",
   "nbconvert_exporter": "python",
   "pygments_lexer": "ipython3",
   "version": "3.7.9"
  }
 },
 "nbformat": 4,
 "nbformat_minor": 5
}
